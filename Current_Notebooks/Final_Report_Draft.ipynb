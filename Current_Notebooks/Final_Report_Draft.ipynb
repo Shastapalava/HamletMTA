{
 "cells": [
  {
   "cell_type": "markdown",
   "metadata": {},
   "source": [
    "# HamletMTA Final Report\n",
    "\n",
    "- [David Hadaller](#David-Hadaller)\n",
    "- [Angelika Shastapalava](#Angelika-Shastapalava)\n",
    "- [Sam Mundle](#Sam-Mundle)\n",
    "- [Excel Espina](#Excel-Espina)\n",
    "\n",
    "## Project Aims\n",
    "\n",
    "We will use MTA bus data, Monte Carlo passenger simulation and weather data to create a model that will determine how long a passenger should wait for the next bus, before giving up and chosing an alternative mode of transportation. Our focus thus far has been on one particular bus stop (the southbound M100 on 135th street) in August of 2017. However, this model could be iterated system-wide for every bus stop location. \n",
    "\n",
    "The diagram below serves as a reference for our analysis and is explained in more detail in the passages that follow.\n",
    "\n",
    "![diagram](analysis_diagram.png)\n",
    "\n",
    "### Monte Carlo Simulation\n",
    "\n",
    "In our Monte Carlo simulation, we will first assume that there is a uniform probability that a passenger will approach a stop at any given time of day. The reason for this choice is for it's realism (it is a common assumtion among staff analysts at the MTA's operations and planning department) and for it's ease of computation. Later on, we can experiment different ridership behaviors such as a bimodal probability distribution (peak in the early morning and evening for commuters). \n",
    "\n",
    "#### Passenger Wait Times ([Sam](#Sam-Mundle))\n",
    "\n",
    "We view each day's bus arrivals, at a given bus stop, as points on a timeline. Similarly, each  passenger arival at the bus stop falls also on the day's timeline. Calculating wait times then amounts to finding the difference between the passenger's arrival and the arrival of the very next bus along this timeline. Our goal here is to create a dataset with the time (as in time of day) of a passenger's approach to the bus station as the independent variable and the wait time as the dependent variable. This data will serve as the validation set for our model.\n",
    "\n",
    "#### Bus Time Deltas/headways ([David](#David-Hadaller))\n",
    "\n",
    "For the simulated passengers, each approaching the bus stop at some random time, we would like to find how crowded the bus they board will be. To find this, we will simulate many passengers \"boarding\" busses by assigning a population of $n$ daily passengers a uniform random timestamp between the last and first busses of the day. Buses which feature an abnormally long timedelta (long time interval between current and last bus arrival) will generally be more crowded, since more passengers accumulate at the bus stop as time goes on. Again, the time of day is our independent variable and the number of people on the bus (crowding) is the dependent variable.  This data will serve as the validation set for our model.\n",
    "\n",
    "### Weather Data ([Angelika](#Angelika-Shastapalava))\n",
    "\n",
    "Weather data will include columns for precipitation, wind speed, and visibility for the month of August 2017 in NYC. These will serve as our features for predicting crowding and wait time.\n",
    "\n",
    "\n",
    "### Machine Learning Model ([Excel](#Excel-Espina))\n",
    "\n",
    "The feature variables will be include weather data columns and time of day, while the target variables will be the crowding and wait times as experienced by the passengers (to predict what we simulated in the Monte Carlo method step.) Our goal is to produce a general weather-conscious model that predicts passenger experience (wait time and crowdedness)\n",
    "\n",
    "Considerations for this step include, but are not limited to:\n",
    "\n",
    "- model evaluation (accuracrecall,prediction, lift and all that)\n",
    "- model type (linear, non linear/ regression/decision tree)\n",
    "\n",
    "\n",
    "## Data Sources\n",
    "\n",
    "[MTA Schedules](http://web.mta.info/nyct/service/bus/bklnsch.htm#top) (need to figure out best way to scrape or source better structured data)\n",
    "\n",
    "[MTA Bus Statistics](https://www.kaggle.com/stoney71/new-york-city-transport-statistics)\n",
    "\n",
    "[Weather.Gov](https://www.weather.gov/okx/CentralParkHistorical) Data from a weather monitor in central park; Each day, a 1:30 am report holds 24 hours of weather data starting at 12:00 am EST the previous day and the reports look like [this](https://forecast.weather.gov/product.php?site=NWS&issuedby=NYC&product=CLI&format=CI&version=1&glossary=1&highlight=off)."
   ]
  },
  {
   "cell_type": "markdown",
   "metadata": {},
   "source": [
    "# David Hadaller"
   ]
  },
  {
   "cell_type": "code",
   "execution_count": 7,
   "metadata": {},
   "outputs": [],
   "source": [
    "import pandas as pd\n",
    "from pandas import Timestamp\n",
    "\n",
    "import matplotlib.dates\n",
    "import matplotlib.pyplot as plt\n",
    "\n",
    "import numpy as np\n",
    "import datetime\n",
    "import math\n",
    "import sys"
   ]
  },
  {
   "cell_type": "code",
   "execution_count": 8,
   "metadata": {},
   "outputs": [],
   "source": [
    "# from IPython.core.interactiveshell import InteractiveShell\n",
    "# InteractiveShell.ast_node_interactivity = \"all\""
   ]
  },
  {
   "cell_type": "code",
   "execution_count": 9,
   "metadata": {},
   "outputs": [],
   "source": [
    "#this is a dataset for the timestamps of busses at the Amsterdam & 125th st stop on M100 line going uptown \n",
    "busDepartures = pd.read_csv(\"../data/Arrivals_M100.csv\",index_col=0)\n",
    "\n",
    "# loopTime is the minimum amount of time, in minutes, that it takes a bus to complete the bus route and \n",
    "    # arrive at this stop to complete the circuit once again\n",
    "loopTime = datetime.timedelta(minutes=105)\n",
    "\n",
    "# Ensure ordering by VehicleRef (a vehicle identifier for busses) and RecordedAtTime (timestamps)\n",
    "busDepartures = busDepartures.sort_values(['VehicleRef','RecordedAtTime'])\n",
    "\n",
    "# Resetting Index and deleting resulting index column after ordering for shift later on.\n",
    "busDepartures = busDepartures.reset_index()\n",
    "busDepartures.drop(columns=['index',],inplace=True)\n",
    "\n",
    "# Ensure that RecordedAtTime is of correct data type to find timedelta\n",
    "busDepartures['RecordedAtTime'] = pd.to_datetime(busDepartures['RecordedAtTime'])\n",
    "\n",
    "# find difference between CURRENT timestamp and PREVIOUS for each gps-timestamp\n",
    "    #busDepartures['timeDelta'] = busDepartures_Grouped['RecordedAtTime'].diff()\n",
    "busDepartures['timeDelta'] = busDepartures['RecordedAtTime'].diff()\n",
    "\n",
    "# we want to find all the timestamps where busses pull away from this one stop. \n",
    "    # the departure time is when we consider that a passenger is no longer waiting for their journey to start. \n",
    "    # hence, we count bus idleing as part of the passengers experienced wait time\n",
    "\n",
    "# wherever the difference between two consecutive timestamps is greater than the loopTime, \n",
    "    # the bus has finished it's route and come back to the same stop it started at.\n",
    "    # The bus is not idleing.  \n",
    "busDepartures['hasLooped'] = busDepartures['timeDelta'] > loopTime\n",
    "\n",
    "#fixing some edge cases e.g. the first datapoint has no timedeta because no other time precedes it\n",
    "busDepartures.loc[0,'timeDelta'] = 0\n",
    "\n",
    "# # where the timedeta is NaT, set to haslooped=True. We do this so that the first Entry for a given Vehicleref won't \n",
    "#     # count as a departure time, but the last entry from the previous VehicleRef entry will.\n",
    "# busDepartures.loc[busDepartures['timeDelta'].isnull(),'hasLooped'] = True\n",
    "\n",
    "# wherever the next arrival is a Looparound, the current timestamp is considered a departure from the stop\n",
    "busDepartures['isDeparting'] = busDepartures['hasLooped'].shift(-1)\n",
    "\n",
    "#the last entry in the entire dataframe must be included as a departure\n",
    "busDepartures.loc[busDepartures.index[-1], 'isDeparting']= True\n",
    "\n",
    "# If the next bus is not the same as the current bus, then this entry must be considered a departure\n",
    "busDepartures['NextVehicleRef'] = busDepartures['VehicleRef'].shift(-1).fillna(\"\") #create next bus column by shifting current bus up by 1 relative to index\n",
    "mask = busDepartures['VehicleRef'] != busDepartures['NextVehicleRef']\n",
    "busDepartures.loc[mask, 'isDeparting'] = True\n",
    "\n",
    "# return all rows where the busses are departing\n",
    "busDepartures = busDepartures[busDepartures['isDeparting'] != False]"
   ]
  },
  {
   "cell_type": "markdown",
   "metadata": {},
   "source": [
    "Now we need to recalculate the `timeDelta`s (the time since the last bus departed from the stop). Before we wanted values like 12 hours, because busses before a time delta like that are certainly departing, not idleing (they're the last bus for 12 hours). This time, we ordering by date. TO do that we must separate the date from the timestamps in the  `RecordedAtTime` column."
   ]
  },
  {
   "cell_type": "code",
   "execution_count": 10,
   "metadata": {},
   "outputs": [],
   "source": [
    "#busDepartures = busDepartures.loc[:,['RecordedAtTime','VehicleRef']]\n",
    "\n",
    "# need to change the datetime to string to apply string split methods\n",
    "busDepartures['RecordedAtTime'] = busDepartures['RecordedAtTime'].dt.strftime('%Y-%m-%d %H:%M:%S')\n",
    "\n",
    "#apply split to retrieve date without time\n",
    "splitCol = busDepartures['RecordedAtTime'].str.split(' ', 1, expand=True).rename(columns={0:'Date', 1:'Time'}) \n",
    "busDepartures['Date'] = splitCol['Date'] \n",
    "\n",
    "#apply split to retrieve time without date \n",
    "busDepartures['Time'] = splitCol['Time']\n",
    "busDepartures['Time'] = pd.to_datetime(busDepartures['Time'],format='%H:%M:%S')\n",
    "\n",
    "busDepartures = busDepartures.sort_values(['RecordedAtTime'])\n",
    "\n",
    "#at the start of each new day, set the time delta to 0. (we assume no passenger is waiting through night for next bus)\n",
    "busDepartures['TimeDelta'] = busDepartures['Time'].diff()\n",
    "busDepartures['PrevDate'] = busDepartures['Date'].shift(1)\n",
    "mask = busDepartures['PrevDate'] != busDepartures['Date']\n",
    "busDepartures.loc[mask,'TimeDelta'] = pd.Timedelta(0, unit='m')\n",
    "\n",
    "# drop columns no longer needed\n",
    "busDepartures.drop(['Time','PrevDate'],axis=1,inplace=True)"
   ]
  },
  {
   "cell_type": "code",
   "execution_count": 11,
   "metadata": {
    "scrolled": true
   },
   "outputs": [],
   "source": [
    "# busDepartures.columns\n",
    "# busDepartures.shape\n",
    "# busDepartures.dtypes"
   ]
  },
  {
   "cell_type": "markdown",
   "metadata": {},
   "source": [
    "Before we begin the simulation, we need to establish what will become the arguments to `numpy.random.uniform(low=0.0, high=1.0, size=None)`. Below, we find the `low` and `high` parameters. That is, we find the first and last bus arrival times for each day."
   ]
  },
  {
   "cell_type": "code",
   "execution_count": 12,
   "metadata": {},
   "outputs": [
    {
     "data": {
      "text/html": [
       "<div>\n",
       "<style scoped>\n",
       "    .dataframe tbody tr th:only-of-type {\n",
       "        vertical-align: middle;\n",
       "    }\n",
       "\n",
       "    .dataframe tbody tr th {\n",
       "        vertical-align: top;\n",
       "    }\n",
       "\n",
       "    .dataframe thead th {\n",
       "        text-align: right;\n",
       "    }\n",
       "</style>\n",
       "<table border=\"1\" class=\"dataframe\">\n",
       "  <thead>\n",
       "    <tr style=\"text-align: right;\">\n",
       "      <th></th>\n",
       "      <th>Date</th>\n",
       "      <th>EarliestBusDeparture</th>\n",
       "      <th>LatestBusDeparture</th>\n",
       "    </tr>\n",
       "  </thead>\n",
       "  <tbody>\n",
       "    <tr>\n",
       "      <th>0</th>\n",
       "      <td>2017-08-01</td>\n",
       "      <td>2017-08-01 00:11:39</td>\n",
       "      <td>2017-08-01 23:13:22</td>\n",
       "    </tr>\n",
       "    <tr>\n",
       "      <th>1</th>\n",
       "      <td>2017-08-02</td>\n",
       "      <td>2017-08-02 00:22:34</td>\n",
       "      <td>2017-08-02 22:55:06</td>\n",
       "    </tr>\n",
       "    <tr>\n",
       "      <th>2</th>\n",
       "      <td>2017-08-03</td>\n",
       "      <td>2017-08-03 00:35:38</td>\n",
       "      <td>2017-08-03 23:27:49</td>\n",
       "    </tr>\n",
       "    <tr>\n",
       "      <th>3</th>\n",
       "      <td>2017-08-04</td>\n",
       "      <td>2017-08-04 00:37:30</td>\n",
       "      <td>2017-08-04 23:39:27</td>\n",
       "    </tr>\n",
       "    <tr>\n",
       "      <th>4</th>\n",
       "      <td>2017-08-05</td>\n",
       "      <td>2017-08-05 00:39:12</td>\n",
       "      <td>2017-08-05 23:31:11</td>\n",
       "    </tr>\n",
       "    <tr>\n",
       "      <th>5</th>\n",
       "      <td>2017-08-06</td>\n",
       "      <td>2017-08-06 00:41:24</td>\n",
       "      <td>2017-08-06 23:52:56</td>\n",
       "    </tr>\n",
       "    <tr>\n",
       "      <th>6</th>\n",
       "      <td>2017-08-07</td>\n",
       "      <td>2017-08-07 00:32:30</td>\n",
       "      <td>2017-08-07 23:04:06</td>\n",
       "    </tr>\n",
       "    <tr>\n",
       "      <th>7</th>\n",
       "      <td>2017-08-08</td>\n",
       "      <td>2017-08-08 00:04:29</td>\n",
       "      <td>2017-08-08 23:56:22</td>\n",
       "    </tr>\n",
       "    <tr>\n",
       "      <th>8</th>\n",
       "      <td>2017-08-09</td>\n",
       "      <td>2017-08-09 00:05:59</td>\n",
       "      <td>2017-08-09 23:47:54</td>\n",
       "    </tr>\n",
       "    <tr>\n",
       "      <th>9</th>\n",
       "      <td>2017-08-10</td>\n",
       "      <td>2017-08-10 00:28:04</td>\n",
       "      <td>2017-08-10 23:19:19</td>\n",
       "    </tr>\n",
       "    <tr>\n",
       "      <th>10</th>\n",
       "      <td>2017-08-11</td>\n",
       "      <td>2017-08-11 05:50:12</td>\n",
       "      <td>2017-08-11 23:51:39</td>\n",
       "    </tr>\n",
       "    <tr>\n",
       "      <th>11</th>\n",
       "      <td>2017-08-12</td>\n",
       "      <td>2017-08-12 00:22:06</td>\n",
       "      <td>2017-08-12 23:33:46</td>\n",
       "    </tr>\n",
       "    <tr>\n",
       "      <th>12</th>\n",
       "      <td>2017-08-13</td>\n",
       "      <td>2017-08-13 00:02:56</td>\n",
       "      <td>2017-08-13 23:54:50</td>\n",
       "    </tr>\n",
       "    <tr>\n",
       "      <th>13</th>\n",
       "      <td>2017-08-14</td>\n",
       "      <td>2017-08-14 00:35:35</td>\n",
       "      <td>2017-08-14 23:36:49</td>\n",
       "    </tr>\n",
       "    <tr>\n",
       "      <th>14</th>\n",
       "      <td>2017-08-15</td>\n",
       "      <td>2017-08-15 00:16:50</td>\n",
       "      <td>2017-08-15 23:48:27</td>\n",
       "    </tr>\n",
       "    <tr>\n",
       "      <th>15</th>\n",
       "      <td>2017-08-16</td>\n",
       "      <td>2017-08-16 00:08:48</td>\n",
       "      <td>2017-08-16 23:20:25</td>\n",
       "    </tr>\n",
       "    <tr>\n",
       "      <th>16</th>\n",
       "      <td>2017-08-17</td>\n",
       "      <td>2017-08-17 00:10:15</td>\n",
       "      <td>2017-08-17 23:51:31</td>\n",
       "    </tr>\n",
       "    <tr>\n",
       "      <th>17</th>\n",
       "      <td>2017-08-18</td>\n",
       "      <td>2017-08-18 01:01:58</td>\n",
       "      <td>2017-08-18 23:34:01</td>\n",
       "    </tr>\n",
       "    <tr>\n",
       "      <th>18</th>\n",
       "      <td>2017-08-19</td>\n",
       "      <td>2017-08-19 00:53:40</td>\n",
       "      <td>2017-08-19 23:25:23</td>\n",
       "    </tr>\n",
       "    <tr>\n",
       "      <th>19</th>\n",
       "      <td>2017-08-20</td>\n",
       "      <td>2017-08-20 00:25:31</td>\n",
       "      <td>2017-08-20 23:57:00</td>\n",
       "    </tr>\n",
       "    <tr>\n",
       "      <th>20</th>\n",
       "      <td>2017-08-21</td>\n",
       "      <td>2017-08-21 00:27:21</td>\n",
       "      <td>2017-08-21 22:58:54</td>\n",
       "    </tr>\n",
       "    <tr>\n",
       "      <th>21</th>\n",
       "      <td>2017-08-22</td>\n",
       "      <td>2017-08-22 00:39:19</td>\n",
       "      <td>2017-08-22 23:10:46</td>\n",
       "    </tr>\n",
       "    <tr>\n",
       "      <th>22</th>\n",
       "      <td>2017-08-23</td>\n",
       "      <td>2017-08-23 00:00:42</td>\n",
       "      <td>2017-08-23 23:52:49</td>\n",
       "    </tr>\n",
       "    <tr>\n",
       "      <th>23</th>\n",
       "      <td>2017-08-24</td>\n",
       "      <td>2017-08-24 00:02:48</td>\n",
       "      <td>2017-08-24 23:04:20</td>\n",
       "    </tr>\n",
       "    <tr>\n",
       "      <th>24</th>\n",
       "      <td>2017-08-25</td>\n",
       "      <td>2017-08-25 00:04:46</td>\n",
       "      <td>2017-08-25 23:56:22</td>\n",
       "    </tr>\n",
       "    <tr>\n",
       "      <th>25</th>\n",
       "      <td>2017-08-26</td>\n",
       "      <td>2017-08-26 00:16:19</td>\n",
       "      <td>2017-08-26 23:57:35</td>\n",
       "    </tr>\n",
       "    <tr>\n",
       "      <th>26</th>\n",
       "      <td>2017-08-27</td>\n",
       "      <td>2017-08-27 00:27:44</td>\n",
       "      <td>2017-08-27 23:19:06</td>\n",
       "    </tr>\n",
       "    <tr>\n",
       "      <th>27</th>\n",
       "      <td>2017-08-28</td>\n",
       "      <td>2017-08-28 00:49:29</td>\n",
       "      <td>2017-08-28 23:20:48</td>\n",
       "    </tr>\n",
       "    <tr>\n",
       "      <th>28</th>\n",
       "      <td>2017-08-29</td>\n",
       "      <td>2017-08-29 00:31:11</td>\n",
       "      <td>2017-08-29 19:42:32</td>\n",
       "    </tr>\n",
       "  </tbody>\n",
       "</table>\n",
       "</div>"
      ],
      "text/plain": [
       "         Date EarliestBusDeparture  LatestBusDeparture\n",
       "0  2017-08-01  2017-08-01 00:11:39 2017-08-01 23:13:22\n",
       "1  2017-08-02  2017-08-02 00:22:34 2017-08-02 22:55:06\n",
       "2  2017-08-03  2017-08-03 00:35:38 2017-08-03 23:27:49\n",
       "3  2017-08-04  2017-08-04 00:37:30 2017-08-04 23:39:27\n",
       "4  2017-08-05  2017-08-05 00:39:12 2017-08-05 23:31:11\n",
       "5  2017-08-06  2017-08-06 00:41:24 2017-08-06 23:52:56\n",
       "6  2017-08-07  2017-08-07 00:32:30 2017-08-07 23:04:06\n",
       "7  2017-08-08  2017-08-08 00:04:29 2017-08-08 23:56:22\n",
       "8  2017-08-09  2017-08-09 00:05:59 2017-08-09 23:47:54\n",
       "9  2017-08-10  2017-08-10 00:28:04 2017-08-10 23:19:19\n",
       "10 2017-08-11  2017-08-11 05:50:12 2017-08-11 23:51:39\n",
       "11 2017-08-12  2017-08-12 00:22:06 2017-08-12 23:33:46\n",
       "12 2017-08-13  2017-08-13 00:02:56 2017-08-13 23:54:50\n",
       "13 2017-08-14  2017-08-14 00:35:35 2017-08-14 23:36:49\n",
       "14 2017-08-15  2017-08-15 00:16:50 2017-08-15 23:48:27\n",
       "15 2017-08-16  2017-08-16 00:08:48 2017-08-16 23:20:25\n",
       "16 2017-08-17  2017-08-17 00:10:15 2017-08-17 23:51:31\n",
       "17 2017-08-18  2017-08-18 01:01:58 2017-08-18 23:34:01\n",
       "18 2017-08-19  2017-08-19 00:53:40 2017-08-19 23:25:23\n",
       "19 2017-08-20  2017-08-20 00:25:31 2017-08-20 23:57:00\n",
       "20 2017-08-21  2017-08-21 00:27:21 2017-08-21 22:58:54\n",
       "21 2017-08-22  2017-08-22 00:39:19 2017-08-22 23:10:46\n",
       "22 2017-08-23  2017-08-23 00:00:42 2017-08-23 23:52:49\n",
       "23 2017-08-24  2017-08-24 00:02:48 2017-08-24 23:04:20\n",
       "24 2017-08-25  2017-08-25 00:04:46 2017-08-25 23:56:22\n",
       "25 2017-08-26  2017-08-26 00:16:19 2017-08-26 23:57:35\n",
       "26 2017-08-27  2017-08-27 00:27:44 2017-08-27 23:19:06\n",
       "27 2017-08-28  2017-08-28 00:49:29 2017-08-28 23:20:48\n",
       "28 2017-08-29  2017-08-29 00:31:11 2017-08-29 19:42:32"
      ]
     },
     "execution_count": 12,
     "metadata": {},
     "output_type": "execute_result"
    }
   ],
   "source": [
    "DailyBusMinMax= busDepartures.loc[:,['RecordedAtTime','Date']]\n",
    "\n",
    "DailyBusMinMax = DailyBusMinMax.drop_duplicates()\n",
    "\n",
    "DailyBusMax = DailyBusMinMax.groupby('Date').max()\n",
    "DailyBusMin = DailyBusMinMax.groupby('Date').min()\n",
    "\n",
    "DailyBusMinMax = pd.merge(left=DailyBusMin, right=DailyBusMax, how='inner',on='Date', suffixes=('Min', 'Max'))\n",
    "DailyBusMinMax = DailyBusMinMax.rename(columns={'RecordedAtTimeMin':'EarliestBusDeparture', 'RecordedAtTimeMax':'LatestBusDeparture'})\n",
    "\n",
    "DailyBusMinMax.reset_index(level=0, inplace=True)\n",
    "DailyBusMinMax['Date'] = pd.to_datetime(DailyBusMinMax['Date'],format='%Y-%m-%d')\n",
    "DailyBusMinMax['EarliestBusDeparture'] = pd.to_datetime(DailyBusMinMax['EarliestBusDeparture'], format='%Y-%m-%d %H:%M:%S')\n",
    "DailyBusMinMax['LatestBusDeparture'] = pd.to_datetime(DailyBusMinMax['LatestBusDeparture'], format='%Y-%m-%d %H:%M:%S')\n",
    "\n",
    "DailyBusMinMax.head(30)"
   ]
  },
  {
   "cell_type": "markdown",
   "metadata": {},
   "source": [
    "In the cell below, we take the bus departure times (when the bus pulls out of the stop), the dates associated with each bus departure time (to help with subsequent merges) and the timedeltas (which we may plot later on) from the `busDepartures`, which we got from the original `Arrivals_M100` data"
   ]
  },
  {
   "cell_type": "code",
   "execution_count": 13,
   "metadata": {},
   "outputs": [
    {
     "data": {
      "text/html": [
       "<div>\n",
       "<style scoped>\n",
       "    .dataframe tbody tr th:only-of-type {\n",
       "        vertical-align: middle;\n",
       "    }\n",
       "\n",
       "    .dataframe tbody tr th {\n",
       "        vertical-align: top;\n",
       "    }\n",
       "\n",
       "    .dataframe thead th {\n",
       "        text-align: right;\n",
       "    }\n",
       "</style>\n",
       "<table border=\"1\" class=\"dataframe\">\n",
       "  <thead>\n",
       "    <tr style=\"text-align: right;\">\n",
       "      <th></th>\n",
       "      <th>BusDepartureTime</th>\n",
       "      <th>VehicleRef</th>\n",
       "      <th>TimeDelta</th>\n",
       "      <th>Date</th>\n",
       "    </tr>\n",
       "  </thead>\n",
       "  <tbody>\n",
       "    <tr>\n",
       "      <th>1089</th>\n",
       "      <td>2017-08-01 00:11:39</td>\n",
       "      <td>NYCT_4349</td>\n",
       "      <td>00:00:00</td>\n",
       "      <td>2017-08-01</td>\n",
       "    </tr>\n",
       "    <tr>\n",
       "      <th>1906</th>\n",
       "      <td>2017-08-01 00:21:06</td>\n",
       "      <td>NYCT_4368</td>\n",
       "      <td>00:09:27</td>\n",
       "      <td>2017-08-01</td>\n",
       "    </tr>\n",
       "    <tr>\n",
       "      <th>4323</th>\n",
       "      <td>2017-08-01 01:01:11</td>\n",
       "      <td>NYCT_8375</td>\n",
       "      <td>00:40:05</td>\n",
       "      <td>2017-08-01</td>\n",
       "    </tr>\n",
       "    <tr>\n",
       "      <th>1045</th>\n",
       "      <td>2017-08-01 06:11:35</td>\n",
       "      <td>NYCT_4348</td>\n",
       "      <td>05:10:24</td>\n",
       "      <td>2017-08-01</td>\n",
       "    </tr>\n",
       "    <tr>\n",
       "      <th>1755</th>\n",
       "      <td>2017-08-01 06:41:31</td>\n",
       "      <td>NYCT_4363</td>\n",
       "      <td>00:29:56</td>\n",
       "      <td>2017-08-01</td>\n",
       "    </tr>\n",
       "  </tbody>\n",
       "</table>\n",
       "</div>"
      ],
      "text/plain": [
       "        BusDepartureTime VehicleRef TimeDelta       Date\n",
       "1089 2017-08-01 00:11:39  NYCT_4349  00:00:00 2017-08-01\n",
       "1906 2017-08-01 00:21:06  NYCT_4368  00:09:27 2017-08-01\n",
       "4323 2017-08-01 01:01:11  NYCT_8375  00:40:05 2017-08-01\n",
       "1045 2017-08-01 06:11:35  NYCT_4348  05:10:24 2017-08-01\n",
       "1755 2017-08-01 06:41:31  NYCT_4363  00:29:56 2017-08-01"
      ]
     },
     "execution_count": 13,
     "metadata": {},
     "output_type": "execute_result"
    }
   ],
   "source": [
    "busDepartureTimes = busDepartures.loc[:,['RecordedAtTime','VehicleRef','TimeDelta','Date']]\n",
    "busDepartureTimes = busDepartureTimes.rename(columns={'RecordedAtTime':'BusDepartureTime'})\n",
    "\n",
    "# Change Column DataTypes from String (object) to DateTime\n",
    "busDepartureTimes['BusDepartureTime'] = pd.to_datetime(busDepartureTimes['BusDepartureTime'], format='%Y-%m-%d %H:%M:%S')\n",
    "busDepartureTimes['Date'] = pd.to_datetime(busDepartureTimes['Date'], format='%Y-%m-%d %H:%M:%S')\n",
    "busDepartureTimes = busDepartureTimes.drop_duplicates()\n",
    "\n",
    "busDepartureTimes.head()"
   ]
  },
  {
   "cell_type": "markdown",
   "metadata": {},
   "source": [
    "Next, we define a simulation function which gets the `low` and `high` bounds of the uniform distribution from the DailyBusMinMax dataframe and then takes `NumPassengers` for population size of passengers to simulate. \n",
    "\n",
    "This simulation function creates a \"pivot table\" with the Date as pseudo-index and an artificial passengerId for column headers. For each date, the table contains each passenger in NumPassengers simulated bus arrival time (the time at which each passenger approaches the bus stop with the hopes of boarding a bus.)\n",
    "\n",
    "Of course, the table that results isn't a true pivot table, because the Date column is just another column, rather than a pandas index. Keeping the Date as a column allows us to reference it as a column later on, which will come in handy when we need to return a series of dates."
   ]
  },
  {
   "cell_type": "code",
   "execution_count": 14,
   "metadata": {},
   "outputs": [],
   "source": [
    "def passengerSim(DailyBusMinMax, NumPassengers):\n",
    "    \n",
    "    #time between the first and last bus arrivals\n",
    "    dailyDelta = DailyBusMinMax['LatestBusDeparture'] - DailyBusMinMax['EarliestBusDeparture']\n",
    "    \n",
    "    # the first bus arrival\n",
    "    dailyMin = DailyBusMinMax['EarliestBusDeparture']\n",
    "    \n",
    "    #number of dates to simulate for\n",
    "    NumDates = len(DailyBusMinMax.Date)\n",
    "    \n",
    "    #this vectorized calculation follows the formula dailyDelta * randomVar + firstBusArrival to choose a random time\n",
    "        # between the EarliestBusDeparture and the LatestBusDeparture.\n",
    "        # this is done for every date and for each passenger in NumPassengers\n",
    "    pSim = pd.DataFrame(np.random.uniform(0,1,(NumDates,NumPassengers)))\n",
    "    pSim = pSim.mul(dailyDelta,axis=0)\n",
    "    pSim = pSim.add(dailyMin,axis=0)\n",
    "    \n",
    "    # add a dates column to front of dataframe  \n",
    "    pSim.insert(loc=0, column='Date', value=DailyBusMinMax['Date'])\n",
    "    \n",
    "    return pSim"
   ]
  },
  {
   "cell_type": "code",
   "execution_count": 15,
   "metadata": {},
   "outputs": [
    {
     "data": {
      "text/html": [
       "<div>\n",
       "<style scoped>\n",
       "    .dataframe tbody tr th:only-of-type {\n",
       "        vertical-align: middle;\n",
       "    }\n",
       "\n",
       "    .dataframe tbody tr th {\n",
       "        vertical-align: top;\n",
       "    }\n",
       "\n",
       "    .dataframe thead th {\n",
       "        text-align: right;\n",
       "    }\n",
       "</style>\n",
       "<table border=\"1\" class=\"dataframe\">\n",
       "  <thead>\n",
       "    <tr style=\"text-align: right;\">\n",
       "      <th></th>\n",
       "      <th>Date</th>\n",
       "      <th>0</th>\n",
       "      <th>1</th>\n",
       "      <th>2</th>\n",
       "      <th>3</th>\n",
       "      <th>4</th>\n",
       "      <th>5</th>\n",
       "      <th>6</th>\n",
       "      <th>7</th>\n",
       "      <th>8</th>\n",
       "      <th>...</th>\n",
       "      <th>490</th>\n",
       "      <th>491</th>\n",
       "      <th>492</th>\n",
       "      <th>493</th>\n",
       "      <th>494</th>\n",
       "      <th>495</th>\n",
       "      <th>496</th>\n",
       "      <th>497</th>\n",
       "      <th>498</th>\n",
       "      <th>499</th>\n",
       "    </tr>\n",
       "  </thead>\n",
       "  <tbody>\n",
       "    <tr>\n",
       "      <th>0</th>\n",
       "      <td>2017-08-01</td>\n",
       "      <td>2017-08-01 02:46:17.163443229</td>\n",
       "      <td>2017-08-01 01:55:34.601552247</td>\n",
       "      <td>2017-08-01 11:54:30.291083276</td>\n",
       "      <td>2017-08-01 10:49:48.845147670</td>\n",
       "      <td>2017-08-01 17:25:36.637853586</td>\n",
       "      <td>2017-08-01 23:06:03.454300862</td>\n",
       "      <td>2017-08-01 18:12:22.160756400</td>\n",
       "      <td>2017-08-01 13:49:19.904695768</td>\n",
       "      <td>2017-08-01 18:32:20.104780402</td>\n",
       "      <td>...</td>\n",
       "      <td>2017-08-01 07:51:52.590882216</td>\n",
       "      <td>2017-08-01 13:09:40.734232592</td>\n",
       "      <td>2017-08-01 15:41:57.296820661</td>\n",
       "      <td>2017-08-01 12:08:23.884153097</td>\n",
       "      <td>2017-08-01 05:38:10.391489329</td>\n",
       "      <td>2017-08-01 17:54:41.808822757</td>\n",
       "      <td>2017-08-01 20:58:56.133045671</td>\n",
       "      <td>2017-08-01 20:06:59.054547058</td>\n",
       "      <td>2017-08-01 01:23:04.796905922</td>\n",
       "      <td>2017-08-01 08:32:04.794719960</td>\n",
       "    </tr>\n",
       "    <tr>\n",
       "      <th>1</th>\n",
       "      <td>2017-08-02</td>\n",
       "      <td>2017-08-02 04:43:32.139214505</td>\n",
       "      <td>2017-08-02 07:37:52.841432712</td>\n",
       "      <td>2017-08-02 11:00:32.741800750</td>\n",
       "      <td>2017-08-02 06:43:21.992000785</td>\n",
       "      <td>2017-08-02 22:15:58.922831584</td>\n",
       "      <td>2017-08-02 05:08:34.834084085</td>\n",
       "      <td>2017-08-02 17:12:05.201065789</td>\n",
       "      <td>2017-08-02 13:37:48.468671487</td>\n",
       "      <td>2017-08-02 06:31:18.962712684</td>\n",
       "      <td>...</td>\n",
       "      <td>2017-08-02 16:04:34.539809169</td>\n",
       "      <td>2017-08-02 09:29:15.417745406</td>\n",
       "      <td>2017-08-02 02:26:42.228915064</td>\n",
       "      <td>2017-08-02 18:02:32.187491168</td>\n",
       "      <td>2017-08-02 18:41:14.463973814</td>\n",
       "      <td>2017-08-02 03:12:43.449503970</td>\n",
       "      <td>2017-08-02 22:51:37.591959194</td>\n",
       "      <td>2017-08-02 05:22:08.718578434</td>\n",
       "      <td>2017-08-02 22:42:09.288394461</td>\n",
       "      <td>2017-08-02 20:05:15.743310889</td>\n",
       "    </tr>\n",
       "    <tr>\n",
       "      <th>2</th>\n",
       "      <td>2017-08-03</td>\n",
       "      <td>2017-08-03 16:48:14.964687550</td>\n",
       "      <td>2017-08-03 15:49:38.395178867</td>\n",
       "      <td>2017-08-03 15:00:46.562982734</td>\n",
       "      <td>2017-08-03 07:57:58.437005518</td>\n",
       "      <td>2017-08-03 16:53:01.141542620</td>\n",
       "      <td>2017-08-03 03:13:19.625549216</td>\n",
       "      <td>2017-08-03 16:19:01.322725587</td>\n",
       "      <td>2017-08-03 19:21:45.242142616</td>\n",
       "      <td>2017-08-03 18:36:55.292538456</td>\n",
       "      <td>...</td>\n",
       "      <td>2017-08-03 04:45:31.142817102</td>\n",
       "      <td>2017-08-03 15:56:19.846499066</td>\n",
       "      <td>2017-08-03 19:49:18.583223840</td>\n",
       "      <td>2017-08-03 18:57:54.788594636</td>\n",
       "      <td>2017-08-03 02:25:04.807218515</td>\n",
       "      <td>2017-08-03 10:01:57.973112336</td>\n",
       "      <td>2017-08-03 05:13:51.185440328</td>\n",
       "      <td>2017-08-03 21:41:02.919945073</td>\n",
       "      <td>2017-08-03 20:26:50.993481335</td>\n",
       "      <td>2017-08-03 11:01:14.662811828</td>\n",
       "    </tr>\n",
       "    <tr>\n",
       "      <th>3</th>\n",
       "      <td>2017-08-04</td>\n",
       "      <td>2017-08-04 01:09:26.889684239</td>\n",
       "      <td>2017-08-04 08:06:34.285919302</td>\n",
       "      <td>2017-08-04 15:18:38.468247914</td>\n",
       "      <td>2017-08-04 07:18:57.567263674</td>\n",
       "      <td>2017-08-04 09:05:06.763190601</td>\n",
       "      <td>2017-08-04 05:13:33.701097074</td>\n",
       "      <td>2017-08-04 18:33:09.556430372</td>\n",
       "      <td>2017-08-04 05:48:01.436321539</td>\n",
       "      <td>2017-08-04 19:38:42.126547550</td>\n",
       "      <td>...</td>\n",
       "      <td>2017-08-04 19:43:57.217468226</td>\n",
       "      <td>2017-08-04 21:01:11.334352720</td>\n",
       "      <td>2017-08-04 12:18:17.749128331</td>\n",
       "      <td>2017-08-04 22:42:30.218274055</td>\n",
       "      <td>2017-08-04 04:58:39.900894928</td>\n",
       "      <td>2017-08-04 17:26:34.556573423</td>\n",
       "      <td>2017-08-04 09:51:51.779417172</td>\n",
       "      <td>2017-08-04 12:49:36.087349667</td>\n",
       "      <td>2017-08-04 16:47:54.124600264</td>\n",
       "      <td>2017-08-04 22:46:04.026296463</td>\n",
       "    </tr>\n",
       "    <tr>\n",
       "      <th>4</th>\n",
       "      <td>2017-08-05</td>\n",
       "      <td>2017-08-05 12:59:55.339482652</td>\n",
       "      <td>2017-08-05 21:36:50.090197724</td>\n",
       "      <td>2017-08-05 13:49:31.055112891</td>\n",
       "      <td>2017-08-05 18:59:35.314211470</td>\n",
       "      <td>2017-08-05 04:51:34.244019743</td>\n",
       "      <td>2017-08-05 19:49:58.725037220</td>\n",
       "      <td>2017-08-05 20:36:26.122721495</td>\n",
       "      <td>2017-08-05 07:43:59.167141583</td>\n",
       "      <td>2017-08-05 17:56:33.125966568</td>\n",
       "      <td>...</td>\n",
       "      <td>2017-08-05 21:03:52.835230855</td>\n",
       "      <td>2017-08-05 10:34:07.215583906</td>\n",
       "      <td>2017-08-05 22:17:58.408659813</td>\n",
       "      <td>2017-08-05 14:39:10.247046657</td>\n",
       "      <td>2017-08-05 02:00:11.639107967</td>\n",
       "      <td>2017-08-05 13:30:38.001106267</td>\n",
       "      <td>2017-08-05 21:58:16.867075193</td>\n",
       "      <td>2017-08-05 14:47:36.857537537</td>\n",
       "      <td>2017-08-05 08:04:01.058839605</td>\n",
       "      <td>2017-08-05 21:15:11.767596556</td>\n",
       "    </tr>\n",
       "  </tbody>\n",
       "</table>\n",
       "<p>5 rows × 501 columns</p>\n",
       "</div>"
      ],
      "text/plain": [
       "        Date                             0                             1  \\\n",
       "0 2017-08-01 2017-08-01 02:46:17.163443229 2017-08-01 01:55:34.601552247   \n",
       "1 2017-08-02 2017-08-02 04:43:32.139214505 2017-08-02 07:37:52.841432712   \n",
       "2 2017-08-03 2017-08-03 16:48:14.964687550 2017-08-03 15:49:38.395178867   \n",
       "3 2017-08-04 2017-08-04 01:09:26.889684239 2017-08-04 08:06:34.285919302   \n",
       "4 2017-08-05 2017-08-05 12:59:55.339482652 2017-08-05 21:36:50.090197724   \n",
       "\n",
       "                              2                             3  \\\n",
       "0 2017-08-01 11:54:30.291083276 2017-08-01 10:49:48.845147670   \n",
       "1 2017-08-02 11:00:32.741800750 2017-08-02 06:43:21.992000785   \n",
       "2 2017-08-03 15:00:46.562982734 2017-08-03 07:57:58.437005518   \n",
       "3 2017-08-04 15:18:38.468247914 2017-08-04 07:18:57.567263674   \n",
       "4 2017-08-05 13:49:31.055112891 2017-08-05 18:59:35.314211470   \n",
       "\n",
       "                              4                             5  \\\n",
       "0 2017-08-01 17:25:36.637853586 2017-08-01 23:06:03.454300862   \n",
       "1 2017-08-02 22:15:58.922831584 2017-08-02 05:08:34.834084085   \n",
       "2 2017-08-03 16:53:01.141542620 2017-08-03 03:13:19.625549216   \n",
       "3 2017-08-04 09:05:06.763190601 2017-08-04 05:13:33.701097074   \n",
       "4 2017-08-05 04:51:34.244019743 2017-08-05 19:49:58.725037220   \n",
       "\n",
       "                              6                             7  \\\n",
       "0 2017-08-01 18:12:22.160756400 2017-08-01 13:49:19.904695768   \n",
       "1 2017-08-02 17:12:05.201065789 2017-08-02 13:37:48.468671487   \n",
       "2 2017-08-03 16:19:01.322725587 2017-08-03 19:21:45.242142616   \n",
       "3 2017-08-04 18:33:09.556430372 2017-08-04 05:48:01.436321539   \n",
       "4 2017-08-05 20:36:26.122721495 2017-08-05 07:43:59.167141583   \n",
       "\n",
       "                              8              ...               \\\n",
       "0 2017-08-01 18:32:20.104780402              ...                \n",
       "1 2017-08-02 06:31:18.962712684              ...                \n",
       "2 2017-08-03 18:36:55.292538456              ...                \n",
       "3 2017-08-04 19:38:42.126547550              ...                \n",
       "4 2017-08-05 17:56:33.125966568              ...                \n",
       "\n",
       "                            490                           491  \\\n",
       "0 2017-08-01 07:51:52.590882216 2017-08-01 13:09:40.734232592   \n",
       "1 2017-08-02 16:04:34.539809169 2017-08-02 09:29:15.417745406   \n",
       "2 2017-08-03 04:45:31.142817102 2017-08-03 15:56:19.846499066   \n",
       "3 2017-08-04 19:43:57.217468226 2017-08-04 21:01:11.334352720   \n",
       "4 2017-08-05 21:03:52.835230855 2017-08-05 10:34:07.215583906   \n",
       "\n",
       "                            492                           493  \\\n",
       "0 2017-08-01 15:41:57.296820661 2017-08-01 12:08:23.884153097   \n",
       "1 2017-08-02 02:26:42.228915064 2017-08-02 18:02:32.187491168   \n",
       "2 2017-08-03 19:49:18.583223840 2017-08-03 18:57:54.788594636   \n",
       "3 2017-08-04 12:18:17.749128331 2017-08-04 22:42:30.218274055   \n",
       "4 2017-08-05 22:17:58.408659813 2017-08-05 14:39:10.247046657   \n",
       "\n",
       "                            494                           495  \\\n",
       "0 2017-08-01 05:38:10.391489329 2017-08-01 17:54:41.808822757   \n",
       "1 2017-08-02 18:41:14.463973814 2017-08-02 03:12:43.449503970   \n",
       "2 2017-08-03 02:25:04.807218515 2017-08-03 10:01:57.973112336   \n",
       "3 2017-08-04 04:58:39.900894928 2017-08-04 17:26:34.556573423   \n",
       "4 2017-08-05 02:00:11.639107967 2017-08-05 13:30:38.001106267   \n",
       "\n",
       "                            496                           497  \\\n",
       "0 2017-08-01 20:58:56.133045671 2017-08-01 20:06:59.054547058   \n",
       "1 2017-08-02 22:51:37.591959194 2017-08-02 05:22:08.718578434   \n",
       "2 2017-08-03 05:13:51.185440328 2017-08-03 21:41:02.919945073   \n",
       "3 2017-08-04 09:51:51.779417172 2017-08-04 12:49:36.087349667   \n",
       "4 2017-08-05 21:58:16.867075193 2017-08-05 14:47:36.857537537   \n",
       "\n",
       "                            498                           499  \n",
       "0 2017-08-01 01:23:04.796905922 2017-08-01 08:32:04.794719960  \n",
       "1 2017-08-02 22:42:09.288394461 2017-08-02 20:05:15.743310889  \n",
       "2 2017-08-03 20:26:50.993481335 2017-08-03 11:01:14.662811828  \n",
       "3 2017-08-04 16:47:54.124600264 2017-08-04 22:46:04.026296463  \n",
       "4 2017-08-05 08:04:01.058839605 2017-08-05 21:15:11.767596556  \n",
       "\n",
       "[5 rows x 501 columns]"
      ]
     },
     "execution_count": 15,
     "metadata": {},
     "output_type": "execute_result"
    }
   ],
   "source": [
    "sim = passengerSim(DailyBusMinMax,500)\n",
    "sim.head()"
   ]
  },
  {
   "cell_type": "markdown",
   "metadata": {},
   "source": [
    "Here, we reorganize the results of the passenger simulation to get a table that has one single `passengerId` column, instead of one column for each passenger. This is will allow us to perform a merge in the following step."
   ]
  },
  {
   "cell_type": "code",
   "execution_count": 16,
   "metadata": {},
   "outputs": [
    {
     "data": {
      "text/html": [
       "<div>\n",
       "<style scoped>\n",
       "    .dataframe tbody tr th:only-of-type {\n",
       "        vertical-align: middle;\n",
       "    }\n",
       "\n",
       "    .dataframe tbody tr th {\n",
       "        vertical-align: top;\n",
       "    }\n",
       "\n",
       "    .dataframe thead th {\n",
       "        text-align: right;\n",
       "    }\n",
       "</style>\n",
       "<table border=\"1\" class=\"dataframe\">\n",
       "  <thead>\n",
       "    <tr style=\"text-align: right;\">\n",
       "      <th></th>\n",
       "      <th>Date</th>\n",
       "      <th>passengerId</th>\n",
       "      <th>passengerArrivalTime</th>\n",
       "    </tr>\n",
       "  </thead>\n",
       "  <tbody>\n",
       "    <tr>\n",
       "      <th>0</th>\n",
       "      <td>2017-08-01</td>\n",
       "      <td>0</td>\n",
       "      <td>2017-08-01 02:46:17.163443229</td>\n",
       "    </tr>\n",
       "    <tr>\n",
       "      <th>1</th>\n",
       "      <td>2017-08-02</td>\n",
       "      <td>0</td>\n",
       "      <td>2017-08-02 04:43:32.139214505</td>\n",
       "    </tr>\n",
       "    <tr>\n",
       "      <th>2</th>\n",
       "      <td>2017-08-03</td>\n",
       "      <td>0</td>\n",
       "      <td>2017-08-03 16:48:14.964687550</td>\n",
       "    </tr>\n",
       "    <tr>\n",
       "      <th>3</th>\n",
       "      <td>2017-08-04</td>\n",
       "      <td>0</td>\n",
       "      <td>2017-08-04 01:09:26.889684239</td>\n",
       "    </tr>\n",
       "    <tr>\n",
       "      <th>4</th>\n",
       "      <td>2017-08-05</td>\n",
       "      <td>0</td>\n",
       "      <td>2017-08-05 12:59:55.339482652</td>\n",
       "    </tr>\n",
       "  </tbody>\n",
       "</table>\n",
       "</div>"
      ],
      "text/plain": [
       "        Date passengerId          passengerArrivalTime\n",
       "0 2017-08-01           0 2017-08-01 02:46:17.163443229\n",
       "1 2017-08-02           0 2017-08-02 04:43:32.139214505\n",
       "2 2017-08-03           0 2017-08-03 16:48:14.964687550\n",
       "3 2017-08-04           0 2017-08-04 01:09:26.889684239\n",
       "4 2017-08-05           0 2017-08-05 12:59:55.339482652"
      ]
     },
     "execution_count": 16,
     "metadata": {},
     "output_type": "execute_result"
    }
   ],
   "source": [
    "sim = sim.melt(id_vars='Date')\n",
    "sim = sim.rename(columns={'variable':'passengerId','value':'passengerArrivalTime'})\n",
    "sim.head()"
   ]
  },
  {
   "cell_type": "markdown",
   "metadata": {},
   "source": [
    "As promised, we now merge the passenger simulation,`sim` with the bus departure times, `busDepartureTimes`. The result of the code below is a lookup table where each passenger arrival time is associated with one bus arrival time; that is to say, the passengers are associated with the bus they board (which will always be the next bus that departs from the stop after they arrive.)"
   ]
  },
  {
   "cell_type": "code",
   "execution_count": 17,
   "metadata": {},
   "outputs": [
    {
     "data": {
      "text/html": [
       "<div>\n",
       "<style scoped>\n",
       "    .dataframe tbody tr th:only-of-type {\n",
       "        vertical-align: middle;\n",
       "    }\n",
       "\n",
       "    .dataframe tbody tr th {\n",
       "        vertical-align: top;\n",
       "    }\n",
       "\n",
       "    .dataframe thead th {\n",
       "        text-align: right;\n",
       "    }\n",
       "</style>\n",
       "<table border=\"1\" class=\"dataframe\">\n",
       "  <thead>\n",
       "    <tr style=\"text-align: right;\">\n",
       "      <th></th>\n",
       "      <th>Date</th>\n",
       "      <th>passengerId</th>\n",
       "      <th>passengerArrivalTime</th>\n",
       "      <th>BusDepartureTime</th>\n",
       "      <th>VehicleRef</th>\n",
       "      <th>TimeDelta</th>\n",
       "    </tr>\n",
       "  </thead>\n",
       "  <tbody>\n",
       "    <tr>\n",
       "      <th>329</th>\n",
       "      <td>2017-08-01</td>\n",
       "      <td>329</td>\n",
       "      <td>2017-08-01 00:16:36.688331063</td>\n",
       "      <td>2017-08-01 00:21:06</td>\n",
       "      <td>NYCT_4368</td>\n",
       "      <td>00:09:27</td>\n",
       "    </tr>\n",
       "    <tr>\n",
       "      <th>336</th>\n",
       "      <td>2017-08-01</td>\n",
       "      <td>336</td>\n",
       "      <td>2017-08-01 00:20:21.739795318</td>\n",
       "      <td>2017-08-01 00:21:06</td>\n",
       "      <td>NYCT_4368</td>\n",
       "      <td>00:09:27</td>\n",
       "    </tr>\n",
       "    <tr>\n",
       "      <th>373</th>\n",
       "      <td>2017-08-01</td>\n",
       "      <td>373</td>\n",
       "      <td>2017-08-01 00:18:49.927982582</td>\n",
       "      <td>2017-08-01 00:21:06</td>\n",
       "      <td>NYCT_4368</td>\n",
       "      <td>00:09:27</td>\n",
       "    </tr>\n",
       "    <tr>\n",
       "      <th>17</th>\n",
       "      <td>2017-08-01</td>\n",
       "      <td>17</td>\n",
       "      <td>2017-08-01 00:52:52.702503782</td>\n",
       "      <td>2017-08-01 01:01:11</td>\n",
       "      <td>NYCT_8375</td>\n",
       "      <td>00:40:05</td>\n",
       "    </tr>\n",
       "    <tr>\n",
       "      <th>18</th>\n",
       "      <td>2017-08-01</td>\n",
       "      <td>18</td>\n",
       "      <td>2017-08-01 00:53:41.735033812</td>\n",
       "      <td>2017-08-01 01:01:11</td>\n",
       "      <td>NYCT_8375</td>\n",
       "      <td>00:40:05</td>\n",
       "    </tr>\n",
       "  </tbody>\n",
       "</table>\n",
       "</div>"
      ],
      "text/plain": [
       "          Date  passengerId          passengerArrivalTime    BusDepartureTime  \\\n",
       "329 2017-08-01          329 2017-08-01 00:16:36.688331063 2017-08-01 00:21:06   \n",
       "336 2017-08-01          336 2017-08-01 00:20:21.739795318 2017-08-01 00:21:06   \n",
       "373 2017-08-01          373 2017-08-01 00:18:49.927982582 2017-08-01 00:21:06   \n",
       "17  2017-08-01           17 2017-08-01 00:52:52.702503782 2017-08-01 01:01:11   \n",
       "18  2017-08-01           18 2017-08-01 00:53:41.735033812 2017-08-01 01:01:11   \n",
       "\n",
       "    VehicleRef TimeDelta  \n",
       "329  NYCT_4368  00:09:27  \n",
       "336  NYCT_4368  00:09:27  \n",
       "373  NYCT_4368  00:09:27  \n",
       "17   NYCT_8375  00:40:05  \n",
       "18   NYCT_8375  00:40:05  "
      ]
     },
     "execution_count": 17,
     "metadata": {},
     "output_type": "execute_result"
    }
   ],
   "source": [
    "# The powerset of all passenger-bus combinations\n",
    "busBoarding = pd.merge(right=sim, left=busDepartureTimes, on='Date', how='inner')\n",
    "\n",
    "#  busses already departed from stop cannot be boarded by passengers who arrive at the stop later on.\n",
    "    # (no going back in time)\n",
    "busBoarding = busBoarding.loc[busBoarding['BusDepartureTime']>=busBoarding['passengerArrivalTime']]\n",
    "\n",
    "# the passenger is reasonable and will board the first bus that departs from the stop after they arrive\n",
    "busBoarding = busBoarding.groupby(['Date','passengerId','passengerArrivalTime']).first()\n",
    "\n",
    "# we reset the index to group by a different column in the next step\n",
    "busBoarding = busBoarding.reset_index().sort_values(['Date','BusDepartureTime','passengerId'])\n",
    "busBoarding.head()\n"
   ]
  },
  {
   "cell_type": "markdown",
   "metadata": {},
   "source": [
    "Now, we calcuate the number of people per bus by grouping by `BusArrivalTime` and then counting the number of entries in each group. We then merge this `busCrowding` DataFrame back into our `busBoarding` DataFrame from the previous step to give us a `numPassengersPerBus` column, which tells us exactly how many of our simulated passengers boarded each bus."
   ]
  },
  {
   "cell_type": "code",
   "execution_count": 18,
   "metadata": {},
   "outputs": [
    {
     "data": {
      "text/plain": [
       "(14500, 7)"
      ]
     },
     "execution_count": 18,
     "metadata": {},
     "output_type": "execute_result"
    }
   ],
   "source": [
    "busCrowding = busBoarding.groupby(['BusDepartureTime']).count()\n",
    "busCrowding = pd.DataFrame(busCrowding['passengerId']).rename(columns={'passengerId':'numPassengersPerBus'})\n",
    "busCrowding = busCrowding.reset_index()\n",
    "\n",
    "busBoarding = pd.merge(left=busBoarding, right=busCrowding, on='BusDepartureTime', how='inner')\n",
    "busBoarding.head()\n",
    "busBoarding.shape"
   ]
  },
  {
   "cell_type": "markdown",
   "metadata": {},
   "source": [
    "We now take a few columns of the `busBoarding`data that to plot the relationship between `passengerArrivalTime` and `numPassengersPerBus`."
   ]
  },
  {
   "cell_type": "code",
   "execution_count": 19,
   "metadata": {},
   "outputs": [
    {
     "data": {
      "text/plain": [
       "(14500, 2)"
      ]
     },
     "execution_count": 19,
     "metadata": {},
     "output_type": "execute_result"
    }
   ],
   "source": [
    "plotData = busBoarding.loc[:,['passengerArrivalTime','numPassengersPerBus']]\n",
    "plotData['passengerArrivalTime'] = plotData.passengerArrivalTime.dt.time\n",
    "plotData.head()\n",
    "plotData.shape"
   ]
  },
  {
   "cell_type": "markdown",
   "metadata": {},
   "source": [
    "Finally, we have our plot."
   ]
  },
  {
   "cell_type": "code",
   "execution_count": 20,
   "metadata": {},
   "outputs": [
    {
     "data": {
      "text/plain": [
       "(array([-10000.,      0.,  10000.,  20000.,  30000.,  40000.,  50000.,\n",
       "         60000.,  70000.,  80000.,  90000.]),\n",
       " <a list of 11 Text xticklabel objects>)"
      ]
     },
     "execution_count": 20,
     "metadata": {},
     "output_type": "execute_result"
    },
    {
     "data": {
      "image/png": "[encoded data removed]",
      "text/plain": [
       "<Figure size 432x288 with 1 Axes>"
      ]
     },
     "metadata": {
      "needs_background": "light"
     },
     "output_type": "display_data"
    }
   ],
   "source": [
    "plotData = plotData.sort_values('passengerArrivalTime', ascending=True)\n",
    "_= plt.plot(plotData['passengerArrivalTime'], plotData['numPassengersPerBus'],'.',linestyle='none')\n",
    "_ = plt.xlabel('Passenger Arrival Time')\n",
    "_ = plt.ylabel('Number of Passengers on Bus')\n",
    "_ = plt.margins(0.02) # Keeps data off plot edges\n",
    "plt.xticks(rotation='vertical')"
   ]
  },
  {
   "cell_type": "markdown",
   "metadata": {},
   "source": [
    "Notice that the above plot features a series of points a the 140 people mark. This could signify that the uniform distribution hypothesis may have been too generous, since, during the hours between 3am and 5am, most people are asleep. And few busses run druring those times, so assuming people will wait for hours until the next bus comes might be an unnatural assumption to make. FOr this reason, we can restrict our analysis to the times between 5am and 1am the next day for our machine learning models."
   ]
  },
  {
   "cell_type": "code",
   "execution_count": 21,
   "metadata": {},
   "outputs": [],
   "source": [
    "busBoarding.to_csv('../data/busBoarding.csv')"
   ]
  },
  {
   "cell_type": "code",
   "execution_count": 23,
   "metadata": {},
   "outputs": [
    {
     "data": {
      "text/plain": [
       "0   2017-08-01 00:21:06\n",
       "1   2017-08-01 00:21:06\n",
       "2   2017-08-01 00:21:06\n",
       "3   2017-08-01 01:01:11\n",
       "4   2017-08-01 01:01:11\n",
       "Name: BusDepartureTime, dtype: datetime64[ns]"
      ]
     },
     "execution_count": 23,
     "metadata": {},
     "output_type": "execute_result"
    }
   ],
   "source": [
    "busBoarding.BusDepartureTime.head()"
   ]
  },
  {
   "cell_type": "markdown",
   "metadata": {},
   "source": [
    "# Sam Mundle"
   ]
  },
  {
   "cell_type": "code",
   "execution_count": null,
   "metadata": {},
   "outputs": [],
   "source": [
    "# Find the elapsed time between passenger arrival and bus arrival (Wait time)\n",
    "busBoarding['WaitTime'] = busBoarding['BusArrivalTime'] - busBoarding['passengerArrivalTime']\n",
    "busBoarding.shape"
   ]
  },
  {
   "cell_type": "code",
   "execution_count": null,
   "metadata": {},
   "outputs": [],
   "source": [
    "waitPlotData = busBoarding[['passengerArrivalTime', 'WaitTime']].copy()\n",
    "waitPlotData['passengerArrivalTime'] = waitPlotData.passengerArrivalTime.dt.time\n",
    "waitPlotData.dtypes"
   ]
  },
  {
   "cell_type": "code",
   "execution_count": null,
   "metadata": {
    "scrolled": true
   },
   "outputs": [],
   "source": [
    "waitPlotData = waitPlotData.sort_values('passengerArrivalTime', ascending=True)[0:500]\n",
    "_= plt.plot(waitPlotData['passengerArrivalTime'], waitPlotData['WaitTime'],'.',linestyle='none')\n",
    "_ = plt.xlabel('Passenger Arrival Time')\n",
    "_ = plt.ylabel('Wait Time For Bus')\n",
    "_ = plt.margins(0.02) # Keeps data off plot edges\n",
    "plt.xticks(rotation='vertical')\n",
    "\n"
   ]
  },
  {
   "cell_type": "markdown",
   "metadata": {},
   "source": [
    "First we import relevant libraries and generate a dataframe representing all of the arrivals at a single stop in a single month traveling in one of two directions on the M100 bus route. \n",
    "\n",
    "It should be noted that there are relatively few entries for the month (107) due to data loss earlier in the cleaning process. Further work on cleaning is necessary"
   ]
  },
  {
   "cell_type": "code",
   "execution_count": 3,
   "metadata": {},
   "outputs": [
    {
     "data": {
      "text/plain": [
       "(89, 19)"
      ]
     },
     "execution_count": 3,
     "metadata": {},
     "output_type": "execute_result"
    }
   ],
   "source": [
    "import pandas as pd\n",
    "import numpy as np\n",
    "from matplotlib import pyplot as plt\n",
    "\n",
    "mta_df = pd.read_csv('../data/M100_Aug_W125_st.csv', error_bad_lines=False)\n",
    "mta_df.shape"
   ]
  },
  {
   "cell_type": "markdown",
   "metadata": {},
   "source": [
    "Then the dataframe is sorted based on 'RecordedAtTime' which, since all entries are while the bus has reached the stop, represent the actual arrival times. "
   ]
  },
  {
   "cell_type": "code",
   "execution_count": 4,
   "metadata": {},
   "outputs": [
    {
     "data": {
      "text/html": [
       "<div>\n",
       "<style scoped>\n",
       "    .dataframe tbody tr th:only-of-type {\n",
       "        vertical-align: middle;\n",
       "    }\n",
       "\n",
       "    .dataframe tbody tr th {\n",
       "        vertical-align: top;\n",
       "    }\n",
       "\n",
       "    .dataframe thead th {\n",
       "        text-align: right;\n",
       "    }\n",
       "</style>\n",
       "<table border=\"1\" class=\"dataframe\">\n",
       "  <thead>\n",
       "    <tr style=\"text-align: right;\">\n",
       "      <th></th>\n",
       "      <th>RecordedAtTime</th>\n",
       "      <th>DirectionRef</th>\n",
       "      <th>PublishedLineName</th>\n",
       "      <th>OriginName</th>\n",
       "      <th>OriginLat</th>\n",
       "      <th>OriginLong</th>\n",
       "      <th>DestinationName</th>\n",
       "      <th>DestinationLat</th>\n",
       "      <th>DestinationLong</th>\n",
       "      <th>VehicleRef</th>\n",
       "      <th>VehicleLocation.Latitude</th>\n",
       "      <th>VehicleLocation.Longitude</th>\n",
       "      <th>NextStopPointName</th>\n",
       "      <th>ArrivalProximityText</th>\n",
       "      <th>DistanceFromStop</th>\n",
       "      <th>ExpectedArrivalTime</th>\n",
       "      <th>ScheduledArrivalTime</th>\n",
       "      <th>time_diff_bus</th>\n",
       "      <th>time_diff_bus_mins</th>\n",
       "    </tr>\n",
       "  </thead>\n",
       "  <tbody>\n",
       "    <tr>\n",
       "      <th>0</th>\n",
       "      <td>2017-08-01 07:51:49</td>\n",
       "      <td>0</td>\n",
       "      <td>M100</td>\n",
       "      <td>1 AV/125 ST</td>\n",
       "      <td>40.801968</td>\n",
       "      <td>-73.931358</td>\n",
       "      <td>INWOOD 220 ST via AMSTERDAM via BWAY</td>\n",
       "      <td>40.871902</td>\n",
       "      <td>-73.913101</td>\n",
       "      <td>NYCT_8368</td>\n",
       "      <td>40.810861</td>\n",
       "      <td>-73.952819</td>\n",
       "      <td>W 125 ST/ST NICHOLAS AV</td>\n",
       "      <td>at stop</td>\n",
       "      <td>21.0</td>\n",
       "      <td>2017-08-01 07:52:03</td>\n",
       "      <td>07:49:06</td>\n",
       "      <td>NaN</td>\n",
       "      <td>0</td>\n",
       "    </tr>\n",
       "    <tr>\n",
       "      <th>1</th>\n",
       "      <td>2017-08-01 07:51:49</td>\n",
       "      <td>0</td>\n",
       "      <td>M100</td>\n",
       "      <td>1 AV/125 ST</td>\n",
       "      <td>40.801968</td>\n",
       "      <td>-73.931358</td>\n",
       "      <td>INWOOD 220 ST via AMSTERDAM via BWAY</td>\n",
       "      <td>40.871902</td>\n",
       "      <td>-73.913101</td>\n",
       "      <td>NYCT_8368</td>\n",
       "      <td>40.810861</td>\n",
       "      <td>-73.952819</td>\n",
       "      <td>W 125 ST/ST NICHOLAS AV</td>\n",
       "      <td>at stop</td>\n",
       "      <td>21.0</td>\n",
       "      <td>2017-08-01 07:52:03</td>\n",
       "      <td>07:50:48</td>\n",
       "      <td>0 days 00:00:00.000000000</td>\n",
       "      <td>0</td>\n",
       "    </tr>\n",
       "    <tr>\n",
       "      <th>2</th>\n",
       "      <td>2017-08-01 07:51:49</td>\n",
       "      <td>0</td>\n",
       "      <td>M100</td>\n",
       "      <td>1 AV/125 ST</td>\n",
       "      <td>40.801968</td>\n",
       "      <td>-73.931358</td>\n",
       "      <td>INWOOD 220 ST via AMSTERDAM via BWAY</td>\n",
       "      <td>40.871902</td>\n",
       "      <td>-73.913101</td>\n",
       "      <td>NYCT_8368</td>\n",
       "      <td>40.810861</td>\n",
       "      <td>-73.952819</td>\n",
       "      <td>W 125 ST/ST NICHOLAS AV</td>\n",
       "      <td>at stop</td>\n",
       "      <td>21.0</td>\n",
       "      <td>2017-08-01 07:52:03</td>\n",
       "      <td>07:51:39</td>\n",
       "      <td>0 days 00:00:00.000000000</td>\n",
       "      <td>0</td>\n",
       "    </tr>\n",
       "    <tr>\n",
       "      <th>3</th>\n",
       "      <td>2017-08-01 11:02:25</td>\n",
       "      <td>0</td>\n",
       "      <td>M100</td>\n",
       "      <td>1 AV/125 ST</td>\n",
       "      <td>40.801968</td>\n",
       "      <td>-73.931358</td>\n",
       "      <td>INWOOD 220 ST via AMSTERDAM via BWAY</td>\n",
       "      <td>40.871902</td>\n",
       "      <td>-73.913101</td>\n",
       "      <td>NYCT_8384</td>\n",
       "      <td>40.810907</td>\n",
       "      <td>-73.952928</td>\n",
       "      <td>W 125 ST/ST NICHOLAS AV</td>\n",
       "      <td>at stop</td>\n",
       "      <td>11.0</td>\n",
       "      <td>2017-08-01 11:02:42</td>\n",
       "      <td>11:04:39</td>\n",
       "      <td>0 days 03:10:39.000000000</td>\n",
       "      <td>191</td>\n",
       "    </tr>\n",
       "    <tr>\n",
       "      <th>4</th>\n",
       "      <td>2017-08-01 13:42:23</td>\n",
       "      <td>0</td>\n",
       "      <td>M100</td>\n",
       "      <td>1 AV/125 ST</td>\n",
       "      <td>40.801968</td>\n",
       "      <td>-73.931358</td>\n",
       "      <td>INWOOD 220 ST via AMSTERDAM via BWAY</td>\n",
       "      <td>40.871902</td>\n",
       "      <td>-73.913101</td>\n",
       "      <td>NYCT_8391</td>\n",
       "      <td>40.810881</td>\n",
       "      <td>-73.952865</td>\n",
       "      <td>W 125 ST/ST NICHOLAS AV</td>\n",
       "      <td>at stop</td>\n",
       "      <td>17.0</td>\n",
       "      <td>2017-08-01 13:43:07</td>\n",
       "      <td>13:35:20</td>\n",
       "      <td>0 days 02:40:25.000000000</td>\n",
       "      <td>161</td>\n",
       "    </tr>\n",
       "  </tbody>\n",
       "</table>\n",
       "</div>"
      ],
      "text/plain": [
       "       RecordedAtTime  DirectionRef PublishedLineName   OriginName  OriginLat  \\\n",
       "0 2017-08-01 07:51:49             0              M100  1 AV/125 ST  40.801968   \n",
       "1 2017-08-01 07:51:49             0              M100  1 AV/125 ST  40.801968   \n",
       "2 2017-08-01 07:51:49             0              M100  1 AV/125 ST  40.801968   \n",
       "3 2017-08-01 11:02:25             0              M100  1 AV/125 ST  40.801968   \n",
       "4 2017-08-01 13:42:23             0              M100  1 AV/125 ST  40.801968   \n",
       "\n",
       "   OriginLong                       DestinationName  DestinationLat  \\\n",
       "0  -73.931358  INWOOD 220 ST via AMSTERDAM via BWAY       40.871902   \n",
       "1  -73.931358  INWOOD 220 ST via AMSTERDAM via BWAY       40.871902   \n",
       "2  -73.931358  INWOOD 220 ST via AMSTERDAM via BWAY       40.871902   \n",
       "3  -73.931358  INWOOD 220 ST via AMSTERDAM via BWAY       40.871902   \n",
       "4  -73.931358  INWOOD 220 ST via AMSTERDAM via BWAY       40.871902   \n",
       "\n",
       "   DestinationLong VehicleRef  VehicleLocation.Latitude  \\\n",
       "0       -73.913101  NYCT_8368                 40.810861   \n",
       "1       -73.913101  NYCT_8368                 40.810861   \n",
       "2       -73.913101  NYCT_8368                 40.810861   \n",
       "3       -73.913101  NYCT_8384                 40.810907   \n",
       "4       -73.913101  NYCT_8391                 40.810881   \n",
       "\n",
       "   VehicleLocation.Longitude        NextStopPointName ArrivalProximityText  \\\n",
       "0                 -73.952819  W 125 ST/ST NICHOLAS AV              at stop   \n",
       "1                 -73.952819  W 125 ST/ST NICHOLAS AV              at stop   \n",
       "2                 -73.952819  W 125 ST/ST NICHOLAS AV              at stop   \n",
       "3                 -73.952928  W 125 ST/ST NICHOLAS AV              at stop   \n",
       "4                 -73.952865  W 125 ST/ST NICHOLAS AV              at stop   \n",
       "\n",
       "   DistanceFromStop  ExpectedArrivalTime ScheduledArrivalTime  \\\n",
       "0              21.0  2017-08-01 07:52:03             07:49:06   \n",
       "1              21.0  2017-08-01 07:52:03             07:50:48   \n",
       "2              21.0  2017-08-01 07:52:03             07:51:39   \n",
       "3              11.0  2017-08-01 11:02:42             11:04:39   \n",
       "4              17.0  2017-08-01 13:43:07             13:35:20   \n",
       "\n",
       "               time_diff_bus  time_diff_bus_mins  \n",
       "0                        NaN                   0  \n",
       "1  0 days 00:00:00.000000000                   0  \n",
       "2  0 days 00:00:00.000000000                   0  \n",
       "3  0 days 03:10:39.000000000                 191  \n",
       "4  0 days 02:40:25.000000000                 161  "
      ]
     },
     "execution_count": 4,
     "metadata": {},
     "output_type": "execute_result"
    }
   ],
   "source": [
    "mta_df['RecordedAtTime'] = pd.to_datetime(mta_df['RecordedAtTime'])\n",
    "mta_df.sort_values(\"RecordedAtTime\", inplace=True)\n",
    "mta_df.head()"
   ]
  },
  {
   "cell_type": "markdown",
   "metadata": {},
   "source": [
    "The arrivals dataframe is initialized with a controlled number of passenger arrival time entries and can have the frequency of random times changed in its definition statement"
   ]
  },
  {
   "cell_type": "code",
   "execution_count": 5,
   "metadata": {},
   "outputs": [
    {
     "data": {
      "text/html": [
       "<div>\n",
       "<style scoped>\n",
       "    .dataframe tbody tr th:only-of-type {\n",
       "        vertical-align: middle;\n",
       "    }\n",
       "\n",
       "    .dataframe tbody tr th {\n",
       "        vertical-align: top;\n",
       "    }\n",
       "\n",
       "    .dataframe thead th {\n",
       "        text-align: right;\n",
       "    }\n",
       "</style>\n",
       "<table border=\"1\" class=\"dataframe\">\n",
       "  <thead>\n",
       "    <tr style=\"text-align: right;\">\n",
       "      <th></th>\n",
       "      <th>PassengerTime</th>\n",
       "    </tr>\n",
       "  </thead>\n",
       "  <tbody>\n",
       "    <tr>\n",
       "      <th>0</th>\n",
       "      <td>2017-08-13 04:33:00</td>\n",
       "    </tr>\n",
       "    <tr>\n",
       "      <th>1</th>\n",
       "      <td>2017-08-09 16:57:00</td>\n",
       "    </tr>\n",
       "    <tr>\n",
       "      <th>2</th>\n",
       "      <td>2017-08-27 05:31:00</td>\n",
       "    </tr>\n",
       "    <tr>\n",
       "      <th>3</th>\n",
       "      <td>2017-08-14 20:36:00</td>\n",
       "    </tr>\n",
       "    <tr>\n",
       "      <th>4</th>\n",
       "      <td>2017-08-22 06:51:00</td>\n",
       "    </tr>\n",
       "    <tr>\n",
       "      <th>5</th>\n",
       "      <td>2017-08-18 18:14:00</td>\n",
       "    </tr>\n",
       "    <tr>\n",
       "      <th>6</th>\n",
       "      <td>2017-08-04 21:41:00</td>\n",
       "    </tr>\n",
       "    <tr>\n",
       "      <th>7</th>\n",
       "      <td>2017-08-13 16:20:00</td>\n",
       "    </tr>\n",
       "    <tr>\n",
       "      <th>8</th>\n",
       "      <td>2017-08-25 04:18:00</td>\n",
       "    </tr>\n",
       "    <tr>\n",
       "      <th>9</th>\n",
       "      <td>2017-08-28 23:53:00</td>\n",
       "    </tr>\n",
       "  </tbody>\n",
       "</table>\n",
       "</div>"
      ],
      "text/plain": [
       "        PassengerTime\n",
       "0 2017-08-13 04:33:00\n",
       "1 2017-08-09 16:57:00\n",
       "2 2017-08-27 05:31:00\n",
       "3 2017-08-14 20:36:00\n",
       "4 2017-08-22 06:51:00\n",
       "5 2017-08-18 18:14:00\n",
       "6 2017-08-04 21:41:00\n",
       "7 2017-08-13 16:20:00\n",
       "8 2017-08-25 04:18:00\n",
       "9 2017-08-28 23:53:00"
      ]
     },
     "execution_count": 5,
     "metadata": {},
     "output_type": "execute_result"
    }
   ],
   "source": [
    "def select_random_dates(frequency, NumDataPoints):\n",
    "    date_range = pd.date_range(start='2017-08-01', end='2017-08-30', freq=frequency)\n",
    "    random_dates = pd.to_datetime(\n",
    "        np.concatenate([\n",
    "                np.random.choice(date_range[1:-1], size=NumDataPoints, replace=False)\n",
    "            ])\n",
    "        )\n",
    "    return random_dates\n",
    "\n",
    "arrivals_df = pd.DataFrame()\n",
    "arrivals_df['PassengerTime'] = select_random_dates('1min', 600)\n",
    "arrivals_df.head(10)"
   ]
  },
  {
   "cell_type": "markdown",
   "metadata": {},
   "source": [
    "The next arriving bus is found for each of the random passenger arrival times defined above as well as the time delta between the two, representing wait time."
   ]
  },
  {
   "cell_type": "code",
   "execution_count": 6,
   "metadata": {},
   "outputs": [
    {
     "data": {
      "text/html": [
       "<div>\n",
       "<style scoped>\n",
       "    .dataframe tbody tr th:only-of-type {\n",
       "        vertical-align: middle;\n",
       "    }\n",
       "\n",
       "    .dataframe tbody tr th {\n",
       "        vertical-align: top;\n",
       "    }\n",
       "\n",
       "    .dataframe thead th {\n",
       "        text-align: right;\n",
       "    }\n",
       "</style>\n",
       "<table border=\"1\" class=\"dataframe\">\n",
       "  <thead>\n",
       "    <tr style=\"text-align: right;\">\n",
       "      <th></th>\n",
       "      <th>PassengerTime</th>\n",
       "      <th>NextBus</th>\n",
       "      <th>WaitTime</th>\n",
       "    </tr>\n",
       "  </thead>\n",
       "  <tbody>\n",
       "    <tr>\n",
       "      <th>0</th>\n",
       "      <td>2017-08-13 04:33:00</td>\n",
       "      <td>2017-08-13 17:24:54</td>\n",
       "      <td>12:51:54</td>\n",
       "    </tr>\n",
       "    <tr>\n",
       "      <th>1</th>\n",
       "      <td>2017-08-09 16:57:00</td>\n",
       "      <td>2017-08-10 06:18:56</td>\n",
       "      <td>13:21:56</td>\n",
       "    </tr>\n",
       "    <tr>\n",
       "      <th>2</th>\n",
       "      <td>2017-08-27 05:31:00</td>\n",
       "      <td>2017-08-27 07:18:07</td>\n",
       "      <td>01:47:07</td>\n",
       "    </tr>\n",
       "    <tr>\n",
       "      <th>3</th>\n",
       "      <td>2017-08-14 20:36:00</td>\n",
       "      <td>2017-08-15 13:27:34</td>\n",
       "      <td>16:51:34</td>\n",
       "    </tr>\n",
       "    <tr>\n",
       "      <th>4</th>\n",
       "      <td>2017-08-22 06:51:00</td>\n",
       "      <td>2017-08-22 09:49:46</td>\n",
       "      <td>02:58:46</td>\n",
       "    </tr>\n",
       "    <tr>\n",
       "      <th>5</th>\n",
       "      <td>2017-08-18 18:14:00</td>\n",
       "      <td>2017-08-18 20:33:35</td>\n",
       "      <td>02:19:35</td>\n",
       "    </tr>\n",
       "    <tr>\n",
       "      <th>6</th>\n",
       "      <td>2017-08-04 21:41:00</td>\n",
       "      <td>2017-08-04 21:48:55</td>\n",
       "      <td>00:07:55</td>\n",
       "    </tr>\n",
       "    <tr>\n",
       "      <th>7</th>\n",
       "      <td>2017-08-13 16:20:00</td>\n",
       "      <td>2017-08-13 17:24:54</td>\n",
       "      <td>01:04:54</td>\n",
       "    </tr>\n",
       "    <tr>\n",
       "      <th>8</th>\n",
       "      <td>2017-08-25 04:18:00</td>\n",
       "      <td>2017-08-25 07:35:09</td>\n",
       "      <td>03:17:09</td>\n",
       "    </tr>\n",
       "    <tr>\n",
       "      <th>9</th>\n",
       "      <td>2017-08-28 23:53:00</td>\n",
       "      <td>2017-08-29 15:42:01</td>\n",
       "      <td>15:49:01</td>\n",
       "    </tr>\n",
       "  </tbody>\n",
       "</table>\n",
       "</div>"
      ],
      "text/plain": [
       "        PassengerTime             NextBus WaitTime\n",
       "0 2017-08-13 04:33:00 2017-08-13 17:24:54 12:51:54\n",
       "1 2017-08-09 16:57:00 2017-08-10 06:18:56 13:21:56\n",
       "2 2017-08-27 05:31:00 2017-08-27 07:18:07 01:47:07\n",
       "3 2017-08-14 20:36:00 2017-08-15 13:27:34 16:51:34\n",
       "4 2017-08-22 06:51:00 2017-08-22 09:49:46 02:58:46\n",
       "5 2017-08-18 18:14:00 2017-08-18 20:33:35 02:19:35\n",
       "6 2017-08-04 21:41:00 2017-08-04 21:48:55 00:07:55\n",
       "7 2017-08-13 16:20:00 2017-08-13 17:24:54 01:04:54\n",
       "8 2017-08-25 04:18:00 2017-08-25 07:35:09 03:17:09\n",
       "9 2017-08-28 23:53:00 2017-08-29 15:42:01 15:49:01"
      ]
     },
     "execution_count": 6,
     "metadata": {},
     "output_type": "execute_result"
    }
   ],
   "source": [
    "def findNextBus(arrivals_df, mta_df):\n",
    "    for arrivalIndex, arrivalRow in arrivals_df.iterrows():\n",
    "        for mtaIndex, mtaRow in mta_df.iterrows():\n",
    "            if (mtaRow['RecordedAtTime'] > arrivalRow[0]):\n",
    "                arrivals_df.loc[arrivalIndex,'NextBus'] = mtaRow['RecordedAtTime']\n",
    "                break\n",
    "\n",
    "findNextBus(arrivals_df, mta_df)\n",
    "arrivals_df['WaitTime'] = arrivals_df['NextBus'] - arrivals_df['PassengerTime']\n",
    "arrivals_df.head(10)"
   ]
  },
  {
   "cell_type": "code",
   "execution_count": null,
   "metadata": {},
   "outputs": [],
   "source": []
  },
  {
   "cell_type": "markdown",
   "metadata": {},
   "source": [
    "# Angelika Shastapalava"
   ]
  },
  {
   "cell_type": "code",
   "execution_count": null,
   "metadata": {},
   "outputs": [],
   "source": [
    "import pandas as pd\n",
    "import matplotlib.pyplot as plt\n",
    "import numpy as np\n",
    "import datetime\n",
    "import numpy as np\n"
   ]
  },
  {
   "cell_type": "markdown",
   "metadata": {},
   "source": [
    "reading the file"
   ]
  },
  {
   "cell_type": "code",
   "execution_count": null,
   "metadata": {},
   "outputs": [],
   "source": [
    "df = pd.read_csv(\"../data/1401011_weather_data.csv\", delimiter = ',', usecols = (5,24), index_col='DATE')"
   ]
  },
  {
   "cell_type": "code",
   "execution_count": null,
   "metadata": {},
   "outputs": [],
   "source": [
    "df.head()"
   ]
  },
  {
   "cell_type": "code",
   "execution_count": null,
   "metadata": {},
   "outputs": [],
   "source": [
    "df.dtypes\n"
   ]
  },
  {
   "cell_type": "markdown",
   "metadata": {},
   "source": [
    "selecting time period of aug 2017"
   ]
  },
  {
   "cell_type": "code",
   "execution_count": null,
   "metadata": {},
   "outputs": [],
   "source": [
    "weather = df.loc['2017-08-01' : '2017-09-01']"
   ]
  },
  {
   "cell_type": "code",
   "execution_count": null,
   "metadata": {},
   "outputs": [],
   "source": [
    "weather.info()"
   ]
  },
  {
   "cell_type": "markdown",
   "metadata": {},
   "source": [
    "our data contains some na values. in addition some precip values contain \n",
    "letter 'T' or 's'.\n",
    "droping na and precip values that contain T or s letter in them"
   ]
  },
  {
   "cell_type": "code",
   "execution_count": null,
   "metadata": {},
   "outputs": [],
   "source": [
    "weather = weather.dropna()\n",
    "weather = weather[~weather.HOURLYPrecip.str.contains(\"T\")]\n",
    "weather = weather[~weather.HOURLYPrecip.str.contains(\"s\")]"
   ]
  },
  {
   "cell_type": "code",
   "execution_count": null,
   "metadata": {},
   "outputs": [],
   "source": [
    "weather.info()"
   ]
  },
  {
   "cell_type": "code",
   "execution_count": null,
   "metadata": {},
   "outputs": [],
   "source": [
    "weather.HOURLYPrecip=pd.to_numeric(weather.HOURLYPrecip)\n",
    "weather.reset_index()"
   ]
  },
  {
   "cell_type": "code",
   "execution_count": null,
   "metadata": {},
   "outputs": [],
   "source": [
    "%matplotlib inline\n",
    "import seaborn; seaborn.set()\n",
    "weather.plot(y='HOURLYPrecip', use_index=True)\n",
    "plt.xlabel('August 2017')\n",
    "plt.ylabel('Hourly Precipitation in Inches')"
   ]
  },
  {
   "cell_type": "markdown",
   "metadata": {},
   "source": [
    "creating another df for visibility"
   ]
  },
  {
   "cell_type": "code",
   "execution_count": null,
   "metadata": {},
   "outputs": [],
   "source": [
    "vis = pd.read_csv(\"../data/1401011_weather_data.csv\", delimiter = ',', usecols = (5,8),index_col='DATE')"
   ]
  },
  {
   "cell_type": "code",
   "execution_count": null,
   "metadata": {},
   "outputs": [],
   "source": [
    "vis.head()"
   ]
  },
  {
   "cell_type": "code",
   "execution_count": null,
   "metadata": {},
   "outputs": [],
   "source": [
    "vis.dtypes"
   ]
  },
  {
   "cell_type": "markdown",
   "metadata": {},
   "source": [
    "selecting time period of aug 2017"
   ]
  },
  {
   "cell_type": "code",
   "execution_count": null,
   "metadata": {},
   "outputs": [],
   "source": [
    "visib = vis.loc['2017-08-01' : '2017-09-01']"
   ]
  },
  {
   "cell_type": "code",
   "execution_count": null,
   "metadata": {},
   "outputs": [],
   "source": [
    "visib.info()"
   ]
  },
  {
   "cell_type": "markdown",
   "metadata": {},
   "source": [
    "droping na values and data that contain string 'V' in it"
   ]
  },
  {
   "cell_type": "code",
   "execution_count": null,
   "metadata": {},
   "outputs": [],
   "source": [
    "visib = visib.dropna()\n",
    "visib = visib[~visib.HOURLYVISIBILITY.str.contains(\"V\")]"
   ]
  },
  {
   "cell_type": "code",
   "execution_count": null,
   "metadata": {},
   "outputs": [],
   "source": [
    "visib.info()"
   ]
  },
  {
   "cell_type": "markdown",
   "metadata": {},
   "source": [
    "converting visibility column to numeric in order to create a plot"
   ]
  },
  {
   "cell_type": "code",
   "execution_count": null,
   "metadata": {},
   "outputs": [],
   "source": [
    "visib.HOURLYVISIBILITY=pd.to_numeric(visib.HOURLYVISIBILITY)"
   ]
  },
  {
   "cell_type": "code",
   "execution_count": null,
   "metadata": {},
   "outputs": [],
   "source": [
    "visib.plot(y='HOURLYVISIBILITY', use_index=True)\n",
    "plt.xlabel('August 2017')\n",
    "plt.ylabel('Hourly Visibility in miles')"
   ]
  },
  {
   "cell_type": "markdown",
   "metadata": {},
   "source": [
    "Let's see what dates hourly visibility was below 1 mile"
   ]
  },
  {
   "cell_type": "code",
   "execution_count": null,
   "metadata": {},
   "outputs": [],
   "source": [
    "visib.loc[visib.HOURLYVISIBILITY < 1]"
   ]
  },
  {
   "cell_type": "markdown",
   "metadata": {},
   "source": [
    "Let's see what dates horly precipitation was above 0.5 inches"
   ]
  },
  {
   "cell_type": "code",
   "execution_count": null,
   "metadata": {},
   "outputs": [],
   "source": [
    "weather.loc[weather.HOURLYPrecip >= 0.5]"
   ]
  },
  {
   "cell_type": "markdown",
   "metadata": {},
   "source": [
    "It seems like on august 18th precipitation was relatively high and visibility was low\n",
    "This is important because it can influence waiting time and crowdiness in busses.\n",
    "For better understanding lets visualize it with seaborn plots"
   ]
  },
  {
   "cell_type": "code",
   "execution_count": null,
   "metadata": {},
   "outputs": [],
   "source": [
    "weather.plot(y='HOURLYPrecip', use_index=True)\n",
    "plt.xlabel('August 2017')\n",
    "plt.ylabel('Hourly Precipitation in Inches')\n",
    "\n",
    "visib.plot(y='HOURLYVISIBILITY', use_index=True)\n",
    "plt.xlabel('August 2017')\n",
    "plt.ylabel('Hourly Visibility in miles')"
   ]
  },
  {
   "cell_type": "markdown",
   "metadata": {},
   "source": [
    "Indeed, we have low hourly visibility and high precipitation \n",
    "around the same time (aug 18th).\n",
    "We can expect this date to have longer waiting time and \n",
    "higher crowdiness in busses in our future model"
   ]
  },
  {
   "cell_type": "markdown",
   "metadata": {},
   "source": [
    "Let's see if there any other dates that can influence our \n",
    "dependable variables"
   ]
  },
  {
   "cell_type": "code",
   "execution_count": null,
   "metadata": {},
   "outputs": [],
   "source": [
    "print(visib.loc[visib.HOURLYVISIBILITY < 2])\n",
    "print(weather.loc[weather.HOURLYPrecip >= 0.2])"
   ]
  },
  {
   "cell_type": "markdown",
   "metadata": {},
   "source": [
    "It seems like on aug 15th and 22nd there is \n",
    "a hight chance of finding disruption of bus services as well"
   ]
  },
  {
   "cell_type": "markdown",
   "metadata": {},
   "source": [
    "Now, let's find out if there were any dates with hight wind speed"
   ]
  },
  {
   "cell_type": "code",
   "execution_count": null,
   "metadata": {},
   "outputs": [],
   "source": [
    "w = pd.read_csv(\"../data/1401011_weather_data.csv\", delimiter = ',', usecols = (5,17), index_col='DATE')"
   ]
  },
  {
   "cell_type": "code",
   "execution_count": null,
   "metadata": {},
   "outputs": [],
   "source": [
    "w.head()"
   ]
  },
  {
   "cell_type": "code",
   "execution_count": null,
   "metadata": {},
   "outputs": [],
   "source": [
    "w.dtypes"
   ]
  },
  {
   "cell_type": "code",
   "execution_count": null,
   "metadata": {},
   "outputs": [],
   "source": [
    "print(w.shape)\n",
    "print(len(w))"
   ]
  },
  {
   "cell_type": "markdown",
   "metadata": {},
   "source": [
    "Selecting time period of aug 2017"
   ]
  },
  {
   "cell_type": "code",
   "execution_count": null,
   "metadata": {},
   "outputs": [],
   "source": [
    "wind = w.loc['2017-08-01' : '2017-09-01']"
   ]
  },
  {
   "cell_type": "code",
   "execution_count": null,
   "metadata": {},
   "outputs": [],
   "source": [
    "wind.info()"
   ]
  },
  {
   "cell_type": "code",
   "execution_count": null,
   "metadata": {},
   "outputs": [],
   "source": [
    "wind = wind.dropna()"
   ]
  },
  {
   "cell_type": "code",
   "execution_count": null,
   "metadata": {},
   "outputs": [],
   "source": [
    "wind.info()"
   ]
  },
  {
   "cell_type": "code",
   "execution_count": null,
   "metadata": {},
   "outputs": [],
   "source": [
    "wind.HOURLYWindSpeed.describe().astype(int)"
   ]
  },
  {
   "cell_type": "code",
   "execution_count": null,
   "metadata": {},
   "outputs": [],
   "source": [
    "wind.plot(y='HOURLYWindSpeed', use_index=True)\n",
    "plt.xlabel('August 2017')\n",
    "plt.ylabel('Hourly wind speed in miles')"
   ]
  },
  {
   "cell_type": "markdown",
   "metadata": {},
   "source": [
    "From the plot it looks like highest wind speed occured\n",
    "towards the end of the month"
   ]
  },
  {
   "cell_type": "code",
   "execution_count": null,
   "metadata": {},
   "outputs": [],
   "source": [
    "wind.loc[wind.HOURLYWindSpeed > 8]"
   ]
  },
  {
   "cell_type": "markdown",
   "metadata": {},
   "source": [
    "Indeed our observation was correct.\n",
    "However, we know that on aug 15th, 18th and 22nd \n",
    "our other 2 independant variables were relatively high/low.\n",
    "Higher than usual wind speed during those days would \n",
    "probably influence our dependent varibles even more.\n",
    "Let's see what wind speed we had on aug 15th, 18th and 22nd \n",
    "but before that let's convert index to datetime so we can use it later for \n",
    "creating our model"
   ]
  },
  {
   "cell_type": "code",
   "execution_count": null,
   "metadata": {},
   "outputs": [],
   "source": [
    "wind = wind.reset_index()"
   ]
  },
  {
   "cell_type": "code",
   "execution_count": null,
   "metadata": {},
   "outputs": [],
   "source": [
    "wind.head()"
   ]
  },
  {
   "cell_type": "code",
   "execution_count": null,
   "metadata": {},
   "outputs": [],
   "source": [
    "wind.info()"
   ]
  },
  {
   "cell_type": "code",
   "execution_count": null,
   "metadata": {},
   "outputs": [],
   "source": [
    "wind.DATE = pd.to_datetime(wind.DATE)"
   ]
  },
  {
   "cell_type": "code",
   "execution_count": null,
   "metadata": {},
   "outputs": [],
   "source": [
    "wind.info()"
   ]
  },
  {
   "cell_type": "code",
   "execution_count": null,
   "metadata": {},
   "outputs": [],
   "source": [
    "print(wind.loc[(wind.DATE >= '2017-08-15') & (wind.DATE <= '2017-08-16') ].max())\n",
    "print(wind.loc[(wind.DATE >= '2017-08-18') & (wind.DATE <= '2017-08-19') ].max())\n",
    "print(wind.loc[(wind.DATE >= '2017-08-22') & (wind.DATE <= '2017-08-23') ].max())"
   ]
  },
  {
   "cell_type": "markdown",
   "metadata": {},
   "source": [
    "As we can see max wind speed on aug 18th and 22ns was \n",
    "8 and 11 mph respectively\n",
    "this also can influence out predictors.\n",
    "We need to convert DATE to datetime for precipitation and visibility as well"
   ]
  },
  {
   "cell_type": "code",
   "execution_count": null,
   "metadata": {},
   "outputs": [],
   "source": [
    "weather = weather.reset_index()"
   ]
  },
  {
   "cell_type": "code",
   "execution_count": null,
   "metadata": {},
   "outputs": [],
   "source": [
    "weather.DATE = pd.to_datetime(weather.DATE)"
   ]
  },
  {
   "cell_type": "code",
   "execution_count": null,
   "metadata": {},
   "outputs": [],
   "source": [
    "visib = visib.reset_index()\n",
    "visib.DATE = pd.to_datetime(visib.DATE)"
   ]
  },
  {
   "cell_type": "code",
   "execution_count": null,
   "metadata": {},
   "outputs": [],
   "source": [
    "weather.info()"
   ]
  },
  {
   "cell_type": "code",
   "execution_count": null,
   "metadata": {
    "scrolled": true
   },
   "outputs": [],
   "source": [
    "visib.info()"
   ]
  },
  {
   "cell_type": "markdown",
   "metadata": {},
   "source": [
    "We are finished with cleaning and analyzing weather data.\n",
    "Our observations show that there are certain days when we can expect higher crowdiness \n",
    "and longer wait time for the busses. "
   ]
  },
  {
   "cell_type": "markdown",
   "metadata": {},
   "source": [
    "Now we ready to integrate the data to our model as independant variables and see\n",
    "if our predictions were correct. "
   ]
  },
  {
   "cell_type": "markdown",
   "metadata": {},
   "source": [
    "# Excel Espina"
   ]
  },
  {
   "cell_type": "markdown",
   "metadata": {},
   "source": [
    "# Choosing the Appropriate Classifier\n",
    "\n",
    "We want (a) regressor(s) that can predict the **wait time** and **crowding** of a bus at a specific stop with the inputs **hourly weather** and **time of day**. We would most likely have two models that predict each **wait time** and **crowding**.\n",
    "\n",
    "Here are our top picks for regressors:\n",
    "\n",
    "1. Gradient Boosting Machines ***(top pick)***:\n",
    "    - Why: GBMs are typically a composite model that combines the efforts of multiple weak models to create a strong model, and each additional weak model reduces the mean squared error (MSE) of the overall model. Our goal would be to minimize MSE to increase the accuracy of our predictions.\n",
    "\n",
    "1. Random Forest:\n",
    "    - Why: does not suffer from the overfitting like with Decision Trees. Instead of randomly choosing to split from just **hourly weather** and **time of day**, we can have two trees that randomly split from each and find the best model. \n",
    "\n",
    "1. Decision Trees:  \n",
    "    - Reduction in Standard Deviation (metric): This is a regression metric that measures how much we’ve reduced our uncertainty by picking a split point. By picking the best split each time the greedy decision tree training algorithm tries to form decisions with as few splits as possible.  \n",
    "    - Hyperparameters:   \n",
    "        * Max depth: Limit our tree to a `n` depth to prevent overfitting.\n",
    "        \n",
    "\n",
    "Evaluating our model:\n",
    "\n",
    "Since we're creating regression models, we are interested in the ***mean squared error*** and ***R Squared***. The lower our ***R Squared*** the more accurate our model. We intend to use **K-fold cross validation** as well as a **holdout set** as we improve our model through hyperparameter tuning. \n"
   ]
  },
  {
   "cell_type": "markdown",
   "metadata": {},
   "source": [
    "# Data Cleaning\n",
    "\n",
    "> Please checkout [this notebook](../Bus_Timeline/Excel_Bus_Timeline_Draft.ipynb) on how we did the cleaning process\n",
    "\n",
    "1. Clean and break up the time components (Hour, Mins, Secs) of the following:\n",
    "    * `RecordedAtTime`\n",
    "2. Merge and store (we'll merge them based on the hour of the day and the day of the month):\n",
    "    * Bus\n",
    "        * `Hour`\n",
    "        * `Min`\n",
    "        * `Sec`\n",
    "        * `Day`\n",
    "    * Weather\n",
    "        * `Hour`\n",
    "        * `HourlyVisibility`\n",
    "        * `HourlyPrecipitation`\n",
    "        * `HourlyWindSpeed`\n",
    "3. Features of interest:\n",
    "    * `Hour`\n",
    "    * `Min`\n",
    "    * `Sec`\n",
    "    * `HourlyVisibility`\n",
    "    * `HourlyPrecipitation`\n",
    "    * `HourlyWindSpeed`\n",
    "4. Prediction result:\n",
    "    * `timeTillNext`: estimated minutes remaining until next bus"
   ]
  },
  {
   "cell_type": "markdown",
   "metadata": {},
   "source": [
    "### Loading our Merged Tables"
   ]
  },
  {
   "cell_type": "code",
   "execution_count": 40,
   "metadata": {},
   "outputs": [],
   "source": [
    "df = pd.read_csv('../data/Merged_Bus_Weather.csv')"
   ]
  },
  {
   "cell_type": "markdown",
   "metadata": {},
   "source": [
    "# Model Training I\n",
    "\n",
    "Adapted from: https://shankarmsy.github.io/stories/gbrt-sklearn.html"
   ]
  },
  {
   "cell_type": "code",
   "execution_count": 41,
   "metadata": {},
   "outputs": [],
   "source": [
    "%matplotlib inline\n",
    "\n",
    "import pandas as pd\n",
    "import numpy as np\n",
    "import warnings, seaborn\n",
    "import matplotlib.pyplot as plt\n",
    "from sklearn.linear_model import LogisticRegression\n",
    "from sklearn.tree import DecisionTreeClassifier\n",
    "from sklearn.ensemble import RandomForestClassifier, GradientBoostingRegressor\n",
    "from sklearn.metrics import mean_squared_error, r2_score\n",
    "from sklearn.metrics import roc_curve, roc_auc_score\n",
    "from sklearn.model_selection import KFold, train_test_split\n",
    "random_state = 42\n",
    "\n",
    "np.random.seed(sum(map(ord, \"aesthetics\"))) \n",
    "seaborn.set_context('notebook') \n",
    "# pd.set_option('display.mpl_style', 'default') # Make the graphs a bit prettier \n",
    "plt.rcParams['figure.figsize'] = (15, 5) # Set some Pandas options \n",
    "pd.set_option('display.notebook_repr_html', False) \n",
    "pd.set_option('display.max_columns', 40) \n",
    "pd.set_option('display.max_rows', 25) \n",
    "pd.options.display.max_colwidth = 50 \n"
   ]
  },
  {
   "cell_type": "markdown",
   "metadata": {},
   "source": [
    "## Features, Targets and Splitting"
   ]
  },
  {
   "cell_type": "code",
   "execution_count": 42,
   "metadata": {},
   "outputs": [],
   "source": [
    "df.drop(columns=['Unnamed: 0'], inplace=True)"
   ]
  },
  {
   "cell_type": "code",
   "execution_count": 43,
   "metadata": {
    "scrolled": true
   },
   "outputs": [
    {
     "data": {
      "text/plain": [
       "passengerArrivalTime     object\n",
       "numPassengersPerBus       int64\n",
       "BusDepartureTime         object\n",
       "HOURLYVISIBILITY        float64\n",
       "HOURLYWindSpeed         float64\n",
       "HOURLYPrecip            float64\n",
       "ArrivalHour               int64\n",
       "ArrivalSeconds            int64\n",
       "ArrivalMinutes            int64\n",
       "dtype: object"
      ]
     },
     "execution_count": 43,
     "metadata": {},
     "output_type": "execute_result"
    }
   ],
   "source": [
    "df.dtypes"
   ]
  },
  {
   "cell_type": "code",
   "execution_count": 47,
   "metadata": {},
   "outputs": [
    {
     "name": "stdout",
     "output_type": "stream",
     "text": [
      "11547 26.82999913397419\n",
      "2887 27.04052649809491\n"
     ]
    }
   ],
   "source": [
    "features = (['ArrivalHour', 'ArrivalSeconds', 'ArrivalMinutes', \n",
    "             'HOURLYVISIBILITY', 'HOURLYWindSpeed', 'HOURLYPrecip'])\n",
    "\n",
    "target = 'numPassengersPerBus'\n",
    "\n",
    "model_df = df[(features + [target])].dropna().reset_index()\n",
    "\n",
    "train_df, holdout_df, y_train, y_holdout = train_test_split(\n",
    "    model_df[features], \n",
    "    model_df[target], test_size=0.2,\n",
    "    random_state=random_state)\n",
    "\n",
    "train_df[target] = y_train\n",
    "holdout_df[target] = y_holdout\n",
    "\n",
    "train_df.reset_index(inplace=True)\n",
    "holdout_df.reset_index(inplace=True)\n",
    "\n",
    "print(train_df.shape[0], train_df.numPassengersPerBus.mean())\n",
    "print(holdout_df.shape[0], holdout_df.numPassengersPerBus.mean())"
   ]
  },
  {
   "cell_type": "code",
   "execution_count": 48,
   "metadata": {},
   "outputs": [],
   "source": [
    "X_train = train_df\n",
    "X_test = holdout_df\n",
    "y_train = y_train\n",
    "y_test = y_holdout"
   ]
  },
  {
   "cell_type": "markdown",
   "metadata": {},
   "source": [
    "## The Gradient Boosting Regression Tree"
   ]
  },
  {
   "cell_type": "code",
   "execution_count": 49,
   "metadata": {},
   "outputs": [],
   "source": [
    "gbrt=GradientBoostingRegressor(n_estimators=100) \n",
    "train_df.shape\n",
    "\n",
    "gbrt.fit(train_df, y_train) \n",
    "y_pred=gbrt.predict(holdout_df) "
   ]
  },
  {
   "cell_type": "markdown",
   "metadata": {},
   "source": [
    "## Designing the model"
   ]
  },
  {
   "cell_type": "markdown",
   "metadata": {},
   "source": []
  },
  {
   "cell_type": "code",
   "execution_count": 50,
   "metadata": {},
   "outputs": [],
   "source": [
    "k_fold = KFold(n_splits=10, random_state=random_state)"
   ]
  },
  {
   "cell_type": "code",
   "execution_count": null,
   "metadata": {},
   "outputs": [],
   "source": []
  },
  {
   "cell_type": "markdown",
   "metadata": {},
   "source": [
    "Setting up models:"
   ]
  },
  {
   "cell_type": "code",
   "execution_count": 51,
   "metadata": {},
   "outputs": [],
   "source": [
    "def get_cv_results(regressor):\n",
    "    \n",
    "    mse = []\n",
    "    for train, test in k_fold.split(train_df):\n",
    "        regressor.fit(train_df.loc[train, features], train_df.loc[train, target])\n",
    "        y_predicted = regressor.predict(train_df.loc[test, features])\n",
    "        \n",
    "        mean_squared = mean_squared_error(train_df.loc[test, target], y_predicted)\n",
    "        mse.append(mean_squared)\n",
    "    \n",
    "    return np.mean(mse), np.std(mse)"
   ]
  },
  {
   "cell_type": "code",
   "execution_count": 52,
   "metadata": {},
   "outputs": [
    {
     "name": "stdout",
     "output_type": "stream",
     "text": [
      "Mean of mean squared error: 361.38612937537414\n",
      "Mean squared error std: 36.11640817377122\n"
     ]
    }
   ],
   "source": [
    "gbm = GradientBoostingRegressor(\n",
    "    random_state=random_state, \n",
    "    learning_rate = 0.01,\n",
    "    min_samples_split=4,\n",
    "    max_depth=6,\n",
    "    n_estimators=100\n",
    ")\n",
    "\n",
    "results = get_cv_results(gbm)\n",
    "\n",
    "print(\"Mean of mean squared error:\", results[0])\n",
    "print(\"Mean squared error std:\", results[1])"
   ]
  },
  {
   "cell_type": "markdown",
   "metadata": {},
   "source": [
    "How about we change some hyperparameters and see what the outcomes are?"
   ]
  },
  {
   "cell_type": "code",
   "execution_count": 54,
   "metadata": {
    "scrolled": true
   },
   "outputs": [
    {
     "name": "stdout",
     "output_type": "stream",
     "text": [
      "Mean of mean squared error: 197.64028769727676\n",
      "Mean squared error std: 27.16784083705199\n"
     ]
    }
   ],
   "source": [
    "gbm = GradientBoostingRegressor(\n",
    "    random_state=random_state, \n",
    "    learning_rate = 0.05,\n",
    "    min_samples_split=4,\n",
    "    max_depth=4,\n",
    "    n_estimators=600\n",
    ")\n",
    "\n",
    "results = get_cv_results(gbm)\n",
    "\n",
    "print(\"Mean of mean squared error:\", results[0])\n",
    "print(\"Mean squared error std:\", results[1])"
   ]
  },
  {
   "cell_type": "code",
   "execution_count": 55,
   "metadata": {},
   "outputs": [
    {
     "name": "stdout",
     "output_type": "stream",
     "text": [
      "Mean of mean squared error: 211.13588172527088\n",
      "Mean squared error std: 28.384793002154694\n"
     ]
    }
   ],
   "source": [
    "gbm = GradientBoostingRegressor(\n",
    "    random_state=random_state, \n",
    "    learning_rate = 0.01,\n",
    "    min_samples_split=100,\n",
    "    max_depth=4,\n",
    "    n_estimators=800\n",
    ")\n",
    "\n",
    "results = get_cv_results(gbm)\n",
    "\n",
    "print(\"Mean of mean squared error:\", results[0])\n",
    "print(\"Mean squared error std:\", results[1])"
   ]
  },
  {
   "cell_type": "markdown",
   "metadata": {},
   "source": [
    "Looking at learning curves"
   ]
  },
  {
   "cell_type": "code",
   "execution_count": null,
   "metadata": {},
   "outputs": [
    {
     "name": "stdout",
     "output_type": "stream",
     "text": [
      "Depth: 4 Splits: 20 Rate: 0.1 n_estimators: 200 199.08979045383472 27.743574326432228\n",
      "Depth: 4 Splits: 20 Rate: 0.1 n_estimators: 400 195.87222997968576 28.695973599225702\n",
      "Depth: 4 Splits: 20 Rate: 0.1 n_estimators: 600 195.0206280215395 27.68516460653923\n",
      "Depth: 4 Splits: 20 Rate: 0.1 n_estimators: 800 196.13702306024717 27.713527852404297\n",
      "Depth: 4 Splits: 20 Rate: 0.05 n_estimators: 200 205.768138906593 27.68032162934012\n",
      "Depth: 4 Splits: 20 Rate: 0.05 n_estimators: 400 199.3785383582092 27.327002414283733\n",
      "Depth: 4 Splits: 20 Rate: 0.05 n_estimators: 600 196.88164015596283 27.726851981196273\n",
      "Depth: 4 Splits: 20 Rate: 0.05 n_estimators: 800 196.08449372788883 27.791080941501143\n",
      "Depth: 4 Splits: 20 Rate: 0.01 n_estimators: 200 276.6003638466901 34.509902854386986\n",
      "Depth: 4 Splits: 20 Rate: 0.01 n_estimators: 400 227.54505950769402 30.23556738561684\n",
      "Depth: 4 Splits: 20 Rate: 0.01 n_estimators: 600 214.6636742401838 28.13481326286243\n",
      "Depth: 4 Splits: 20 Rate: 0.01 n_estimators: 800 209.59384999816461 28.051041297569792\n",
      "Depth: 4 Splits: 40 Rate: 0.1 n_estimators: 200 198.76423867671355 27.331383958764494\n",
      "Depth: 4 Splits: 40 Rate: 0.1 n_estimators: 400 194.89950947124422 26.671084143290916\n",
      "Depth: 4 Splits: 40 Rate: 0.1 n_estimators: 600 193.85111101813817 26.536890466263195\n",
      "Depth: 4 Splits: 40 Rate: 0.1 n_estimators: 800 194.41753150522584 26.540301424915288\n",
      "Depth: 4 Splits: 40 Rate: 0.05 n_estimators: 200 206.32780121194628 28.266436623046722\n",
      "Depth: 4 Splits: 40 Rate: 0.05 n_estimators: 400 199.779454943737 27.099555253236264\n",
      "Depth: 4 Splits: 40 Rate: 0.05 n_estimators: 600 197.28458666264333 26.938503552286758\n",
      "Depth: 4 Splits: 40 Rate: 0.05 n_estimators: 800 196.6849355821826 26.99402812028518\n",
      "Depth: 4 Splits: 40 Rate: 0.01 n_estimators: 200 276.5871325391827 34.5151769543909\n",
      "Depth: 4 Splits: 40 Rate: 0.01 n_estimators: 400 227.6610128716984 29.93782312533859\n",
      "Depth: 4 Splits: 40 Rate: 0.01 n_estimators: 600 215.10324580276023 28.418762341211256\n",
      "Depth: 4 Splits: 40 Rate: 0.01 n_estimators: 800 210.2488405891576 27.778418367381548\n",
      "Depth: 4 Splits: 60 Rate: 0.1 n_estimators: 200 200.55402165723962 28.529445137602945\n",
      "Depth: 4 Splits: 60 Rate: 0.1 n_estimators: 400 196.514296888566 28.12829879680189\n",
      "Depth: 4 Splits: 60 Rate: 0.1 n_estimators: 600 195.6437790328186 27.225948649163467\n",
      "Depth: 4 Splits: 60 Rate: 0.1 n_estimators: 800 196.0938511858106 27.78508342673514\n",
      "Depth: 4 Splits: 60 Rate: 0.05 n_estimators: 200 205.86254253728504 29.33437406507526\n",
      "Depth: 4 Splits: 60 Rate: 0.05 n_estimators: 400 199.68571770551884 27.359975660250385\n",
      "Depth: 4 Splits: 60 Rate: 0.05 n_estimators: 600 196.61288117303803 27.207609471727825\n",
      "Depth: 4 Splits: 60 Rate: 0.05 n_estimators: 800 195.5093332276186 26.65772755301133\n",
      "Depth: 4 Splits: 60 Rate: 0.01 n_estimators: 200 276.6505394588793 34.52268184430857\n",
      "Depth: 4 Splits: 60 Rate: 0.01 n_estimators: 400 228.0921292737159 30.36951147109032\n",
      "Depth: 4 Splits: 60 Rate: 0.01 n_estimators: 600 215.84571102278792 29.10549447368698\n",
      "Depth: 4 Splits: 60 Rate: 0.01 n_estimators: 800 210.9601994384653 28.993535761729156\n",
      "Depth: 4 Splits: 80 Rate: 0.1 n_estimators: 200 199.7953210170433 27.495142492484327\n",
      "Depth: 4 Splits: 80 Rate: 0.1 n_estimators: 400 195.7080137006118 26.89066553009732\n",
      "Depth: 4 Splits: 80 Rate: 0.1 n_estimators: 600 195.7475782560985 26.68963363546814\n",
      "Depth: 4 Splits: 80 Rate: 0.1 n_estimators: 800 195.78931491693368 26.54688753588107\n",
      "Depth: 4 Splits: 80 Rate: 0.05 n_estimators: 200 206.53274022891975 27.679740901744083\n",
      "Depth: 4 Splits: 80 Rate: 0.05 n_estimators: 400 199.81389613861978 26.869553554487748\n",
      "Depth: 4 Splits: 80 Rate: 0.05 n_estimators: 600 197.27862727376993 27.49365929695401\n",
      "Depth: 4 Splits: 80 Rate: 0.05 n_estimators: 800 195.93181829102903 26.987038827172682\n",
      "Depth: 4 Splits: 80 Rate: 0.01 n_estimators: 200 277.0924620811552 34.49753075120053\n",
      "Depth: 4 Splits: 80 Rate: 0.01 n_estimators: 400 230.36472832682043 30.5740285570682\n",
      "Depth: 4 Splits: 80 Rate: 0.01 n_estimators: 600 216.60873368682002 28.487517675606714\n",
      "Depth: 4 Splits: 80 Rate: 0.01 n_estimators: 800 211.79029500533198 27.994619578560158\n",
      "Depth: 6 Splits: 20 Rate: 0.1 n_estimators: 200 185.32931185907557 27.946790593337177\n",
      "Depth: 6 Splits: 20 Rate: 0.1 n_estimators: 400 192.75016695864076 28.382993245684528\n",
      "Depth: 6 Splits: 20 Rate: 0.1 n_estimators: 600 201.0915295022047 29.907563082983177\n",
      "Depth: 6 Splits: 20 Rate: 0.1 n_estimators: 800 207.5502090892186 31.031582036422297\n",
      "Depth: 6 Splits: 20 Rate: 0.05 n_estimators: 200 182.13397900044907 27.450825424279508\n",
      "Depth: 6 Splits: 20 Rate: 0.05 n_estimators: 400 186.13564666686963 28.585008646794417\n",
      "Depth: 6 Splits: 20 Rate: 0.05 n_estimators: 600 189.87789557459223 28.519220259636207\n",
      "Depth: 6 Splits: 20 Rate: 0.05 n_estimators: 800 193.98855575373426 29.02423512485189\n",
      "Depth: 6 Splits: 20 Rate: 0.01 n_estimators: 200 215.51502093578296 31.64233892790598\n",
      "Depth: 6 Splits: 20 Rate: 0.01 n_estimators: 400 183.9241383707635 27.498474084238406\n",
      "Depth: 6 Splits: 20 Rate: 0.01 n_estimators: 600 180.5942206926847 28.568755985885446\n",
      "Depth: 6 Splits: 20 Rate: 0.01 n_estimators: 800 180.65422311970354 28.857054709710237\n",
      "Depth: 6 Splits: 40 Rate: 0.1 n_estimators: 200 186.60138259659263 29.526337505181594\n",
      "Depth: 6 Splits: 40 Rate: 0.1 n_estimators: 400 192.345476951434 30.372556511055727\n",
      "Depth: 6 Splits: 40 Rate: 0.1 n_estimators: 600 198.5875209176914 31.19144631830383\n",
      "Depth: 6 Splits: 40 Rate: 0.1 n_estimators: 800 204.30457877257282 31.794075356007138\n",
      "Depth: 6 Splits: 40 Rate: 0.05 n_estimators: 200 182.15763988999993 28.753220351511416\n",
      "Depth: 6 Splits: 40 Rate: 0.05 n_estimators: 400 184.56453453142052 29.165784035518303\n",
      "Depth: 6 Splits: 40 Rate: 0.05 n_estimators: 600 185.965538035643 29.57005663848227\n",
      "Depth: 6 Splits: 40 Rate: 0.05 n_estimators: 800 188.83267014335948 29.49691423075882\n",
      "Depth: 6 Splits: 40 Rate: 0.01 n_estimators: 200 220.1069870909292 32.1355913655268\n",
      "Depth: 6 Splits: 40 Rate: 0.01 n_estimators: 400 186.83942484582602 28.046496519512754\n",
      "Depth: 6 Splits: 40 Rate: 0.01 n_estimators: 600 181.7855696564976 28.69825771591488\n",
      "Depth: 6 Splits: 40 Rate: 0.01 n_estimators: 800 181.38601280351403 28.216855094177127\n",
      "Depth: 6 Splits: 60 Rate: 0.1 n_estimators: 200 184.23109102476585 26.852594924763835\n",
      "Depth: 6 Splits: 60 Rate: 0.1 n_estimators: 400 188.47376065220644 27.26958346418093\n",
      "Depth: 6 Splits: 60 Rate: 0.1 n_estimators: 600 193.30260289502945 27.845627326448582\n",
      "Depth: 6 Splits: 60 Rate: 0.1 n_estimators: 800 197.4354973975938 28.07686450967442\n",
      "Depth: 6 Splits: 60 Rate: 0.05 n_estimators: 200 181.24550011354566 27.17180750109216\n",
      "Depth: 6 Splits: 60 Rate: 0.05 n_estimators: 400 182.42710176425763 27.45705738861762\n",
      "Depth: 6 Splits: 60 Rate: 0.05 n_estimators: 600 185.27088135283094 28.026189911856843\n",
      "Depth: 6 Splits: 60 Rate: 0.05 n_estimators: 800 187.039125597537 28.778879657332123\n",
      "Depth: 6 Splits: 60 Rate: 0.01 n_estimators: 200 222.61776589450506 30.248047781079872\n",
      "Depth: 6 Splits: 60 Rate: 0.01 n_estimators: 400 188.24326556749887 26.91046436609381\n",
      "Depth: 6 Splits: 60 Rate: 0.01 n_estimators: 600 182.59816789033675 26.703641082439788\n",
      "Depth: 6 Splits: 60 Rate: 0.01 n_estimators: 800 181.48914649350348 26.304065171157504\n",
      "Depth: 6 Splits: 80 Rate: 0.1 n_estimators: 200 183.67059079135225 27.458969693629722\n",
      "Depth: 6 Splits: 80 Rate: 0.1 n_estimators: 400 187.31787706958113 27.498158466762387\n",
      "Depth: 6 Splits: 80 Rate: 0.1 n_estimators: 600 191.47885041974232 28.282521058934503\n",
      "Depth: 6 Splits: 80 Rate: 0.1 n_estimators: 800 197.15615068087376 28.87007003156234\n",
      "Depth: 6 Splits: 80 Rate: 0.05 n_estimators: 200 183.15566463797947 28.354992678533648\n",
      "Depth: 6 Splits: 80 Rate: 0.05 n_estimators: 400 183.47986588726968 28.565322367344525\n",
      "Depth: 6 Splits: 80 Rate: 0.05 n_estimators: 600 185.52974834187415 27.909097461847235\n",
      "Depth: 6 Splits: 80 Rate: 0.05 n_estimators: 800 187.29316786328968 27.754765798841355\n",
      "Depth: 6 Splits: 80 Rate: 0.01 n_estimators: 200 225.73927572998846 31.89223262899545\n",
      "Depth: 6 Splits: 80 Rate: 0.01 n_estimators: 400 190.21514846187148 27.947149568045294\n",
      "Depth: 6 Splits: 80 Rate: 0.01 n_estimators: 600 184.96600862124774 28.618833780299987\n"
     ]
    },
    {
     "name": "stdout",
     "output_type": "stream",
     "text": [
      "Depth: 6 Splits: 80 Rate: 0.01 n_estimators: 800 183.59645444800316 28.18546821287616\n",
      "Depth: 8 Splits: 20 Rate: 0.1 n_estimators: 200 192.88254573131584 30.344995094998236\n",
      "Depth: 8 Splits: 20 Rate: 0.1 n_estimators: 400 207.11868225900577 32.4735331909133\n",
      "Depth: 8 Splits: 20 Rate: 0.1 n_estimators: 600 216.0810420015849 33.17665835170277\n",
      "Depth: 8 Splits: 20 Rate: 0.1 n_estimators: 800 222.41493056488903 33.72231274727157\n",
      "Depth: 8 Splits: 20 Rate: 0.05 n_estimators: 200 181.29930203512566 29.76420757367459\n",
      "Depth: 8 Splits: 20 Rate: 0.05 n_estimators: 400 190.5504580898425 30.922385932637106\n",
      "Depth: 8 Splits: 20 Rate: 0.05 n_estimators: 600 197.61771482290388 31.67513264396678\n",
      "Depth: 8 Splits: 20 Rate: 0.05 n_estimators: 800 203.91278243774138 32.74029133345812\n",
      "Depth: 8 Splits: 20 Rate: 0.01 n_estimators: 200 199.89128642645719 30.3642025005229\n",
      "Depth: 8 Splits: 20 Rate: 0.01 n_estimators: 400 175.6289887200698 29.394141889506297\n",
      "Depth: 8 Splits: 20 Rate: 0.01 n_estimators: 600 176.67140158449916 29.528135427955956\n",
      "Depth: 8 Splits: 20 Rate: 0.01 n_estimators: 800 179.07046398107596 29.987382502692228\n",
      "Depth: 8 Splits: 40 Rate: 0.1 n_estimators: 200 188.427630779274 31.163115875022548\n",
      "Depth: 8 Splits: 40 Rate: 0.1 n_estimators: 400 201.0138069346859 34.19253848319278\n",
      "Depth: 8 Splits: 40 Rate: 0.1 n_estimators: 600 210.54714799756675 35.70804027375207\n",
      "Depth: 8 Splits: 40 Rate: 0.1 n_estimators: 800 217.75222947280236 36.40525958563033\n",
      "Depth: 8 Splits: 40 Rate: 0.05 n_estimators: 200 178.51657936796298 29.239010066694657\n",
      "Depth: 8 Splits: 40 Rate: 0.05 n_estimators: 400 186.6532247465174 30.119307322609508\n",
      "Depth: 8 Splits: 40 Rate: 0.05 n_estimators: 600 194.0640281004791 31.20801955782381\n",
      "Depth: 8 Splits: 40 Rate: 0.05 n_estimators: 800 199.6250890630736 32.07872517775418\n",
      "Depth: 8 Splits: 40 Rate: 0.01 n_estimators: 200 200.94050516438276 28.858983115966602\n",
      "Depth: 8 Splits: 40 Rate: 0.01 n_estimators: 400 176.44051358933672 27.294328506590272\n",
      "Depth: 8 Splits: 40 Rate: 0.01 n_estimators: 600 175.60076094812706 27.082691298358856\n",
      "Depth: 8 Splits: 40 Rate: 0.01 n_estimators: 800 176.5127130831109 27.23429637936629\n",
      "Depth: 8 Splits: 60 Rate: 0.1 n_estimators: 200 183.75574622668236 28.376763591512606\n",
      "Depth: 8 Splits: 60 Rate: 0.1 n_estimators: 400 196.58024418330737 30.118499446953823\n",
      "Depth: 8 Splits: 60 Rate: 0.1 n_estimators: 600 205.1160452316306 31.45104155328683\n",
      "Depth: 8 Splits: 60 Rate: 0.1 n_estimators: 800 212.6862144496907 32.68426277322605\n",
      "Depth: 8 Splits: 60 Rate: 0.05 n_estimators: 200 178.18932825773692 28.345162596061034\n",
      "Depth: 8 Splits: 60 Rate: 0.05 n_estimators: 400 184.32629106779999 28.38243186902106\n",
      "Depth: 8 Splits: 60 Rate: 0.05 n_estimators: 600 189.31651899543664 29.94753949614487\n",
      "Depth: 8 Splits: 60 Rate: 0.05 n_estimators: 800 194.67566978136006 30.385643826640745\n",
      "Depth: 8 Splits: 60 Rate: 0.01 n_estimators: 200 203.52430473985663 28.65712771871299\n",
      "Depth: 8 Splits: 60 Rate: 0.01 n_estimators: 400 177.38963878708682 26.365491781496576\n",
      "Depth: 8 Splits: 60 Rate: 0.01 n_estimators: 600 176.71367540453963 26.383792754878257\n",
      "Depth: 8 Splits: 60 Rate: 0.01 n_estimators: 800 177.10880122626753 26.86887002838293\n",
      "Depth: 8 Splits: 80 Rate: 0.1 n_estimators: 200 183.99586881250144 27.863756025546056\n",
      "Depth: 8 Splits: 80 Rate: 0.1 n_estimators: 400 194.7081807777701 28.580813920124914\n",
      "Depth: 8 Splits: 80 Rate: 0.1 n_estimators: 600 203.86344704921729 29.852340614993473\n",
      "Depth: 8 Splits: 80 Rate: 0.1 n_estimators: 800 "
     ]
    }
   ],
   "source": [
    "learning_rates = [0.1, 0.05, 0.01]\n",
    "min_samples_splits = range(20, 100, 20)\n",
    "max_depths = [4, 6, 8]\n",
    "n_estimators = range(200,1000,200)\n",
    "\n",
    "all_mu = []\n",
    "all_sigma = []\n",
    "\n",
    "for depth in max_depths:\n",
    "    for min_splits in min_samples_splits:\n",
    "        for rate in learning_rates:\n",
    "            for est in n_estimators:\n",
    "                print(\"Depth:\", depth, \"Splits:\", min_splits, \"Rate:\", rate, \"n_estimators:\", est, end=\" \")\n",
    "                gbrm=GradientBoostingRegressor(\n",
    "                    random_state=random_state, \n",
    "                    max_depth=depth,\n",
    "                    min_samples_split=min_splits,\n",
    "                    learning_rate=rate,\n",
    "                    n_estimators=est\n",
    "                )\n",
    "\n",
    "                mu, sigma = get_cv_results(gbrm)\n",
    "                all_mu.append(mu)\n",
    "                all_sigma.append(sigma)\n",
    "\n",
    "                print(mu, sigma)"
   ]
  },
  {
   "cell_type": "code",
   "execution_count": 21,
   "metadata": {
    "scrolled": true
   },
   "outputs": [
    {
     "data": {
      "text/plain": [
       "Text(0.5, 0, 'Max Depth')"
      ]
     },
     "execution_count": 21,
     "metadata": {},
     "output_type": "execute_result"
    },
    {
     "data": {
      "image/png": "[encoded data removed]",
      "text/plain": [
       "<Figure size 1008x360 with 1 Axes>"
      ]
     },
     "metadata": {
      "needs_background": "light"
     },
     "output_type": "display_data"
    }
   ],
   "source": [
    "plt.figure(figsize=(14, 5))\n",
    "plt.plot(hp_values, all_mu)\n",
    "plt.ylabel('Cross Validation Mean MSE')\n",
    "plt.xlabel('Max Depth')"
   ]
  },
  {
   "cell_type": "code",
   "execution_count": 22,
   "metadata": {},
   "outputs": [
    {
     "data": {
      "text/plain": [
       "Text(0.5, 0, 'Max Depth')"
      ]
     },
     "execution_count": 22,
     "metadata": {},
     "output_type": "execute_result"
    },
    {
     "data": {
      "image/png": "[encoded data removed]",
      "text/plain": [
       "<Figure size 1008x360 with 1 Axes>"
      ]
     },
     "metadata": {
      "needs_background": "light"
     },
     "output_type": "display_data"
    }
   ],
   "source": [
    "plt.figure(figsize=(14, 5))\n",
    "plt.plot(hp_values, all_sigma)\n",
    "plt.ylabel('Cross Validation Std Dev. of MSE')\n",
    "plt.xlabel('Max Depth')"
   ]
  },
  {
   "cell_type": "markdown",
   "metadata": {},
   "source": [
    "### Area Under the ROC curve "
   ]
  },
  {
   "cell_type": "code",
   "execution_count": null,
   "metadata": {},
   "outputs": [],
   "source": [
    "def plot_roc(regressor, label, color):\n",
    "\n",
    "    regressor.fit(train_df[features], train_df[target])\n",
    "    y_prob = regressor.predict(holdout_df[features])\n",
    "    \n",
    "    fpr, tpr, thresh = roc_curve(holdout_df[target], y_prob)\n",
    "    plt.plot(fpr, tpr,\n",
    "             label=label,\n",
    "             color=color, linewidth=3)\n",
    "\n",
    "    auc = roc_auc_score(holdout_df[target], y_prob[:,1])\n",
    "    \n",
    "    print('AUC: %0.3f (%s)' % (auc, label))"
   ]
  },
  {
   "cell_type": "code",
   "execution_count": null,
   "metadata": {},
   "outputs": [],
   "source": [
    "f1 = plt.figure(figsize=(14,6))\n",
    "gbm = GradientBoostingRegressor(\n",
    "    random_state=random_state, \n",
    "    learning_rate = 0.01,\n",
    "    min_samples_split=4,\n",
    "    max_depth=6,\n",
    "    n_estimators=100\n",
    ")\n",
    "\n",
    "plot_roc(gbm, 'GBM', 'lightblue')\n"
   ]
  },
  {
   "cell_type": "code",
   "execution_count": null,
   "metadata": {},
   "outputs": [],
   "source": []
  },
  {
   "cell_type": "code",
   "execution_count": null,
   "metadata": {},
   "outputs": [],
   "source": []
  },
  {
   "cell_type": "code",
   "execution_count": null,
   "metadata": {},
   "outputs": [],
   "source": []
  }
 ],
 "metadata": {
  "kernelspec": {
   "display_name": "Python 3",
   "language": "python",
   "name": "python3"
  },
  "language_info": {
   "codemirror_mode": {
    "name": "ipython",
    "version": 3
   },
   "file_extension": ".py",
   "mimetype": "text/x-python",
   "name": "python",
   "nbconvert_exporter": "python",
   "pygments_lexer": "ipython3",
   "version": "3.6.7"
  }
 },
 "nbformat": 4,
 "nbformat_minor": 2
}
