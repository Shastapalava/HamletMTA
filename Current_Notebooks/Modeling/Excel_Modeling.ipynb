{
 "cells": [
  {
   "cell_type": "markdown",
   "metadata": {},
   "source": [
    "# Modeling M100 Lateness\n",
    "\n",
    "Here we're trying to model the M100's lateness and simulated crowdedness in the St. Nicholas stop going to Inwood 220 St Via Amsterdam Via Bway. \n",
    "\n",
    "We are applying Datacamp's Decision-Tree for Classification\n",
    "\n",
    "## Table of Contents:\n",
    "1. [Choosing the Appropriate Classifier](#choosing-the-appropriate-classifier)\n",
    "1. [Plotting a Chart for Sanity](#plotting-a-chart-for-sanity)\n",
    "1. [Saving our Progress](#saving-our-progress)\n",
    "1. [Model Training](#model-training)\\*\n",
    "1. [Data Cleaning](#data-cleaning)\\*\n",
    "\n",
    "\\* Not finished yet"
   ]
  },
  {
   "cell_type": "markdown",
   "metadata": {},
   "source": [
    "Prequisites (if you want to follow along/verify results)"
   ]
  },
  {
   "cell_type": "code",
   "execution_count": 9,
   "metadata": {},
   "outputs": [
    {
     "name": "stdout",
     "output_type": "stream",
     "text": [
      "Collecting seaborn\n",
      "  Downloading https://files.pythonhosted.org/packages/a8/76/220ba4420459d9c4c9c9587c6ce607bf56c25b3d3d2de62056efe482dadc/seaborn-0.9.0-py3-none-any.whl (208kB)\n",
      "Requirement already satisfied, skipping upgrade: scipy>=0.14.0 in c:\\users\\win10\\anaconda3\\lib\\site-packages (from seaborn) (1.1.0)\n",
      "Requirement already satisfied, skipping upgrade: numpy>=1.9.3 in c:\\users\\win10\\anaconda3\\lib\\site-packages (from seaborn) (1.15.3)\n",
      "Requirement already satisfied, skipping upgrade: pandas>=0.15.2 in c:\\users\\win10\\anaconda3\\lib\\site-packages (from seaborn) (0.23.4)\n",
      "Requirement already satisfied, skipping upgrade: matplotlib>=1.4.3 in c:\\users\\win10\\anaconda3\\lib\\site-packages (from seaborn) (3.0.1)\n",
      "Requirement already satisfied, skipping upgrade: python-dateutil>=2.5.0 in c:\\users\\win10\\anaconda3\\lib\\site-packages (from pandas>=0.15.2->seaborn) (2.7.3)\n",
      "Requirement already satisfied, skipping upgrade: pytz>=2011k in c:\\users\\win10\\anaconda3\\lib\\site-packages (from pandas>=0.15.2->seaborn) (2018.5)\n",
      "Requirement already satisfied, skipping upgrade: cycler>=0.10 in c:\\users\\win10\\anaconda3\\lib\\site-packages (from matplotlib>=1.4.3->seaborn) (0.10.0)\n",
      "Requirement already satisfied, skipping upgrade: kiwisolver>=1.0.1 in c:\\users\\win10\\anaconda3\\lib\\site-packages (from matplotlib>=1.4.3->seaborn) (1.0.1)\n",
      "Requirement already satisfied, skipping upgrade: pyparsing!=2.0.4,!=2.1.2,!=2.1.6,>=2.0.1 in c:\\users\\win10\\anaconda3\\lib\\site-packages (from matplotlib>=1.4.3->seaborn) (2.2.2)\n",
      "Requirement already satisfied, skipping upgrade: six>=1.5 in c:\\users\\win10\\anaconda3\\lib\\site-packages (from python-dateutil>=2.5.0->pandas>=0.15.2->seaborn) (1.11.0)\n",
      "Requirement already satisfied, skipping upgrade: setuptools in c:\\users\\win10\\anaconda3\\lib\\site-packages (from kiwisolver>=1.0.1->matplotlib>=1.4.3->seaborn) (39.1.0)\n",
      "Installing collected packages: seaborn\n",
      "  Found existing installation: seaborn 0.8\n",
      "    Uninstalling seaborn-0.8:\n",
      "      Successfully uninstalled seaborn-0.8\n",
      "Successfully installed seaborn-0.9.0\n"
     ]
    }
   ],
   "source": [
    "# !pip3 install --user -U scikit-learn==0.18\n",
    "!pip3 install --user -U seaborn"
   ]
  },
  {
   "cell_type": "code",
   "execution_count": 2,
   "metadata": {},
   "outputs": [],
   "source": [
    "%matplotlib inline\n",
    "\n",
    "import pandas as pd\n",
    "import numpy as np\n",
    "import warnings\n",
    "import matplotlib.pyplot as plt\n",
    "from sklearn.linear_model import LogisticRegression\n",
    "from sklearn.tree import DecisionTreeClassifier\n",
    "from sklearn.ensemble import RandomForestClassifier, GradientBoostingClassifier\n",
    "from sklearn.metrics import accuracy_score, recall_score, precision_score, confusion_matrix\n",
    "from sklearn.metrics import roc_curve, roc_auc_score\n",
    "from sklearn.model_selection import KFold, train_test_split\n",
    "import datetime as dt\n",
    "\n",
    "warnings.filterwarnings(\"ignore\")\n",
    "random_state = 20181112\n",
    "import datetime, math, glob"
   ]
  },
  {
   "cell_type": "markdown",
   "metadata": {},
   "source": [
    "Adding data from the M100 csv file."
   ]
  },
  {
   "cell_type": "markdown",
   "metadata": {},
   "source": [
    "# Choosing the Appropriate Classifier\n",
    "\n",
    "We want (a) regressor(s) that can predict the **wait time** and **crowding** of a bus at a specific stop with the inputs **hourly weather** and **time of day**. We would most likely have two models that predict each **wait time** and **crowding**.\n",
    "\n",
    "Here are our top picks for regressors:\n",
    "\n",
    "1. Gradient Boosting Machines ***(top pick)***:\n",
    "    - Why: GBMs are typically a composite model that combines the efforts of multiple weak models to create a strong model, and each additional weak model reduces the mean squared error (MSE) of the overall model. Our goal would be to minimize MSE to increase the accuracy of our predictions.\n",
    "\n",
    "1. Random Forest:\n",
    "    - Why: does not suffer from the overfitting like with Decision Trees. Instead of randomly choosing to split from just **hourly weather** and **time of day**, we can have two trees that randomly split from each and find the best model. \n",
    "\n",
    "1. Decision Trees:  \n",
    "    - Reduction in Standard Deviation (metric): This is a regression metric that measures how much we’ve reduced our uncertainty by picking a split point. By picking the best split each time the greedy decision tree training algorithm tries to form decisions with as few splits as possible.  \n",
    "    - Hyperparameters:   \n",
    "        * Max depth: Limit our tree to a `n` depth to prevent overfitting.\n",
    "        \n",
    "\n",
    "Evaluating our model:\n",
    "\n",
    "Since we're creating regression models, we are interested in the ***mean squared error*** and ***R Squared***. The lower our ***R Squared*** the more accurate our model. We intend to use **K-fold cross validation** as well as a **holdout set** as we improve our model through hyperparameter tuning. \n"
   ]
  },
  {
   "cell_type": "markdown",
   "metadata": {},
   "source": [
    "# Data Cleaning\n",
    "\n",
    "> Please checkout [this notebook](../Bus_Timeline/Excel_Bus_Timeline_Draft.ipynb) on how we did the cleaning process\n",
    "\n",
    "1. Clean and break up the time components (Hour, Mins, Secs) of the following:\n",
    "    * `RecordedAtTime`\n",
    "2. Merge and store (we'll merge them based on the hour of the day and the day of the month):\n",
    "    * Bus\n",
    "        * `Hour`\n",
    "        * `Min`\n",
    "        * `Sec`\n",
    "        * `Day`\n",
    "    * Weather\n",
    "        * `Hour`\n",
    "        * `HourlyVisibility`\n",
    "        * `HourlyPrecipitation`\n",
    "        * `HourlyWindSpeed`\n",
    "3. Features of interest:\n",
    "    * `Hour`\n",
    "    * `Min`\n",
    "    * `Sec`\n",
    "    * `HourlyVisibility`\n",
    "    * `HourlyPrecipitation`\n",
    "    * `HourlyWindSpeed`\n",
    "4. Prediction result:\n",
    "    * `timeTillNext`: estimated minutes remaining until next bus"
   ]
  },
  {
   "cell_type": "markdown",
   "metadata": {},
   "source": [
    "### Loading our Merged Tables"
   ]
  },
  {
   "cell_type": "code",
   "execution_count": 4,
   "metadata": {},
   "outputs": [],
   "source": [
    "df = pd.read_csv('../../data/Merged_Bus_Weather.csv')"
   ]
  },
  {
   "cell_type": "markdown",
   "metadata": {},
   "source": [
    "# Model Training I\n",
    "\n",
    "Adapted from: https://shankarmsy.github.io/stories/gbrt-sklearn.html"
   ]
  },
  {
   "cell_type": "code",
   "execution_count": 11,
   "metadata": {},
   "outputs": [],
   "source": [
    "%matplotlib inline\n",
    "\n",
    "import pandas as pd\n",
    "import numpy as np\n",
    "import warnings, seaborn\n",
    "import matplotlib.pyplot as plt\n",
    "from sklearn.linear_model import LogisticRegression\n",
    "from sklearn.tree import DecisionTreeClassifier\n",
    "from sklearn.ensemble import RandomForestClassifier, GradientBoostingRegressor\n",
    "from sklearn.metrics import mean_squared_error, r2_score\n",
    "from sklearn.metrics import roc_curve, roc_auc_score\n",
    "from sklearn.model_selection import KFold, train_test_split\n",
    "\n",
    "\n",
    "np.random.seed(sum(map(ord, \"aesthetics\"))) \n",
    "seaborn.set_context('notebook') \n",
    "# pd.set_option('display.mpl_style', 'default') # Make the graphs a bit prettier \n",
    "plt.rcParams['figure.figsize'] = (15, 5) # Set some Pandas options \n",
    "pd.set_option('display.notebook_repr_html', False) \n",
    "pd.set_option('display.max_columns', 40) \n",
    "pd.set_option('display.max_rows', 25) \n",
    "pd.options.display.max_colwidth = 50 \n"
   ]
  },
  {
   "cell_type": "markdown",
   "metadata": {},
   "source": [
    "## Features, Targets and Splitting"
   ]
  },
  {
   "cell_type": "code",
   "execution_count": 12,
   "metadata": {},
   "outputs": [
    {
     "name": "stdout",
     "output_type": "stream",
     "text": [
      "4580 7.399024745269249\n",
      "1146 6.63468586387436\n"
     ]
    }
   ],
   "source": [
    "features = (['Hour', 'Sec', 'Min', 'HOURLYVISIBILITY', 'HOURLYWindSpeed', 'HOURLYPrecip'])\n",
    "\n",
    "target = 'timeTillNext'\n",
    "\n",
    "model_df = df[(features + [target])].dropna().reset_index()\n",
    "\n",
    "train_df, holdout_df, y_train, y_holdout = train_test_split(\n",
    "    model_df[features], \n",
    "    model_df[target], test_size=0.2,\n",
    "    random_state=random_state)\n",
    "\n",
    "train_df[target] = y_train\n",
    "holdout_df[target] = y_holdout\n",
    "\n",
    "train_df.reset_index(inplace=True)\n",
    "holdout_df.reset_index(inplace=True)\n",
    "\n",
    "print(train_df.shape[0], train_df.timeTillNext.mean())\n",
    "print(holdout_df.shape[0], holdout_df.timeTillNext.mean())"
   ]
  },
  {
   "cell_type": "code",
   "execution_count": 13,
   "metadata": {},
   "outputs": [],
   "source": [
    "X_train = train_df\n",
    "X_test = holdout_df\n",
    "y_train = y_train\n",
    "y_test = y_holdout"
   ]
  },
  {
   "cell_type": "markdown",
   "metadata": {},
   "source": [
    "## The Gradient Boosting Regression Tree"
   ]
  },
  {
   "cell_type": "code",
   "execution_count": 15,
   "metadata": {},
   "outputs": [],
   "source": [
    "gbrt=GradientBoostingRegressor(n_estimators=100) \n",
    "train_df.shape\n",
    "\n",
    "gbrt.fit(train_df, y_train) \n",
    "y_pred=gbrt.predict(holdout_df) "
   ]
  },
  {
   "cell_type": "markdown",
   "metadata": {},
   "source": [
    "## Designing the model"
   ]
  },
  {
   "cell_type": "markdown",
   "metadata": {},
   "source": []
  },
  {
   "cell_type": "code",
   "execution_count": 16,
   "metadata": {},
   "outputs": [],
   "source": [
    "k_fold = KFold(n_splits=5, random_state=random_state)"
   ]
  },
  {
   "cell_type": "code",
   "execution_count": null,
   "metadata": {},
   "outputs": [],
   "source": []
  },
  {
   "cell_type": "markdown",
   "metadata": {},
   "source": [
    "Setting up models:"
   ]
  },
  {
   "cell_type": "code",
   "execution_count": 17,
   "metadata": {},
   "outputs": [],
   "source": [
    "def get_cv_results(regressor):\n",
    "    \n",
    "    mse = []\n",
    "    for train, test in k_fold.split(train_df):\n",
    "        regressor.fit(train_df.loc[train, features], train_df.loc[train, target])\n",
    "        y_predicted = regressor.predict(train_df.loc[test, features])\n",
    "        \n",
    "        mean_squared = mean_squared_error(train_df.loc[test, target], y_predicted)\n",
    "        mse.append(mean_squared)\n",
    "    \n",
    "    return np.mean(mse), np.std(mse)"
   ]
  },
  {
   "cell_type": "code",
   "execution_count": 18,
   "metadata": {},
   "outputs": [
    {
     "name": "stdout",
     "output_type": "stream",
     "text": [
      "Mean of mean squared error: 419.02967336966486\n",
      "Mean squared error std: 119.12337466784993\n"
     ]
    }
   ],
   "source": [
    "gbm = GradientBoostingRegressor(\n",
    "    random_state=random_state, \n",
    "    learning_rate = 0.01,\n",
    "    min_samples_split=4,\n",
    "    max_depth=6,\n",
    "    n_estimators=100\n",
    ")\n",
    "\n",
    "results = get_cv_results(gbm)\n",
    "\n",
    "print(\"Mean of mean squared error:\", results[0])\n",
    "print(\"Mean squared error std:\", results[1])"
   ]
  },
  {
   "cell_type": "markdown",
   "metadata": {},
   "source": [
    "How about we change some hyperparameters and see what the outcomes are?"
   ]
  },
  {
   "cell_type": "code",
   "execution_count": 19,
   "metadata": {},
   "outputs": [
    {
     "name": "stdout",
     "output_type": "stream",
     "text": [
      "Mean of mean squared error: 454.6817982976453\n",
      "Mean squared error std: 62.59176536871218\n"
     ]
    }
   ],
   "source": [
    "gbm = GradientBoostingRegressor(\n",
    "    random_state=random_state, \n",
    "    learning_rate = 0.01,\n",
    "    min_samples_split=4,\n",
    "    max_depth=4,\n",
    "    n_estimators=500\n",
    ")\n",
    "\n",
    "results = get_cv_results(gbm)\n",
    "\n",
    "print(\"Mean of mean squared error:\", results[0])\n",
    "print(\"Mean squared error std:\", results[1])"
   ]
  },
  {
   "cell_type": "markdown",
   "metadata": {},
   "source": [
    "Looking at learning curves"
   ]
  },
  {
   "cell_type": "code",
   "execution_count": 20,
   "metadata": {},
   "outputs": [
    {
     "name": "stdout",
     "output_type": "stream",
     "text": [
      "1 390.80399311847646 104.18459182278363\n",
      "3 439.7836235276709 65.86990330040972\n",
      "5 516.7649933591526 79.21121881103716\n",
      "7 562.1871400790455 54.53735144509007\n",
      "9 549.7601315247587 67.4844842933805\n",
      "11 609.7318253349222 94.87656480846519\n",
      "13 621.2292168263954 95.91143528866438\n",
      "15 626.2541454348714 96.76767865609375\n",
      "17 642.8358221991883 99.08794425949475\n",
      "19 634.9265246495809 87.76050394413882\n"
     ]
    }
   ],
   "source": [
    "hp_values = range(1,20, 2)\n",
    "all_mu = []\n",
    "all_sigma = []\n",
    "\n",
    "for m in hp_values:\n",
    "\n",
    "    gbrm=GradientBoostingRegressor(\n",
    "        random_state=random_state, \n",
    "        max_depth=m,\n",
    "    )\n",
    "\n",
    "    mu, sigma = get_cv_results(gbrm)\n",
    "    all_mu.append(mu)\n",
    "    all_sigma.append(sigma)\n",
    "    \n",
    "    print(m, mu, sigma)"
   ]
  },
  {
   "cell_type": "code",
   "execution_count": 21,
   "metadata": {},
   "outputs": [
    {
     "data": {
      "text/plain": [
       "Text(0.5, 0, 'Max Depth')"
      ]
     },
     "execution_count": 21,
     "metadata": {},
     "output_type": "execute_result"
    },
    {
     "data": {
      "image/png": "[encoded data removed]",
      "text/plain": [
       "<Figure size 1008x360 with 1 Axes>"
      ]
     },
     "metadata": {
      "needs_background": "light"
     },
     "output_type": "display_data"
    }
   ],
   "source": [
    "plt.figure(figsize=(14, 5))\n",
    "plt.plot(hp_values, all_mu)\n",
    "plt.ylabel('Cross Validation Mean MSE')\n",
    "plt.xlabel('Max Depth')"
   ]
  },
  {
   "cell_type": "code",
   "execution_count": 22,
   "metadata": {},
   "outputs": [
    {
     "data": {
      "text/plain": [
       "Text(0.5, 0, 'Max Depth')"
      ]
     },
     "execution_count": 22,
     "metadata": {},
     "output_type": "execute_result"
    },
    {
     "data": {
      "image/png": "[encoded data removed]",
      "text/plain": [
       "<Figure size 1008x360 with 1 Axes>"
      ]
     },
     "metadata": {
      "needs_background": "light"
     },
     "output_type": "display_data"
    }
   ],
   "source": [
    "plt.figure(figsize=(14, 5))\n",
    "plt.plot(hp_values, all_sigma)\n",
    "plt.ylabel('Cross Validation Std Dev. of MSE')\n",
    "plt.xlabel('Max Depth')"
   ]
  },
  {
   "cell_type": "markdown",
   "metadata": {},
   "source": [
    "### Area Under the ROC curve "
   ]
  },
  {
   "cell_type": "code",
   "execution_count": null,
   "metadata": {},
   "outputs": [],
   "source": [
    "def plot_roc(regressor, label, color):\n",
    "\n",
    "    regressor.fit(train_df[features], train_df[target])\n",
    "    y_prob = regressor.predict(holdout_df[features])\n",
    "    \n",
    "    fpr, tpr, thresh = roc_curve(holdout_df[target], y_prob)\n",
    "    plt.plot(fpr, tpr,\n",
    "             label=label,\n",
    "             color=color, linewidth=3)\n",
    "\n",
    "    auc = roc_auc_score(holdout_df[target], y_prob[:,1])\n",
    "    \n",
    "    print('AUC: %0.3f (%s)' % (auc, label))"
   ]
  },
  {
   "cell_type": "code",
   "execution_count": null,
   "metadata": {},
   "outputs": [],
   "source": [
    "f1 = plt.figure(figsize=(14,6))\n",
    "gbm = GradientBoostingRegressor(\n",
    "    random_state=random_state, \n",
    "    learning_rate = 0.01,\n",
    "    min_samples_split=4,\n",
    "    max_depth=6,\n",
    "    n_estimators=100\n",
    ")\n",
    "\n",
    "plot_roc(gbm, 'GBM', 'lightblue')\n"
   ]
  },
  {
   "cell_type": "code",
   "execution_count": null,
   "metadata": {},
   "outputs": [],
   "source": []
  },
  {
   "cell_type": "code",
   "execution_count": null,
   "metadata": {},
   "outputs": [],
   "source": []
  },
  {
   "cell_type": "code",
   "execution_count": null,
   "metadata": {},
   "outputs": [],
   "source": []
  },
  {
   "cell_type": "code",
   "execution_count": null,
   "metadata": {},
   "outputs": [],
   "source": []
  },
  {
   "cell_type": "code",
   "execution_count": null,
   "metadata": {},
   "outputs": [],
   "source": []
  },
  {
   "cell_type": "code",
   "execution_count": null,
   "metadata": {},
   "outputs": [],
   "source": []
  },
  {
   "cell_type": "code",
   "execution_count": null,
   "metadata": {},
   "outputs": [],
   "source": [
    "\n",
    "title = \"Learning Curves (Gradient Boosted Regression Trees)\" \n",
    "estimator = GradientBoostingRegressor(n_estimators=best_est.n_estimators, max_depth=best_est.max_depth,\n",
    "                                      learning_rate=best_est.learning_rate, min_samples_leaf=best_est.min_samples_leaf,\n",
    "                                      max_features=best_est.max_features)\n",
    "plot_learning_curve(estimator, title, X_train, y_train, cv=cv, n_jobs=n_jobs)\n",
    "plt.show()\n"
   ]
  },
  {
   "cell_type": "code",
   "execution_count": null,
   "metadata": {},
   "outputs": [],
   "source": [
    "#Let's try one more trick. We'll trim the training set to its most important features and re-train to see if \n",
    "#that helps.\n",
    "title = \"Learning Curves (Gradient Boosted Regression Trees)\" \n",
    "\n",
    "#Dropping all parameters except n_estimators and learning_rate since we're going to trim the features anyway.\n",
    "estimator = GradientBoostingRegressor(n_estimators=best_est.n_estimators, learning_rate=best_est.learning_rate)\n",
    "\n",
    "#Calling fit on the estimator so we can transform the X matrices.\n",
    "estimator.fit(X_train, y_train)\n",
    "\n",
    "#Trimming feature matrices to include only those features that are more important than the mean of all importances.\n",
    "# X_train_trim=estimator.transform(X_train, threshold='mean')\n",
    "\n",
    "# #Trimming test as well in case we end up going with this model as final.\n",
    "# X_test_trim=estimator.transform(X_test, threshold='mean')\n",
    "\n",
    "#Re-plotting Learning cruves.\n",
    "plot_learning_curve(estimator, title, X_train, y_train, cv=cv, n_jobs=n_jobs)\n",
    "plt.show()\n",
    "\n",
    "#So what do we infer from this plot? We seem to have addressed overfitting much better but the overall score of both train\n",
    "#and cv has gone down considerably, indicating that the features we dropped were actually collectively contributing\n",
    "#to the model. Let's go back to the first model that the Grid Search returned and run our test scores.\n"
   ]
  },
  {
   "cell_type": "code",
   "execution_count": null,
   "metadata": {},
   "outputs": [],
   "source": [
    "#Switching back to the best model from gridsearch\n",
    "estimator = best_est\n",
    "\n",
    "#Re-fitting to the train set\n",
    "estimator.fit(X_train, y_train)\n",
    "\n",
    "#Calculating train/test scores - R-squared value\n",
    "print(\"Train R-squared: \", estimator.score(X_train, y_train))\n",
    "print(\"Test R-squared: \", estimator.score(X_test, y_test))\n",
    "\n",
    "#There you have it, our final R-squared on the California housing dataset, 0.82"
   ]
  },
  {
   "cell_type": "markdown",
   "metadata": {},
   "source": [
    "# Saving/Loading the Model\n",
    "\n",
    "\n",
    "Credit: https://scikit-learn.org/stable/modules/model_persistence.html"
   ]
  },
  {
   "cell_type": "code",
   "execution_count": null,
   "metadata": {},
   "outputs": [],
   "source": [
    "# !pip3 install -U --user joblib"
   ]
  },
  {
   "cell_type": "code",
   "execution_count": null,
   "metadata": {},
   "outputs": [],
   "source": [
    "# Saving\n",
    "from joblib import dump, load\n",
    "dump(estimator, '../../data/GBRT_Hamlet.joblib') "
   ]
  },
  {
   "cell_type": "code",
   "execution_count": null,
   "metadata": {},
   "outputs": [],
   "source": [
    "# Loading\n",
    "model = load('../../data/GBRT_Hamlet.joblib') "
   ]
  },
  {
   "cell_type": "markdown",
   "metadata": {},
   "source": [
    "## Modelling III: More examples of hyperparameter tuning"
   ]
  },
  {
   "cell_type": "code",
   "execution_count": null,
   "metadata": {},
   "outputs": [],
   "source": [
    "#OK let's run through a more complex example this time. We'll explore anonymous loan data provided by lendingclub. \n",
    "#We'll try to predict the interest rate for loan applications based on data provided. Let's first download data to \n",
    "#a pandas df.\n",
    "\n",
    "#The Dataset is a zip file. So let's first read in the dataset through requests then pass it on to Pandas through the\n",
    "#read_csv command\n",
    "url=requests.get('https://resources.lendingclub.com/LoanStats3c.csv.zip')\n",
    "z=zipfile.ZipFile(io.StringIO(url.content))\n",
    "\n",
    "loan=pd.read_csv(z.open('LoanStats3c.csv'), skiprows=1, parse_dates=True, index_col='id')\n",
    "loanbk=loan.copy() #Backup of the dataframe so we don't have to download data everytime"
   ]
  },
  {
   "cell_type": "code",
   "execution_count": null,
   "metadata": {},
   "outputs": [],
   "source": [
    "#Let's take a quick peek at the dataset\n",
    "loan.describe()"
   ]
  },
  {
   "cell_type": "code",
   "execution_count": null,
   "metadata": {},
   "outputs": [],
   "source": [
    "#For simplicity, let's first drop nulls in the dataset. axis=1 indicates we'll drop rows not cols.\n",
    "loan = loan.dropna(axis=0)"
   ]
  },
  {
   "cell_type": "code",
   "execution_count": null,
   "metadata": {},
   "outputs": [],
   "source": [
    "#OK let's take a look at the columns and see if there are any we can drop any before we get started.\n",
    "loan.columns.values\n",
    "\n",
    "#There're plenty that don't seem very relevant. Let's drop them.\n",
    "loan=loan.drop(['member_id', 'grade', 'sub_grade', 'emp_title', 'issue_d',\n",
    "          'pymnt_plan', 'url', 'desc', 'title', 'initial_list_status',\n",
    "          'last_pymnt_d', 'last_pymnt_amnt', 'next_pymnt_d', 'last_credit_pull_d',\n",
    "          'policy_code', 'emp_length', 'addr_state','zip_code'], axis=1)\n",
    "\n",
    "#Check the data dictionary for this dataset at https://resources.lendingclub.com/LCDataDictionary.xlsx for more details"
   ]
  },
  {
   "cell_type": "code",
   "execution_count": null,
   "metadata": {},
   "outputs": [],
   "source": [
    "# Get rid of non-numeric values throughout the DataFrame:\n",
    "for col in loan.columns.values:\n",
    "  loan[col] = loan[col].replace('[^0-9]+.-', '', regex=True)\n",
    "loan.head(2)"
   ]
  },
  {
   "cell_type": "code",
   "execution_count": null,
   "metadata": {},
   "outputs": [],
   "source": [
    "#Remove % symbol from the interest rate & revolving utilization\n",
    "loan.int_rate=loan.int_rate.str.split('%',1).str[0]\n",
    "loan.revol_util=loan.revol_util.str.split('%',1).str[0]\n",
    "\n",
    "#Remove \"months\" from the loan period\n",
    "loan.term=loan.term.str.split(' ',2).str[1]\n",
    "\n",
    "loan.head(2)"
   ]
  },
  {
   "cell_type": "code",
   "execution_count": null,
   "metadata": {},
   "outputs": [],
   "source": [
    "#Let's change the Income Verified column, which currently has textual labels to numeric.\n",
    "from sklearn.preprocessing import LabelEncoder\n",
    "le=LabelEncoder()\n",
    "loan.is_inc_v = le.fit_transform(loan.is_inc_v.values)\n",
    "loan.home_ownership=le.fit_transform(loan.home_ownership.values)\n",
    "loan.loan_status=le.fit_transform(loan.loan_status.values)\n",
    "loan.purpose=le.fit_transform(loan.purpose.values)\n",
    "\n",
    "#Finally let's be sure we convert all fields to numeric\n",
    "loan=loan.convert_objects(convert_numeric=True)\n",
    "\n",
    "loan.head(2)"
   ]
  },
  {
   "cell_type": "code",
   "execution_count": null,
   "metadata": {},
   "outputs": [],
   "source": [
    "#OK great, let's now get our X and y. We know that interest rate is y.\n",
    "#Pandas is fantastic, all you need to do is use .values to get the data in numpy format\n",
    "y=loan.int_rate.values\n",
    "\n",
    "#Let's remove y from the df so we can get X\n",
    "del loan['int_rate']\n",
    "X=loan.values\n",
    "\n",
    "#Now, the train test split\n",
    "X_train, X_test, y_train, y_test = train_test_split(X,y)"
   ]
  },
  {
   "cell_type": "code",
   "execution_count": null,
   "metadata": {},
   "outputs": [],
   "source": [
    "#Great, in no time we have grabbed an unknown dataset from the web, munged it using Pandas and now have ready-to-go\n",
    "#training and test numpy arrays for running the GBRT regressor. Let's go!\n",
    "\n",
    "#WARNING - THIS MIGHT TAKE A WHILE TO RUN. TRY ADJUSTING parameters such as n_jobs (jobs to run in parallel, before \n",
    "#increasing this make sure your system can handle it), n_iter for ShuffleSplit (in the function definition) and reducing \n",
    "#number of values being tried for max_depth/n_estimators.\n",
    "\n",
    "#SELECT INTERRUPT IN THE MENU AND PRESS INTERRUPT KERNEL IF YOU NEEDD TO STOP EXECUTION\n",
    "\n",
    "param_grid={'n_estimators':[100],#,500,1000],\n",
    "            'learning_rate': [0.1,0.05,0.02],# 0.01],\n",
    "            'max_depth':[4,6], \n",
    "            'min_samples_leaf':[3,5,9,17], \n",
    "            'max_features':[1.0,0.3,0.1]\n",
    "           }\n",
    "n_jobs=4\n",
    "\n",
    "#Let's fit GBRT to the digits training dataset by calling the function we just created.\n",
    "cv,best_est=GradientBooster(param_grid, n_jobs)"
   ]
  },
  {
   "cell_type": "code",
   "execution_count": null,
   "metadata": {},
   "outputs": [],
   "source": [
    "#OK great, so we got back the best estimator parameters as follows:\n",
    "print(\"Best Estimator Parameters\")\n",
    "print(\"---------------------------\")\n",
    "print (\"n_estimators:\", best_est.n_estimators)\n",
    "print (\"max_depth:\", best_est.max_depth)\n",
    "print (\"Learning Rate:\", best_est.learning_rate)\n",
    "print (\"min_samples_leaf:\", best_est.min_samples_leaf)\n",
    "print (\"max_features:\", best_est.max_features)\n",
    "\n",
    "print (\"Train R-squared:\", best_est.score(X_train,y_train))\n",
    "\n",
    "#The training R-Squared is almost 1.0 which indicates we can understand 99% of the variance in the data as well as\n",
    "#there's a chance we might overfit. Let's see with the learning curves below.\n"
   ]
  },
  {
   "cell_type": "code",
   "execution_count": null,
   "metadata": {},
   "outputs": [],
   "source": [
    "#OK we'll now call the plot_learning_curve module by feeding it the estimator (best estimator returned from GS) \n",
    "#and train/cv sets.\n",
    "\n",
    "#The module simply runs the estimator multiple times on subsets of the data provided and plots the train and cv scores.\n",
    "#Note that we're feeding the best parameters we've learned from GridSearchCV to the estimator now.\n",
    "#We may need to adjust the hyperparameters further if there is overfitting (or underfitting, though unlikely)\n",
    "title = \"Learning Curves (Gradient Boosted Regression Trees)\" \n",
    "estimator = GradientBoostingRegressor(n_estimators=best_est.n_estimators, max_depth=best_est.max_depth,\n",
    "                                      learning_rate=best_est.learning_rate, min_samples_leaf=best_est.min_samples_leaf,\n",
    "                                      max_features=best_est.max_features)\n",
    "plot_learning_curve(estimator, title, X_train, y_train, cv=cv, n_jobs=n_jobs)\n",
    "plt.show()\n",
    "\n",
    "#OK yes, there is some overfitting there. We can see the training scores in red almost close to 1.0 and the cv scores\n",
    "#trying its best to reach it as the number of examples increases. This is what happens during overfitting. To address\n",
    "#overfitting, GBRT basically has the following parameters we can fine tune: Learning Rate, Max Depth, Min Samples leaf and\n",
    "#Max features."
   ]
  },
  {
   "cell_type": "code",
   "execution_count": null,
   "metadata": {},
   "outputs": [],
   "source": [
    "#the typical recommended values of Max depth is 4 to 6, so lets leave it at 4. Let's try increasing the min\n",
    "#samples leaf parameter, this basically enforces a lower bound on the number of samples in any given leaf.\n",
    "min_samples_leaf=9\n",
    "\n",
    "title = \"Learning Curves (Gradient Boosted Regression Trees), min_samples_leaf=9\" \n",
    "estimator = GradientBoostingRegressor(n_estimators=best_est.n_estimators, max_depth=best_est.max_depth,\n",
    "                                      learning_rate=best_est.learning_rate, min_samples_leaf=min_samples_leaf,\n",
    "                                      max_features=best_est.max_features)\n",
    "plot_learning_curve(estimator, title, X_train, y_train, cv=cv, n_jobs=n_jobs)\n",
    "plt.show()"
   ]
  },
  {
   "cell_type": "code",
   "execution_count": null,
   "metadata": {},
   "outputs": [],
   "source": [
    "#Let's try reducing the max features parameter. This enforces an upper bound of the maximum number of features to use\n",
    "#for training. It's supposed to work well when n_features>30. We'll also remove min samples leaf for this run.\n",
    "max_features=0.5\n",
    "\n",
    "title = \"Learning Curves (Gradient Boosted Regression Trees), max_features=50%\" \n",
    "estimator = GradientBoostingRegressor(n_estimators=best_est.n_estimators, max_depth=best_est.max_depth,\n",
    "                                      learning_rate=best_est.learning_rate, max_features=max_features)\n",
    "plot_learning_curve(estimator, title, X_train, y_train, cv=cv, n_jobs=n_jobs)\n",
    "plt.show()\n",
    "\n",
    "#Nope that didn't quite improve the cv score either. What happens if we reduce learning rate?"
   ]
  },
  {
   "cell_type": "code",
   "execution_count": null,
   "metadata": {},
   "outputs": [],
   "source": [
    "#The lower the learning rate is the more the number of trees we need to train. This is because the rate at which we train\n",
    "#is simply, well, reduced.\n",
    "learning_rate=.01\n",
    "n_estimators=1000\n",
    "\n",
    "title = \"Learning Curves (Gradient Boosted Regression Trees), 1000 Trees at learning rate .01\"\n",
    "estimator = GradientBoostingRegressor(n_estimators=n_estimators, max_depth=best_est.max_depth,\n",
    "                                      learning_rate=learning_rate, min_samples_leaf=best_est.min_samples_leaf,\n",
    "                                      max_features=best_est.max_features)\n",
    "plot_learning_curve(estimator, title, X_train, y_train, cv=cv, n_jobs=n_jobs)\n",
    "plt.show()\n",
    "\n",
    "#Perhaps that improved it a tiny little bit."
   ]
  },
  {
   "cell_type": "code",
   "execution_count": null,
   "metadata": {},
   "outputs": [],
   "source": [
    "#Before we try anything else, I would like to explore one of the beautiful advantages of growing trees. And that is to\n",
    "#capture feature importances. Now that we have a publicly available loan application collection (though anonymous), it makes\n",
    "#me really curious to see what impacts the interest rate for a loan application the most.\n",
    "\n",
    "#Let's take a look\n",
    "\n",
    "#Calling fit on the estimator so we can look at feature_importances.\n",
    "estimator.fit(X_train, y_train)\n",
    "\n",
    "# Calculate the feature ranking - Top 10\n",
    "importances = estimator.feature_importances_\n",
    "indices = np.argsort(importances)[::-1]\n",
    "\n",
    "print \"Lending Club Loan Data - Top 10 Important Features\\n\"\n",
    "\n",
    "for f in range(10):\n",
    "    print(\"%d. %s   (%f)\" % (f + 1, loan.columns[indices[f]], importances[indices[f]]))\n",
    "    \n",
    "#Plot the feature importances of the forest\n",
    "indices=indices[:10]\n",
    "plt.figure()\n",
    "plt.title(\"Top 10 Feature importances\")\n",
    "plt.bar(range(10), importances[indices],\n",
    "       color=\"r\", align=\"center\")\n",
    "plt.xticks(range(10), loan.columns[indices], fontsize=14, rotation=45)\n",
    "plt.xlim([-1, 10])\n",
    "plt.show()\n",
    "\n",
    "#Mean Feature Importance\n",
    "print \"Mean Feature Importance %.6f\" %np.mean(importances)\n",
    "\n",
    "#Interesting, the total amount of interest received to date is the top most influencer for getting a better interest rate.\n",
    "#Good for the lenders eh? Pay more interest, we'll give you a cut on the interest rate. Of course!"
   ]
  },
  {
   "cell_type": "code",
   "execution_count": null,
   "metadata": {},
   "outputs": [],
   "source": [
    "#Can we actually trim (like before) and get a better result? Perhaps not, but who's to stop us from trying.\n",
    "title = \"Learning Curves (Gradient Boosted Regression Trees) - Trimmed features to > 1% importance\" \n",
    "\n",
    "#Dropping all parameters except n_estimators and learning_rate since we're going to trim the features anyway.\n",
    "estimator = GradientBoostingRegressor(n_estimators=best_est.n_estimators, learning_rate=best_est.learning_rate)\n",
    "\n",
    "#Calling fit on the estimator so we can transform the X matrices.\n",
    "estimator.fit(X_train, y_train)\n",
    "\n",
    "#Trimming feature matrices to include only those features that are more important than the mean of all importances.\n",
    "X_train_trim=estimator.transform(X_train, threshold=.01)\n",
    "\n",
    "#Trimming test as well in case we end up going with this model as final.\n",
    "X_test_trim=estimator.transform(X_test, threshold=.01)\n",
    "\n",
    "#Re-plotting Learning cruves.\n",
    "plot_learning_curve(estimator, title, X_train, y_train, cv=cv, n_jobs=n_jobs)\n",
    "plt.show()\n",
    "\n",
    "#Nope, the curve looks like it overfits less, but look at the cv score, in all our fancy attempts it never really crossed\n",
    "#that ~0.8 R-squared barrier. That tells me, we actually have a decent model at hand and also that a 0.9+ R-squared value is\n",
    "#not always possible, atleast in real time. Let's wrap this up."
   ]
  },
  {
   "cell_type": "code",
   "execution_count": null,
   "metadata": {},
   "outputs": [],
   "source": [
    "estimator = GradientBoostingRegressor(n_estimators=best_est.n_estimators, max_depth=best_est.max_depth,\n",
    "                                      learning_rate=best_est.learning_rate, min_samples_leaf=best_est.min_samples_leaf,\n",
    "                                      max_features=best_est.max_features)\n",
    "estimator.fit(X_train, y_train)\n",
    "\n",
    "print(\"Final Estimator Parameters\")\n",
    "print(\"---------------------------\")\n",
    "print(\"n_estimators:\", best_est.n_estimators)\n",
    "print(\"max_depth:\", best_est.max_depth)\n",
    "print(\"Learning Rate:\", best_est.learning_rate)\n",
    "print(\"min_samples_leaf:\", best_est.min_samples_leaf)\n",
    "print(\"max_features:\", best_est.max_features)\n",
    "print(\"Final Train R-squared:\", estimator.score(X_train, y_train))\n",
    "print(\"Final Test R-squared:\", estimator.score(X_test, y_test))"
   ]
  },
  {
   "cell_type": "code",
   "execution_count": null,
   "metadata": {},
   "outputs": [],
   "source": []
  },
  {
   "cell_type": "code",
   "execution_count": null,
   "metadata": {},
   "outputs": [],
   "source": []
  },
  {
   "cell_type": "code",
   "execution_count": null,
   "metadata": {},
   "outputs": [],
   "source": []
  }
 ],
 "metadata": {
  "kernelspec": {
   "display_name": "Python 3",
   "language": "python",
   "name": "python3"
  },
  "language_info": {
   "codemirror_mode": {
    "name": "ipython",
    "version": 3
   },
   "file_extension": ".py",
   "mimetype": "text/x-python",
   "name": "python",
   "nbconvert_exporter": "python",
   "pygments_lexer": "ipython3",
   "version": "3.6.7"
  }
 },
 "nbformat": 4,
 "nbformat_minor": 2
}
