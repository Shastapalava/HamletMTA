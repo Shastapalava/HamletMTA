{
 "cells": [
  {
   "cell_type": "markdown",
   "metadata": {},
   "source": [
    "# Exploring the Datasets\n",
    "*Authors: Angelika Shastapalava, Excel Espina, David Hadaller, Sam Mundle*  \n",
    "\n",
    "### What data we are using:  \n",
    "1) The \"Discovery\" API is MTA's official developer resource to get real-time data from their NYC Bus Time service. You can get more information <a href=\"http://bustime.mta.info/wiki/Developers/Index\">here</a>  \n",
    "2) Kaggle's NYC Bus Data <a href=\"https://www.kaggle.com/stoney71/new-york-city-transport-statistics\">here</a>\n",
    "\n",
    "### Goals, or how are we using the data:\n",
    "Our plan is to explore the following:  \n",
    "> 1. Predicting the probaility, given that a passenger approaches a bus stop within at a particular time interval during the day, that a bus will be late.\n",
    ">2. What environmental factors impact a buses schedule? What impact does time of day,\n",
    "temperature, and weather have?\n",
    "> 3. Based on a ~10 stops/lines how closely do the actual stop times reflect the posted bus\n",
    "schedules and what is the distribution around the scheduled time that busses actually\n",
    "arrive?\n",
    "\n",
    "\n",
    "### Sections:\n",
    "1) [Background Information](#Background-Information) \n",
    "\n",
    "2) [Loading the Datasets](#Loading-the-Datasets) \n",
    "\n",
    "3) [Cleaning the Data](#Cleaning-the-Data)  \n",
    "\n",
    "4) [Visualizing the Data](#Visualizing-the-Data)"
   ]
  },
  {
   "cell_type": "markdown",
   "metadata": {},
   "source": [
    "## Background Information\n",
    "\n",
    "#### Background Reading for Goal 1\n",
    "Doing some background reading, we came across two articles, one [by Jake Vanderplas](http://jakevdp.github.io/blog/2018/09/13/waiting-time-paradox/), developer of data science tools and director open software at the University of Washington's eScience Institute, and another [by Allen Downey](http://allendowney.blogspot.com/2015/08/the-inspection-paradox-is-everywhere.html), a Professor of Computer Science at Olin College and author of many data science texts. Both of their articles coincide with our research goals, but since they're similar, we'll focus mainly Allen Downey's work.  \n",
    "\n",
    "In his article, Downey discusses the inspection paradox as applied to many different data sets, including train arrival times. What follows is a brief summary of the inspection paradox, which explains why most people can truthfully report that trains are overcrowded and late, despite the train operator's equally truthful observation that *most* trains aren't drastically late or crowded. Say that the mean wait time between busses is 10 minutes. Also assume that if train B is late, train A cannot step in to serve those waiting customers even if it's closer. So then, given that late trains, by definition, arrive after a long wait interval, then if we're choosing a random time to approach the patform, there's more of a chance that the train we board will be a late train. This is especially true if the time interval between trains features a high variance. Based on the scenario described, the waiting time paradox also makes the claim that ,when the average time between arrivals is $n$, customers experience an average wait interval experienced of $2n$.\n",
    "\n",
    "Allen Downey tests this claim this by plotting the actual distribution of time between trains on the Red Line in Boston, and the biased distribution that would be observed by passengers of that line. His observations and a plot of that data are as follows:\n",
    "\n",
    "> The average time between trains is 7.8 minutes, so we might expect the average wait time to be 3.8 minutes.  But the average of the biased distribution is 8.8 minutes, and the average wait time for passengers is 4.4 minutes, about 15% longer.\n",
    "> \n",
    "> In this case the difference between the two distributions is not very big because the variance of the actual distribution is moderate.  When the actual distribution is long-tailed, the effect of the inspection paradox can be much bigger.\n",
    "\n",
    "\n",
    "<img src=\"images/1-time-between-trains.png\" alt=\"drawing\" width=\"600\"/>\n",
    "\n",
    "Of course, as he explains in the above quote, Downey does not find the same trend as the idealized inspecition paradox--when the average time between arrivals is $n$, customers experience an average wait interval experienced of $2n$. Certainly, small variance he cites This is a likely reason for these observations, however, it's can also be true that passengers do not approach the train platform at a *uniformly* random time. Mass transit usage likely features some other kind of distribution (perhaps a bimodal distibution, since people commute to work in the morning and then back home in the evening.) \n",
    "\n",
    "For our purposes, creating a biased distribution to test whether the MTA bus data can be described by the inspection paradox would require two things:\n",
    "1. Bus times deltas: that is, the intervals between different bus arrival times at a given stop. We need this to compute the actual ecdf (shown in dark blue.) \n",
    "2. Passenger Data: we need to know how many passengers boarded each bus that stopped at the particular stop in question. This data would be used to create the light blue, biased ecdf, which describes probability from the passenger's perspective.\n",
    "\n",
    "This biased distribution would help us guage probability from the customer standpoint. We're not pointing at busses as they leave the station, assessing the probability as to whether they'll be late. Instead, we're guaging the probability that a customer, who makes his/her way to a stop, will board a late bus.\n",
    "\n",
    "Once we have this biased distribution, we can find the impact of conditional probabilities due to various weather events (taken from external data) on average user wait time (the biased chart.) This leads us into goal 2.\n",
    "\n",
    "### Our Data Analysis\n",
    "The goal of our data analysis is to build on what Downey's work, only with the MTA bus times. We aim to find the distribution of time intervals between one bus leaving and the next bus coming (we call these \"time deltas\"). If these time intervals feature a great deal of variance, many passengers will experience the inspection paradox; i.e. if they approach a bus stop at a uniform, random time, even if the average (mean) bus arrives on time, most passengers will experience long wait times. \n",
    "\n",
    "After we've created an ecdf of the time deltas, we can later simulate the probability that a given passenger will experience a delay using montecarlo methods and/or add conditional probabilities to our analysis with weather data. We must simulate passenger behavior with montecarlo methods because, unlike the Red Line in Boston, the MTA only publishes ridership data as a year-end sum, not for individual bus rides."
   ]
  },
  {
   "cell_type": "code",
   "execution_count": 1,
   "metadata": {
    "collapsed": true
   },
   "outputs": [],
   "source": [
    "import pandas as pd\n",
    "import matplotlib.pyplot as plt\n",
    "import numpy as np\n",
    "import datetime, math, glob"
   ]
  },
  {
   "cell_type": "markdown",
   "metadata": {},
   "source": [
    "### Loading the Datasets \n",
    "We want to work with the Kaggle dataset so head over <a href=\"https://www.kaggle.com/stoney71/new-york-city-transport-statistics\">here</a> and download the zip file. (A word of caution: the dataset is approx **5GB** when extracted!)\n",
    "\n",
    "After you extract the data, we want to load a csv on our notebook.  \n",
    "\n",
    "The `error_bad_lines=False` parameter fixes some formatting issues when we load in our dataset."
   ]
  },
  {
   "cell_type": "code",
   "execution_count": 2,
   "metadata": {
    "collapsed": true
   },
   "outputs": [],
   "source": [
    "# %%capture\n",
    "# df = pd.concat([pd.read_csv(f, error_bad_lines=False) for f in glob.glob('origData/mta*.csv')], ignore_index = True)"
   ]
  },
  {
   "cell_type": "markdown",
   "metadata": {},
   "source": [
    "Use the next cell only for 1 month analysis."
   ]
  },
  {
   "cell_type": "code",
   "execution_count": 3,
   "metadata": {
    "collapsed": true
   },
   "outputs": [],
   "source": [
    "%%capture\n",
    "f = \"origData/mta_1708.csv\"\n",
    "df = pd.read_csv(f, error_bad_lines=False)"
   ]
  },
  {
   "cell_type": "code",
   "execution_count": 4,
   "metadata": {},
   "outputs": [
    {
     "data": {
      "text/html": [
       "<div>\n",
       "<style>\n",
       "    .dataframe thead tr:only-child th {\n",
       "        text-align: right;\n",
       "    }\n",
       "\n",
       "    .dataframe thead th {\n",
       "        text-align: left;\n",
       "    }\n",
       "\n",
       "    .dataframe tbody tr th {\n",
       "        vertical-align: top;\n",
       "    }\n",
       "</style>\n",
       "<table border=\"1\" class=\"dataframe\">\n",
       "  <thead>\n",
       "    <tr style=\"text-align: right;\">\n",
       "      <th></th>\n",
       "      <th>RecordedAtTime</th>\n",
       "      <th>DirectionRef</th>\n",
       "      <th>PublishedLineName</th>\n",
       "      <th>OriginName</th>\n",
       "      <th>OriginLat</th>\n",
       "      <th>OriginLong</th>\n",
       "      <th>DestinationName</th>\n",
       "      <th>DestinationLat</th>\n",
       "      <th>DestinationLong</th>\n",
       "      <th>VehicleRef</th>\n",
       "      <th>VehicleLocation.Latitude</th>\n",
       "      <th>VehicleLocation.Longitude</th>\n",
       "      <th>NextStopPointName</th>\n",
       "      <th>ArrivalProximityText</th>\n",
       "      <th>DistanceFromStop</th>\n",
       "      <th>ExpectedArrivalTime</th>\n",
       "      <th>ScheduledArrivalTime</th>\n",
       "    </tr>\n",
       "  </thead>\n",
       "  <tbody>\n",
       "    <tr>\n",
       "      <th>0</th>\n",
       "      <td>2017-08-01 00:01:03</td>\n",
       "      <td>0</td>\n",
       "      <td>Q32</td>\n",
       "      <td>W 32 ST/7 AV</td>\n",
       "      <td>40.749405</td>\n",
       "      <td>-73.991020</td>\n",
       "      <td>JACKSON HTS NORTHERN - 81 via ROOSVLT</td>\n",
       "      <td>40.755322</td>\n",
       "      <td>-73.886139</td>\n",
       "      <td>NYCT_7424</td>\n",
       "      <td>40.749403</td>\n",
       "      <td>-73.990841</td>\n",
       "      <td>W 32 ST/AV OF THE AMERICAS</td>\n",
       "      <td>&lt; 1 stop away</td>\n",
       "      <td>220.0</td>\n",
       "      <td>2017-08-01 00:01:37</td>\n",
       "      <td>24:01:11</td>\n",
       "    </tr>\n",
       "    <tr>\n",
       "      <th>1</th>\n",
       "      <td>2017-08-01 00:00:52</td>\n",
       "      <td>0</td>\n",
       "      <td>B35</td>\n",
       "      <td>39 ST/1 AV</td>\n",
       "      <td>40.656456</td>\n",
       "      <td>-74.012245</td>\n",
       "      <td>BROWNSVILLE M GASTON BL via CHURCH</td>\n",
       "      <td>40.656345</td>\n",
       "      <td>-73.907188</td>\n",
       "      <td>NYCT_406</td>\n",
       "      <td>40.651330</td>\n",
       "      <td>-73.938960</td>\n",
       "      <td>CHURCH AV/E 42 ST</td>\n",
       "      <td>approaching</td>\n",
       "      <td>107.0</td>\n",
       "      <td>2017-08-01 00:02:00</td>\n",
       "      <td>23:56:12</td>\n",
       "    </tr>\n",
       "    <tr>\n",
       "      <th>2</th>\n",
       "      <td>2017-08-01 00:01:18</td>\n",
       "      <td>1</td>\n",
       "      <td>Q83</td>\n",
       "      <td>227 ST/113 DR</td>\n",
       "      <td>40.702263</td>\n",
       "      <td>-73.730339</td>\n",
       "      <td>JAMAICA HILLSIDE - 153 via LIBERTY</td>\n",
       "      <td>40.706795</td>\n",
       "      <td>-73.804100</td>\n",
       "      <td>NYCT_6449</td>\n",
       "      <td>40.706532</td>\n",
       "      <td>-73.804177</td>\n",
       "      <td>153 ST/HILLSIDE AV</td>\n",
       "      <td>at stop</td>\n",
       "      <td>25.0</td>\n",
       "      <td>2017-08-01 00:01:27</td>\n",
       "      <td>24:00:00</td>\n",
       "    </tr>\n",
       "    <tr>\n",
       "      <th>3</th>\n",
       "      <td>2017-08-01 00:01:05</td>\n",
       "      <td>0</td>\n",
       "      <td>M60-SBS</td>\n",
       "      <td>BROADWAY/W 106 ST</td>\n",
       "      <td>40.801819</td>\n",
       "      <td>-73.967644</td>\n",
       "      <td>SELECT BUS SERVICE LA GUARDIA AIRPORT</td>\n",
       "      <td>40.768074</td>\n",
       "      <td>-73.862091</td>\n",
       "      <td>NYCT_5846</td>\n",
       "      <td>40.770403</td>\n",
       "      <td>-73.917687</td>\n",
       "      <td>HOYT AV/31 ST</td>\n",
       "      <td>4.1 miles away</td>\n",
       "      <td>6519.0</td>\n",
       "      <td>2017-08-01 00:06:47</td>\n",
       "      <td>23:39:14</td>\n",
       "    </tr>\n",
       "    <tr>\n",
       "      <th>4</th>\n",
       "      <td>2017-08-01 00:01:05</td>\n",
       "      <td>0</td>\n",
       "      <td>M60-SBS</td>\n",
       "      <td>BROADWAY/W 106 ST</td>\n",
       "      <td>40.801819</td>\n",
       "      <td>-73.967644</td>\n",
       "      <td>SELECT BUS SERVICE LA GUARDIA AIRPORT</td>\n",
       "      <td>40.768074</td>\n",
       "      <td>-73.862091</td>\n",
       "      <td>NYCT_5846</td>\n",
       "      <td>40.770403</td>\n",
       "      <td>-73.917687</td>\n",
       "      <td>HOYT AV/31 ST</td>\n",
       "      <td>4.1 miles away</td>\n",
       "      <td>6519.0</td>\n",
       "      <td>2017-08-01 00:06:47</td>\n",
       "      <td>23:44:32</td>\n",
       "    </tr>\n",
       "  </tbody>\n",
       "</table>\n",
       "</div>"
      ],
      "text/plain": [
       "        RecordedAtTime  DirectionRef PublishedLineName         OriginName  \\\n",
       "0  2017-08-01 00:01:03             0               Q32       W 32 ST/7 AV   \n",
       "1  2017-08-01 00:00:52             0               B35         39 ST/1 AV   \n",
       "2  2017-08-01 00:01:18             1               Q83      227 ST/113 DR   \n",
       "3  2017-08-01 00:01:05             0           M60-SBS  BROADWAY/W 106 ST   \n",
       "4  2017-08-01 00:01:05             0           M60-SBS  BROADWAY/W 106 ST   \n",
       "\n",
       "   OriginLat  OriginLong                        DestinationName  \\\n",
       "0  40.749405  -73.991020  JACKSON HTS NORTHERN - 81 via ROOSVLT   \n",
       "1  40.656456  -74.012245     BROWNSVILLE M GASTON BL via CHURCH   \n",
       "2  40.702263  -73.730339     JAMAICA HILLSIDE - 153 via LIBERTY   \n",
       "3  40.801819  -73.967644  SELECT BUS SERVICE LA GUARDIA AIRPORT   \n",
       "4  40.801819  -73.967644  SELECT BUS SERVICE LA GUARDIA AIRPORT   \n",
       "\n",
       "   DestinationLat  DestinationLong VehicleRef  VehicleLocation.Latitude  \\\n",
       "0       40.755322       -73.886139  NYCT_7424                 40.749403   \n",
       "1       40.656345       -73.907188   NYCT_406                 40.651330   \n",
       "2       40.706795       -73.804100  NYCT_6449                 40.706532   \n",
       "3       40.768074       -73.862091  NYCT_5846                 40.770403   \n",
       "4       40.768074       -73.862091  NYCT_5846                 40.770403   \n",
       "\n",
       "   VehicleLocation.Longitude           NextStopPointName ArrivalProximityText  \\\n",
       "0                 -73.990841  W 32 ST/AV OF THE AMERICAS        < 1 stop away   \n",
       "1                 -73.938960           CHURCH AV/E 42 ST          approaching   \n",
       "2                 -73.804177          153 ST/HILLSIDE AV              at stop   \n",
       "3                 -73.917687               HOYT AV/31 ST       4.1 miles away   \n",
       "4                 -73.917687               HOYT AV/31 ST       4.1 miles away   \n",
       "\n",
       "   DistanceFromStop  ExpectedArrivalTime ScheduledArrivalTime  \n",
       "0             220.0  2017-08-01 00:01:37             24:01:11  \n",
       "1             107.0  2017-08-01 00:02:00             23:56:12  \n",
       "2              25.0  2017-08-01 00:01:27             24:00:00  \n",
       "3            6519.0  2017-08-01 00:06:47             23:39:14  \n",
       "4            6519.0  2017-08-01 00:06:47             23:44:32  "
      ]
     },
     "execution_count": 4,
     "metadata": {},
     "output_type": "execute_result"
    }
   ],
   "source": [
    "df.head()"
   ]
  },
  {
   "cell_type": "markdown",
   "metadata": {},
   "source": [
    "## Cleaning the Data\n",
    "For this EDA, we're only going to be looking at the **M100** bus with the route going to **Inwood 220 St Via Amsterdam Via Bway**. We are interested in the stop data in **W 125 St/St Nicholas Av**"
   ]
  },
  {
   "cell_type": "code",
   "execution_count": 5,
   "metadata": {
    "collapsed": true
   },
   "outputs": [],
   "source": [
    "df_m100 = df.loc[(df['PublishedLineName']== 'M100') & (df['DestinationName'] == 'INWOOD 220 ST via AMSTERDAM via BWAY'),]\n"
   ]
  },
  {
   "cell_type": "markdown",
   "metadata": {},
   "source": [
    "We want to look at M100 buses that have reported ```at stop``` on ```ArrivalProximityText``` whose ```OriginName``` is the stop before **W 125 St/St Nicholas Av**, ```W 125 ST/FRED DOUGLASS BL```"
   ]
  },
  {
   "cell_type": "code",
   "execution_count": 6,
   "metadata": {
    "collapsed": true
   },
   "outputs": [],
   "source": [
    "# M100_FD = m100.loc[(m100['ArrivalProximityText'] == 'at stop') & (m100['NextStopPointName'] == 'W 125 ST/FRED DOUGLASS BL'),]\n",
    "df_nick_m100 = df_m100.loc[(df_m100['ArrivalProximityText'] == 'at stop') & (df_m100['NextStopPointName'] == 'W 125 ST/ST NICHOLAS AV'),]\n"
   ]
  },
  {
   "cell_type": "code",
   "execution_count": 7,
   "metadata": {},
   "outputs": [
    {
     "data": {
      "text/html": [
       "<div>\n",
       "<style>\n",
       "    .dataframe thead tr:only-child th {\n",
       "        text-align: right;\n",
       "    }\n",
       "\n",
       "    .dataframe thead th {\n",
       "        text-align: left;\n",
       "    }\n",
       "\n",
       "    .dataframe tbody tr th {\n",
       "        vertical-align: top;\n",
       "    }\n",
       "</style>\n",
       "<table border=\"1\" class=\"dataframe\">\n",
       "  <thead>\n",
       "    <tr style=\"text-align: right;\">\n",
       "      <th></th>\n",
       "      <th>RecordedAtTime</th>\n",
       "      <th>DirectionRef</th>\n",
       "      <th>PublishedLineName</th>\n",
       "      <th>OriginName</th>\n",
       "      <th>OriginLat</th>\n",
       "      <th>OriginLong</th>\n",
       "      <th>DestinationName</th>\n",
       "      <th>DestinationLat</th>\n",
       "      <th>DestinationLong</th>\n",
       "      <th>VehicleRef</th>\n",
       "      <th>VehicleLocation.Latitude</th>\n",
       "      <th>VehicleLocation.Longitude</th>\n",
       "      <th>NextStopPointName</th>\n",
       "      <th>ArrivalProximityText</th>\n",
       "      <th>DistanceFromStop</th>\n",
       "      <th>ExpectedArrivalTime</th>\n",
       "      <th>ScheduledArrivalTime</th>\n",
       "    </tr>\n",
       "  </thead>\n",
       "  <tbody>\n",
       "    <tr>\n",
       "      <th>43022</th>\n",
       "      <td>2017-08-01 07:51:49</td>\n",
       "      <td>0</td>\n",
       "      <td>M100</td>\n",
       "      <td>1 AV/125 ST</td>\n",
       "      <td>40.801968</td>\n",
       "      <td>-73.931358</td>\n",
       "      <td>INWOOD 220 ST via AMSTERDAM via BWAY</td>\n",
       "      <td>40.871902</td>\n",
       "      <td>-73.913101</td>\n",
       "      <td>NYCT_8368</td>\n",
       "      <td>40.810861</td>\n",
       "      <td>-73.952819</td>\n",
       "      <td>W 125 ST/ST NICHOLAS AV</td>\n",
       "      <td>at stop</td>\n",
       "      <td>21.0</td>\n",
       "      <td>2017-08-01 07:52:03</td>\n",
       "      <td>07:49:06</td>\n",
       "    </tr>\n",
       "    <tr>\n",
       "      <th>43023</th>\n",
       "      <td>2017-08-01 07:51:49</td>\n",
       "      <td>0</td>\n",
       "      <td>M100</td>\n",
       "      <td>1 AV/125 ST</td>\n",
       "      <td>40.801968</td>\n",
       "      <td>-73.931358</td>\n",
       "      <td>INWOOD 220 ST via AMSTERDAM via BWAY</td>\n",
       "      <td>40.871902</td>\n",
       "      <td>-73.913101</td>\n",
       "      <td>NYCT_8368</td>\n",
       "      <td>40.810861</td>\n",
       "      <td>-73.952819</td>\n",
       "      <td>W 125 ST/ST NICHOLAS AV</td>\n",
       "      <td>at stop</td>\n",
       "      <td>21.0</td>\n",
       "      <td>2017-08-01 07:52:03</td>\n",
       "      <td>07:50:48</td>\n",
       "    </tr>\n",
       "    <tr>\n",
       "      <th>43024</th>\n",
       "      <td>2017-08-01 07:51:49</td>\n",
       "      <td>0</td>\n",
       "      <td>M100</td>\n",
       "      <td>1 AV/125 ST</td>\n",
       "      <td>40.801968</td>\n",
       "      <td>-73.931358</td>\n",
       "      <td>INWOOD 220 ST via AMSTERDAM via BWAY</td>\n",
       "      <td>40.871902</td>\n",
       "      <td>-73.913101</td>\n",
       "      <td>NYCT_8368</td>\n",
       "      <td>40.810861</td>\n",
       "      <td>-73.952819</td>\n",
       "      <td>W 125 ST/ST NICHOLAS AV</td>\n",
       "      <td>at stop</td>\n",
       "      <td>21.0</td>\n",
       "      <td>2017-08-01 07:52:03</td>\n",
       "      <td>07:51:39</td>\n",
       "    </tr>\n",
       "    <tr>\n",
       "      <th>90460</th>\n",
       "      <td>2017-08-01 11:02:25</td>\n",
       "      <td>0</td>\n",
       "      <td>M100</td>\n",
       "      <td>1 AV/125 ST</td>\n",
       "      <td>40.801968</td>\n",
       "      <td>-73.931358</td>\n",
       "      <td>INWOOD 220 ST via AMSTERDAM via BWAY</td>\n",
       "      <td>40.871902</td>\n",
       "      <td>-73.913101</td>\n",
       "      <td>NYCT_8384</td>\n",
       "      <td>40.810907</td>\n",
       "      <td>-73.952928</td>\n",
       "      <td>W 125 ST/ST NICHOLAS AV</td>\n",
       "      <td>at stop</td>\n",
       "      <td>11.0</td>\n",
       "      <td>2017-08-01 11:02:42</td>\n",
       "      <td>11:04:39</td>\n",
       "    </tr>\n",
       "    <tr>\n",
       "      <th>124608</th>\n",
       "      <td>2017-08-01 13:42:23</td>\n",
       "      <td>0</td>\n",
       "      <td>M100</td>\n",
       "      <td>1 AV/125 ST</td>\n",
       "      <td>40.801968</td>\n",
       "      <td>-73.931358</td>\n",
       "      <td>INWOOD 220 ST via AMSTERDAM via BWAY</td>\n",
       "      <td>40.871902</td>\n",
       "      <td>-73.913101</td>\n",
       "      <td>NYCT_8391</td>\n",
       "      <td>40.810881</td>\n",
       "      <td>-73.952865</td>\n",
       "      <td>W 125 ST/ST NICHOLAS AV</td>\n",
       "      <td>at stop</td>\n",
       "      <td>17.0</td>\n",
       "      <td>2017-08-01 13:43:07</td>\n",
       "      <td>13:35:20</td>\n",
       "    </tr>\n",
       "  </tbody>\n",
       "</table>\n",
       "</div>"
      ],
      "text/plain": [
       "             RecordedAtTime  DirectionRef PublishedLineName   OriginName  \\\n",
       "43022   2017-08-01 07:51:49             0              M100  1 AV/125 ST   \n",
       "43023   2017-08-01 07:51:49             0              M100  1 AV/125 ST   \n",
       "43024   2017-08-01 07:51:49             0              M100  1 AV/125 ST   \n",
       "90460   2017-08-01 11:02:25             0              M100  1 AV/125 ST   \n",
       "124608  2017-08-01 13:42:23             0              M100  1 AV/125 ST   \n",
       "\n",
       "        OriginLat  OriginLong                       DestinationName  \\\n",
       "43022   40.801968  -73.931358  INWOOD 220 ST via AMSTERDAM via BWAY   \n",
       "43023   40.801968  -73.931358  INWOOD 220 ST via AMSTERDAM via BWAY   \n",
       "43024   40.801968  -73.931358  INWOOD 220 ST via AMSTERDAM via BWAY   \n",
       "90460   40.801968  -73.931358  INWOOD 220 ST via AMSTERDAM via BWAY   \n",
       "124608  40.801968  -73.931358  INWOOD 220 ST via AMSTERDAM via BWAY   \n",
       "\n",
       "        DestinationLat  DestinationLong VehicleRef  VehicleLocation.Latitude  \\\n",
       "43022        40.871902       -73.913101  NYCT_8368                 40.810861   \n",
       "43023        40.871902       -73.913101  NYCT_8368                 40.810861   \n",
       "43024        40.871902       -73.913101  NYCT_8368                 40.810861   \n",
       "90460        40.871902       -73.913101  NYCT_8384                 40.810907   \n",
       "124608       40.871902       -73.913101  NYCT_8391                 40.810881   \n",
       "\n",
       "        VehicleLocation.Longitude        NextStopPointName  \\\n",
       "43022                  -73.952819  W 125 ST/ST NICHOLAS AV   \n",
       "43023                  -73.952819  W 125 ST/ST NICHOLAS AV   \n",
       "43024                  -73.952819  W 125 ST/ST NICHOLAS AV   \n",
       "90460                  -73.952928  W 125 ST/ST NICHOLAS AV   \n",
       "124608                 -73.952865  W 125 ST/ST NICHOLAS AV   \n",
       "\n",
       "       ArrivalProximityText  DistanceFromStop  ExpectedArrivalTime  \\\n",
       "43022               at stop              21.0  2017-08-01 07:52:03   \n",
       "43023               at stop              21.0  2017-08-01 07:52:03   \n",
       "43024               at stop              21.0  2017-08-01 07:52:03   \n",
       "90460               at stop              11.0  2017-08-01 11:02:42   \n",
       "124608              at stop              17.0  2017-08-01 13:43:07   \n",
       "\n",
       "       ScheduledArrivalTime  \n",
       "43022              07:49:06  \n",
       "43023              07:50:48  \n",
       "43024              07:51:39  \n",
       "90460              11:04:39  \n",
       "124608             13:35:20  "
      ]
     },
     "execution_count": 7,
     "metadata": {},
     "output_type": "execute_result"
    }
   ],
   "source": [
    "df_nick_m100.head()"
   ]
  },
  {
   "cell_type": "markdown",
   "metadata": {},
   "source": [
    "Here we're cleaning the dataset, specifically in the \"ExpectedArrivalTime\" and \"ScheduledArrivalTime\".\n",
    "\n",
    "This is a pretty crude cleaning technique since we lose a lot of (*valuable?*) data."
   ]
  },
  {
   "cell_type": "code",
   "execution_count": 8,
   "metadata": {},
   "outputs": [
    {
     "name": "stderr",
     "output_type": "stream",
     "text": [
      "C:\\ProgramData\\Anaconda3\\lib\\site-packages\\ipykernel_launcher.py:1: SettingWithCopyWarning: \n",
      "A value is trying to be set on a copy of a slice from a DataFrame\n",
      "\n",
      "See the caveats in the documentation: http://pandas.pydata.org/pandas-docs/stable/indexing.html#indexing-view-versus-copy\n",
      "  \"\"\"Entry point for launching an IPython kernel.\n"
     ]
    },
    {
     "data": {
      "text/plain": [
       "(89, 17)"
      ]
     },
     "execution_count": 8,
     "metadata": {},
     "output_type": "execute_result"
    }
   ],
   "source": [
    "df_nick_m100.dropna(subset=[\"ExpectedArrivalTime\", \"ScheduledArrivalTime\"], inplace=True)\n",
    "df_nick_m100.shape"
   ]
  },
  {
   "cell_type": "markdown",
   "metadata": {},
   "source": [
    "Now we have a dataframe of M100 buses that have stopped at Nicholas. \n",
    "\n",
    "Our next step would be to compare the expected arrival to scheduled.\n",
    "\n",
    "~~Also, how about we limit our the scope to 7 days from Aug 5 to Aug 11.~~"
   ]
  },
  {
   "cell_type": "code",
   "execution_count": 9,
   "metadata": {
    "scrolled": false
   },
   "outputs": [
    {
     "name": "stderr",
     "output_type": "stream",
     "text": [
      "C:\\ProgramData\\Anaconda3\\lib\\site-packages\\ipykernel_launcher.py:2: SettingWithCopyWarning: \n",
      "A value is trying to be set on a copy of a slice from a DataFrame.\n",
      "Try using .loc[row_indexer,col_indexer] = value instead\n",
      "\n",
      "See the caveats in the documentation: http://pandas.pydata.org/pandas-docs/stable/indexing.html#indexing-view-versus-copy\n",
      "  \n"
     ]
    }
   ],
   "source": [
    "# Changing obj to datetime \n",
    "df_nick_m100['RecordedAtTime'] = pd.to_datetime(df_nick_m100['RecordedAtTime'])\n",
    "\n",
    "# Sort the time \n",
    "df_nick_m100 = df_nick_m100.sort_index()\n",
    "\n",
    "# M100_FD[(M100_FD['RecordedAtTime'] > '2017-08-05 05:00:00') & \n",
    "#             (M100_FD['RecordedAtTime'] < '2017-08-11 21:00:00')]"
   ]
  },
  {
   "cell_type": "markdown",
   "metadata": {},
   "source": [
    "# Getting the Time Deltas between Buses\n",
    "\n",
    "First changing the object types to datetime."
   ]
  },
  {
   "cell_type": "code",
   "execution_count": 10,
   "metadata": {
    "collapsed": true
   },
   "outputs": [],
   "source": [
    "df_nick_m100['ExpectedArrivalTime'] = pd.to_datetime(df_nick_m100['ExpectedArrivalTime'])"
   ]
  },
  {
   "cell_type": "markdown",
   "metadata": {},
   "source": [
    "Then calculate the delta"
   ]
  },
  {
   "cell_type": "code",
   "execution_count": 14,
   "metadata": {
    "collapsed": true
   },
   "outputs": [],
   "source": [
    "df_nick_m100['time_diff_bus'] = df_nick_m100['ExpectedArrivalTime'].diff()"
   ]
  },
  {
   "cell_type": "markdown",
   "metadata": {},
   "source": [
    "Converting to mins."
   ]
  },
  {
   "cell_type": "code",
   "execution_count": 15,
   "metadata": {},
   "outputs": [],
   "source": [
    "df_nick_m100['time_diff_bus_mins'] = df_nick_m100['time_diff_bus'].dt.total_seconds().div(60, fill_value=0).apply(math.ceil).astype(int)"
   ]
  },
  {
   "cell_type": "code",
   "execution_count": 16,
   "metadata": {
    "scrolled": true
   },
   "outputs": [
    {
     "data": {
      "text/html": [
       "<div>\n",
       "<style>\n",
       "    .dataframe thead tr:only-child th {\n",
       "        text-align: right;\n",
       "    }\n",
       "\n",
       "    .dataframe thead th {\n",
       "        text-align: left;\n",
       "    }\n",
       "\n",
       "    .dataframe tbody tr th {\n",
       "        vertical-align: top;\n",
       "    }\n",
       "</style>\n",
       "<table border=\"1\" class=\"dataframe\">\n",
       "  <thead>\n",
       "    <tr style=\"text-align: right;\">\n",
       "      <th></th>\n",
       "      <th>RecordedAtTime</th>\n",
       "      <th>DirectionRef</th>\n",
       "      <th>PublishedLineName</th>\n",
       "      <th>OriginName</th>\n",
       "      <th>OriginLat</th>\n",
       "      <th>OriginLong</th>\n",
       "      <th>DestinationName</th>\n",
       "      <th>DestinationLat</th>\n",
       "      <th>DestinationLong</th>\n",
       "      <th>VehicleRef</th>\n",
       "      <th>VehicleLocation.Latitude</th>\n",
       "      <th>VehicleLocation.Longitude</th>\n",
       "      <th>NextStopPointName</th>\n",
       "      <th>ArrivalProximityText</th>\n",
       "      <th>DistanceFromStop</th>\n",
       "      <th>ExpectedArrivalTime</th>\n",
       "      <th>ScheduledArrivalTime</th>\n",
       "      <th>time_diff_bus</th>\n",
       "      <th>time_diff_bus_mins</th>\n",
       "    </tr>\n",
       "  </thead>\n",
       "  <tbody>\n",
       "    <tr>\n",
       "      <th>43022</th>\n",
       "      <td>2017-08-01 07:51:49</td>\n",
       "      <td>0</td>\n",
       "      <td>M100</td>\n",
       "      <td>1 AV/125 ST</td>\n",
       "      <td>40.801968</td>\n",
       "      <td>-73.931358</td>\n",
       "      <td>INWOOD 220 ST via AMSTERDAM via BWAY</td>\n",
       "      <td>40.871902</td>\n",
       "      <td>-73.913101</td>\n",
       "      <td>NYCT_8368</td>\n",
       "      <td>40.810861</td>\n",
       "      <td>-73.952819</td>\n",
       "      <td>W 125 ST/ST NICHOLAS AV</td>\n",
       "      <td>at stop</td>\n",
       "      <td>21.0</td>\n",
       "      <td>2017-08-01 07:52:03</td>\n",
       "      <td>07:49:06</td>\n",
       "      <td>NaT</td>\n",
       "      <td>0</td>\n",
       "    </tr>\n",
       "    <tr>\n",
       "      <th>43023</th>\n",
       "      <td>2017-08-01 07:51:49</td>\n",
       "      <td>0</td>\n",
       "      <td>M100</td>\n",
       "      <td>1 AV/125 ST</td>\n",
       "      <td>40.801968</td>\n",
       "      <td>-73.931358</td>\n",
       "      <td>INWOOD 220 ST via AMSTERDAM via BWAY</td>\n",
       "      <td>40.871902</td>\n",
       "      <td>-73.913101</td>\n",
       "      <td>NYCT_8368</td>\n",
       "      <td>40.810861</td>\n",
       "      <td>-73.952819</td>\n",
       "      <td>W 125 ST/ST NICHOLAS AV</td>\n",
       "      <td>at stop</td>\n",
       "      <td>21.0</td>\n",
       "      <td>2017-08-01 07:52:03</td>\n",
       "      <td>07:50:48</td>\n",
       "      <td>00:00:00</td>\n",
       "      <td>0</td>\n",
       "    </tr>\n",
       "    <tr>\n",
       "      <th>43024</th>\n",
       "      <td>2017-08-01 07:51:49</td>\n",
       "      <td>0</td>\n",
       "      <td>M100</td>\n",
       "      <td>1 AV/125 ST</td>\n",
       "      <td>40.801968</td>\n",
       "      <td>-73.931358</td>\n",
       "      <td>INWOOD 220 ST via AMSTERDAM via BWAY</td>\n",
       "      <td>40.871902</td>\n",
       "      <td>-73.913101</td>\n",
       "      <td>NYCT_8368</td>\n",
       "      <td>40.810861</td>\n",
       "      <td>-73.952819</td>\n",
       "      <td>W 125 ST/ST NICHOLAS AV</td>\n",
       "      <td>at stop</td>\n",
       "      <td>21.0</td>\n",
       "      <td>2017-08-01 07:52:03</td>\n",
       "      <td>07:51:39</td>\n",
       "      <td>00:00:00</td>\n",
       "      <td>0</td>\n",
       "    </tr>\n",
       "    <tr>\n",
       "      <th>90460</th>\n",
       "      <td>2017-08-01 11:02:25</td>\n",
       "      <td>0</td>\n",
       "      <td>M100</td>\n",
       "      <td>1 AV/125 ST</td>\n",
       "      <td>40.801968</td>\n",
       "      <td>-73.931358</td>\n",
       "      <td>INWOOD 220 ST via AMSTERDAM via BWAY</td>\n",
       "      <td>40.871902</td>\n",
       "      <td>-73.913101</td>\n",
       "      <td>NYCT_8384</td>\n",
       "      <td>40.810907</td>\n",
       "      <td>-73.952928</td>\n",
       "      <td>W 125 ST/ST NICHOLAS AV</td>\n",
       "      <td>at stop</td>\n",
       "      <td>11.0</td>\n",
       "      <td>2017-08-01 11:02:42</td>\n",
       "      <td>11:04:39</td>\n",
       "      <td>03:10:39</td>\n",
       "      <td>191</td>\n",
       "    </tr>\n",
       "    <tr>\n",
       "      <th>124608</th>\n",
       "      <td>2017-08-01 13:42:23</td>\n",
       "      <td>0</td>\n",
       "      <td>M100</td>\n",
       "      <td>1 AV/125 ST</td>\n",
       "      <td>40.801968</td>\n",
       "      <td>-73.931358</td>\n",
       "      <td>INWOOD 220 ST via AMSTERDAM via BWAY</td>\n",
       "      <td>40.871902</td>\n",
       "      <td>-73.913101</td>\n",
       "      <td>NYCT_8391</td>\n",
       "      <td>40.810881</td>\n",
       "      <td>-73.952865</td>\n",
       "      <td>W 125 ST/ST NICHOLAS AV</td>\n",
       "      <td>at stop</td>\n",
       "      <td>17.0</td>\n",
       "      <td>2017-08-01 13:43:07</td>\n",
       "      <td>13:35:20</td>\n",
       "      <td>02:40:25</td>\n",
       "      <td>161</td>\n",
       "    </tr>\n",
       "  </tbody>\n",
       "</table>\n",
       "</div>"
      ],
      "text/plain": [
       "            RecordedAtTime  DirectionRef PublishedLineName   OriginName  \\\n",
       "43022  2017-08-01 07:51:49             0              M100  1 AV/125 ST   \n",
       "43023  2017-08-01 07:51:49             0              M100  1 AV/125 ST   \n",
       "43024  2017-08-01 07:51:49             0              M100  1 AV/125 ST   \n",
       "90460  2017-08-01 11:02:25             0              M100  1 AV/125 ST   \n",
       "124608 2017-08-01 13:42:23             0              M100  1 AV/125 ST   \n",
       "\n",
       "        OriginLat  OriginLong                       DestinationName  \\\n",
       "43022   40.801968  -73.931358  INWOOD 220 ST via AMSTERDAM via BWAY   \n",
       "43023   40.801968  -73.931358  INWOOD 220 ST via AMSTERDAM via BWAY   \n",
       "43024   40.801968  -73.931358  INWOOD 220 ST via AMSTERDAM via BWAY   \n",
       "90460   40.801968  -73.931358  INWOOD 220 ST via AMSTERDAM via BWAY   \n",
       "124608  40.801968  -73.931358  INWOOD 220 ST via AMSTERDAM via BWAY   \n",
       "\n",
       "        DestinationLat  DestinationLong VehicleRef  VehicleLocation.Latitude  \\\n",
       "43022        40.871902       -73.913101  NYCT_8368                 40.810861   \n",
       "43023        40.871902       -73.913101  NYCT_8368                 40.810861   \n",
       "43024        40.871902       -73.913101  NYCT_8368                 40.810861   \n",
       "90460        40.871902       -73.913101  NYCT_8384                 40.810907   \n",
       "124608       40.871902       -73.913101  NYCT_8391                 40.810881   \n",
       "\n",
       "        VehicleLocation.Longitude        NextStopPointName  \\\n",
       "43022                  -73.952819  W 125 ST/ST NICHOLAS AV   \n",
       "43023                  -73.952819  W 125 ST/ST NICHOLAS AV   \n",
       "43024                  -73.952819  W 125 ST/ST NICHOLAS AV   \n",
       "90460                  -73.952928  W 125 ST/ST NICHOLAS AV   \n",
       "124608                 -73.952865  W 125 ST/ST NICHOLAS AV   \n",
       "\n",
       "       ArrivalProximityText  DistanceFromStop ExpectedArrivalTime  \\\n",
       "43022               at stop              21.0 2017-08-01 07:52:03   \n",
       "43023               at stop              21.0 2017-08-01 07:52:03   \n",
       "43024               at stop              21.0 2017-08-01 07:52:03   \n",
       "90460               at stop              11.0 2017-08-01 11:02:42   \n",
       "124608              at stop              17.0 2017-08-01 13:43:07   \n",
       "\n",
       "       ScheduledArrivalTime time_diff_bus  time_diff_bus_mins  \n",
       "43022              07:49:06           NaT                   0  \n",
       "43023              07:50:48      00:00:00                   0  \n",
       "43024              07:51:39      00:00:00                   0  \n",
       "90460              11:04:39      03:10:39                 191  \n",
       "124608             13:35:20      02:40:25                 161  "
      ]
     },
     "execution_count": 16,
     "metadata": {},
     "output_type": "execute_result"
    }
   ],
   "source": [
    "df_nick_m100.head()"
   ]
  },
  {
   "cell_type": "markdown",
   "metadata": {},
   "source": [
    "Now we save our progress to a CSV file."
   ]
  },
  {
   "cell_type": "code",
   "execution_count": 17,
   "metadata": {
    "scrolled": false
   },
   "outputs": [],
   "source": [
    "df_nick_m100.to_csv('M100_Aug_W125_st.csv', encoding='utf-8', index=False)"
   ]
  },
  {
   "cell_type": "markdown",
   "metadata": {},
   "source": [
    "We then import the csv as a dataframe, because my (David Hadaller) laptop cannot handle importing 'mta_1708.csv', a 1.5 GB file, as Excel did in the cells above."
   ]
  },
  {
   "cell_type": "code",
   "execution_count": 18,
   "metadata": {},
   "outputs": [],
   "source": [
    "M100_NICK = pd.read_csv('M100_Aug_W125_st.csv')"
   ]
  },
  {
   "cell_type": "code",
   "execution_count": 19,
   "metadata": {
    "collapsed": true
   },
   "outputs": [],
   "source": [
    "def ecdf(inputSeries):\n",
    "    try:\n",
    "        x = np.sort(inputSeries)\n",
    "    except:\n",
    "        print(\"Warning: Series Unsorted\")\n",
    "        x = inputSeries\n",
    "    y = np.arange(1, len(x)+1) / len(x)\n",
    "    _ = plt.plot(x, y, marker='.', linestyle='none')\n",
    "    _ = plt.xlabel('Time Delta (minutes)')\n",
    "    _ = plt.ylabel('ECDF')\n",
    "    plt.margins(0.02) # Keeps data off plot edges\n",
    "    plt.show()\n",
    "    \n",
    "def hist(inputSeries):\n",
    "    plt.hist(inputSeries, bins=25, density=True)\n",
    "    _ = plt.xlabel('Time Delta (minutes)')\n",
    "    _ = plt.ylabel('PDF')\n",
    "    plt.show()"
   ]
  },
  {
   "cell_type": "markdown",
   "metadata": {},
   "source": [
    "The charts below represent the ecdf and pdf of the bus average \"time deltas\" or time intervals between the departure of of one bus and the arrival of the next, over the course of the month of August in 2017. Also included are some acompanying summary statistics. Notice that, apart from a single outlier, these measurements do form some sort of distribution. Parameter estimation by bootstrapping could help us validate some hypotheses. Once we have a proper theoretical distribution to model this data, we can then use montecarlo metods to simluate passenger experience. So, what we've done is to derive the actual cdf (the dark blue line in the chart on the background information section), which means generating the biased cdf (the light blue line in the same background section) remains."
   ]
  },
  {
   "cell_type": "code",
   "execution_count": 24,
   "metadata": {},
   "outputs": [
    {
     "data": {
      "text/html": [
       "<div>\n",
       "<style>\n",
       "    .dataframe thead tr:only-child th {\n",
       "        text-align: right;\n",
       "    }\n",
       "\n",
       "    .dataframe thead th {\n",
       "        text-align: left;\n",
       "    }\n",
       "\n",
       "    .dataframe tbody tr th {\n",
       "        vertical-align: top;\n",
       "    }\n",
       "</style>\n",
       "<table border=\"1\" class=\"dataframe\">\n",
       "  <thead>\n",
       "    <tr style=\"text-align: right;\">\n",
       "      <th></th>\n",
       "      <th>TimeDelta</th>\n",
       "    </tr>\n",
       "    <tr>\n",
       "      <th>Date</th>\n",
       "      <th></th>\n",
       "    </tr>\n",
       "  </thead>\n",
       "  <tbody>\n",
       "    <tr>\n",
       "      <th>2017-08-01</th>\n",
       "      <td>59.545455</td>\n",
       "    </tr>\n",
       "    <tr>\n",
       "      <th>2017-08-02</th>\n",
       "      <td>731.500000</td>\n",
       "    </tr>\n",
       "    <tr>\n",
       "      <th>2017-08-03</th>\n",
       "      <td>697.000000</td>\n",
       "    </tr>\n",
       "    <tr>\n",
       "      <th>2017-08-04</th>\n",
       "      <td>551.000000</td>\n",
       "    </tr>\n",
       "    <tr>\n",
       "      <th>2017-08-05</th>\n",
       "      <td>716.500000</td>\n",
       "    </tr>\n",
       "  </tbody>\n",
       "</table>\n",
       "</div>"
      ],
      "text/plain": [
       "             TimeDelta\n",
       "Date                  \n",
       "2017-08-01   59.545455\n",
       "2017-08-02  731.500000\n",
       "2017-08-03  697.000000\n",
       "2017-08-04  551.000000\n",
       "2017-08-05  716.500000"
      ]
     },
     "execution_count": 24,
     "metadata": {},
     "output_type": "execute_result"
    }
   ],
   "source": [
    "M100_NICK_Avg = M100_NICK[['RecordedAtTime','time_diff_bus_mins']]\n",
    "dates = M100_NICK_Avg['RecordedAtTime'].str.split(' ', 1, expand=True).drop([1],axis=1)\n",
    "M100_NICK_Avg = pd.concat([dates,M100_NICK_Avg['time_diff_bus_mins']],axis=1).rename(columns={0:'Date','time_diff_bus_mins':'TimeDelta'})\n",
    "M100_NICK_Avg = M100_NICK_Avg.groupby('Date').mean().dropna()\n",
    "M100_NICK_Avg.head()"
   ]
  },
  {
   "cell_type": "code",
   "execution_count": 25,
   "metadata": {},
   "outputs": [
    {
     "data": {
      "image/png": "[encoded data removed]",
      "text/plain": [
       "<matplotlib.figure.Figure at 0x2b93de72be0>"
      ]
     },
     "metadata": {},
     "output_type": "display_data"
    },
    {
     "data": {
      "image/png": "[encoded data removed]",
      "text/plain": [
       "<matplotlib.figure.Figure at 0x2b92ba11898>"
      ]
     },
     "metadata": {},
     "output_type": "display_data"
    },
    {
     "data": {
      "text/plain": [
       "count      27.000000\n",
       "mean      658.526010\n",
       "std       422.039410\n",
       "min        59.545455\n",
       "25%       384.500000\n",
       "50%       654.666667\n",
       "75%       744.000000\n",
       "max      2042.000000\n",
       "Name: TimeDelta, dtype: float64"
      ]
     },
     "execution_count": 25,
     "metadata": {},
     "output_type": "execute_result"
    }
   ],
   "source": [
    "ecdf(M100_NICK_Avg['TimeDelta'])\n",
    "hist(M100_NICK_Avg['TimeDelta'])\n",
    "M100_NICK_Avg['TimeDelta'].describe()"
   ]
  },
  {
   "cell_type": "markdown",
   "metadata": {},
   "source": [
    "Below, we have also begun to plot time delta behavior for an individual day. "
   ]
  },
  {
   "cell_type": "code",
   "execution_count": 27,
   "metadata": {},
   "outputs": [
    {
     "data": {
      "text/html": [
       "<div>\n",
       "<style>\n",
       "    .dataframe thead tr:only-child th {\n",
       "        text-align: right;\n",
       "    }\n",
       "\n",
       "    .dataframe thead th {\n",
       "        text-align: left;\n",
       "    }\n",
       "\n",
       "    .dataframe tbody tr th {\n",
       "        vertical-align: top;\n",
       "    }\n",
       "</style>\n",
       "<table border=\"1\" class=\"dataframe\">\n",
       "  <thead>\n",
       "    <tr style=\"text-align: right;\">\n",
       "      <th></th>\n",
       "      <th>RecordingTime</th>\n",
       "      <th>TimeDelta</th>\n",
       "    </tr>\n",
       "  </thead>\n",
       "  <tbody>\n",
       "    <tr>\n",
       "      <th>0</th>\n",
       "      <td>07:51:49</td>\n",
       "      <td>0</td>\n",
       "    </tr>\n",
       "    <tr>\n",
       "      <th>3</th>\n",
       "      <td>11:02:25</td>\n",
       "      <td>191</td>\n",
       "    </tr>\n",
       "    <tr>\n",
       "      <th>4</th>\n",
       "      <td>13:42:23</td>\n",
       "      <td>161</td>\n",
       "    </tr>\n",
       "    <tr>\n",
       "      <th>5</th>\n",
       "      <td>13:52:39</td>\n",
       "      <td>10</td>\n",
       "    </tr>\n",
       "    <tr>\n",
       "      <th>6</th>\n",
       "      <td>15:53:02</td>\n",
       "      <td>121</td>\n",
       "    </tr>\n",
       "    <tr>\n",
       "      <th>7</th>\n",
       "      <td>17:02:43</td>\n",
       "      <td>71</td>\n",
       "    </tr>\n",
       "    <tr>\n",
       "      <th>8</th>\n",
       "      <td>17:22:52</td>\n",
       "      <td>20</td>\n",
       "    </tr>\n",
       "    <tr>\n",
       "      <th>9</th>\n",
       "      <td>17:32:54</td>\n",
       "      <td>11</td>\n",
       "    </tr>\n",
       "    <tr>\n",
       "      <th>10</th>\n",
       "      <td>18:42:04</td>\n",
       "      <td>70</td>\n",
       "    </tr>\n",
       "  </tbody>\n",
       "</table>\n",
       "</div>"
      ],
      "text/plain": [
       "   RecordingTime  TimeDelta\n",
       "0       07:51:49          0\n",
       "3       11:02:25        191\n",
       "4       13:42:23        161\n",
       "5       13:52:39         10\n",
       "6       15:53:02        121\n",
       "7       17:02:43         71\n",
       "8       17:22:52         20\n",
       "9       17:32:54         11\n",
       "10      18:42:04         70"
      ]
     },
     "execution_count": 27,
     "metadata": {},
     "output_type": "execute_result"
    }
   ],
   "source": [
    "M100_NICK_day1 = M100_NICK[['RecordedAtTime','time_diff_bus_mins']]\n",
    "dates = M100_NICK_day1['RecordedAtTime'].str.split(' ', 1, expand=True)\n",
    "M100_NICK_day1 = pd.concat([dates,M100_NICK_day1['time_diff_bus_mins']],axis=1).rename(columns={0:'Date',1:'RecordingTime','time_diff_bus_mins':'TimeDelta'})\n",
    "M100_NICK_day1 = M100_NICK_day1[M100_NICK_day1['Date']=='2017-08-01']\n",
    "M100_NICK_day1 = M100_NICK_day1.drop_duplicates().drop(['Date'],axis=1).groupby('RecordingTime')\n",
    "M100_NICK_day1.head()"
   ]
  },
  {
   "cell_type": "code",
   "execution_count": null,
   "metadata": {
    "collapsed": true
   },
   "outputs": [],
   "source": [
    "#Visualizing the Time Delta for one day's trips\n",
    "#day1Times = M100_NICK_day1['TimeDelta']\n",
    "#day1Times.head()\n",
    "#ecdf(day1Times)\n",
    "#hist(day1Times)\n",
    "#day1Times.describe()"
   ]
  },
  {
   "cell_type": "code",
   "execution_count": null,
   "metadata": {
    "collapsed": true
   },
   "outputs": [],
   "source": []
  }
 ],
 "metadata": {
  "kernelspec": {
   "display_name": "Python 3",
   "language": "python",
   "name": "python3"
  },
  "language_info": {
   "codemirror_mode": {
    "name": "ipython",
    "version": 3
   },
   "file_extension": ".py",
   "mimetype": "text/x-python",
   "name": "python",
   "nbconvert_exporter": "python",
   "pygments_lexer": "ipython3",
   "version": "3.6.3"
  }
 },
 "nbformat": 4,
 "nbformat_minor": 2
}
