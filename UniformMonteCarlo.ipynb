{
 "cells": [
  {
   "cell_type": "code",
   "execution_count": 1,
   "metadata": {},
   "outputs": [],
   "source": [
    "import pandas as pd\n",
    "import matplotlib.dates\n",
    "import matplotlib.pyplot as plt\n",
    "import numpy as np\n",
    "import datetime, math\n",
    "\n",
    "# from IPython.core.interactiveshell import InteractiveShell\n",
    "# InteractiveShell.ast_node_interactivity = \"all\""
   ]
  },
  {
   "cell_type": "markdown",
   "metadata": {},
   "source": [
    "We then import the csv as a dataframe, because my (David Hadaller) laptop cannot handle importing 'mta_1708.csv', a 1.5 GB file, as Excel did in the cells above."
   ]
  },
  {
   "cell_type": "code",
   "execution_count": 2,
   "metadata": {
    "scrolled": true
   },
   "outputs": [
    {
     "data": {
      "text/plain": [
       "Index(['RecordedAtTime', 'DirectionRef', 'PublishedLineName', 'OriginName',\n",
       "       'OriginLat', 'OriginLong', 'DestinationName', 'DestinationLat',\n",
       "       'DestinationLong', 'VehicleRef', 'VehicleLocation.Latitude',\n",
       "       'VehicleLocation.Longitude', 'NextStopPointName',\n",
       "       'ArrivalProximityText', 'DistanceFromStop', 'ExpectedArrivalTime',\n",
       "       'ScheduledArrivalTime', 'time_delta', 'time_delta_mins', 'time_diff',\n",
       "       'time_diff_mins'],\n",
       "      dtype='object')"
      ]
     },
     "execution_count": 2,
     "metadata": {},
     "output_type": "execute_result"
    }
   ],
   "source": [
    "M100_NICK = pd.read_csv('M100_month_W125_st.csv')\n",
    "M100_NICK.columns"
   ]
  },
  {
   "cell_type": "code",
   "execution_count": 3,
   "metadata": {},
   "outputs": [],
   "source": [
    "def ecdf(inputSeries,labelx,labely):\n",
    "    try:\n",
    "        x = np.sort(inputSeries)\n",
    "    except:\n",
    "        print(\"Warning: Series Unsorted\")\n",
    "        x = inputSeries\n",
    "    y = np.arange(1, len(x)+1) / len(x)\n",
    "    _ = plt.plot(x, y, marker='.', linestyle='none')\n",
    "    _ = plt.xlabel(labelx)\n",
    "    _ = plt.ylabel(labely)\n",
    "    plt.margins(0.02) # Keeps data off plot edges\n",
    "    plt.show()\n",
    "    \n",
    "def hist(inputSeries,labelx,labely):\n",
    "    plt.hist(inputSeries, bins=25, density=True)\n",
    "    _ = plt.xlabel(labelx)\n",
    "    _ = plt.ylabel(labely)\n",
    "    plt.show()"
   ]
  },
  {
   "cell_type": "markdown",
   "metadata": {},
   "source": [
    "The charts below represent the ecdf and pdf of the bus average \"time deltas\" or time intervals between the departure of of one bus and the arrival of the next, over the course of the month of August in 2017. Also included are some acompanying summary statistics. Notice that, apart from a single outlier, these measurements do form some sort of distribution. Parameter estimation by bootstrapping could help us validate some hypotheses. Once we have a proper theoretical distribution to model this data, we can then use montecarlo metods to simluate passenger experience. So, what we've done is to derive the actual cdf (the dark blue line in the chart on the background information section), which means generating the biased cdf (the light blue line in the same background section) remains."
   ]
  },
  {
   "cell_type": "code",
   "execution_count": 4,
   "metadata": {},
   "outputs": [
    {
     "data": {
      "text/html": [
       "<div>\n",
       "<style scoped>\n",
       "    .dataframe tbody tr th:only-of-type {\n",
       "        vertical-align: middle;\n",
       "    }\n",
       "\n",
       "    .dataframe tbody tr th {\n",
       "        vertical-align: top;\n",
       "    }\n",
       "\n",
       "    .dataframe thead th {\n",
       "        text-align: right;\n",
       "    }\n",
       "</style>\n",
       "<table border=\"1\" class=\"dataframe\">\n",
       "  <thead>\n",
       "    <tr style=\"text-align: right;\">\n",
       "      <th></th>\n",
       "      <th>TimeDelta</th>\n",
       "    </tr>\n",
       "    <tr>\n",
       "      <th>Date</th>\n",
       "      <th></th>\n",
       "    </tr>\n",
       "  </thead>\n",
       "  <tbody>\n",
       "    <tr>\n",
       "      <th>2017-08-01</th>\n",
       "      <td>59.545455</td>\n",
       "    </tr>\n",
       "    <tr>\n",
       "      <th>2017-08-02</th>\n",
       "      <td>487.666667</td>\n",
       "    </tr>\n",
       "    <tr>\n",
       "      <th>2017-08-03</th>\n",
       "      <td>155.500000</td>\n",
       "    </tr>\n",
       "    <tr>\n",
       "      <th>2017-08-04</th>\n",
       "      <td>62.750000</td>\n",
       "    </tr>\n",
       "    <tr>\n",
       "      <th>2017-08-05</th>\n",
       "      <td>716.500000</td>\n",
       "    </tr>\n",
       "  </tbody>\n",
       "</table>\n",
       "</div>"
      ],
      "text/plain": [
       "             TimeDelta\n",
       "Date                  \n",
       "2017-08-01   59.545455\n",
       "2017-08-02  487.666667\n",
       "2017-08-03  155.500000\n",
       "2017-08-04   62.750000\n",
       "2017-08-05  716.500000"
      ]
     },
     "execution_count": 4,
     "metadata": {},
     "output_type": "execute_result"
    }
   ],
   "source": [
    "M100_NICK_Avg = M100_NICK[['RecordedAtTime','time_delta_mins']]\n",
    "dates = M100_NICK_Avg['RecordedAtTime'].str.split(' ', 1, expand=True).drop([1],axis=1)\n",
    "M100_NICK_Avg = pd.concat([dates,M100_NICK_Avg['time_delta_mins']],axis=1).rename(columns={0:'Date','time_delta_mins':'TimeDelta'})\n",
    "M100_NICK_Avg = M100_NICK_Avg.groupby('Date').mean().dropna()\n",
    "M100_NICK_Avg.head()"
   ]
  },
  {
   "cell_type": "code",
   "execution_count": 5,
   "metadata": {},
   "outputs": [
    {
     "data": {
      "image/png": "[encoded data removed]",
      "text/plain": [
       "<Figure size 432x288 with 1 Axes>"
      ]
     },
     "metadata": {
      "needs_background": "light"
     },
     "output_type": "display_data"
    },
    {
     "data": {
      "image/png": "[encoded data removed]",
      "text/plain": [
       "<Figure size 432x288 with 1 Axes>"
      ]
     },
     "metadata": {
      "needs_background": "light"
     },
     "output_type": "display_data"
    },
    {
     "data": {
      "text/plain": [
       "count      28.000000\n",
       "mean      312.904996\n",
       "std       380.947705\n",
       "min         0.000000\n",
       "25%       119.500000\n",
       "50%       245.522222\n",
       "75%       375.250000\n",
       "max      2042.000000\n",
       "Name: TimeDelta, dtype: float64"
      ]
     },
     "execution_count": 5,
     "metadata": {},
     "output_type": "execute_result"
    }
   ],
   "source": [
    "ecdf(M100_NICK_Avg['TimeDelta'],'Average Daily Time Delta for August 2017 (minutes)','ECDF')\n",
    "hist(M100_NICK_Avg['TimeDelta'],'Average Daily Time Delta for August 2017 (minutes)','PDF')\n",
    "M100_NICK_Avg['TimeDelta'].describe()"
   ]
  },
  {
   "cell_type": "markdown",
   "metadata": {},
   "source": [
    "Below, we have also begun to plot time delta behavior for an individual day. "
   ]
  },
  {
   "cell_type": "markdown",
   "metadata": {},
   "source": [
    "* * *"
   ]
  },
  {
   "cell_type": "markdown",
   "metadata": {},
   "source": [
    "What are my goals here? Ultimately, I want to have two plots\n",
    "1. bus crowding (number of passengers per bus) against passenger arrival time for the month of August. \n",
    "2. A biased version of the ecdf at the end of `EDA-M100-A.ipynb`. Essentially, a plot of the The cumulative probability of the average daily bus crowding for each day in August.\n",
    "\n",
    "\n",
    "**note to self:** what should I do about the very first bus ride for each day? It has no time delta because it has no bus precedes it. So how am I to measure crowding? "
   ]
  },
  {
   "cell_type": "markdown",
   "metadata": {},
   "source": [
    "Before we begin the simulation, we need to establish what will become the arguments to `numpy.random.uniform(low=0.0, high=1.0, size=None)`. Below, we find the `low` and `high` parameters. That is, we find the first and last bus arrival times for each day."
   ]
  },
  {
   "cell_type": "code",
   "execution_count": 6,
   "metadata": {},
   "outputs": [
    {
     "data": {
      "text/html": [
       "<div>\n",
       "<style scoped>\n",
       "    .dataframe tbody tr th:only-of-type {\n",
       "        vertical-align: middle;\n",
       "    }\n",
       "\n",
       "    .dataframe tbody tr th {\n",
       "        vertical-align: top;\n",
       "    }\n",
       "\n",
       "    .dataframe thead th {\n",
       "        text-align: right;\n",
       "    }\n",
       "</style>\n",
       "<table border=\"1\" class=\"dataframe\">\n",
       "  <thead>\n",
       "    <tr style=\"text-align: right;\">\n",
       "      <th></th>\n",
       "      <th>Date</th>\n",
       "      <th>EarliestBusArrival</th>\n",
       "      <th>LatestBusArrival</th>\n",
       "    </tr>\n",
       "  </thead>\n",
       "  <tbody>\n",
       "    <tr>\n",
       "      <th>0</th>\n",
       "      <td>2017-08-01</td>\n",
       "      <td>2017-08-01 07:51:49</td>\n",
       "      <td>2017-08-01 18:42:04</td>\n",
       "    </tr>\n",
       "    <tr>\n",
       "      <th>1</th>\n",
       "      <td>2017-08-02</td>\n",
       "      <td>2017-08-02 15:54:31</td>\n",
       "      <td>2017-08-02 19:14:42</td>\n",
       "    </tr>\n",
       "    <tr>\n",
       "      <th>2</th>\n",
       "      <td>2017-08-03</td>\n",
       "      <td>2017-08-03 13:06:46</td>\n",
       "      <td>2017-08-03 18:17:14</td>\n",
       "    </tr>\n",
       "    <tr>\n",
       "      <th>3</th>\n",
       "      <td>2017-08-04</td>\n",
       "      <td>2017-08-04 11:28:26</td>\n",
       "      <td>2017-08-04 21:48:55</td>\n",
       "    </tr>\n",
       "    <tr>\n",
       "      <th>4</th>\n",
       "      <td>2017-08-05</td>\n",
       "      <td>2017-08-05 15:10:31</td>\n",
       "      <td>2017-08-05 21:40:50</td>\n",
       "    </tr>\n",
       "  </tbody>\n",
       "</table>\n",
       "</div>"
      ],
      "text/plain": [
       "        Date  EarliestBusArrival    LatestBusArrival\n",
       "0 2017-08-01 2017-08-01 07:51:49 2017-08-01 18:42:04\n",
       "1 2017-08-02 2017-08-02 15:54:31 2017-08-02 19:14:42\n",
       "2 2017-08-03 2017-08-03 13:06:46 2017-08-03 18:17:14\n",
       "3 2017-08-04 2017-08-04 11:28:26 2017-08-04 21:48:55\n",
       "4 2017-08-05 2017-08-05 15:10:31 2017-08-05 21:40:50"
      ]
     },
     "execution_count": 6,
     "metadata": {},
     "output_type": "execute_result"
    }
   ],
   "source": [
    "DailyBusMinMax= M100_NICK.loc[:,['RecordedAtTime']]\n",
    "splitCol = DailyBusMinMax['RecordedAtTime'].str.split(' ', 1, expand=True).rename(columns={0:'Date', 1:'Time'}) \n",
    "DailyBusMinMax['Date']= splitCol['Date'] \n",
    "\n",
    "DailyBusMinMax = DailyBusMinMax.drop_duplicates()\n",
    "\n",
    "DailyBusMax = DailyBusMinMax.groupby('Date').max()\n",
    "DailyBusMin = DailyBusMinMax.groupby('Date').min()\n",
    "\n",
    "DailyBusMinMax = pd.merge(left=DailyBusMin, right=DailyBusMax, how='inner',on='Date', suffixes=('Min', 'Max'))\n",
    "DailyBusMinMax = DailyBusMinMax.rename(columns={'RecordedAtTimeMin':'EarliestBusArrival', 'RecordedAtTimeMax':'LatestBusArrival'})\n",
    "\n",
    "DailyBusMinMax.reset_index(level=0, inplace=True)\n",
    "DailyBusMinMax['Date'] = pd.to_datetime(DailyBusMinMax['Date'],format='%Y-%m-%d')\n",
    "DailyBusMinMax['EarliestBusArrival'] = pd.to_datetime(DailyBusMinMax['EarliestBusArrival'], format='%Y-%m-%d %H:%M:%S')\n",
    "DailyBusMinMax['LatestBusArrival'] = pd.to_datetime(DailyBusMinMax['LatestBusArrival'], format='%Y-%m-%d %H:%M:%S')\n",
    "\n",
    "DailyBusMinMax.head()"
   ]
  },
  {
   "cell_type": "markdown",
   "metadata": {},
   "source": [
    "In the cell below, we take the bus arrival times (when the bus pulls into the stop), the dates associated with each bus arrival time (to help with subsequent merges) and the timedeltas (which we may plot later on) from the original `M100_NICK` data"
   ]
  },
  {
   "cell_type": "code",
   "execution_count": 7,
   "metadata": {},
   "outputs": [
    {
     "data": {
      "text/html": [
       "<div>\n",
       "<style scoped>\n",
       "    .dataframe tbody tr th:only-of-type {\n",
       "        vertical-align: middle;\n",
       "    }\n",
       "\n",
       "    .dataframe tbody tr th {\n",
       "        vertical-align: top;\n",
       "    }\n",
       "\n",
       "    .dataframe thead th {\n",
       "        text-align: right;\n",
       "    }\n",
       "</style>\n",
       "<table border=\"1\" class=\"dataframe\">\n",
       "  <thead>\n",
       "    <tr style=\"text-align: right;\">\n",
       "      <th></th>\n",
       "      <th>Date</th>\n",
       "      <th>BusArrivalTime</th>\n",
       "      <th>time_delta_mins</th>\n",
       "    </tr>\n",
       "  </thead>\n",
       "  <tbody>\n",
       "    <tr>\n",
       "      <th>0</th>\n",
       "      <td>2017-08-01</td>\n",
       "      <td>2017-08-01 07:51:49</td>\n",
       "      <td>0</td>\n",
       "    </tr>\n",
       "    <tr>\n",
       "      <th>3</th>\n",
       "      <td>2017-08-01</td>\n",
       "      <td>2017-08-01 11:02:25</td>\n",
       "      <td>191</td>\n",
       "    </tr>\n",
       "    <tr>\n",
       "      <th>4</th>\n",
       "      <td>2017-08-01</td>\n",
       "      <td>2017-08-01 13:42:23</td>\n",
       "      <td>161</td>\n",
       "    </tr>\n",
       "    <tr>\n",
       "      <th>5</th>\n",
       "      <td>2017-08-01</td>\n",
       "      <td>2017-08-01 13:52:39</td>\n",
       "      <td>10</td>\n",
       "    </tr>\n",
       "    <tr>\n",
       "      <th>6</th>\n",
       "      <td>2017-08-01</td>\n",
       "      <td>2017-08-01 15:53:02</td>\n",
       "      <td>121</td>\n",
       "    </tr>\n",
       "  </tbody>\n",
       "</table>\n",
       "</div>"
      ],
      "text/plain": [
       "        Date      BusArrivalTime  time_delta_mins\n",
       "0 2017-08-01 2017-08-01 07:51:49                0\n",
       "3 2017-08-01 2017-08-01 11:02:25              191\n",
       "4 2017-08-01 2017-08-01 13:42:23              161\n",
       "5 2017-08-01 2017-08-01 13:52:39               10\n",
       "6 2017-08-01 2017-08-01 15:53:02              121"
      ]
     },
     "execution_count": 7,
     "metadata": {},
     "output_type": "execute_result"
    }
   ],
   "source": [
    "BusArrivals = M100_NICK.loc[:,['RecordedAtTime','time_delta_mins']]\n",
    "dates = M100_NICK['RecordedAtTime'].str.split(' ', 1, expand=True).rename(columns={0:'Date'})\n",
    "BusArrivals.insert(loc=0, column='Date', value=dates['Date'])\n",
    "\n",
    "BusArrivals = BusArrivals.rename(columns={'RecordedAtTime':'BusArrivalTime'})\n",
    "\n",
    "# Change Column DataTypes from String (object) to DateTime\n",
    "BusArrivals['BusArrivalTime'] = pd.to_datetime(BusArrivals['BusArrivalTime'], format='%Y-%m-%d %H:%M:%S')\n",
    "BusArrivals['Date'] = pd.to_datetime(BusArrivals['Date'], format='%Y-%m-%d %H:%M:%S')\n",
    "BusArrivals = BusArrivals.drop_duplicates()\n",
    "\n",
    "BusArrivals.head()"
   ]
  },
  {
   "cell_type": "markdown",
   "metadata": {},
   "source": [
    "Next, we define a simulation function which gets the `low` and `high` bounds of the uniform distribution from the DailyBusMinMax dataframe and then takes `NumPassengers` for population size of passengers to simulate. \n",
    "\n",
    "This simulation function creates a \"pivot table\" with the Date as pseudo-index and an artificial passengerId for column headers. For each date, the table contains each passenger in NumPassengers simulated bus arrival time (the time at which each passenger approaches the bus stop with the hopes of boarding a bus.)\n",
    "\n",
    "Of course, the table that results isn't a true pivot table, because the Date column is just another column, rather than a pandas index. Keeping the Date as a column allows us to reference it as a column later on, which will come in handy when we need to return a series of dates."
   ]
  },
  {
   "cell_type": "code",
   "execution_count": 8,
   "metadata": {},
   "outputs": [],
   "source": [
    "def passengerSim(DailyBusMinMax, NumPassengers):\n",
    "    \n",
    "    #time between the first and last bus arrivals\n",
    "    dailyDelta = DailyBusMinMax['LatestBusArrival'] - DailyBusMinMax['EarliestBusArrival']\n",
    "    \n",
    "    # the first bus arrival\n",
    "    dailyMin = DailyBusMinMax['EarliestBusArrival']\n",
    "    \n",
    "    #number of dates to simulate for\n",
    "    NumDates = len(DailyBusMinMax.Date)\n",
    "    \n",
    "    #this vectorized calculation follows the formula dailyDelta * randomVar + firstBusArrival to choose a random time\n",
    "        # between the EarliestBusArrival and the LatestBusArrival.\n",
    "        # this is done for every date and for each passenger in NumPassengers\n",
    "    pSim = pd.DataFrame(np.random.uniform(0,1,(NumDates,NumPassengers)))\n",
    "    pSim = pSim.mul(dailyDelta,axis=0)\n",
    "    pSim = pSim.add(dailyMin,axis=0)\n",
    "    \n",
    "    # add a dates column to front of dataframe  \n",
    "    pSim.insert(loc=0, column='Date', value=DailyBusMinMax['Date'])\n",
    "    \n",
    "    return pSim"
   ]
  },
  {
   "cell_type": "code",
   "execution_count": 16,
   "metadata": {},
   "outputs": [
    {
     "data": {
      "text/html": [
       "<div>\n",
       "<style scoped>\n",
       "    .dataframe tbody tr th:only-of-type {\n",
       "        vertical-align: middle;\n",
       "    }\n",
       "\n",
       "    .dataframe tbody tr th {\n",
       "        vertical-align: top;\n",
       "    }\n",
       "\n",
       "    .dataframe thead th {\n",
       "        text-align: right;\n",
       "    }\n",
       "</style>\n",
       "<table border=\"1\" class=\"dataframe\">\n",
       "  <thead>\n",
       "    <tr style=\"text-align: right;\">\n",
       "      <th></th>\n",
       "      <th>Date</th>\n",
       "      <th>0</th>\n",
       "      <th>1</th>\n",
       "      <th>2</th>\n",
       "      <th>3</th>\n",
       "      <th>4</th>\n",
       "      <th>5</th>\n",
       "      <th>6</th>\n",
       "      <th>7</th>\n",
       "      <th>8</th>\n",
       "      <th>...</th>\n",
       "      <th>990</th>\n",
       "      <th>991</th>\n",
       "      <th>992</th>\n",
       "      <th>993</th>\n",
       "      <th>994</th>\n",
       "      <th>995</th>\n",
       "      <th>996</th>\n",
       "      <th>997</th>\n",
       "      <th>998</th>\n",
       "      <th>999</th>\n",
       "    </tr>\n",
       "  </thead>\n",
       "  <tbody>\n",
       "    <tr>\n",
       "      <th>0</th>\n",
       "      <td>2017-08-01</td>\n",
       "      <td>2017-08-01 14:58:30.962560979</td>\n",
       "      <td>2017-08-01 12:28:59.222934784</td>\n",
       "      <td>2017-08-01 17:49:35.518881902</td>\n",
       "      <td>2017-08-01 08:37:11.438974009</td>\n",
       "      <td>2017-08-01 08:42:00.795142162</td>\n",
       "      <td>2017-08-01 07:55:13.733792059</td>\n",
       "      <td>2017-08-01 13:12:05.445121825</td>\n",
       "      <td>2017-08-01 12:43:57.395044691</td>\n",
       "      <td>2017-08-01 13:11:00.676424257</td>\n",
       "      <td>...</td>\n",
       "      <td>2017-08-01 18:15:24.636667439</td>\n",
       "      <td>2017-08-01 16:19:07.352396958</td>\n",
       "      <td>2017-08-01 18:19:56.424429435</td>\n",
       "      <td>2017-08-01 12:50:13.267366644</td>\n",
       "      <td>2017-08-01 09:33:13.071630876</td>\n",
       "      <td>2017-08-01 08:06:16.059527159</td>\n",
       "      <td>2017-08-01 18:04:19.486241378</td>\n",
       "      <td>2017-08-01 15:38:16.903280625</td>\n",
       "      <td>2017-08-01 14:39:50.013121752</td>\n",
       "      <td>2017-08-01 11:05:51.864103207</td>\n",
       "    </tr>\n",
       "    <tr>\n",
       "      <th>1</th>\n",
       "      <td>2017-08-02</td>\n",
       "      <td>2017-08-02 18:59:50.331549384</td>\n",
       "      <td>2017-08-02 19:03:51.530744734</td>\n",
       "      <td>2017-08-02 18:21:18.806340529</td>\n",
       "      <td>2017-08-02 17:22:18.987310266</td>\n",
       "      <td>2017-08-02 19:04:57.899572034</td>\n",
       "      <td>2017-08-02 18:11:06.029193441</td>\n",
       "      <td>2017-08-02 19:05:30.163949976</td>\n",
       "      <td>2017-08-02 15:56:09.561140503</td>\n",
       "      <td>2017-08-02 17:14:28.914202896</td>\n",
       "      <td>...</td>\n",
       "      <td>2017-08-02 17:49:34.095730022</td>\n",
       "      <td>2017-08-02 18:40:44.790037289</td>\n",
       "      <td>2017-08-02 16:17:31.153468836</td>\n",
       "      <td>2017-08-02 18:58:22.620178921</td>\n",
       "      <td>2017-08-02 18:00:37.280138082</td>\n",
       "      <td>2017-08-02 16:18:45.988536925</td>\n",
       "      <td>2017-08-02 17:35:22.458659309</td>\n",
       "      <td>2017-08-02 18:13:40.637746641</td>\n",
       "      <td>2017-08-02 15:58:55.174814876</td>\n",
       "      <td>2017-08-02 16:58:58.639110599</td>\n",
       "    </tr>\n",
       "    <tr>\n",
       "      <th>2</th>\n",
       "      <td>2017-08-03</td>\n",
       "      <td>2017-08-03 18:00:13.030232064</td>\n",
       "      <td>2017-08-03 13:21:57.322475785</td>\n",
       "      <td>2017-08-03 14:18:54.514986343</td>\n",
       "      <td>2017-08-03 14:33:39.452274853</td>\n",
       "      <td>2017-08-03 16:26:44.431719245</td>\n",
       "      <td>2017-08-03 16:56:50.510550070</td>\n",
       "      <td>2017-08-03 14:53:25.864323503</td>\n",
       "      <td>2017-08-03 17:39:44.432162632</td>\n",
       "      <td>2017-08-03 16:11:32.069630261</td>\n",
       "      <td>...</td>\n",
       "      <td>2017-08-03 14:01:54.917312962</td>\n",
       "      <td>2017-08-03 14:09:31.980654797</td>\n",
       "      <td>2017-08-03 17:44:05.991754076</td>\n",
       "      <td>2017-08-03 13:08:28.582797071</td>\n",
       "      <td>2017-08-03 14:21:50.652134617</td>\n",
       "      <td>2017-08-03 13:27:01.414058866</td>\n",
       "      <td>2017-08-03 16:55:30.016363785</td>\n",
       "      <td>2017-08-03 14:52:18.034223178</td>\n",
       "      <td>2017-08-03 16:37:25.119366545</td>\n",
       "      <td>2017-08-03 17:26:04.286118954</td>\n",
       "    </tr>\n",
       "    <tr>\n",
       "      <th>3</th>\n",
       "      <td>2017-08-04</td>\n",
       "      <td>2017-08-04 15:55:54.303516126</td>\n",
       "      <td>2017-08-04 17:36:26.024335894</td>\n",
       "      <td>2017-08-04 15:21:22.453538779</td>\n",
       "      <td>2017-08-04 15:03:46.144363339</td>\n",
       "      <td>2017-08-04 13:50:18.425903958</td>\n",
       "      <td>2017-08-04 17:07:10.813490160</td>\n",
       "      <td>2017-08-04 21:32:31.611906635</td>\n",
       "      <td>2017-08-04 13:18:32.762883274</td>\n",
       "      <td>2017-08-04 13:10:29.938721978</td>\n",
       "      <td>...</td>\n",
       "      <td>2017-08-04 21:00:13.589041092</td>\n",
       "      <td>2017-08-04 17:55:11.306591294</td>\n",
       "      <td>2017-08-04 14:07:27.626246316</td>\n",
       "      <td>2017-08-04 14:35:57.216241049</td>\n",
       "      <td>2017-08-04 21:31:22.368043933</td>\n",
       "      <td>2017-08-04 19:22:19.733529552</td>\n",
       "      <td>2017-08-04 21:34:37.184518534</td>\n",
       "      <td>2017-08-04 19:05:24.581463191</td>\n",
       "      <td>2017-08-04 21:22:31.380031790</td>\n",
       "      <td>2017-08-04 13:47:29.736262873</td>\n",
       "    </tr>\n",
       "    <tr>\n",
       "      <th>4</th>\n",
       "      <td>2017-08-05</td>\n",
       "      <td>2017-08-05 15:57:01.853284683</td>\n",
       "      <td>2017-08-05 20:02:44.011482512</td>\n",
       "      <td>2017-08-05 18:39:55.706341426</td>\n",
       "      <td>2017-08-05 17:33:54.598224102</td>\n",
       "      <td>2017-08-05 19:59:20.370992147</td>\n",
       "      <td>2017-08-05 16:14:40.974734108</td>\n",
       "      <td>2017-08-05 16:19:50.683422831</td>\n",
       "      <td>2017-08-05 19:18:55.850989800</td>\n",
       "      <td>2017-08-05 17:21:39.470637486</td>\n",
       "      <td>...</td>\n",
       "      <td>2017-08-05 16:30:12.132450937</td>\n",
       "      <td>2017-08-05 16:01:03.220956911</td>\n",
       "      <td>2017-08-05 17:17:42.012686554</td>\n",
       "      <td>2017-08-05 18:41:37.295908197</td>\n",
       "      <td>2017-08-05 16:50:08.185159718</td>\n",
       "      <td>2017-08-05 16:08:27.689298165</td>\n",
       "      <td>2017-08-05 18:05:19.524765979</td>\n",
       "      <td>2017-08-05 19:11:47.305885265</td>\n",
       "      <td>2017-08-05 17:44:32.791760653</td>\n",
       "      <td>2017-08-05 18:24:33.520258314</td>\n",
       "    </tr>\n",
       "  </tbody>\n",
       "</table>\n",
       "<p>5 rows × 1001 columns</p>\n",
       "</div>"
      ],
      "text/plain": [
       "        Date                             0                             1  \\\n",
       "0 2017-08-01 2017-08-01 14:58:30.962560979 2017-08-01 12:28:59.222934784   \n",
       "1 2017-08-02 2017-08-02 18:59:50.331549384 2017-08-02 19:03:51.530744734   \n",
       "2 2017-08-03 2017-08-03 18:00:13.030232064 2017-08-03 13:21:57.322475785   \n",
       "3 2017-08-04 2017-08-04 15:55:54.303516126 2017-08-04 17:36:26.024335894   \n",
       "4 2017-08-05 2017-08-05 15:57:01.853284683 2017-08-05 20:02:44.011482512   \n",
       "\n",
       "                              2                             3  \\\n",
       "0 2017-08-01 17:49:35.518881902 2017-08-01 08:37:11.438974009   \n",
       "1 2017-08-02 18:21:18.806340529 2017-08-02 17:22:18.987310266   \n",
       "2 2017-08-03 14:18:54.514986343 2017-08-03 14:33:39.452274853   \n",
       "3 2017-08-04 15:21:22.453538779 2017-08-04 15:03:46.144363339   \n",
       "4 2017-08-05 18:39:55.706341426 2017-08-05 17:33:54.598224102   \n",
       "\n",
       "                              4                             5  \\\n",
       "0 2017-08-01 08:42:00.795142162 2017-08-01 07:55:13.733792059   \n",
       "1 2017-08-02 19:04:57.899572034 2017-08-02 18:11:06.029193441   \n",
       "2 2017-08-03 16:26:44.431719245 2017-08-03 16:56:50.510550070   \n",
       "3 2017-08-04 13:50:18.425903958 2017-08-04 17:07:10.813490160   \n",
       "4 2017-08-05 19:59:20.370992147 2017-08-05 16:14:40.974734108   \n",
       "\n",
       "                              6                             7  \\\n",
       "0 2017-08-01 13:12:05.445121825 2017-08-01 12:43:57.395044691   \n",
       "1 2017-08-02 19:05:30.163949976 2017-08-02 15:56:09.561140503   \n",
       "2 2017-08-03 14:53:25.864323503 2017-08-03 17:39:44.432162632   \n",
       "3 2017-08-04 21:32:31.611906635 2017-08-04 13:18:32.762883274   \n",
       "4 2017-08-05 16:19:50.683422831 2017-08-05 19:18:55.850989800   \n",
       "\n",
       "                              8              ...               \\\n",
       "0 2017-08-01 13:11:00.676424257              ...                \n",
       "1 2017-08-02 17:14:28.914202896              ...                \n",
       "2 2017-08-03 16:11:32.069630261              ...                \n",
       "3 2017-08-04 13:10:29.938721978              ...                \n",
       "4 2017-08-05 17:21:39.470637486              ...                \n",
       "\n",
       "                            990                           991  \\\n",
       "0 2017-08-01 18:15:24.636667439 2017-08-01 16:19:07.352396958   \n",
       "1 2017-08-02 17:49:34.095730022 2017-08-02 18:40:44.790037289   \n",
       "2 2017-08-03 14:01:54.917312962 2017-08-03 14:09:31.980654797   \n",
       "3 2017-08-04 21:00:13.589041092 2017-08-04 17:55:11.306591294   \n",
       "4 2017-08-05 16:30:12.132450937 2017-08-05 16:01:03.220956911   \n",
       "\n",
       "                            992                           993  \\\n",
       "0 2017-08-01 18:19:56.424429435 2017-08-01 12:50:13.267366644   \n",
       "1 2017-08-02 16:17:31.153468836 2017-08-02 18:58:22.620178921   \n",
       "2 2017-08-03 17:44:05.991754076 2017-08-03 13:08:28.582797071   \n",
       "3 2017-08-04 14:07:27.626246316 2017-08-04 14:35:57.216241049   \n",
       "4 2017-08-05 17:17:42.012686554 2017-08-05 18:41:37.295908197   \n",
       "\n",
       "                            994                           995  \\\n",
       "0 2017-08-01 09:33:13.071630876 2017-08-01 08:06:16.059527159   \n",
       "1 2017-08-02 18:00:37.280138082 2017-08-02 16:18:45.988536925   \n",
       "2 2017-08-03 14:21:50.652134617 2017-08-03 13:27:01.414058866   \n",
       "3 2017-08-04 21:31:22.368043933 2017-08-04 19:22:19.733529552   \n",
       "4 2017-08-05 16:50:08.185159718 2017-08-05 16:08:27.689298165   \n",
       "\n",
       "                            996                           997  \\\n",
       "0 2017-08-01 18:04:19.486241378 2017-08-01 15:38:16.903280625   \n",
       "1 2017-08-02 17:35:22.458659309 2017-08-02 18:13:40.637746641   \n",
       "2 2017-08-03 16:55:30.016363785 2017-08-03 14:52:18.034223178   \n",
       "3 2017-08-04 21:34:37.184518534 2017-08-04 19:05:24.581463191   \n",
       "4 2017-08-05 18:05:19.524765979 2017-08-05 19:11:47.305885265   \n",
       "\n",
       "                            998                           999  \n",
       "0 2017-08-01 14:39:50.013121752 2017-08-01 11:05:51.864103207  \n",
       "1 2017-08-02 15:58:55.174814876 2017-08-02 16:58:58.639110599  \n",
       "2 2017-08-03 16:37:25.119366545 2017-08-03 17:26:04.286118954  \n",
       "3 2017-08-04 21:22:31.380031790 2017-08-04 13:47:29.736262873  \n",
       "4 2017-08-05 17:44:32.791760653 2017-08-05 18:24:33.520258314  \n",
       "\n",
       "[5 rows x 1001 columns]"
      ]
     },
     "execution_count": 16,
     "metadata": {},
     "output_type": "execute_result"
    }
   ],
   "source": [
    "sim = passengerSim(DailyBusMinMax,1000)\n",
    "sim.head()"
   ]
  },
  {
   "cell_type": "markdown",
   "metadata": {},
   "source": [
    "Here, we reorganize the results of the passenger simulation to get a table that has one single `passengerId` column, instead of one column for each passenger. This is will allow us to perform a merge in the following step."
   ]
  },
  {
   "cell_type": "code",
   "execution_count": 10,
   "metadata": {},
   "outputs": [
    {
     "data": {
      "text/html": [
       "<div>\n",
       "<style scoped>\n",
       "    .dataframe tbody tr th:only-of-type {\n",
       "        vertical-align: middle;\n",
       "    }\n",
       "\n",
       "    .dataframe tbody tr th {\n",
       "        vertical-align: top;\n",
       "    }\n",
       "\n",
       "    .dataframe thead th {\n",
       "        text-align: right;\n",
       "    }\n",
       "</style>\n",
       "<table border=\"1\" class=\"dataframe\">\n",
       "  <thead>\n",
       "    <tr style=\"text-align: right;\">\n",
       "      <th></th>\n",
       "      <th>Date</th>\n",
       "      <th>passengerId</th>\n",
       "      <th>passengerArrivalTime</th>\n",
       "    </tr>\n",
       "  </thead>\n",
       "  <tbody>\n",
       "    <tr>\n",
       "      <th>0</th>\n",
       "      <td>2017-08-01</td>\n",
       "      <td>0</td>\n",
       "      <td>2017-08-01 11:39:39.549740635</td>\n",
       "    </tr>\n",
       "    <tr>\n",
       "      <th>1</th>\n",
       "      <td>2017-08-02</td>\n",
       "      <td>0</td>\n",
       "      <td>2017-08-02 16:19:10.192981929</td>\n",
       "    </tr>\n",
       "    <tr>\n",
       "      <th>2</th>\n",
       "      <td>2017-08-03</td>\n",
       "      <td>0</td>\n",
       "      <td>2017-08-03 15:37:14.138344618</td>\n",
       "    </tr>\n",
       "    <tr>\n",
       "      <th>3</th>\n",
       "      <td>2017-08-04</td>\n",
       "      <td>0</td>\n",
       "      <td>2017-08-04 17:18:40.567291197</td>\n",
       "    </tr>\n",
       "    <tr>\n",
       "      <th>4</th>\n",
       "      <td>2017-08-05</td>\n",
       "      <td>0</td>\n",
       "      <td>2017-08-05 21:40:45.029898030</td>\n",
       "    </tr>\n",
       "  </tbody>\n",
       "</table>\n",
       "</div>"
      ],
      "text/plain": [
       "        Date passengerId          passengerArrivalTime\n",
       "0 2017-08-01           0 2017-08-01 11:39:39.549740635\n",
       "1 2017-08-02           0 2017-08-02 16:19:10.192981929\n",
       "2 2017-08-03           0 2017-08-03 15:37:14.138344618\n",
       "3 2017-08-04           0 2017-08-04 17:18:40.567291197\n",
       "4 2017-08-05           0 2017-08-05 21:40:45.029898030"
      ]
     },
     "execution_count": 10,
     "metadata": {},
     "output_type": "execute_result"
    }
   ],
   "source": [
    "sim = sim.melt(id_vars='Date')\n",
    "sim = sim.rename(columns={'variable':'passengerId','value':'passengerArrivalTime'})\n",
    "sim.head()"
   ]
  },
  {
   "cell_type": "markdown",
   "metadata": {},
   "source": [
    "As promised, we now merge the passenger simulation,`sim` with the bus arrival times, `BusArrivals`. The result of the code below is a lookup table where each passenger arrival time is associated with one bus arrival time; that is to say, the passengers are associated with the bus they board (which will always be the next bus that approaches the stop after they arrive.)"
   ]
  },
  {
   "cell_type": "code",
   "execution_count": 15,
   "metadata": {},
   "outputs": [
    {
     "data": {
      "text/html": [
       "<div>\n",
       "<style scoped>\n",
       "    .dataframe tbody tr th:only-of-type {\n",
       "        vertical-align: middle;\n",
       "    }\n",
       "\n",
       "    .dataframe tbody tr th {\n",
       "        vertical-align: top;\n",
       "    }\n",
       "\n",
       "    .dataframe thead th {\n",
       "        text-align: right;\n",
       "    }\n",
       "</style>\n",
       "<table border=\"1\" class=\"dataframe\">\n",
       "  <thead>\n",
       "    <tr style=\"text-align: right;\">\n",
       "      <th></th>\n",
       "      <th>Date</th>\n",
       "      <th>passengerId</th>\n",
       "      <th>passengerArrivalTime</th>\n",
       "      <th>BusArrivalTime</th>\n",
       "      <th>time_delta_mins</th>\n",
       "    </tr>\n",
       "  </thead>\n",
       "  <tbody>\n",
       "    <tr>\n",
       "      <th>2</th>\n",
       "      <td>2017-08-01</td>\n",
       "      <td>2</td>\n",
       "      <td>2017-08-01 08:11:56.770995441</td>\n",
       "      <td>2017-08-01 11:02:25</td>\n",
       "      <td>191</td>\n",
       "    </tr>\n",
       "    <tr>\n",
       "      <th>4</th>\n",
       "      <td>2017-08-01</td>\n",
       "      <td>4</td>\n",
       "      <td>2017-08-01 10:10:16.702411667</td>\n",
       "      <td>2017-08-01 11:02:25</td>\n",
       "      <td>191</td>\n",
       "    </tr>\n",
       "    <tr>\n",
       "      <th>7</th>\n",
       "      <td>2017-08-01</td>\n",
       "      <td>7</td>\n",
       "      <td>2017-08-01 08:01:31.465772407</td>\n",
       "      <td>2017-08-01 11:02:25</td>\n",
       "      <td>191</td>\n",
       "    </tr>\n",
       "    <tr>\n",
       "      <th>15</th>\n",
       "      <td>2017-08-01</td>\n",
       "      <td>15</td>\n",
       "      <td>2017-08-01 09:51:01.676857761</td>\n",
       "      <td>2017-08-01 11:02:25</td>\n",
       "      <td>191</td>\n",
       "    </tr>\n",
       "    <tr>\n",
       "      <th>18</th>\n",
       "      <td>2017-08-01</td>\n",
       "      <td>18</td>\n",
       "      <td>2017-08-01 07:53:50.644836133</td>\n",
       "      <td>2017-08-01 11:02:25</td>\n",
       "      <td>191</td>\n",
       "    </tr>\n",
       "  </tbody>\n",
       "</table>\n",
       "</div>"
      ],
      "text/plain": [
       "         Date  passengerId          passengerArrivalTime      BusArrivalTime  \\\n",
       "2  2017-08-01            2 2017-08-01 08:11:56.770995441 2017-08-01 11:02:25   \n",
       "4  2017-08-01            4 2017-08-01 10:10:16.702411667 2017-08-01 11:02:25   \n",
       "7  2017-08-01            7 2017-08-01 08:01:31.465772407 2017-08-01 11:02:25   \n",
       "15 2017-08-01           15 2017-08-01 09:51:01.676857761 2017-08-01 11:02:25   \n",
       "18 2017-08-01           18 2017-08-01 07:53:50.644836133 2017-08-01 11:02:25   \n",
       "\n",
       "    time_delta_mins  \n",
       "2               191  \n",
       "4               191  \n",
       "7               191  \n",
       "15              191  \n",
       "18              191  "
      ]
     },
     "execution_count": 15,
     "metadata": {},
     "output_type": "execute_result"
    }
   ],
   "source": [
    "# The powerset of all passenger-bus combinations\n",
    "busBoarding = pd.merge(right=sim, left=BusArrivals, on='Date', how='inner')\n",
    "\n",
    "# whittle down previous dataframe to those where passengers board busses that arrive at stop after they do\n",
    "    # (no going back in time)\n",
    "busBoarding = busBoarding.loc[busBoarding['BusArrivalTime']>=busBoarding['passengerArrivalTime']]\n",
    "\n",
    "# the passenger is reasonable and will board the first bus that approaches the stop\n",
    "busBoarding = busBoarding.groupby(['Date','passengerId','passengerArrivalTime']).first()\n",
    "\n",
    "# we reset the index to group by a different column in the next step\n",
    "busBoarding = busBoarding.reset_index().sort_values(['Date','BusArrivalTime','passengerId'])\n",
    "busBoarding.head()"
   ]
  },
  {
   "cell_type": "markdown",
   "metadata": {},
   "source": [
    "Now, we calcuate the number of people per bus by grouping by `BusArrivalTime` and then counting the number of entries in each group. We then merge this `busCrowding` DataFrame back into our `busBoarding` DataFrame from the previous step to give us a `numPassengersPerBus` column, which tells us exactly how many of our simulated passengers boarded each bus."
   ]
  },
  {
   "cell_type": "code",
   "execution_count": 12,
   "metadata": {},
   "outputs": [
    {
     "data": {
      "text/html": [
       "<div>\n",
       "<style scoped>\n",
       "    .dataframe tbody tr th:only-of-type {\n",
       "        vertical-align: middle;\n",
       "    }\n",
       "\n",
       "    .dataframe tbody tr th {\n",
       "        vertical-align: top;\n",
       "    }\n",
       "\n",
       "    .dataframe thead th {\n",
       "        text-align: right;\n",
       "    }\n",
       "</style>\n",
       "<table border=\"1\" class=\"dataframe\">\n",
       "  <thead>\n",
       "    <tr style=\"text-align: right;\">\n",
       "      <th></th>\n",
       "      <th>Date</th>\n",
       "      <th>passengerId</th>\n",
       "      <th>passengerArrivalTime</th>\n",
       "      <th>BusArrivalTime</th>\n",
       "      <th>time_delta_mins</th>\n",
       "      <th>numPassengersPerBus</th>\n",
       "    </tr>\n",
       "  </thead>\n",
       "  <tbody>\n",
       "    <tr>\n",
       "      <th>0</th>\n",
       "      <td>2017-08-01</td>\n",
       "      <td>2</td>\n",
       "      <td>2017-08-01 08:11:56.770995441</td>\n",
       "      <td>2017-08-01 11:02:25</td>\n",
       "      <td>191</td>\n",
       "      <td>319</td>\n",
       "    </tr>\n",
       "    <tr>\n",
       "      <th>1</th>\n",
       "      <td>2017-08-01</td>\n",
       "      <td>4</td>\n",
       "      <td>2017-08-01 10:10:16.702411667</td>\n",
       "      <td>2017-08-01 11:02:25</td>\n",
       "      <td>191</td>\n",
       "      <td>319</td>\n",
       "    </tr>\n",
       "    <tr>\n",
       "      <th>2</th>\n",
       "      <td>2017-08-01</td>\n",
       "      <td>7</td>\n",
       "      <td>2017-08-01 08:01:31.465772407</td>\n",
       "      <td>2017-08-01 11:02:25</td>\n",
       "      <td>191</td>\n",
       "      <td>319</td>\n",
       "    </tr>\n",
       "    <tr>\n",
       "      <th>3</th>\n",
       "      <td>2017-08-01</td>\n",
       "      <td>15</td>\n",
       "      <td>2017-08-01 09:51:01.676857761</td>\n",
       "      <td>2017-08-01 11:02:25</td>\n",
       "      <td>191</td>\n",
       "      <td>319</td>\n",
       "    </tr>\n",
       "    <tr>\n",
       "      <th>4</th>\n",
       "      <td>2017-08-01</td>\n",
       "      <td>18</td>\n",
       "      <td>2017-08-01 07:53:50.644836133</td>\n",
       "      <td>2017-08-01 11:02:25</td>\n",
       "      <td>191</td>\n",
       "      <td>319</td>\n",
       "    </tr>\n",
       "  </tbody>\n",
       "</table>\n",
       "</div>"
      ],
      "text/plain": [
       "        Date  passengerId          passengerArrivalTime      BusArrivalTime  \\\n",
       "0 2017-08-01            2 2017-08-01 08:11:56.770995441 2017-08-01 11:02:25   \n",
       "1 2017-08-01            4 2017-08-01 10:10:16.702411667 2017-08-01 11:02:25   \n",
       "2 2017-08-01            7 2017-08-01 08:01:31.465772407 2017-08-01 11:02:25   \n",
       "3 2017-08-01           15 2017-08-01 09:51:01.676857761 2017-08-01 11:02:25   \n",
       "4 2017-08-01           18 2017-08-01 07:53:50.644836133 2017-08-01 11:02:25   \n",
       "\n",
       "   time_delta_mins  numPassengersPerBus  \n",
       "0              191                  319  \n",
       "1              191                  319  \n",
       "2              191                  319  \n",
       "3              191                  319  \n",
       "4              191                  319  "
      ]
     },
     "execution_count": 12,
     "metadata": {},
     "output_type": "execute_result"
    }
   ],
   "source": [
    "busCrowding = busBoarding.groupby(['BusArrivalTime']).count()\n",
    "busCrowding = pd.DataFrame(busCrowding['passengerId']).rename(columns={'passengerId':'numPassengersPerBus'})\n",
    "busCrowding.reset_index()\n",
    "\n",
    "busBoarding = pd.merge(left=busBoarding, right=busCrowding, on='BusArrivalTime', how='inner')\n",
    "busBoarding.head()\n"
   ]
  },
  {
   "cell_type": "markdown",
   "metadata": {},
   "source": [
    "We now take a few columns of the `busBoarding`data that to plot the relationship between `passengerArrivalTime` and `numPassengersPerBus`."
   ]
  },
  {
   "cell_type": "code",
   "execution_count": 13,
   "metadata": {},
   "outputs": [
    {
     "data": {
      "text/html": [
       "<div>\n",
       "<style scoped>\n",
       "    .dataframe tbody tr th:only-of-type {\n",
       "        vertical-align: middle;\n",
       "    }\n",
       "\n",
       "    .dataframe tbody tr th {\n",
       "        vertical-align: top;\n",
       "    }\n",
       "\n",
       "    .dataframe thead th {\n",
       "        text-align: right;\n",
       "    }\n",
       "</style>\n",
       "<table border=\"1\" class=\"dataframe\">\n",
       "  <thead>\n",
       "    <tr style=\"text-align: right;\">\n",
       "      <th></th>\n",
       "      <th>passengerArrivalTime</th>\n",
       "      <th>numPassengersPerBus</th>\n",
       "    </tr>\n",
       "  </thead>\n",
       "  <tbody>\n",
       "    <tr>\n",
       "      <th>0</th>\n",
       "      <td>08:11:56.770995</td>\n",
       "      <td>319</td>\n",
       "    </tr>\n",
       "    <tr>\n",
       "      <th>1</th>\n",
       "      <td>10:10:16.702411</td>\n",
       "      <td>319</td>\n",
       "    </tr>\n",
       "    <tr>\n",
       "      <th>2</th>\n",
       "      <td>08:01:31.465772</td>\n",
       "      <td>319</td>\n",
       "    </tr>\n",
       "    <tr>\n",
       "      <th>3</th>\n",
       "      <td>09:51:01.676857</td>\n",
       "      <td>319</td>\n",
       "    </tr>\n",
       "    <tr>\n",
       "      <th>4</th>\n",
       "      <td>07:53:50.644836</td>\n",
       "      <td>319</td>\n",
       "    </tr>\n",
       "  </tbody>\n",
       "</table>\n",
       "</div>"
      ],
      "text/plain": [
       "  passengerArrivalTime  numPassengersPerBus\n",
       "0      08:11:56.770995                  319\n",
       "1      10:10:16.702411                  319\n",
       "2      08:01:31.465772                  319\n",
       "3      09:51:01.676857                  319\n",
       "4      07:53:50.644836                  319"
      ]
     },
     "execution_count": 13,
     "metadata": {},
     "output_type": "execute_result"
    }
   ],
   "source": [
    "plotData = busBoarding.loc[:,['passengerArrivalTime','numPassengersPerBus']]\n",
    "plotData['passengerArrivalTime'] = plotData.passengerArrivalTime.dt.time\n",
    "plotData.head()"
   ]
  },
  {
   "cell_type": "markdown",
   "metadata": {},
   "source": [
    "Finally, we have our plot."
   ]
  },
  {
   "cell_type": "code",
   "execution_count": 14,
   "metadata": {},
   "outputs": [
    {
     "data": {
      "text/plain": [
       "(array([-10000.,      0.,  10000.,  20000.,  30000.,  40000.,  50000.,\n",
       "         60000.,  70000.,  80000.,  90000.]),\n",
       " <a list of 11 Text xticklabel objects>)"
      ]
     },
     "execution_count": 14,
     "metadata": {},
     "output_type": "execute_result"
    },
    {
     "data": {
      "image/png": "[encoded data removed]",
      "text/plain": [
       "<Figure size 432x288 with 1 Axes>"
      ]
     },
     "metadata": {
      "needs_background": "light"
     },
     "output_type": "display_data"
    }
   ],
   "source": [
    "plotData = plotData.sort_values('passengerArrivalTime', ascending=True)\n",
    "_= plt.plot(plotData['passengerArrivalTime'], plotData['numPassengersPerBus'],'.',linestyle='none')\n",
    "_ = plt.xlabel('Passenger Arrival Time')\n",
    "_ = plt.ylabel('Number of Passengers on Bus')\n",
    "_ = plt.margins(0.02) # Keeps data off plot edges\n",
    "plt.xticks(rotation='vertical')"
   ]
  },
  {
   "cell_type": "markdown",
   "metadata": {},
   "source": [
    "Notice that the above plot features a series of points a the 1000 people mark. This signifies that there are busses so crowded that they fit 1000 passengers inside. Clearly there is an innacuracy in the data. The source of the problem is that there is only one bus per day on some days, but the daily population of passengers remains 1000 every day. So far as we can see, there can be two causes for this error: \n",
    "\n",
    "1. Some of the bus arrival data is being unnecessarily deleted or is missing; there are no \"one-bus-only\" days at this stop.\n",
    "2. The number of passengers should be adapted to the number of busses for each transit day. This would mean the error was setting the daily ridership at a constant of `numPassengers=1000`.\n",
    "\n",
    "However, once find the source of this error, we will have our \"base truth\" to help train our models on in the next phase of our project. "
   ]
  }
 ],
 "metadata": {
  "kernelspec": {
   "display_name": "Python 3",
   "language": "python",
   "name": "python3"
  },
  "language_info": {
   "codemirror_mode": {
    "name": "ipython",
    "version": 3
   },
   "file_extension": ".py",
   "mimetype": "text/x-python",
   "name": "python",
   "nbconvert_exporter": "python",
   "pygments_lexer": "ipython3",
   "version": "3.7.0"
  }
 },
 "nbformat": 4,
 "nbformat_minor": 2
}
