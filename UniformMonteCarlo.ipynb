{
 "cells": [
  {
   "cell_type": "code",
   "execution_count": 1,
   "metadata": {},
   "outputs": [],
   "source": [
    "import pandas as pd\n",
    "import matplotlib.dates\n",
    "import matplotlib.pyplot as plt\n",
    "import numpy as np\n",
    "import datetime, math\n",
    "\n",
    "# from IPython.core.interactiveshell import InteractiveShell\n",
    "# InteractiveShell.ast_node_interactivity = \"all\""
   ]
  },
  {
   "cell_type": "markdown",
   "metadata": {},
   "source": [
    "We then import the csv as a dataframe, because my (David Hadaller) laptop cannot handle importing 'mta_1708.csv', a 1.5 GB file, as Excel did in the cells above."
   ]
  },
  {
   "cell_type": "code",
   "execution_count": 2,
   "metadata": {
    "scrolled": true
   },
   "outputs": [
    {
     "data": {
      "text/plain": [
       "Index(['RecordedAtTime', 'DirectionRef', 'PublishedLineName', 'OriginName',\n",
       "       'OriginLat', 'OriginLong', 'DestinationName', 'DestinationLat',\n",
       "       'DestinationLong', 'VehicleRef', 'VehicleLocation.Latitude',\n",
       "       'VehicleLocation.Longitude', 'NextStopPointName',\n",
       "       'ArrivalProximityText', 'DistanceFromStop', 'ExpectedArrivalTime',\n",
       "       'ScheduledArrivalTime', 'time_delta', 'time_delta_mins', 'time_diff',\n",
       "       'time_diff_mins'],\n",
       "      dtype='object')"
      ]
     },
     "execution_count": 2,
     "metadata": {},
     "output_type": "execute_result"
    }
   ],
   "source": [
    "M100_NICK = pd.read_csv('M100_month_W125_st.csv')\n",
    "M100_NICK.columns"
   ]
  },
  {
   "cell_type": "code",
   "execution_count": 3,
   "metadata": {},
   "outputs": [],
   "source": [
    "def ecdf(inputSeries,labelx,labely):\n",
    "    try:\n",
    "        x = np.sort(inputSeries)\n",
    "    except:\n",
    "        print(\"Warning: Series Unsorted\")\n",
    "        x = inputSeries\n",
    "    y = np.arange(1, len(x)+1) / len(x)\n",
    "    _ = plt.plot(x, y, marker='.', linestyle='none')\n",
    "    _ = plt.xlabel(labelx)\n",
    "    _ = plt.ylabel(labely)\n",
    "    plt.margins(0.02) # Keeps data off plot edges\n",
    "    plt.show()\n",
    "    \n",
    "def hist(inputSeries,labelx,labely):\n",
    "    plt.hist(inputSeries, bins=25, density=True)\n",
    "    _ = plt.xlabel(labelx)\n",
    "    _ = plt.ylabel(labely)\n",
    "    plt.show()"
   ]
  },
  {
   "cell_type": "markdown",
   "metadata": {},
   "source": [
    "The charts below represent the ecdf and pdf of the bus average \"time deltas\" or time intervals between the departure of of one bus and the arrival of the next, over the course of the month of August in 2017. Also included are some acompanying summary statistics. Notice that, apart from a single outlier, these measurements do form some sort of distribution. Parameter estimation by bootstrapping could help us validate some hypotheses. Once we have a proper theoretical distribution to model this data, we can then use montecarlo metods to simluate passenger experience. So, what we've done is to derive the actual cdf (the dark blue line in the chart on the background information section), which means generating the biased cdf (the light blue line in the same background section) remains."
   ]
  },
  {
   "cell_type": "code",
   "execution_count": 4,
   "metadata": {},
   "outputs": [
    {
     "data": {
      "text/html": [
       "<div>\n",
       "<style scoped>\n",
       "    .dataframe tbody tr th:only-of-type {\n",
       "        vertical-align: middle;\n",
       "    }\n",
       "\n",
       "    .dataframe tbody tr th {\n",
       "        vertical-align: top;\n",
       "    }\n",
       "\n",
       "    .dataframe thead th {\n",
       "        text-align: right;\n",
       "    }\n",
       "</style>\n",
       "<table border=\"1\" class=\"dataframe\">\n",
       "  <thead>\n",
       "    <tr style=\"text-align: right;\">\n",
       "      <th></th>\n",
       "      <th>TimeDelta</th>\n",
       "    </tr>\n",
       "    <tr>\n",
       "      <th>Date</th>\n",
       "      <th></th>\n",
       "    </tr>\n",
       "  </thead>\n",
       "  <tbody>\n",
       "    <tr>\n",
       "      <th>2017-08-01</th>\n",
       "      <td>59.545455</td>\n",
       "    </tr>\n",
       "    <tr>\n",
       "      <th>2017-08-02</th>\n",
       "      <td>487.666667</td>\n",
       "    </tr>\n",
       "    <tr>\n",
       "      <th>2017-08-03</th>\n",
       "      <td>155.500000</td>\n",
       "    </tr>\n",
       "    <tr>\n",
       "      <th>2017-08-04</th>\n",
       "      <td>62.750000</td>\n",
       "    </tr>\n",
       "    <tr>\n",
       "      <th>2017-08-05</th>\n",
       "      <td>716.500000</td>\n",
       "    </tr>\n",
       "  </tbody>\n",
       "</table>\n",
       "</div>"
      ],
      "text/plain": [
       "             TimeDelta\n",
       "Date                  \n",
       "2017-08-01   59.545455\n",
       "2017-08-02  487.666667\n",
       "2017-08-03  155.500000\n",
       "2017-08-04   62.750000\n",
       "2017-08-05  716.500000"
      ]
     },
     "execution_count": 4,
     "metadata": {},
     "output_type": "execute_result"
    }
   ],
   "source": [
    "M100_NICK_Avg = M100_NICK[['RecordedAtTime','time_delta_mins']]\n",
    "dates = M100_NICK_Avg['RecordedAtTime'].str.split(' ', 1, expand=True).drop([1],axis=1)\n",
    "M100_NICK_Avg = pd.concat([dates,M100_NICK_Avg['time_delta_mins']],axis=1).rename(columns={0:'Date','time_delta_mins':'TimeDelta'})\n",
    "M100_NICK_Avg = M100_NICK_Avg.groupby('Date').mean().dropna()\n",
    "M100_NICK_Avg.head()"
   ]
  },
  {
   "cell_type": "code",
   "execution_count": 5,
   "metadata": {},
   "outputs": [
    {
     "data": {
      "image/png": "[encoded data removed]",
      "text/plain": [
       "<Figure size 432x288 with 1 Axes>"
      ]
     },
     "metadata": {
      "needs_background": "light"
     },
     "output_type": "display_data"
    },
    {
     "data": {
      "image/png": "[encoded data removed]",
      "text/plain": [
       "<Figure size 432x288 with 1 Axes>"
      ]
     },
     "metadata": {
      "needs_background": "light"
     },
     "output_type": "display_data"
    },
    {
     "data": {
      "text/plain": [
       "count      28.000000\n",
       "mean      312.904996\n",
       "std       380.947705\n",
       "min         0.000000\n",
       "25%       119.500000\n",
       "50%       245.522222\n",
       "75%       375.250000\n",
       "max      2042.000000\n",
       "Name: TimeDelta, dtype: float64"
      ]
     },
     "execution_count": 5,
     "metadata": {},
     "output_type": "execute_result"
    }
   ],
   "source": [
    "ecdf(M100_NICK_Avg['TimeDelta'],'Average Daily Time Delta for August 2017 (minutes)','ECDF')\n",
    "hist(M100_NICK_Avg['TimeDelta'],'Average Daily Time Delta for August 2017 (minutes)','PDF')\n",
    "M100_NICK_Avg['TimeDelta'].describe()"
   ]
  },
  {
   "cell_type": "markdown",
   "metadata": {},
   "source": [
    "Below, we have also begun to plot time delta behavior for an individual day. "
   ]
  },
  {
   "cell_type": "markdown",
   "metadata": {},
   "source": [
    "* * *"
   ]
  },
  {
   "cell_type": "markdown",
   "metadata": {},
   "source": [
    "What are my goals here? Ultimately, I want to have two plots\n",
    "1. bus crowding (number of passengers per bus) against passenger arrival time for the month of August. \n",
    "2. A biased version of the ecdf at the end of `EDA-M100-A.ipynb`. Essentially, a plot of the The cumulative probability of the average daily bus crowding for each day in August.\n",
    "\n",
    "\n",
    "**note to self:** what should I do about the very first bus ride for each day? It has no time delta because it has no bus precedes it. So how am I to measure crowding? "
   ]
  },
  {
   "cell_type": "markdown",
   "metadata": {},
   "source": [
    "Before we begin the simulation, we need to establish what will become the arguments to `numpy.random.uniform(low=0.0, high=1.0, size=None)`. Below, we find the `low` and `high` parameters. That is, we find the first and last bus arrival times for each day."
   ]
  },
  {
   "cell_type": "code",
   "execution_count": 6,
   "metadata": {},
   "outputs": [
    {
     "data": {
      "text/html": [
       "<div>\n",
       "<style scoped>\n",
       "    .dataframe tbody tr th:only-of-type {\n",
       "        vertical-align: middle;\n",
       "    }\n",
       "\n",
       "    .dataframe tbody tr th {\n",
       "        vertical-align: top;\n",
       "    }\n",
       "\n",
       "    .dataframe thead th {\n",
       "        text-align: right;\n",
       "    }\n",
       "</style>\n",
       "<table border=\"1\" class=\"dataframe\">\n",
       "  <thead>\n",
       "    <tr style=\"text-align: right;\">\n",
       "      <th></th>\n",
       "      <th>Date</th>\n",
       "      <th>EarliestBusArrival</th>\n",
       "      <th>LatestBusArrival</th>\n",
       "    </tr>\n",
       "  </thead>\n",
       "  <tbody>\n",
       "    <tr>\n",
       "      <th>0</th>\n",
       "      <td>2017-08-01</td>\n",
       "      <td>2017-08-01 07:51:49</td>\n",
       "      <td>2017-08-01 18:42:04</td>\n",
       "    </tr>\n",
       "    <tr>\n",
       "      <th>1</th>\n",
       "      <td>2017-08-02</td>\n",
       "      <td>2017-08-02 15:54:31</td>\n",
       "      <td>2017-08-02 19:14:42</td>\n",
       "    </tr>\n",
       "    <tr>\n",
       "      <th>2</th>\n",
       "      <td>2017-08-03</td>\n",
       "      <td>2017-08-03 13:06:46</td>\n",
       "      <td>2017-08-03 18:17:14</td>\n",
       "    </tr>\n",
       "    <tr>\n",
       "      <th>3</th>\n",
       "      <td>2017-08-04</td>\n",
       "      <td>2017-08-04 11:28:26</td>\n",
       "      <td>2017-08-04 21:48:55</td>\n",
       "    </tr>\n",
       "    <tr>\n",
       "      <th>4</th>\n",
       "      <td>2017-08-05</td>\n",
       "      <td>2017-08-05 15:10:31</td>\n",
       "      <td>2017-08-05 21:40:50</td>\n",
       "    </tr>\n",
       "  </tbody>\n",
       "</table>\n",
       "</div>"
      ],
      "text/plain": [
       "        Date  EarliestBusArrival    LatestBusArrival\n",
       "0 2017-08-01 2017-08-01 07:51:49 2017-08-01 18:42:04\n",
       "1 2017-08-02 2017-08-02 15:54:31 2017-08-02 19:14:42\n",
       "2 2017-08-03 2017-08-03 13:06:46 2017-08-03 18:17:14\n",
       "3 2017-08-04 2017-08-04 11:28:26 2017-08-04 21:48:55\n",
       "4 2017-08-05 2017-08-05 15:10:31 2017-08-05 21:40:50"
      ]
     },
     "execution_count": 6,
     "metadata": {},
     "output_type": "execute_result"
    }
   ],
   "source": [
    "DailyBusMinMax= M100_NICK.loc[:,['RecordedAtTime']]\n",
    "splitCol = DailyBusMinMax['RecordedAtTime'].str.split(' ', 1, expand=True).rename(columns={0:'Date', 1:'Time'}) \n",
    "DailyBusMinMax['Date']= splitCol['Date'] \n",
    "\n",
    "DailyBusMinMax = DailyBusMinMax.drop_duplicates()\n",
    "\n",
    "DailyBusMax = DailyBusMinMax.groupby('Date').max()\n",
    "DailyBusMin = DailyBusMinMax.groupby('Date').min()\n",
    "\n",
    "DailyBusMinMax = pd.merge(left=DailyBusMin, right=DailyBusMax, how='inner',on='Date', suffixes=('Min', 'Max'))\n",
    "DailyBusMinMax = DailyBusMinMax.rename(columns={'RecordedAtTimeMin':'EarliestBusArrival', 'RecordedAtTimeMax':'LatestBusArrival'})\n",
    "\n",
    "DailyBusMinMax.reset_index(level=0, inplace=True)\n",
    "DailyBusMinMax['Date'] = pd.to_datetime(DailyBusMinMax['Date'],format='%Y-%m-%d')\n",
    "DailyBusMinMax['EarliestBusArrival'] = pd.to_datetime(DailyBusMinMax['EarliestBusArrival'], format='%Y-%m-%d %H:%M:%S')\n",
    "DailyBusMinMax['LatestBusArrival'] = pd.to_datetime(DailyBusMinMax['LatestBusArrival'], format='%Y-%m-%d %H:%M:%S')\n",
    "\n",
    "DailyBusMinMax.head()"
   ]
  },
  {
   "cell_type": "markdown",
   "metadata": {},
   "source": [
    "In the cell below, we take the bus arrival times (when the bus pulls into the stop), the dates associated with each bus arrival time (to help with subsequent merges) and the timedeltas (which we may plot later on) from the original `M100_NICK` data"
   ]
  },
  {
   "cell_type": "code",
   "execution_count": 7,
   "metadata": {},
   "outputs": [
    {
     "data": {
      "text/html": [
       "<div>\n",
       "<style scoped>\n",
       "    .dataframe tbody tr th:only-of-type {\n",
       "        vertical-align: middle;\n",
       "    }\n",
       "\n",
       "    .dataframe tbody tr th {\n",
       "        vertical-align: top;\n",
       "    }\n",
       "\n",
       "    .dataframe thead th {\n",
       "        text-align: right;\n",
       "    }\n",
       "</style>\n",
       "<table border=\"1\" class=\"dataframe\">\n",
       "  <thead>\n",
       "    <tr style=\"text-align: right;\">\n",
       "      <th></th>\n",
       "      <th>Date</th>\n",
       "      <th>BusArrivalTime</th>\n",
       "      <th>time_delta_mins</th>\n",
       "    </tr>\n",
       "  </thead>\n",
       "  <tbody>\n",
       "    <tr>\n",
       "      <th>0</th>\n",
       "      <td>2017-08-01</td>\n",
       "      <td>2017-08-01 07:51:49</td>\n",
       "      <td>0</td>\n",
       "    </tr>\n",
       "    <tr>\n",
       "      <th>3</th>\n",
       "      <td>2017-08-01</td>\n",
       "      <td>2017-08-01 11:02:25</td>\n",
       "      <td>191</td>\n",
       "    </tr>\n",
       "    <tr>\n",
       "      <th>4</th>\n",
       "      <td>2017-08-01</td>\n",
       "      <td>2017-08-01 13:42:23</td>\n",
       "      <td>161</td>\n",
       "    </tr>\n",
       "    <tr>\n",
       "      <th>5</th>\n",
       "      <td>2017-08-01</td>\n",
       "      <td>2017-08-01 13:52:39</td>\n",
       "      <td>10</td>\n",
       "    </tr>\n",
       "    <tr>\n",
       "      <th>6</th>\n",
       "      <td>2017-08-01</td>\n",
       "      <td>2017-08-01 15:53:02</td>\n",
       "      <td>121</td>\n",
       "    </tr>\n",
       "  </tbody>\n",
       "</table>\n",
       "</div>"
      ],
      "text/plain": [
       "        Date      BusArrivalTime  time_delta_mins\n",
       "0 2017-08-01 2017-08-01 07:51:49                0\n",
       "3 2017-08-01 2017-08-01 11:02:25              191\n",
       "4 2017-08-01 2017-08-01 13:42:23              161\n",
       "5 2017-08-01 2017-08-01 13:52:39               10\n",
       "6 2017-08-01 2017-08-01 15:53:02              121"
      ]
     },
     "execution_count": 7,
     "metadata": {},
     "output_type": "execute_result"
    }
   ],
   "source": [
    "BusArrivals = M100_NICK.loc[:,['RecordedAtTime','time_delta_mins']]\n",
    "dates = M100_NICK['RecordedAtTime'].str.split(' ', 1, expand=True).rename(columns={0:'Date'})\n",
    "BusArrivals.insert(loc=0, column='Date', value=dates['Date'])\n",
    "\n",
    "BusArrivals = BusArrivals.rename(columns={'RecordedAtTime':'BusArrivalTime'})\n",
    "\n",
    "# Change Column DataTypes from String (object) to DateTime\n",
    "BusArrivals['BusArrivalTime'] = pd.to_datetime(BusArrivals['BusArrivalTime'], format='%Y-%m-%d %H:%M:%S')\n",
    "BusArrivals['Date'] = pd.to_datetime(BusArrivals['Date'], format='%Y-%m-%d %H:%M:%S')\n",
    "BusArrivals = BusArrivals.drop_duplicates()\n",
    "\n",
    "BusArrivals.head()"
   ]
  },
  {
   "cell_type": "markdown",
   "metadata": {},
   "source": [
    "Next, we define a simulation function which gets the `low` and `high` bounds of the uniform distribution from the DailyBusMinMax dataframe and then takes `NumPassengers` for population size of passengers to simulate. \n",
    "\n",
    "This simulation function creates a \"pivot table\" with the Date as pseudo-index and an artificial passengerId for column headers. For each date, the table contains each passenger in NumPassengers simulated bus arrival time (the time at which each passenger approaches the bus stop with the hopes of boarding a bus.)\n",
    "\n",
    "Of course, the table that results isn't a true pivot table, because the Date column is just another column, rather than a pandas index. Keeping the Date as a column allows us to reference it as a column later on, which will come in handy when we need to return a series of dates."
   ]
  },
  {
   "cell_type": "code",
   "execution_count": 8,
   "metadata": {},
   "outputs": [],
   "source": [
    "def passengerSim(DailyBusMinMax, NumPassengers):\n",
    "    \n",
    "    #time between the first and last bus arrivals\n",
    "    dailyDelta = DailyBusMinMax['LatestBusArrival'] - DailyBusMinMax['EarliestBusArrival']\n",
    "    \n",
    "    # the first bus arrival\n",
    "    dailyMin = DailyBusMinMax['EarliestBusArrival']\n",
    "    \n",
    "    #number of dates to simulate for\n",
    "    NumDates = len(DailyBusMinMax.Date)\n",
    "    \n",
    "    #this vectorized calculation follows the formula dailyDelta * randomVar + firstBusArrival to choose a random time\n",
    "        # between the EarliestBusArrival and the LatestBusArrival.\n",
    "        # this is done for every date and for each passenger in NumPassengers\n",
    "    pSim = pd.DataFrame(np.random.uniform(0,1,(NumDates,NumPassengers)))\n",
    "    pSim = pSim.mul(dailyDelta,axis=0)\n",
    "    pSim = pSim.add(dailyMin,axis=0)\n",
    "    \n",
    "    # add a dates column to front of dataframe  \n",
    "    pSim.insert(loc=0, column='Date', value=DailyBusMinMax['Date'])\n",
    "    \n",
    "    return pSim"
   ]
  },
  {
   "cell_type": "code",
   "execution_count": 9,
   "metadata": {},
   "outputs": [
    {
     "data": {
      "text/html": [
       "<div>\n",
       "<style scoped>\n",
       "    .dataframe tbody tr th:only-of-type {\n",
       "        vertical-align: middle;\n",
       "    }\n",
       "\n",
       "    .dataframe tbody tr th {\n",
       "        vertical-align: top;\n",
       "    }\n",
       "\n",
       "    .dataframe thead th {\n",
       "        text-align: right;\n",
       "    }\n",
       "</style>\n",
       "<table border=\"1\" class=\"dataframe\">\n",
       "  <thead>\n",
       "    <tr style=\"text-align: right;\">\n",
       "      <th></th>\n",
       "      <th>Date</th>\n",
       "      <th>0</th>\n",
       "      <th>1</th>\n",
       "      <th>2</th>\n",
       "      <th>3</th>\n",
       "      <th>4</th>\n",
       "      <th>5</th>\n",
       "      <th>6</th>\n",
       "      <th>7</th>\n",
       "      <th>8</th>\n",
       "      <th>...</th>\n",
       "      <th>490</th>\n",
       "      <th>491</th>\n",
       "      <th>492</th>\n",
       "      <th>493</th>\n",
       "      <th>494</th>\n",
       "      <th>495</th>\n",
       "      <th>496</th>\n",
       "      <th>497</th>\n",
       "      <th>498</th>\n",
       "      <th>499</th>\n",
       "    </tr>\n",
       "  </thead>\n",
       "  <tbody>\n",
       "    <tr>\n",
       "      <th>0</th>\n",
       "      <td>2017-08-01</td>\n",
       "      <td>2017-08-01 18:05:19.525248653</td>\n",
       "      <td>2017-08-01 10:04:21.669086605</td>\n",
       "      <td>2017-08-01 15:40:21.752388140</td>\n",
       "      <td>2017-08-01 11:23:00.495587770</td>\n",
       "      <td>2017-08-01 12:06:33.076255018</td>\n",
       "      <td>2017-08-01 12:02:33.197425490</td>\n",
       "      <td>2017-08-01 13:44:42.119181447</td>\n",
       "      <td>2017-08-01 09:22:34.784578836</td>\n",
       "      <td>2017-08-01 15:58:54.717955451</td>\n",
       "      <td>...</td>\n",
       "      <td>2017-08-01 17:31:42.827509363</td>\n",
       "      <td>2017-08-01 17:12:31.465038025</td>\n",
       "      <td>2017-08-01 11:30:43.731848634</td>\n",
       "      <td>2017-08-01 16:02:14.217346478</td>\n",
       "      <td>2017-08-01 13:33:13.144899588</td>\n",
       "      <td>2017-08-01 14:44:24.370113236</td>\n",
       "      <td>2017-08-01 15:11:31.870120302</td>\n",
       "      <td>2017-08-01 08:01:37.944961601</td>\n",
       "      <td>2017-08-01 10:26:12.463714351</td>\n",
       "      <td>2017-08-01 08:15:52.975226027</td>\n",
       "    </tr>\n",
       "    <tr>\n",
       "      <th>1</th>\n",
       "      <td>2017-08-02</td>\n",
       "      <td>2017-08-02 18:31:39.646632033</td>\n",
       "      <td>2017-08-02 17:26:52.130066845</td>\n",
       "      <td>2017-08-02 18:28:45.268269775</td>\n",
       "      <td>2017-08-02 17:03:48.591864537</td>\n",
       "      <td>2017-08-02 17:10:36.552745133</td>\n",
       "      <td>2017-08-02 17:13:34.339355728</td>\n",
       "      <td>2017-08-02 17:47:00.088814288</td>\n",
       "      <td>2017-08-02 16:19:40.562722715</td>\n",
       "      <td>2017-08-02 18:39:39.005223271</td>\n",
       "      <td>...</td>\n",
       "      <td>2017-08-02 18:12:36.391604916</td>\n",
       "      <td>2017-08-02 17:09:21.874642512</td>\n",
       "      <td>2017-08-02 19:12:07.116247274</td>\n",
       "      <td>2017-08-02 18:13:46.899823889</td>\n",
       "      <td>2017-08-02 16:32:23.944390387</td>\n",
       "      <td>2017-08-02 18:43:08.968276269</td>\n",
       "      <td>2017-08-02 16:39:34.696525251</td>\n",
       "      <td>2017-08-02 17:24:20.625194077</td>\n",
       "      <td>2017-08-02 18:15:08.774134752</td>\n",
       "      <td>2017-08-02 17:55:19.777941225</td>\n",
       "    </tr>\n",
       "    <tr>\n",
       "      <th>2</th>\n",
       "      <td>2017-08-03</td>\n",
       "      <td>2017-08-03 15:49:26.945527963</td>\n",
       "      <td>2017-08-03 16:29:47.100322020</td>\n",
       "      <td>2017-08-03 15:38:51.339930017</td>\n",
       "      <td>2017-08-03 13:45:30.081063995</td>\n",
       "      <td>2017-08-03 16:58:25.336727223</td>\n",
       "      <td>2017-08-03 17:05:23.101443702</td>\n",
       "      <td>2017-08-03 15:57:48.985452431</td>\n",
       "      <td>2017-08-03 17:55:25.106258218</td>\n",
       "      <td>2017-08-03 14:39:21.756670967</td>\n",
       "      <td>...</td>\n",
       "      <td>2017-08-03 15:16:50.894828803</td>\n",
       "      <td>2017-08-03 16:47:56.374860383</td>\n",
       "      <td>2017-08-03 18:03:33.621555078</td>\n",
       "      <td>2017-08-03 15:23:32.463385394</td>\n",
       "      <td>2017-08-03 13:19:43.322164872</td>\n",
       "      <td>2017-08-03 15:43:11.456361255</td>\n",
       "      <td>2017-08-03 13:13:10.363188922</td>\n",
       "      <td>2017-08-03 16:08:13.934414479</td>\n",
       "      <td>2017-08-03 15:48:20.449473470</td>\n",
       "      <td>2017-08-03 14:34:47.718677462</td>\n",
       "    </tr>\n",
       "    <tr>\n",
       "      <th>3</th>\n",
       "      <td>2017-08-04</td>\n",
       "      <td>2017-08-04 19:45:25.022159241</td>\n",
       "      <td>2017-08-04 11:48:45.487926883</td>\n",
       "      <td>2017-08-04 16:27:06.588509025</td>\n",
       "      <td>2017-08-04 14:04:10.534666991</td>\n",
       "      <td>2017-08-04 13:02:48.581243911</td>\n",
       "      <td>2017-08-04 16:41:59.022628021</td>\n",
       "      <td>2017-08-04 12:07:28.605111641</td>\n",
       "      <td>2017-08-04 18:21:34.586222916</td>\n",
       "      <td>2017-08-04 12:24:46.265146912</td>\n",
       "      <td>...</td>\n",
       "      <td>2017-08-04 20:28:50.109420877</td>\n",
       "      <td>2017-08-04 18:34:42.729333191</td>\n",
       "      <td>2017-08-04 20:08:43.299862575</td>\n",
       "      <td>2017-08-04 15:58:53.295640501</td>\n",
       "      <td>2017-08-04 18:38:31.267853913</td>\n",
       "      <td>2017-08-04 20:02:39.671490616</td>\n",
       "      <td>2017-08-04 14:23:31.937005180</td>\n",
       "      <td>2017-08-04 18:44:58.110391117</td>\n",
       "      <td>2017-08-04 19:21:23.075136681</td>\n",
       "      <td>2017-08-04 18:53:46.553004406</td>\n",
       "    </tr>\n",
       "    <tr>\n",
       "      <th>4</th>\n",
       "      <td>2017-08-05</td>\n",
       "      <td>2017-08-05 16:12:13.522045767</td>\n",
       "      <td>2017-08-05 21:01:57.976485529</td>\n",
       "      <td>2017-08-05 16:55:30.958438808</td>\n",
       "      <td>2017-08-05 19:19:39.648466204</td>\n",
       "      <td>2017-08-05 15:29:12.847617781</td>\n",
       "      <td>2017-08-05 20:01:05.638537636</td>\n",
       "      <td>2017-08-05 17:08:29.835709217</td>\n",
       "      <td>2017-08-05 15:31:15.694775993</td>\n",
       "      <td>2017-08-05 21:11:11.043233432</td>\n",
       "      <td>...</td>\n",
       "      <td>2017-08-05 18:55:12.273572221</td>\n",
       "      <td>2017-08-05 20:45:55.244517067</td>\n",
       "      <td>2017-08-05 17:40:58.115805892</td>\n",
       "      <td>2017-08-05 19:10:21.350734787</td>\n",
       "      <td>2017-08-05 20:42:16.221954231</td>\n",
       "      <td>2017-08-05 16:59:43.538368844</td>\n",
       "      <td>2017-08-05 18:54:03.290574741</td>\n",
       "      <td>2017-08-05 18:12:01.677807142</td>\n",
       "      <td>2017-08-05 16:59:57.717987900</td>\n",
       "      <td>2017-08-05 17:59:35.660810212</td>\n",
       "    </tr>\n",
       "  </tbody>\n",
       "</table>\n",
       "<p>5 rows × 501 columns</p>\n",
       "</div>"
      ],
      "text/plain": [
       "        Date                             0                             1  \\\n",
       "0 2017-08-01 2017-08-01 18:05:19.525248653 2017-08-01 10:04:21.669086605   \n",
       "1 2017-08-02 2017-08-02 18:31:39.646632033 2017-08-02 17:26:52.130066845   \n",
       "2 2017-08-03 2017-08-03 15:49:26.945527963 2017-08-03 16:29:47.100322020   \n",
       "3 2017-08-04 2017-08-04 19:45:25.022159241 2017-08-04 11:48:45.487926883   \n",
       "4 2017-08-05 2017-08-05 16:12:13.522045767 2017-08-05 21:01:57.976485529   \n",
       "\n",
       "                              2                             3  \\\n",
       "0 2017-08-01 15:40:21.752388140 2017-08-01 11:23:00.495587770   \n",
       "1 2017-08-02 18:28:45.268269775 2017-08-02 17:03:48.591864537   \n",
       "2 2017-08-03 15:38:51.339930017 2017-08-03 13:45:30.081063995   \n",
       "3 2017-08-04 16:27:06.588509025 2017-08-04 14:04:10.534666991   \n",
       "4 2017-08-05 16:55:30.958438808 2017-08-05 19:19:39.648466204   \n",
       "\n",
       "                              4                             5  \\\n",
       "0 2017-08-01 12:06:33.076255018 2017-08-01 12:02:33.197425490   \n",
       "1 2017-08-02 17:10:36.552745133 2017-08-02 17:13:34.339355728   \n",
       "2 2017-08-03 16:58:25.336727223 2017-08-03 17:05:23.101443702   \n",
       "3 2017-08-04 13:02:48.581243911 2017-08-04 16:41:59.022628021   \n",
       "4 2017-08-05 15:29:12.847617781 2017-08-05 20:01:05.638537636   \n",
       "\n",
       "                              6                             7  \\\n",
       "0 2017-08-01 13:44:42.119181447 2017-08-01 09:22:34.784578836   \n",
       "1 2017-08-02 17:47:00.088814288 2017-08-02 16:19:40.562722715   \n",
       "2 2017-08-03 15:57:48.985452431 2017-08-03 17:55:25.106258218   \n",
       "3 2017-08-04 12:07:28.605111641 2017-08-04 18:21:34.586222916   \n",
       "4 2017-08-05 17:08:29.835709217 2017-08-05 15:31:15.694775993   \n",
       "\n",
       "                              8              ...               \\\n",
       "0 2017-08-01 15:58:54.717955451              ...                \n",
       "1 2017-08-02 18:39:39.005223271              ...                \n",
       "2 2017-08-03 14:39:21.756670967              ...                \n",
       "3 2017-08-04 12:24:46.265146912              ...                \n",
       "4 2017-08-05 21:11:11.043233432              ...                \n",
       "\n",
       "                            490                           491  \\\n",
       "0 2017-08-01 17:31:42.827509363 2017-08-01 17:12:31.465038025   \n",
       "1 2017-08-02 18:12:36.391604916 2017-08-02 17:09:21.874642512   \n",
       "2 2017-08-03 15:16:50.894828803 2017-08-03 16:47:56.374860383   \n",
       "3 2017-08-04 20:28:50.109420877 2017-08-04 18:34:42.729333191   \n",
       "4 2017-08-05 18:55:12.273572221 2017-08-05 20:45:55.244517067   \n",
       "\n",
       "                            492                           493  \\\n",
       "0 2017-08-01 11:30:43.731848634 2017-08-01 16:02:14.217346478   \n",
       "1 2017-08-02 19:12:07.116247274 2017-08-02 18:13:46.899823889   \n",
       "2 2017-08-03 18:03:33.621555078 2017-08-03 15:23:32.463385394   \n",
       "3 2017-08-04 20:08:43.299862575 2017-08-04 15:58:53.295640501   \n",
       "4 2017-08-05 17:40:58.115805892 2017-08-05 19:10:21.350734787   \n",
       "\n",
       "                            494                           495  \\\n",
       "0 2017-08-01 13:33:13.144899588 2017-08-01 14:44:24.370113236   \n",
       "1 2017-08-02 16:32:23.944390387 2017-08-02 18:43:08.968276269   \n",
       "2 2017-08-03 13:19:43.322164872 2017-08-03 15:43:11.456361255   \n",
       "3 2017-08-04 18:38:31.267853913 2017-08-04 20:02:39.671490616   \n",
       "4 2017-08-05 20:42:16.221954231 2017-08-05 16:59:43.538368844   \n",
       "\n",
       "                            496                           497  \\\n",
       "0 2017-08-01 15:11:31.870120302 2017-08-01 08:01:37.944961601   \n",
       "1 2017-08-02 16:39:34.696525251 2017-08-02 17:24:20.625194077   \n",
       "2 2017-08-03 13:13:10.363188922 2017-08-03 16:08:13.934414479   \n",
       "3 2017-08-04 14:23:31.937005180 2017-08-04 18:44:58.110391117   \n",
       "4 2017-08-05 18:54:03.290574741 2017-08-05 18:12:01.677807142   \n",
       "\n",
       "                            498                           499  \n",
       "0 2017-08-01 10:26:12.463714351 2017-08-01 08:15:52.975226027  \n",
       "1 2017-08-02 18:15:08.774134752 2017-08-02 17:55:19.777941225  \n",
       "2 2017-08-03 15:48:20.449473470 2017-08-03 14:34:47.718677462  \n",
       "3 2017-08-04 19:21:23.075136681 2017-08-04 18:53:46.553004406  \n",
       "4 2017-08-05 16:59:57.717987900 2017-08-05 17:59:35.660810212  \n",
       "\n",
       "[5 rows x 501 columns]"
      ]
     },
     "execution_count": 9,
     "metadata": {},
     "output_type": "execute_result"
    }
   ],
   "source": [
    "sim = passengerSim(DailyBusMinMax,500)\n",
    "sim.head()"
   ]
  },
  {
   "cell_type": "markdown",
   "metadata": {},
   "source": [
    "Here, we reorganize the results of the passenger simulation to get a table that has one single `passengerId` column, instead of one column for each passenger. This is will allow us to perform a merge in the following step."
   ]
  },
  {
   "cell_type": "code",
   "execution_count": 10,
   "metadata": {},
   "outputs": [
    {
     "data": {
      "text/html": [
       "<div>\n",
       "<style scoped>\n",
       "    .dataframe tbody tr th:only-of-type {\n",
       "        vertical-align: middle;\n",
       "    }\n",
       "\n",
       "    .dataframe tbody tr th {\n",
       "        vertical-align: top;\n",
       "    }\n",
       "\n",
       "    .dataframe thead th {\n",
       "        text-align: right;\n",
       "    }\n",
       "</style>\n",
       "<table border=\"1\" class=\"dataframe\">\n",
       "  <thead>\n",
       "    <tr style=\"text-align: right;\">\n",
       "      <th></th>\n",
       "      <th>Date</th>\n",
       "      <th>passengerId</th>\n",
       "      <th>passengerArrivalTime</th>\n",
       "    </tr>\n",
       "  </thead>\n",
       "  <tbody>\n",
       "    <tr>\n",
       "      <th>0</th>\n",
       "      <td>2017-08-01</td>\n",
       "      <td>0</td>\n",
       "      <td>2017-08-01 18:05:19.525248653</td>\n",
       "    </tr>\n",
       "    <tr>\n",
       "      <th>1</th>\n",
       "      <td>2017-08-02</td>\n",
       "      <td>0</td>\n",
       "      <td>2017-08-02 18:31:39.646632033</td>\n",
       "    </tr>\n",
       "    <tr>\n",
       "      <th>2</th>\n",
       "      <td>2017-08-03</td>\n",
       "      <td>0</td>\n",
       "      <td>2017-08-03 15:49:26.945527963</td>\n",
       "    </tr>\n",
       "    <tr>\n",
       "      <th>3</th>\n",
       "      <td>2017-08-04</td>\n",
       "      <td>0</td>\n",
       "      <td>2017-08-04 19:45:25.022159241</td>\n",
       "    </tr>\n",
       "    <tr>\n",
       "      <th>4</th>\n",
       "      <td>2017-08-05</td>\n",
       "      <td>0</td>\n",
       "      <td>2017-08-05 16:12:13.522045767</td>\n",
       "    </tr>\n",
       "  </tbody>\n",
       "</table>\n",
       "</div>"
      ],
      "text/plain": [
       "        Date passengerId          passengerArrivalTime\n",
       "0 2017-08-01           0 2017-08-01 18:05:19.525248653\n",
       "1 2017-08-02           0 2017-08-02 18:31:39.646632033\n",
       "2 2017-08-03           0 2017-08-03 15:49:26.945527963\n",
       "3 2017-08-04           0 2017-08-04 19:45:25.022159241\n",
       "4 2017-08-05           0 2017-08-05 16:12:13.522045767"
      ]
     },
     "execution_count": 10,
     "metadata": {},
     "output_type": "execute_result"
    }
   ],
   "source": [
    "sim = sim.melt(id_vars='Date')\n",
    "sim = sim.rename(columns={'variable':'passengerId','value':'passengerArrivalTime'})\n",
    "sim.head()"
   ]
  },
  {
   "cell_type": "markdown",
   "metadata": {},
   "source": [
    "As promised, we now merge the passenger simulation,`sim` with the bus arrival times, `BusArrivals`. The result of the code below is a lookup table where each passenger arrival time is associated with one bus arrival time; that is to say, the passengers are associated with the bus they board (which will always be the next bus that approaches the stop after they arrive.)"
   ]
  },
  {
   "cell_type": "code",
   "execution_count": 11,
   "metadata": {},
   "outputs": [
    {
     "data": {
      "text/html": [
       "<div>\n",
       "<style scoped>\n",
       "    .dataframe tbody tr th:only-of-type {\n",
       "        vertical-align: middle;\n",
       "    }\n",
       "\n",
       "    .dataframe tbody tr th {\n",
       "        vertical-align: top;\n",
       "    }\n",
       "\n",
       "    .dataframe thead th {\n",
       "        text-align: right;\n",
       "    }\n",
       "</style>\n",
       "<table border=\"1\" class=\"dataframe\">\n",
       "  <thead>\n",
       "    <tr style=\"text-align: right;\">\n",
       "      <th></th>\n",
       "      <th>Date</th>\n",
       "      <th>passengerId</th>\n",
       "      <th>passengerArrivalTime</th>\n",
       "      <th>BusArrivalTime</th>\n",
       "      <th>time_delta_mins</th>\n",
       "    </tr>\n",
       "  </thead>\n",
       "  <tbody>\n",
       "    <tr>\n",
       "      <th>1</th>\n",
       "      <td>2017-08-01</td>\n",
       "      <td>1</td>\n",
       "      <td>2017-08-01 10:04:21.669086605</td>\n",
       "      <td>2017-08-01 11:02:25</td>\n",
       "      <td>191</td>\n",
       "    </tr>\n",
       "    <tr>\n",
       "      <th>7</th>\n",
       "      <td>2017-08-01</td>\n",
       "      <td>7</td>\n",
       "      <td>2017-08-01 09:22:34.784578836</td>\n",
       "      <td>2017-08-01 11:02:25</td>\n",
       "      <td>191</td>\n",
       "    </tr>\n",
       "    <tr>\n",
       "      <th>11</th>\n",
       "      <td>2017-08-01</td>\n",
       "      <td>11</td>\n",
       "      <td>2017-08-01 10:52:37.627387425</td>\n",
       "      <td>2017-08-01 11:02:25</td>\n",
       "      <td>191</td>\n",
       "    </tr>\n",
       "    <tr>\n",
       "      <th>14</th>\n",
       "      <td>2017-08-01</td>\n",
       "      <td>14</td>\n",
       "      <td>2017-08-01 09:56:19.843760612</td>\n",
       "      <td>2017-08-01 11:02:25</td>\n",
       "      <td>191</td>\n",
       "    </tr>\n",
       "    <tr>\n",
       "      <th>17</th>\n",
       "      <td>2017-08-01</td>\n",
       "      <td>17</td>\n",
       "      <td>2017-08-01 08:34:42.369940249</td>\n",
       "      <td>2017-08-01 11:02:25</td>\n",
       "      <td>191</td>\n",
       "    </tr>\n",
       "  </tbody>\n",
       "</table>\n",
       "</div>"
      ],
      "text/plain": [
       "         Date  passengerId          passengerArrivalTime      BusArrivalTime  \\\n",
       "1  2017-08-01            1 2017-08-01 10:04:21.669086605 2017-08-01 11:02:25   \n",
       "7  2017-08-01            7 2017-08-01 09:22:34.784578836 2017-08-01 11:02:25   \n",
       "11 2017-08-01           11 2017-08-01 10:52:37.627387425 2017-08-01 11:02:25   \n",
       "14 2017-08-01           14 2017-08-01 09:56:19.843760612 2017-08-01 11:02:25   \n",
       "17 2017-08-01           17 2017-08-01 08:34:42.369940249 2017-08-01 11:02:25   \n",
       "\n",
       "    time_delta_mins  \n",
       "1               191  \n",
       "7               191  \n",
       "11              191  \n",
       "14              191  \n",
       "17              191  "
      ]
     },
     "execution_count": 11,
     "metadata": {},
     "output_type": "execute_result"
    }
   ],
   "source": [
    "# The powerset of all passenger-bus combinations\n",
    "busBoarding = pd.merge(right=sim, left=BusArrivals, on='Date', how='inner')\n",
    "\n",
    "# whittle down previous dataframe to those where passengers board busses that arrive at stop after they do\n",
    "    # (no going back in time)\n",
    "busBoarding = busBoarding.loc[busBoarding['BusArrivalTime']>=busBoarding['passengerArrivalTime']]\n",
    "\n",
    "# the passenger is reasonable and will board the first bus that approaches the stop\n",
    "busBoarding = busBoarding.groupby(['Date','passengerId','passengerArrivalTime']).first()\n",
    "\n",
    "# we reset the index to group by a different column in the next step\n",
    "busBoarding = busBoarding.reset_index().sort_values(['Date','BusArrivalTime','passengerId'])\n",
    "busBoarding.head()"
   ]
  },
  {
   "cell_type": "code",
   "execution_count": 12,
   "metadata": {},
   "outputs": [
    {
     "data": {
      "text/plain": [
       "(14000, 6)"
      ]
     },
     "execution_count": 12,
     "metadata": {},
     "output_type": "execute_result"
    }
   ],
   "source": [
    "# Find the elapsed time between passenger arrival and bus arrival (Wait time)\n",
    "busBoarding['WaitTime'] = busBoarding['BusArrivalTime'] - busBoarding['passengerArrivalTime']\n",
    "busBoarding.shape"
   ]
  },
  {
   "cell_type": "code",
   "execution_count": 26,
   "metadata": {},
   "outputs": [
    {
     "data": {
      "text/plain": [
       "passengerArrivalTime             object\n",
       "WaitTime                timedelta64[ns]\n",
       "dtype: object"
      ]
     },
     "execution_count": 26,
     "metadata": {},
     "output_type": "execute_result"
    }
   ],
   "source": [
    "waitPlotData = busBoarding[['passengerArrivalTime', 'WaitTime']].copy()\n",
    "waitPlotData['passengerArrivalTime'] = waitPlotData.passengerArrivalTime.dt.time\n",
    "waitPlotData.dtypes"
   ]
  },
  {
   "cell_type": "code",
   "execution_count": 29,
   "metadata": {
    "scrolled": true
   },
   "outputs": [
    {
     "data": {
      "text/plain": [
       "(array([    0.,  5000., 10000., 15000., 20000., 25000.]),\n",
       " <a list of 6 Text xticklabel objects>)"
      ]
     },
     "execution_count": 29,
     "metadata": {},
     "output_type": "execute_result"
    },
    {
     "data": {
      "image/png": "[encoded data removed]",
      "text/plain": [
       "<Figure size 432x288 with 1 Axes>"
      ]
     },
     "metadata": {
      "needs_background": "light"
     },
     "output_type": "display_data"
    }
   ],
   "source": [
    "waitPlotData = waitPlotData.sort_values('passengerArrivalTime', ascending=True)[0:500]\n",
    "_= plt.plot(waitPlotData['passengerArrivalTime'], waitPlotData['WaitTime'],'.',linestyle='none')\n",
    "_ = plt.xlabel('Passenger Arrival Time')\n",
    "_ = plt.ylabel('Wait Time For Bus')\n",
    "_ = plt.margins(0.02) # Keeps data off plot edges\n",
    "plt.xticks(rotation='vertical')\n",
    "\n"
   ]
  },
  {
   "cell_type": "code",
   "execution_count": null,
   "metadata": {},
   "outputs": [],
   "source": []
  },
  {
   "cell_type": "markdown",
   "metadata": {},
   "source": [
    "Now, we calcuate the number of people per bus by grouping by `BusArrivalTime` and then counting the number of entries in each group. We then merge this `busCrowding` DataFrame back into our `busBoarding` DataFrame from the previous step to give us a `numPassengersPerBus` column, which tells us exactly how many of our simulated passengers boarded each bus."
   ]
  },
  {
   "cell_type": "code",
   "execution_count": 15,
   "metadata": {},
   "outputs": [
    {
     "data": {
      "text/html": [
       "<div>\n",
       "<style scoped>\n",
       "    .dataframe tbody tr th:only-of-type {\n",
       "        vertical-align: middle;\n",
       "    }\n",
       "\n",
       "    .dataframe tbody tr th {\n",
       "        vertical-align: top;\n",
       "    }\n",
       "\n",
       "    .dataframe thead th {\n",
       "        text-align: right;\n",
       "    }\n",
       "</style>\n",
       "<table border=\"1\" class=\"dataframe\">\n",
       "  <thead>\n",
       "    <tr style=\"text-align: right;\">\n",
       "      <th></th>\n",
       "      <th>Date</th>\n",
       "      <th>passengerId</th>\n",
       "      <th>passengerArrivalTime</th>\n",
       "      <th>BusArrivalTime</th>\n",
       "      <th>time_delta_mins</th>\n",
       "      <th>WaitTime</th>\n",
       "      <th>numPassengersPerBus</th>\n",
       "    </tr>\n",
       "  </thead>\n",
       "  <tbody>\n",
       "    <tr>\n",
       "      <th>0</th>\n",
       "      <td>2017-08-01</td>\n",
       "      <td>1</td>\n",
       "      <td>2017-08-01 10:04:21.669086605</td>\n",
       "      <td>2017-08-01 11:02:25</td>\n",
       "      <td>191</td>\n",
       "      <td>00:58:03.330913</td>\n",
       "      <td>157</td>\n",
       "    </tr>\n",
       "    <tr>\n",
       "      <th>1</th>\n",
       "      <td>2017-08-01</td>\n",
       "      <td>7</td>\n",
       "      <td>2017-08-01 09:22:34.784578836</td>\n",
       "      <td>2017-08-01 11:02:25</td>\n",
       "      <td>191</td>\n",
       "      <td>01:39:50.215421</td>\n",
       "      <td>157</td>\n",
       "    </tr>\n",
       "    <tr>\n",
       "      <th>2</th>\n",
       "      <td>2017-08-01</td>\n",
       "      <td>11</td>\n",
       "      <td>2017-08-01 10:52:37.627387425</td>\n",
       "      <td>2017-08-01 11:02:25</td>\n",
       "      <td>191</td>\n",
       "      <td>00:09:47.372612</td>\n",
       "      <td>157</td>\n",
       "    </tr>\n",
       "    <tr>\n",
       "      <th>3</th>\n",
       "      <td>2017-08-01</td>\n",
       "      <td>14</td>\n",
       "      <td>2017-08-01 09:56:19.843760612</td>\n",
       "      <td>2017-08-01 11:02:25</td>\n",
       "      <td>191</td>\n",
       "      <td>01:06:05.156239</td>\n",
       "      <td>157</td>\n",
       "    </tr>\n",
       "    <tr>\n",
       "      <th>4</th>\n",
       "      <td>2017-08-01</td>\n",
       "      <td>17</td>\n",
       "      <td>2017-08-01 08:34:42.369940249</td>\n",
       "      <td>2017-08-01 11:02:25</td>\n",
       "      <td>191</td>\n",
       "      <td>02:27:42.630059</td>\n",
       "      <td>157</td>\n",
       "    </tr>\n",
       "  </tbody>\n",
       "</table>\n",
       "</div>"
      ],
      "text/plain": [
       "        Date  passengerId          passengerArrivalTime      BusArrivalTime  \\\n",
       "0 2017-08-01            1 2017-08-01 10:04:21.669086605 2017-08-01 11:02:25   \n",
       "1 2017-08-01            7 2017-08-01 09:22:34.784578836 2017-08-01 11:02:25   \n",
       "2 2017-08-01           11 2017-08-01 10:52:37.627387425 2017-08-01 11:02:25   \n",
       "3 2017-08-01           14 2017-08-01 09:56:19.843760612 2017-08-01 11:02:25   \n",
       "4 2017-08-01           17 2017-08-01 08:34:42.369940249 2017-08-01 11:02:25   \n",
       "\n",
       "   time_delta_mins        WaitTime  numPassengersPerBus  \n",
       "0              191 00:58:03.330913                  157  \n",
       "1              191 01:39:50.215421                  157  \n",
       "2              191 00:09:47.372612                  157  \n",
       "3              191 01:06:05.156239                  157  \n",
       "4              191 02:27:42.630059                  157  "
      ]
     },
     "execution_count": 15,
     "metadata": {},
     "output_type": "execute_result"
    }
   ],
   "source": [
    "busCrowding = busBoarding.groupby(['BusArrivalTime']).count()\n",
    "busCrowding = pd.DataFrame(busCrowding['passengerId']).rename(columns={'passengerId':'numPassengersPerBus'})\n",
    "busCrowding.reset_index()\n",
    "\n",
    "busBoarding = pd.merge(left=busBoarding, right=busCrowding, on='BusArrivalTime', how='inner')\n",
    "busBoarding.head()\n"
   ]
  },
  {
   "cell_type": "markdown",
   "metadata": {},
   "source": [
    "We now take a few columns of the `busBoarding`data that to plot the relationship between `passengerArrivalTime` and `numPassengersPerBus`."
   ]
  },
  {
   "cell_type": "code",
   "execution_count": 16,
   "metadata": {},
   "outputs": [
    {
     "data": {
      "text/html": [
       "<div>\n",
       "<style scoped>\n",
       "    .dataframe tbody tr th:only-of-type {\n",
       "        vertical-align: middle;\n",
       "    }\n",
       "\n",
       "    .dataframe tbody tr th {\n",
       "        vertical-align: top;\n",
       "    }\n",
       "\n",
       "    .dataframe thead th {\n",
       "        text-align: right;\n",
       "    }\n",
       "</style>\n",
       "<table border=\"1\" class=\"dataframe\">\n",
       "  <thead>\n",
       "    <tr style=\"text-align: right;\">\n",
       "      <th></th>\n",
       "      <th>passengerArrivalTime</th>\n",
       "      <th>numPassengersPerBus</th>\n",
       "    </tr>\n",
       "  </thead>\n",
       "  <tbody>\n",
       "    <tr>\n",
       "      <th>0</th>\n",
       "      <td>10:04:21.669086</td>\n",
       "      <td>157</td>\n",
       "    </tr>\n",
       "    <tr>\n",
       "      <th>1</th>\n",
       "      <td>09:22:34.784578</td>\n",
       "      <td>157</td>\n",
       "    </tr>\n",
       "    <tr>\n",
       "      <th>2</th>\n",
       "      <td>10:52:37.627387</td>\n",
       "      <td>157</td>\n",
       "    </tr>\n",
       "    <tr>\n",
       "      <th>3</th>\n",
       "      <td>09:56:19.843760</td>\n",
       "      <td>157</td>\n",
       "    </tr>\n",
       "    <tr>\n",
       "      <th>4</th>\n",
       "      <td>08:34:42.369940</td>\n",
       "      <td>157</td>\n",
       "    </tr>\n",
       "  </tbody>\n",
       "</table>\n",
       "</div>"
      ],
      "text/plain": [
       "  passengerArrivalTime  numPassengersPerBus\n",
       "0      10:04:21.669086                  157\n",
       "1      09:22:34.784578                  157\n",
       "2      10:52:37.627387                  157\n",
       "3      09:56:19.843760                  157\n",
       "4      08:34:42.369940                  157"
      ]
     },
     "execution_count": 16,
     "metadata": {},
     "output_type": "execute_result"
    }
   ],
   "source": [
    "passengerPlotData = busBoarding.loc[:,['passengerArrivalTime','numPassengersPerBus']]\n",
    "passengerPlotData['passengerArrivalTime'] = passengerPlotData.passengerArrivalTime.dt.time\n",
    "passengerPlotData.head()"
   ]
  },
  {
   "cell_type": "markdown",
   "metadata": {},
   "source": [
    "Finally, we have our plot."
   ]
  },
  {
   "cell_type": "code",
   "execution_count": 17,
   "metadata": {},
   "outputs": [
    {
     "data": {
      "text/plain": [
       "(array([-10000.,      0.,  10000.,  20000.,  30000.,  40000.,  50000.,\n",
       "         60000.,  70000.,  80000.,  90000.]),\n",
       " <a list of 11 Text xticklabel objects>)"
      ]
     },
     "execution_count": 17,
     "metadata": {},
     "output_type": "execute_result"
    },
    {
     "data": {
      "image/png": "[encoded data removed]",
      "text/plain": [
       "<Figure size 432x288 with 1 Axes>"
      ]
     },
     "metadata": {
      "needs_background": "light"
     },
     "output_type": "display_data"
    }
   ],
   "source": [
    "passengerPlotData = passengerPlotData.sort_values('passengerArrivalTime', ascending=True)\n",
    "_= plt.plot(passengerPlotData['passengerArrivalTime'], passengerPlotData['numPassengersPerBus'],'.',linestyle='none')\n",
    "_ = plt.xlabel('Passenger Arrival Time')\n",
    "_ = plt.ylabel('Number of Passengers on Bus')\n",
    "_ = plt.margins(0.02) # Keeps data off plot edges\n",
    "plt.xticks(rotation='vertical')"
   ]
  },
  {
   "cell_type": "markdown",
   "metadata": {},
   "source": [
    "Notice that the above plot features a series of points a the 1000 people mark. This signifies that there are busses so crowded that they fit 1000 passengers inside. Clearly there is an innacuracy in the data. The source of the problem is that there is only one bus per day on some days, but the daily population of passengers remains 1000 every day. So far as we can see, there can be two causes for this error: \n",
    "\n",
    "1. Some of the bus arrival data is being unnecessarily deleted or is missing; there are no \"one-bus-only\" days at this stop.\n",
    "2. The number of passengers should be adapted to the number of busses for each transit day. This would mean the error was setting the daily ridership at a constant of `numPassengers=1000`.\n",
    "\n",
    "However, once find the source of this error, we will have our \"base truth\" to help train our models on in the next phase of our project. "
   ]
  }
 ],
 "metadata": {
  "kernelspec": {
   "display_name": "Python 3",
   "language": "python",
   "name": "python3"
  },
  "language_info": {
   "codemirror_mode": {
    "name": "ipython",
    "version": 3
   },
   "file_extension": ".py",
   "mimetype": "text/x-python",
   "name": "python",
   "nbconvert_exporter": "python",
   "pygments_lexer": "ipython3",
   "version": "3.7.0"
  }
 },
 "nbformat": 4,
 "nbformat_minor": 2
}
