{
 "cells": [
  {
   "cell_type": "markdown",
   "metadata": {},
   "source": [
    "# Modeling M100 Lateness\n",
    "\n",
    "Here we're trying to model the M100's lateness and simulated crowdedness in the St. Nicholas stop going to Inwood 220 St Via Amsterdam Via Bway. \n",
    "\n",
    "We are applying Datacamp's Decision-Tree for Classification\n",
    "\n",
    "## Table of Contents:\n",
    "1. [Data Cleaning](#data-cleaning)\n",
    "1. [Plotting a Chart for Sanity](#plotting-a-chart-for-sanity)\n",
    "1. [Saving our Progress](#saving-our-progress)\n",
    "1. [Model Training](#model-training)\\*\n",
    "1. [Data Cleaning](#data-cleaning)\\*\n",
    "\n",
    "\\* Not finished yet"
   ]
  },
  {
   "cell_type": "markdown",
   "metadata": {},
   "source": [
    "Imports"
   ]
  },
  {
   "cell_type": "code",
   "execution_count": 37,
   "metadata": {
    "collapsed": true
   },
   "outputs": [],
   "source": [
    "%matplotlib inline\n",
    "\n",
    "import pandas as pd\n",
    "import numpy as np\n",
    "import warnings\n",
    "import matplotlib.pyplot as plt\n",
    "from sklearn.linear_model import LogisticRegression\n",
    "from sklearn.tree import DecisionTreeClassifier\n",
    "from sklearn.ensemble import RandomForestClassifier, GradientBoostingClassifier\n",
    "from sklearn.metrics import accuracy_score, recall_score, precision_score, confusion_matrix\n",
    "from sklearn.metrics import roc_curve, roc_auc_score\n",
    "from sklearn.model_selection import KFold, train_test_split\n",
    "\n",
    "warnings.filterwarnings(\"ignore\")\n",
    "random_state = 20181112\n",
    "import datetime, math, glob"
   ]
  },
  {
   "cell_type": "markdown",
   "metadata": {},
   "source": [
    "Adding data from the M100 csv file."
   ]
  },
  {
   "cell_type": "code",
   "execution_count": 2,
   "metadata": {
    "collapsed": true
   },
   "outputs": [],
   "source": [
    "%%capture\n",
    "df = pd.read_csv('M100_Aug_W125_st.csv', error_bad_lines=False)"
   ]
  },
  {
   "cell_type": "markdown",
   "metadata": {},
   "source": [
    "# Choosing the Best Classifier\n",
    "\n",
    "We want (a) regressor(s) that can predict the **wait time** and **crowding** of a bus at a specific stop with the inputs **hourly weather** and **time of day**. We would most likely have two models that predict each **wait time** and **crowding**.\n",
    "\n",
    "Here are our top picks for regressors:\n",
    "\n",
    "1. Gradient Boosting Machines ***(top pick)***:\n",
    "    - Why: GBMs are typically a composite model that combines the efforts of multiple weak models to create a strong model, and each additional weak model reduces the mean squared error (MSE) of the overall model. Our goal would be to minimize MSE to increase the accuracy of our predictions.\n",
    "\n",
    "1. Random Forest:\n",
    "    - Why: does not suffer from the overfitting like with Decision Trees. Instead of randomly choosing to split from just **hourly weather** and **time of day**, we can have two trees that randomly split from each and find the best model. \n",
    "\n",
    "1. Decision Trees:  \n",
    "    - Reduction in Standard Deviation (metric): This is a regression metric that measures how much we’ve reduced our uncertainty by picking a split point. By picking the best split each time the greedy decision tree training algorithm tries to form decisions with as few splits as possible.  \n",
    "    - Hyperparameters:   \n",
    "        * Max depth: Limit our tree to a `n` depth to prevent overfitting.\n",
    "        \n",
    "\n",
    "Evaluating our model:\n",
    "\n",
    "Since we're creating regression models, we are interested in the ***mean squared error*** and ***R Squared***. The lower our ***R Squared*** the more accurate our model. We intend to use **K-fold cross validation** as well as a **holdout set** as we improve our model through hyperparameter tuning. \n",
    "\n",
    "    * Preventing "
   ]
  },
  {
   "cell_type": "markdown",
   "metadata": {},
   "source": [
    "# Data Cleaning\n",
    "\n",
    "What we need to do:  \n",
    "\n",
    "1. Clean and break up the time components (Hour, Mins, Secs) of the following:\n",
    "    * `RecordedAtTime`\n",
    "    * `ExpectedArrivalTime`\n",
    "    * `ScheduledArrivalTime`\n",
    "    \n",
    "2. Store features of interest:\n",
    "    * `RecordedAtTime`\n",
    "    * `VehicleLocation.Longitude`\n",
    "    * `VehicleLocation.Latitude`\n",
    "    * `DistanceFromStop`\n",
    "    * `ExpectedArrivalTime`\n",
    "   "
   ]
  },
  {
   "cell_type": "code",
   "execution_count": 3,
   "metadata": {
    "collapsed": true
   },
   "outputs": [],
   "source": [
    "df['ScheduledArrivalTime'] = pd.to_datetime(df.ScheduledArrivalTime, errors='coerce')\n",
    "df.dropna()\n",
    "df['Scheduled_Hour'] = df['ScheduledArrivalTime'].dt.hour\n",
    "df['Scheduled_Minute'] = df['ScheduledArrivalTime'].dt.minute\n",
    "df['Scheduled_Seconds'] = df['ScheduledArrivalTime'].dt.second\n",
    "\n",
    "df['RecordedAtTime'] = pd.to_datetime(df.RecordedAtTime)\n",
    "df['Recorded_Hour'] = pd.to_datetime(df.RecordedAtTime).dt.hour\n",
    "df['Recorded_Minute'] = pd.to_datetime(df.RecordedAtTime).dt.minute\n",
    "df['Recorded_Seconds'] = pd.to_datetime(df.RecordedAtTime).dt.second\n",
    "\n",
    "df['ExpectedArrivalTime'] = pd.to_datetime(df.ExpectedArrivalTime)\n",
    "df['Expected_Hour'] = pd.to_datetime(df.ExpectedArrivalTime).dt.hour\n",
    "df['Expected_Minute'] = pd.to_datetime(df.ExpectedArrivalTime).dt.minute\n",
    "df['Expected_Seconds'] = pd.to_datetime(df.ExpectedArrivalTime).dt.second"
   ]
  },
  {
   "cell_type": "code",
   "execution_count": 4,
   "metadata": {},
   "outputs": [
    {
     "data": {
      "text/plain": [
       "RecordedAtTime               datetime64[ns]\n",
       "DirectionRef                          int64\n",
       "PublishedLineName                    object\n",
       "OriginName                           object\n",
       "OriginLat                           float64\n",
       "OriginLong                          float64\n",
       "DestinationName                      object\n",
       "DestinationLat                      float64\n",
       "DestinationLong                     float64\n",
       "VehicleRef                           object\n",
       "VehicleLocation.Latitude            float64\n",
       "VehicleLocation.Longitude           float64\n",
       "NextStopPointName                    object\n",
       "ArrivalProximityText                 object\n",
       "DistanceFromStop                    float64\n",
       "ExpectedArrivalTime          datetime64[ns]\n",
       "ScheduledArrivalTime         datetime64[ns]\n",
       "time_diff_bus                        object\n",
       "time_diff_bus_mins                    int64\n",
       "Scheduled_Hour                      float64\n",
       "Scheduled_Minute                    float64\n",
       "Scheduled_Seconds                   float64\n",
       "Recorded_Hour                         int64\n",
       "Recorded_Minute                       int64\n",
       "Recorded_Seconds                      int64\n",
       "Expected_Hour                         int64\n",
       "Expected_Minute                       int64\n",
       "Expected_Seconds                      int64\n",
       "dtype: object"
      ]
     },
     "execution_count": 4,
     "metadata": {},
     "output_type": "execute_result"
    }
   ],
   "source": [
    "df.dtypes"
   ]
  },
  {
   "cell_type": "code",
   "execution_count": null,
   "metadata": {
    "collapsed": true
   },
   "outputs": [],
   "source": []
  },
  {
   "cell_type": "code",
   "execution_count": 5,
   "metadata": {},
   "outputs": [
    {
     "data": {
      "text/plain": [
       "RecordedAtTime               89\n",
       "DirectionRef                 89\n",
       "PublishedLineName            89\n",
       "OriginName                   89\n",
       "OriginLat                    89\n",
       "OriginLong                   89\n",
       "DestinationName              89\n",
       "DestinationLat               89\n",
       "DestinationLong              89\n",
       "VehicleRef                   89\n",
       "VehicleLocation.Latitude     89\n",
       "VehicleLocation.Longitude    89\n",
       "NextStopPointName            89\n",
       "ArrivalProximityText         89\n",
       "DistanceFromStop             89\n",
       "ExpectedArrivalTime          89\n",
       "ScheduledArrivalTime         86\n",
       "time_diff_bus                88\n",
       "time_diff_bus_mins           89\n",
       "Scheduled_Hour               86\n",
       "Scheduled_Minute             86\n",
       "Scheduled_Seconds            86\n",
       "Recorded_Hour                89\n",
       "Recorded_Minute              89\n",
       "Recorded_Seconds             89\n",
       "Expected_Hour                89\n",
       "Expected_Minute              89\n",
       "Expected_Seconds             89\n",
       "dtype: int64"
      ]
     },
     "execution_count": 5,
     "metadata": {},
     "output_type": "execute_result"
    }
   ],
   "source": [
    "df.count()"
   ]
  },
  {
   "cell_type": "code",
   "execution_count": 20,
   "metadata": {
    "scrolled": true
   },
   "outputs": [
    {
     "data": {
      "text/plain": [
       "index                        86\n",
       "VehicleLocation.Longitude    86\n",
       "VehicleLocation.Latitude     86\n",
       "OriginLong                   86\n",
       "OriginLat                    86\n",
       "DistanceFromStop             86\n",
       "Recorded_Hour                86\n",
       "Scheduled_Hour               86\n",
       "Scheduled_Minute             86\n",
       "Scheduled_Seconds            86\n",
       "Recorded_Minute              86\n",
       "Recorded_Seconds             86\n",
       "time_diff_bus_mins           86\n",
       "dtype: int64"
      ]
     },
     "execution_count": 20,
     "metadata": {},
     "output_type": "execute_result"
    }
   ],
   "source": [
    "features = (['VehicleLocation.Longitude', \n",
    "             'VehicleLocation.Latitude', \n",
    "             'OriginLong',\n",
    "             'OriginLat',\n",
    "             'DistanceFromStop',\n",
    "             'Recorded_Hour',\n",
    "             'Scheduled_Hour',\n",
    "             'Scheduled_Minute',\n",
    "             'Scheduled_Seconds',\n",
    "             'Recorded_Minute',\n",
    "             'Recorded_Seconds',\n",
    "             'time_diff_bus_mins'\n",
    "            ])\n",
    "\n",
    "model_df = df[(features)].dropna().reset_index()\n",
    "\n",
    "model_df.count()"
   ]
  },
  {
   "cell_type": "markdown",
   "metadata": {},
   "source": [
    "# Plotting a Chart for Sanity\n",
    "\n",
    "We want to have a frequency/histogram for each hour of the day and for each minute of the hour.\n",
    "\n",
    "Credit: David"
   ]
  },
  {
   "cell_type": "code",
   "execution_count": 7,
   "metadata": {
    "collapsed": true
   },
   "outputs": [],
   "source": [
    "def ecdf(inputSeries, label):\n",
    "    try:\n",
    "        x = np.sort(inputSeries)\n",
    "    except:\n",
    "        print(\"Warning: Series Unsorted\")\n",
    "        x = inputSeries\n",
    "    y = np.arange(1, len(x)+1) / len(x)\n",
    "    _ = plt.plot(x, y, marker='.', linestyle='none')\n",
    "    _ = plt.xlabel('Time Delta ({})'.format(label))\n",
    "    _ = plt.ylabel('ECDF')\n",
    "    plt.margins(0.02) # Keeps data off plot edges\n",
    "    plt.show()\n",
    "\n",
    "def hist(inputSeries, label):\n",
    "    plt.hist(inputSeries, bins=25, density=True)\n",
    "    _ = plt.xlabel('Time Delta ({})'.format(label))\n",
    "    _ = plt.ylabel('PDF')\n",
    "    plt.show()"
   ]
  },
  {
   "cell_type": "code",
   "execution_count": 8,
   "metadata": {},
   "outputs": [
    {
     "data": {
      "text/html": [
       "<div>\n",
       "<style>\n",
       "    .dataframe thead tr:only-child th {\n",
       "        text-align: right;\n",
       "    }\n",
       "\n",
       "    .dataframe thead th {\n",
       "        text-align: left;\n",
       "    }\n",
       "\n",
       "    .dataframe tbody tr th {\n",
       "        vertical-align: top;\n",
       "    }\n",
       "</style>\n",
       "<table border=\"1\" class=\"dataframe\">\n",
       "  <thead>\n",
       "    <tr style=\"text-align: right;\">\n",
       "      <th></th>\n",
       "      <th>Recorded_Hour</th>\n",
       "      <th>time_diff_bus_mins</th>\n",
       "      <th>Recorded_Minute</th>\n",
       "    </tr>\n",
       "  </thead>\n",
       "  <tbody>\n",
       "    <tr>\n",
       "      <th>0</th>\n",
       "      <td>7</td>\n",
       "      <td>0</td>\n",
       "      <td>51</td>\n",
       "    </tr>\n",
       "    <tr>\n",
       "      <th>1</th>\n",
       "      <td>7</td>\n",
       "      <td>0</td>\n",
       "      <td>51</td>\n",
       "    </tr>\n",
       "    <tr>\n",
       "      <th>2</th>\n",
       "      <td>7</td>\n",
       "      <td>0</td>\n",
       "      <td>51</td>\n",
       "    </tr>\n",
       "    <tr>\n",
       "      <th>3</th>\n",
       "      <td>11</td>\n",
       "      <td>191</td>\n",
       "      <td>2</td>\n",
       "    </tr>\n",
       "    <tr>\n",
       "      <th>4</th>\n",
       "      <td>13</td>\n",
       "      <td>161</td>\n",
       "      <td>42</td>\n",
       "    </tr>\n",
       "  </tbody>\n",
       "</table>\n",
       "</div>"
      ],
      "text/plain": [
       "   Recorded_Hour  time_diff_bus_mins  Recorded_Minute\n",
       "0              7                   0               51\n",
       "1              7                   0               51\n",
       "2              7                   0               51\n",
       "3             11                 191                2\n",
       "4             13                 161               42"
      ]
     },
     "execution_count": 8,
     "metadata": {},
     "output_type": "execute_result"
    }
   ],
   "source": [
    "M100_NICK_Avg = df[['Recorded_Hour','time_diff_bus_mins', 'Recorded_Minute']]\n",
    "M100_Hour = M100_NICK_Avg.groupby('Recorded_Hour').mean().dropna()\n",
    "M100_Min = M100_NICK_Avg.groupby('Recorded_Minute').mean().dropna()\n",
    "M100_NICK_Avg.head()"
   ]
  },
  {
   "cell_type": "code",
   "execution_count": 9,
   "metadata": {
    "scrolled": true
   },
   "outputs": [
    {
     "data": {
      "image/png": "[encoded data removed]",
      "text/plain": [
       "<matplotlib.figure.Figure at 0x1aa9e04dd30>"
      ]
     },
     "metadata": {},
     "output_type": "display_data"
    },
    {
     "data": {
      "image/png": "[encoded data removed]",
      "text/plain": [
       "<matplotlib.figure.Figure at 0x1aa9e04dd68>"
      ]
     },
     "metadata": {},
     "output_type": "display_data"
    },
    {
     "data": {
      "image/png": "[encoded data removed]",
      "text/plain": [
       "<matplotlib.figure.Figure at 0x1aa9e76e0f0>"
      ]
     },
     "metadata": {},
     "output_type": "display_data"
    },
    {
     "data": {
      "image/png": "[encoded data removed]",
      "text/plain": [
       "<matplotlib.figure.Figure at 0x1aa9e790780>"
      ]
     },
     "metadata": {},
     "output_type": "display_data"
    }
   ],
   "source": [
    "ecdf(M100_Hour['time_diff_bus_mins'], \"per Hour\")\n",
    "hist(M100_Hour['time_diff_bus_mins'], \"per Hour\")\n",
    "\n",
    "ecdf(M100_Min['time_diff_bus_mins'], \"per Minute\")\n",
    "hist(M100_Min['time_diff_bus_mins'], \"per Minute\")"
   ]
  },
  {
   "cell_type": "code",
   "execution_count": null,
   "metadata": {
    "collapsed": true
   },
   "outputs": [],
   "source": []
  },
  {
   "cell_type": "markdown",
   "metadata": {},
   "source": [
    "# Saving our Progress/Merging Weather Data"
   ]
  },
  {
   "cell_type": "code",
   "execution_count": 109,
   "metadata": {},
   "outputs": [
    {
     "ename": "NameError",
     "evalue": "name 'model_df' is not defined",
     "output_type": "error",
     "traceback": [
      "\u001b[1;31m---------------------------------------------------------------------------\u001b[0m",
      "\u001b[1;31mNameError\u001b[0m                                 Traceback (most recent call last)",
      "\u001b[1;32m<ipython-input-109-896ee7a0f4c7>\u001b[0m in \u001b[0;36m<module>\u001b[1;34m()\u001b[0m\n\u001b[1;32m----> 1\u001b[1;33m \u001b[0mmodel_df\u001b[0m\u001b[1;33m.\u001b[0m\u001b[0mto_csv\u001b[0m\u001b[1;33m(\u001b[0m\u001b[1;34m'M100_4_month_W125_st_timesplit.csv'\u001b[0m\u001b[1;33m,\u001b[0m \u001b[0mencoding\u001b[0m\u001b[1;33m=\u001b[0m\u001b[1;34m'utf-8'\u001b[0m\u001b[1;33m,\u001b[0m \u001b[0mindex\u001b[0m\u001b[1;33m=\u001b[0m\u001b[1;32mFalse\u001b[0m\u001b[1;33m)\u001b[0m\u001b[1;33m\u001b[0m\u001b[0m\n\u001b[0m",
      "\u001b[1;31mNameError\u001b[0m: name 'model_df' is not defined"
     ]
    }
   ],
   "source": [
    "model_df.to_csv('M100_4_month_W125_st_timesplit.csv', encoding='utf-8', index=False)"
   ]
  },
  {
   "cell_type": "code",
   "execution_count": 56,
   "metadata": {
    "collapsed": true
   },
   "outputs": [],
   "source": [
    "%%capture\n",
    "weather = pd.read_csv('1401011.csv', error_bad_lines=False)"
   ]
  },
  {
   "cell_type": "code",
   "execution_count": 51,
   "metadata": {},
   "outputs": [],
   "source": [
    "# weather['dates'] = weather['DATE'].str.split(' ', 1, expand=True)"
   ]
  },
  {
   "cell_type": "code",
   "execution_count": 111,
   "metadata": {
    "collapsed": true
   },
   "outputs": [],
   "source": [
    "%%capture\n",
    "df = pd.read_csv('M100_Aug_W125_st.csv', error_bad_lines=False)"
   ]
  },
  {
   "cell_type": "markdown",
   "metadata": {},
   "source": [
    "Splitting training and testing datasets"
   ]
  },
  {
   "cell_type": "code",
   "execution_count": 57,
   "metadata": {
    "collapsed": true
   },
   "outputs": [],
   "source": [
    "newWeather = weather[['DATE','HOURLYVISIBILITY', 'HOURLYWindSpeed', 'HOURLYPrecip']]"
   ]
  },
  {
   "cell_type": "code",
   "execution_count": 58,
   "metadata": {
    "collapsed": true
   },
   "outputs": [],
   "source": [
    "newWeather['HOUR'] = pd.to_datetime(weather['DATE']).dt.hour\n",
    "newWeather['DAY'] = pd.to_datetime(weather['DATE']).dt.day"
   ]
  },
  {
   "cell_type": "code",
   "execution_count": 59,
   "metadata": {
    "collapsed": true
   },
   "outputs": [],
   "source": [
    "# Time gate to August\n",
    "\n",
    "newWeather = newWeather[(newWeather['DATE'] > '2017-08-01') & (newWeather['DATE'] < '2017-09-01')].reset_index().dropna()"
   ]
  },
  {
   "cell_type": "code",
   "execution_count": 60,
   "metadata": {},
   "outputs": [
    {
     "data": {
      "text/plain": [
       "<bound method NDFrame.head of        index              DATE  HOURLYVISIBILITY  HOURLYWindSpeed  \\\n",
       "0     114727  2017-08-01 00:51              10.0              3.0   \n",
       "1     114728  2017-08-01 01:51              10.0              0.0   \n",
       "2     114729  2017-08-01 02:51              10.0              0.0   \n",
       "3     114730  2017-08-01 03:51              10.0              3.0   \n",
       "4     114731  2017-08-01 04:51              10.0              0.0   \n",
       "5     114732  2017-08-01 05:51              10.0              0.0   \n",
       "6     114733  2017-08-01 06:51              10.0              0.0   \n",
       "7     114734  2017-08-01 07:51              10.0              5.0   \n",
       "8     114735  2017-08-01 08:51              10.0              6.0   \n",
       "9     114736  2017-08-01 09:51              10.0              0.0   \n",
       "10    114737  2017-08-01 10:51              10.0              3.0   \n",
       "11    114738  2017-08-01 11:51              10.0              5.0   \n",
       "...      ...               ...               ...              ...   \n",
       "993   115720  2017-08-31 12:51              10.0              7.0   \n",
       "994   115721  2017-08-31 13:51              10.0              3.0   \n",
       "995   115722  2017-08-31 14:51              10.0              6.0   \n",
       "996   115723  2017-08-31 15:51              10.0              0.0   \n",
       "997   115724  2017-08-31 16:51              10.0              7.0   \n",
       "998   115725  2017-08-31 17:51              10.0              3.0   \n",
       "999   115726  2017-08-31 18:51              10.0              7.0   \n",
       "1000  115727  2017-08-31 19:51               9.0              0.0   \n",
       "1001  115728  2017-08-31 20:51              10.0              3.0   \n",
       "1002  115729  2017-08-31 21:51              10.0              0.0   \n",
       "1003  115730  2017-08-31 22:51              10.0              6.0   \n",
       "1004  115731  2017-08-31 23:51              10.0              3.0   \n",
       "\n",
       "      HOURLYPrecip  HOUR  DAY  \n",
       "0              0.0     0    1  \n",
       "1              0.0     1    1  \n",
       "2              0.0     2    1  \n",
       "3              0.0     3    1  \n",
       "4              0.0     4    1  \n",
       "5              0.0     5    1  \n",
       "6              0.0     6    1  \n",
       "7              0.0     7    1  \n",
       "8              0.0     8    1  \n",
       "9              0.0     9    1  \n",
       "10             0.0    10    1  \n",
       "11             0.0    11    1  \n",
       "...            ...   ...  ...  \n",
       "993            0.0    12   31  \n",
       "994            0.0    13   31  \n",
       "995            0.0    14   31  \n",
       "996            0.0    15   31  \n",
       "997            0.0    16   31  \n",
       "998            0.0    17   31  \n",
       "999            0.0    18   31  \n",
       "1000           0.0    19   31  \n",
       "1001           0.0    20   31  \n",
       "1002           0.0    21   31  \n",
       "1003           0.0    22   31  \n",
       "1004           0.0    23   31  \n",
       "\n",
       "[788 rows x 7 columns]>"
      ]
     },
     "execution_count": 60,
     "metadata": {},
     "output_type": "execute_result"
    }
   ],
   "source": [
    "\n",
    "# Fix some data types\n",
    "newWeather['HOURLYPrecip'] = pd.to_numeric(newWeather['HOURLYPrecip'], downcast='float', errors='coerce')\n",
    "newWeather['HOURLYVISIBILITY'] = pd.to_numeric(newWeather['HOURLYVISIBILITY'], downcast='float', errors='coerce')\n",
    "# Bound hour of day\n",
    "# newWeather = newWeather[(newWeather['HOUR'] > 4) & (newWeather['HOUR'] < 20)]\n",
    "newWeather.reset_index()\n",
    "newWeather.head"
   ]
  },
  {
   "cell_type": "code",
   "execution_count": 62,
   "metadata": {},
   "outputs": [
    {
     "data": {
      "text/plain": [
       "index                 int64\n",
       "DATE                 object\n",
       "HOURLYVISIBILITY    float32\n",
       "HOURLYWindSpeed     float64\n",
       "HOURLYPrecip        float32\n",
       "HOUR                  int64\n",
       "DAY                   int64\n",
       "dtype: object"
      ]
     },
     "execution_count": 62,
     "metadata": {},
     "output_type": "execute_result"
    }
   ],
   "source": [
    "newWeather.dtypes"
   ]
  },
  {
   "cell_type": "code",
   "execution_count": 61,
   "metadata": {},
   "outputs": [
    {
     "data": {
      "text/plain": [
       "8     39\n",
       "10    37\n",
       "12    36\n",
       "23    35\n",
       "6     35\n",
       "17    34\n",
       "9     34\n",
       "2     34\n",
       "7     34\n",
       "18    33\n",
       "19    33\n",
       "3     33\n",
       "14    33\n",
       "16    32\n",
       "15    32\n",
       "5     32\n",
       "13    32\n",
       "4     32\n",
       "0     31\n",
       "20    31\n",
       "21    30\n",
       "1     30\n",
       "11    29\n",
       "22    27\n",
       "Name: HOUR, dtype: int64"
      ]
     },
     "execution_count": 61,
     "metadata": {},
     "output_type": "execute_result"
    }
   ],
   "source": [
    "newWeather['HOUR'].value_counts()"
   ]
  },
  {
   "cell_type": "code",
   "execution_count": null,
   "metadata": {
    "collapsed": true
   },
   "outputs": [],
   "source": []
  },
  {
   "cell_type": "markdown",
   "metadata": {},
   "source": [
    "# Model Training\n",
    "\n",
    "Adapted from: https://shankarmsy.github.io/stories/gbrt-sklearn.html"
   ]
  },
  {
   "cell_type": "code",
   "execution_count": 35,
   "metadata": {},
   "outputs": [
    {
     "ename": "SyntaxError",
     "evalue": "invalid syntax (<ipython-input-35-56ef0f90e201>, line 21)",
     "output_type": "error",
     "traceback": [
      "\u001b[1;36m  File \u001b[1;32m\"<ipython-input-35-56ef0f90e201>\"\u001b[1;36m, line \u001b[1;32m21\u001b[0m\n\u001b[1;33m    io.StringIO as StringIO\u001b[0m\n\u001b[1;37m                 ^\u001b[0m\n\u001b[1;31mSyntaxError\u001b[0m\u001b[1;31m:\u001b[0m invalid syntax\n"
     ]
    }
   ],
   "source": [
    "#Importing required Python packages \n",
    "%matplotlib inline \n",
    "import matplotlib.pylab as plt \n",
    "import numpy as np \n",
    "from scipy import sparse \n",
    "from sklearn.datasets import make_classification, make_blobs, load_boston, fetch_california_housing \n",
    "from sklearn.decomposition import PCA \n",
    "from sklearn.cross_validation import ShuffleSplit, train_test_split \n",
    "from sklearn import metrics \n",
    "from sklearn.learning_curve import learning_curve \n",
    "from sklearn.linear_model import LinearRegression \n",
    "from sklearn.ensemble import GradientBoostingRegressor \n",
    "from sklearn.grid_search import GridSearchCV \n",
    "from pprint import pprint \n",
    "import pandas as pd \n",
    "from pandas.tools.plotting import scatter_matrix \n",
    "import urllib \n",
    "import requests \n",
    "import zipfile \n",
    "import seaborn\n",
    "\n",
    "np.random.seed(sum(map(ord, \"aesthetics\"))) \n",
    "seaborn.set_context('notebook') \n",
    "pd.set_option('display.mpl_style', 'default') # Make the graphs a bit prettier \n",
    "plt.rcParams['figure.figsize'] = (15, 5) # Set some Pandas options \n",
    "pd.set_option('display.notebook_repr_html', False) \n",
    "pd.set_option('display.max_columns', 40) \n",
    "pd.set_option('display.max_rows', 25) \n",
    "pd.options.display.max_colwidth = 50 \n"
   ]
  },
  {
   "cell_type": "markdown",
   "metadata": {},
   "source": [
    "## Features, Targets and Splitting"
   ]
  },
  {
   "cell_type": "code",
   "execution_count": 18,
   "metadata": {},
   "outputs": [],
   "source": [
    "cal=fetch_california_housing()"
   ]
  },
  {
   "cell_type": "code",
   "execution_count": 19,
   "metadata": {
    "collapsed": true,
    "scrolled": true
   },
   "outputs": [],
   "source": [
    "# Split data here\n",
    "X_train, X_test, y_train, y_test = train_test_split(cal.data, cal.target) "
   ]
  },
  {
   "cell_type": "markdown",
   "metadata": {},
   "source": [
    "## The Gradient Boosting Regression Tree"
   ]
  },
  {
   "cell_type": "code",
   "execution_count": 20,
   "metadata": {
    "collapsed": true
   },
   "outputs": [],
   "source": [
    "gbrt=GradientBoostingRegressor(n_estimators=100) \n",
    "\n",
    "gbrt.fit(X_train, y_train) \n",
    "y_pred=gbrt.predict(X_test) "
   ]
  },
  {
   "cell_type": "markdown",
   "metadata": {},
   "source": [
    "## Designing the model"
   ]
  },
  {
   "cell_type": "code",
   "execution_count": 21,
   "metadata": {
    "collapsed": true
   },
   "outputs": [],
   "source": [
    " def GradientBooster(param_grid, n_jobs): \n",
    "        estimator = GradientBoostingRegressor() \n",
    "        #Choose cross-validation generator - let's choose ShuffleSplit which randomly shuffles and selects Train and CV sets \n",
    "        #for each iteration. There are other methods like the KFold split. \n",
    "        cv = ShuffleSplit(X_train.shape[0], n_iter=10, test_size=0.2) \n",
    "        \n",
    "        #Apply the cross-validation iterator on the Training set using GridSearchCV. This will run the classifier on the \n",
    "        #different train/cv splits using parameters specified and return the model that has the best results \n",
    "        #Note that we are tuning based on the F1 score 2PR/P+R where P is Precision and R is Recall. This may not always be \n",
    "        #the best score to tune our model on. I will explore this area further in a seperate exercise. For now, we'll use F1. \n",
    "        \n",
    "        classifier = GridSearchCV(estimator=estimator, cv=cv, param_grid=param_grid, n_jobs=n_jobs) \n",
    "        #Also note that we're feeding multiple neighbors to the GridSearch to try out. \n",
    "        #We'll now fit the training dataset to this classifier \n",
    "        classifier.fit(X_train, y_train) \n",
    "        \n",
    "        #Let's look at the best estimator that was found by GridSearchCV \n",
    "        print(\"Best Estimator learned through GridSearch\") \n",
    "        print(classifier.best_estimator_) \n",
    "        return cv, classifier.best_estimator_ "
   ]
  },
  {
   "cell_type": "code",
   "execution_count": 22,
   "metadata": {},
   "outputs": [
    {
     "name": "stdout",
     "output_type": "stream",
     "text": [
      "Automatically created module for IPython interactive environment\n"
     ]
    }
   ],
   "source": [
    "#Below is a plot_learning_curve module that's provided by scikit-learn. It allows us to quickly and easily visualize how #well the model is performing based on number of samples we're training on. It helps to understand situations such as #high variance or bias. \n",
    "#We'll call this module in the next segment. \n",
    "print(__doc__) \n",
    "import numpy as np \n",
    "import matplotlib.pyplot as plt \n",
    "from sklearn import cross_validation \n",
    "from sklearn.naive_bayes import GaussianNB \n",
    "from sklearn.datasets import load_digits \n",
    "from sklearn.learning_curve import learning_curve \n",
    "\n",
    "def plot_learning_curve(estimator, title, X, y, ylim=None, cv=None, n_jobs=1, train_sizes=np.linspace(.1, 1.0, 5)): \n",
    "    \"\"\" Generate a simple plot of the test and traning learning curve. \n",
    "    \n",
    "    Parameters \n",
    "    ---------- \n",
    "    estimator : \n",
    "    object type that implements the \"fit\" and \"predict\" methods An object of that type which is cloned for \n",
    "    each validation. title : string Title for the chart. X : array-like, shape (n_samples, n_features) \n",
    "    Training vector, where n_samples is the number of samples and n_features is the number of features. \n",
    "    y : \n",
    "    array-like, shape (n_samples) or (n_samples, n_features), optional Target relative to X for classification \n",
    "    or regression; None for unsupervised learning. ylim : tuple, shape (ymin, ymax), optional Defines minimum \n",
    "    and maximum yvalues plotted. cv : integer, cross-validation generator, optional If an integer is passed, \n",
    "    it is the number of folds (defaults to 3). Specific cross-validation objects can be passed, \n",
    "    see sklearn.cross_validation module for the list of possible objects n_jobs : integer, \n",
    "    optional Number of jobs to run in parallel (default 1). \"\"\" \n",
    "    \n",
    "    plt.figure() \n",
    "    plt.title(title) \n",
    "    if ylim is not None: \n",
    "        plt.ylim(*ylim) \n",
    "    plt.xlabel(\"Training examples\") \n",
    "    plt.ylabel(\"Score\") \n",
    "    train_sizes, train_scores, test_scores = learning_curve( estimator, X, y, cv=cv, n_jobs=n_jobs, train_sizes=train_sizes) \n",
    "    train_scores_mean = np.mean(train_scores, axis=1) \n",
    "    train_scores_std = np.std(train_scores, axis=1) \n",
    "    test_scores_mean = np.mean(test_scores, axis=1) \n",
    "    test_scores_std = np.std(test_scores, axis=1) \n",
    "    plt.grid() \n",
    "    plt.fill_between(train_sizes, train_scores_mean - train_scores_std, train_scores_mean + train_scores_std, alpha=0.1, color=\"r\") \n",
    "    plt.fill_between(train_sizes, test_scores_mean - test_scores_std, test_scores_mean + test_scores_std, alpha=0.1, color=\"g\") \n",
    "    plt.plot(train_sizes, train_scores_mean, 'o-', color=\"r\", label=\"Training score\") \n",
    "    plt.plot(train_sizes, test_scores_mean, 'o-', color=\"g\", label=\"Cross-validation score\") \n",
    "    plt.legend(loc=\"best\") \n",
    "    \n",
    "    return plt "
   ]
  },
  {
   "cell_type": "code",
   "execution_count": 23,
   "metadata": {},
   "outputs": [
    {
     "name": "stdout",
     "output_type": "stream",
     "text": [
      "Best Estimator learned through GridSearch\n",
      "GradientBoostingRegressor(alpha=0.9, criterion='friedman_mse', init=None,\n",
      "             learning_rate=0.1, loss='ls', max_depth=6, max_features=1.0,\n",
      "             max_leaf_nodes=None, min_impurity_decrease=0.0,\n",
      "             min_impurity_split=None, min_samples_leaf=3,\n",
      "             min_samples_split=2, min_weight_fraction_leaf=0.0,\n",
      "             n_estimators=100, presort='auto', random_state=None,\n",
      "             subsample=1.0, verbose=0, warm_start=False)\n"
     ]
    }
   ],
   "source": [
    "#WARNING - THIS MIGHT TAKE A WHILE TO RUN. TRY ADJUSTING parameters such as n_jobs (jobs to run in parallel, before \n",
    "#increasing this make sure your system can handle it), n_iter for ShuffleSplit (in the function definition) and reducing \n",
    "#number of values being tried for max_depth/n_estimators. \n",
    "#SELECT INTERRUPT IN THE MENU AND PRESS INTERRUPT KERNEL IF YOU NEEDD TO STOP EXECUTION \n",
    "\n",
    "param_grid={\n",
    "    'n_estimators':[100], \n",
    "    'learning_rate': [0.1],# 0.05, 0.02, 0.01], \n",
    "    'max_depth':[6],#4,6], \n",
    "    'min_samples_leaf':[3],#,5,9,17], \n",
    "    'max_features':[1.0],#,0.3]#,0.1] \n",
    "} \n",
    "\n",
    "n_jobs=4 \n",
    "#Let's fit GBRT to the digits training dataset by calling the function we just created. \n",
    "\n",
    "cv,best_est=GradientBooster(param_grid, n_jobs) "
   ]
  },
  {
   "cell_type": "code",
   "execution_count": 24,
   "metadata": {},
   "outputs": [
    {
     "name": "stdout",
     "output_type": "stream",
     "text": [
      "Best Estimator Parameters\n",
      "---------------------------\n",
      "n_estimators: 100\n",
      "max_depth: 6\n",
      "Learning Rate: 0.1\n",
      "min_samples_leaf: 3\n",
      "max_features: 1.0\n",
      "Train R-squared: 0.9033749663\n"
     ]
    }
   ],
   "source": [
    "#OK great, so we got back the best estimator parameters as follows:\n",
    "print(\"Best Estimator Parameters\")\n",
    "print(\"---------------------------\")\n",
    "print(\"n_estimators:\", best_est.n_estimators)\n",
    "print(\"max_depth:\", best_est.max_depth)\n",
    "print(\"Learning Rate:\", best_est.learning_rate)\n",
    "print(\"min_samples_leaf:\", best_est.min_samples_leaf)\n",
    "print(\"max_features:\", best_est.max_features)\n",
    "\n",
    "print(\"Train R-squared:\", best_est.score(X_train,y_train))\n",
    "\n",
    "#Each of these parameters is critical to learning. Some of them will help address overfitting issues as well. For more \n",
    "#info about overfitting and regularization, check out the SVM notebook in my Github repos where I provide more info on \n",
    "#the subject.\n"
   ]
  },
  {
   "cell_type": "code",
   "execution_count": 25,
   "metadata": {},
   "outputs": [
    {
     "data": {
      "image/png": "[encoded data removed]",
      "text/plain": [
       "<matplotlib.figure.Figure at 0x2ae4396fa20>"
      ]
     },
     "metadata": {},
     "output_type": "display_data"
    }
   ],
   "source": [
    "#The module simply runs the estimator multiple times on subsets of the data provided and plots the train and cv scores.\n",
    "#Note that we're feeding the best parameters we've learned from GridSearchCV to the estimator now.\n",
    "#We may need to adjust the hyperparameters further if there is overfitting (or underfitting, though unlikely)\n",
    "title = \"Learning Curves (Gradient Boosted Regression Trees)\" \n",
    "estimator = GradientBoostingRegressor(n_estimators=best_est.n_estimators, max_depth=best_est.max_depth,\n",
    "                                      learning_rate=best_est.learning_rate, min_samples_leaf=best_est.min_samples_leaf,\n",
    "                                      max_features=best_est.max_features)\n",
    "plot_learning_curve(estimator, title, X_train, y_train, cv=cv, n_jobs=n_jobs)\n",
    "plt.show()\n",
    "\n",
    "#Looks like we've done a reasonable job getting about ~0.85 R-squared on the cv set and looks from the learning\n",
    "#curve that we may be able to do a bit better with more estimators. Although we may need to reduce the learning rate even \n",
    "#further to address any overfitting."
   ]
  },
  {
   "cell_type": "code",
   "execution_count": 27,
   "metadata": {},
   "outputs": [
    {
     "data": {
      "image/png": "[encoded data removed]",
      "text/plain": [
       "<matplotlib.figure.Figure at 0x2ae44de8dd8>"
      ]
     },
     "metadata": {},
     "output_type": "display_data"
    }
   ],
   "source": [
    "#Let's try one more trick. We'll trim the training set to its most important features and re-train to see if \n",
    "#that helps.\n",
    "title = \"Learning Curves (Gradient Boosted Regression Trees)\" \n",
    "\n",
    "#Dropping all parameters except n_estimators and learning_rate since we're going to trim the features anyway.\n",
    "estimator = GradientBoostingRegressor(n_estimators=best_est.n_estimators, learning_rate=best_est.learning_rate)\n",
    "\n",
    "#Calling fit on the estimator so we can transform the X matrices.\n",
    "estimator.fit(X_train, y_train)\n",
    "\n",
    "#Trimming feature matrices to include only those features that are more important than the mean of all importances.\n",
    "# X_train_trim=estimator.transform(X_train, threshold='mean')\n",
    "\n",
    "# #Trimming test as well in case we end up going with this model as final.\n",
    "# X_test_trim=estimator.transform(X_test, threshold='mean')\n",
    "\n",
    "#Re-plotting Learning cruves.\n",
    "plot_learning_curve(estimator, title, X_train, y_train, cv=cv, n_jobs=n_jobs)\n",
    "plt.show()\n",
    "\n",
    "#So what do we infer from this plot? We seem to have addressed overfitting much better but the overall score of both train\n",
    "#and cv has gone down considerably, indicating that the features we dropped were actually collectively contributing\n",
    "#to the model. Let's go back to the first model that the Grid Search returned and run our test scores.\n"
   ]
  },
  {
   "cell_type": "code",
   "execution_count": 28,
   "metadata": {},
   "outputs": [
    {
     "name": "stdout",
     "output_type": "stream",
     "text": [
      "Train R-squared:  0.9033749663\n",
      "Test R-squared:  0.815211140424\n"
     ]
    }
   ],
   "source": [
    "#Switching back to the best model from gridsearch\n",
    "estimator = best_est\n",
    "\n",
    "#Re-fitting to the train set\n",
    "estimator.fit(X_train, y_train)\n",
    "\n",
    "#Calculating train/test scores - R-squared value\n",
    "print(\"Train R-squared: \", estimator.score(X_train, y_train))\n",
    "print(\"Test R-squared: \", estimator.score(X_test, y_test))\n",
    "\n",
    "#There you have it, our final R-squared on the California housing dataset, 0.82"
   ]
  },
  {
   "cell_type": "code",
   "execution_count": 36,
   "metadata": {},
   "outputs": [
    {
     "ename": "NameError",
     "evalue": "name 'io' is not defined",
     "output_type": "error",
     "traceback": [
      "\u001b[1;31m---------------------------------------------------------------------------\u001b[0m",
      "\u001b[1;31mNameError\u001b[0m                                 Traceback (most recent call last)",
      "\u001b[1;32m<ipython-input-36-f7d0827551d0>\u001b[0m in \u001b[0;36m<module>\u001b[1;34m()\u001b[0m\n\u001b[0;32m      6\u001b[0m \u001b[1;31m#read_csv command\u001b[0m\u001b[1;33m\u001b[0m\u001b[1;33m\u001b[0m\u001b[0m\n\u001b[0;32m      7\u001b[0m \u001b[0murl\u001b[0m\u001b[1;33m=\u001b[0m\u001b[0mrequests\u001b[0m\u001b[1;33m.\u001b[0m\u001b[0mget\u001b[0m\u001b[1;33m(\u001b[0m\u001b[1;34m'https://resources.lendingclub.com/LoanStats3c.csv.zip'\u001b[0m\u001b[1;33m)\u001b[0m\u001b[1;33m\u001b[0m\u001b[0m\n\u001b[1;32m----> 8\u001b[1;33m \u001b[0mz\u001b[0m\u001b[1;33m=\u001b[0m\u001b[0mzipfile\u001b[0m\u001b[1;33m.\u001b[0m\u001b[0mZipFile\u001b[0m\u001b[1;33m(\u001b[0m\u001b[0mio\u001b[0m\u001b[1;33m.\u001b[0m\u001b[0mStringIO\u001b[0m\u001b[1;33m(\u001b[0m\u001b[0murl\u001b[0m\u001b[1;33m.\u001b[0m\u001b[0mcontent\u001b[0m\u001b[1;33m)\u001b[0m\u001b[1;33m)\u001b[0m\u001b[1;33m\u001b[0m\u001b[0m\n\u001b[0m\u001b[0;32m      9\u001b[0m \u001b[1;33m\u001b[0m\u001b[0m\n\u001b[0;32m     10\u001b[0m \u001b[0mloan\u001b[0m\u001b[1;33m=\u001b[0m\u001b[0mpd\u001b[0m\u001b[1;33m.\u001b[0m\u001b[0mread_csv\u001b[0m\u001b[1;33m(\u001b[0m\u001b[0mz\u001b[0m\u001b[1;33m.\u001b[0m\u001b[0mopen\u001b[0m\u001b[1;33m(\u001b[0m\u001b[1;34m'LoanStats3c.csv'\u001b[0m\u001b[1;33m)\u001b[0m\u001b[1;33m,\u001b[0m \u001b[0mskiprows\u001b[0m\u001b[1;33m=\u001b[0m\u001b[1;36m1\u001b[0m\u001b[1;33m,\u001b[0m \u001b[0mparse_dates\u001b[0m\u001b[1;33m=\u001b[0m\u001b[1;32mTrue\u001b[0m\u001b[1;33m,\u001b[0m \u001b[0mindex_col\u001b[0m\u001b[1;33m=\u001b[0m\u001b[1;34m'id'\u001b[0m\u001b[1;33m)\u001b[0m\u001b[1;33m\u001b[0m\u001b[0m\n",
      "\u001b[1;31mNameError\u001b[0m: name 'io' is not defined"
     ]
    }
   ],
   "source": [
    "#OK let's run through a more complex example this time. We'll explore anonymous loan data provided by lendingclub. \n",
    "#We'll try to predict the interest rate for loan applications based on data provided. Let's first download data to \n",
    "#a pandas df.\n",
    "\n",
    "#The Dataset is a zip file. So let's first read in the dataset through requests then pass it on to Pandas through the\n",
    "#read_csv command\n",
    "url=requests.get('https://resources.lendingclub.com/LoanStats3c.csv.zip')\n",
    "z=zipfile.ZipFile(io.StringIO(url.content))\n",
    "\n",
    "loan=pd.read_csv(z.open('LoanStats3c.csv'), skiprows=1, parse_dates=True, index_col='id')\n",
    "loanbk=loan.copy() #Backup of the dataframe so we don't have to download data everytime"
   ]
  },
  {
   "cell_type": "code",
   "execution_count": null,
   "metadata": {
    "collapsed": true
   },
   "outputs": [],
   "source": [
    "#Let's take a quick peek at the dataset\n",
    "loan.describe()"
   ]
  },
  {
   "cell_type": "code",
   "execution_count": null,
   "metadata": {
    "collapsed": true
   },
   "outputs": [],
   "source": [
    "#For simplicity, let's first drop nulls in the dataset. axis=1 indicates we'll drop rows not cols.\n",
    "loan = loan.dropna(axis=0)"
   ]
  },
  {
   "cell_type": "code",
   "execution_count": null,
   "metadata": {
    "collapsed": true
   },
   "outputs": [],
   "source": [
    "#OK let's take a look at the columns and see if there are any we can drop any before we get started.\n",
    "loan.columns.values\n",
    "\n",
    "#There're plenty that don't seem very relevant. Let's drop them.\n",
    "loan=loan.drop(['member_id', 'grade', 'sub_grade', 'emp_title', 'issue_d',\n",
    "          'pymnt_plan', 'url', 'desc', 'title', 'initial_list_status',\n",
    "          'last_pymnt_d', 'last_pymnt_amnt', 'next_pymnt_d', 'last_credit_pull_d',\n",
    "          'policy_code', 'emp_length', 'addr_state','zip_code'], axis=1)\n",
    "\n",
    "#Check the data dictionary for this dataset at https://resources.lendingclub.com/LCDataDictionary.xlsx for more details"
   ]
  },
  {
   "cell_type": "code",
   "execution_count": null,
   "metadata": {
    "collapsed": true
   },
   "outputs": [],
   "source": [
    "# Get rid of non-numeric values throughout the DataFrame:\n",
    "for col in loan.columns.values:\n",
    "  loan[col] = loan[col].replace('[^0-9]+.-', '', regex=True)\n",
    "loan.head(2)"
   ]
  },
  {
   "cell_type": "code",
   "execution_count": null,
   "metadata": {
    "collapsed": true
   },
   "outputs": [],
   "source": [
    "#Remove % symbol from the interest rate & revolving utilization\n",
    "loan.int_rate=loan.int_rate.str.split('%',1).str[0]\n",
    "loan.revol_util=loan.revol_util.str.split('%',1).str[0]\n",
    "\n",
    "#Remove \"months\" from the loan period\n",
    "loan.term=loan.term.str.split(' ',2).str[1]\n",
    "\n",
    "loan.head(2)"
   ]
  },
  {
   "cell_type": "code",
   "execution_count": null,
   "metadata": {
    "collapsed": true
   },
   "outputs": [],
   "source": [
    "#Let's change the Income Verified column, which currently has textual labels to numeric.\n",
    "from sklearn.preprocessing import LabelEncoder\n",
    "le=LabelEncoder()\n",
    "loan.is_inc_v = le.fit_transform(loan.is_inc_v.values)\n",
    "loan.home_ownership=le.fit_transform(loan.home_ownership.values)\n",
    "loan.loan_status=le.fit_transform(loan.loan_status.values)\n",
    "loan.purpose=le.fit_transform(loan.purpose.values)\n",
    "\n",
    "#Finally let's be sure we convert all fields to numeric\n",
    "loan=loan.convert_objects(convert_numeric=True)\n",
    "\n",
    "loan.head(2)"
   ]
  },
  {
   "cell_type": "code",
   "execution_count": null,
   "metadata": {
    "collapsed": true
   },
   "outputs": [],
   "source": [
    "#OK great, let's now get our X and y. We know that interest rate is y.\n",
    "#Pandas is fantastic, all you need to do is use .values to get the data in numpy format\n",
    "y=loan.int_rate.values\n",
    "\n",
    "#Let's remove y from the df so we can get X\n",
    "del loan['int_rate']\n",
    "X=loan.values\n",
    "\n",
    "#Now, the train test split\n",
    "X_train, X_test, y_train, y_test = train_test_split(X,y)"
   ]
  },
  {
   "cell_type": "code",
   "execution_count": null,
   "metadata": {
    "collapsed": true
   },
   "outputs": [],
   "source": [
    "#Great, in no time we have grabbed an unknown dataset from the web, munged it using Pandas and now have ready-to-go\n",
    "#training and test numpy arrays for running the GBRT regressor. Let's go!\n",
    "\n",
    "#WARNING - THIS MIGHT TAKE A WHILE TO RUN. TRY ADJUSTING parameters such as n_jobs (jobs to run in parallel, before \n",
    "#increasing this make sure your system can handle it), n_iter for ShuffleSplit (in the function definition) and reducing \n",
    "#number of values being tried for max_depth/n_estimators.\n",
    "\n",
    "#SELECT INTERRUPT IN THE MENU AND PRESS INTERRUPT KERNEL IF YOU NEEDD TO STOP EXECUTION\n",
    "\n",
    "param_grid={'n_estimators':[100],#,500,1000],\n",
    "            'learning_rate': [0.1,0.05,0.02],# 0.01],\n",
    "            'max_depth':[4,6], \n",
    "            'min_samples_leaf':[3,5,9,17], \n",
    "            'max_features':[1.0,0.3,0.1]\n",
    "           }\n",
    "n_jobs=4\n",
    "\n",
    "#Let's fit GBRT to the digits training dataset by calling the function we just created.\n",
    "cv,best_est=GradientBooster(param_grid, n_jobs)"
   ]
  },
  {
   "cell_type": "code",
   "execution_count": null,
   "metadata": {
    "collapsed": true
   },
   "outputs": [],
   "source": [
    "#OK great, so we got back the best estimator parameters as follows:\n",
    "print(\"Best Estimator Parameters\")\n",
    "print(\"---------------------------\")\n",
    "print (\"n_estimators:\", best_est.n_estimators)\n",
    "print (\"max_depth:\", best_est.max_depth)\n",
    "print (\"Learning Rate:\", best_est.learning_rate)\n",
    "print (\"min_samples_leaf:\", best_est.min_samples_leaf)\n",
    "print (\"max_features:\", best_est.max_features)\n",
    "\n",
    "print (\"Train R-squared:\", best_est.score(X_train,y_train))\n",
    "\n",
    "#The training R-Squared is almost 1.0 which indicates we can understand 99% of the variance in the data as well as\n",
    "#there's a chance we might overfit. Let's see with the learning curves below.\n"
   ]
  },
  {
   "cell_type": "code",
   "execution_count": null,
   "metadata": {
    "collapsed": true
   },
   "outputs": [],
   "source": [
    "#OK we'll now call the plot_learning_curve module by feeding it the estimator (best estimator returned from GS) \n",
    "#and train/cv sets.\n",
    "\n",
    "#The module simply runs the estimator multiple times on subsets of the data provided and plots the train and cv scores.\n",
    "#Note that we're feeding the best parameters we've learned from GridSearchCV to the estimator now.\n",
    "#We may need to adjust the hyperparameters further if there is overfitting (or underfitting, though unlikely)\n",
    "title = \"Learning Curves (Gradient Boosted Regression Trees)\" \n",
    "estimator = GradientBoostingRegressor(n_estimators=best_est.n_estimators, max_depth=best_est.max_depth,\n",
    "                                      learning_rate=best_est.learning_rate, min_samples_leaf=best_est.min_samples_leaf,\n",
    "                                      max_features=best_est.max_features)\n",
    "plot_learning_curve(estimator, title, X_train, y_train, cv=cv, n_jobs=n_jobs)\n",
    "plt.show()\n",
    "\n",
    "#OK yes, there is some overfitting there. We can see the training scores in red almost close to 1.0 and the cv scores\n",
    "#trying its best to reach it as the number of examples increases. This is what happens during overfitting. To address\n",
    "#overfitting, GBRT basically has the following parameters we can fine tune: Learning Rate, Max Depth, Min Samples leaf and\n",
    "#Max features."
   ]
  },
  {
   "cell_type": "code",
   "execution_count": null,
   "metadata": {
    "collapsed": true
   },
   "outputs": [],
   "source": [
    "#the typical recommended values of Max depth is 4 to 6, so lets leave it at 4. Let's try increasing the min\n",
    "#samples leaf parameter, this basically enforces a lower bound on the number of samples in any given leaf.\n",
    "min_samples_leaf=9\n",
    "\n",
    "title = \"Learning Curves (Gradient Boosted Regression Trees), min_samples_leaf=9\" \n",
    "estimator = GradientBoostingRegressor(n_estimators=best_est.n_estimators, max_depth=best_est.max_depth,\n",
    "                                      learning_rate=best_est.learning_rate, min_samples_leaf=min_samples_leaf,\n",
    "                                      max_features=best_est.max_features)\n",
    "plot_learning_curve(estimator, title, X_train, y_train, cv=cv, n_jobs=n_jobs)\n",
    "plt.show()"
   ]
  },
  {
   "cell_type": "code",
   "execution_count": null,
   "metadata": {
    "collapsed": true
   },
   "outputs": [],
   "source": [
    "#Let's try reducing the max features parameter. This enforces an upper bound of the maximum number of features to use\n",
    "#for training. It's supposed to work well when n_features>30. We'll also remove min samples leaf for this run.\n",
    "max_features=0.5\n",
    "\n",
    "title = \"Learning Curves (Gradient Boosted Regression Trees), max_features=50%\" \n",
    "estimator = GradientBoostingRegressor(n_estimators=best_est.n_estimators, max_depth=best_est.max_depth,\n",
    "                                      learning_rate=best_est.learning_rate, max_features=max_features)\n",
    "plot_learning_curve(estimator, title, X_train, y_train, cv=cv, n_jobs=n_jobs)\n",
    "plt.show()\n",
    "\n",
    "#Nope that didn't quite improve the cv score either. What happens if we reduce learning rate?"
   ]
  },
  {
   "cell_type": "code",
   "execution_count": null,
   "metadata": {
    "collapsed": true
   },
   "outputs": [],
   "source": [
    "#The lower the learning rate is the more the number of trees we need to train. This is because the rate at which we train\n",
    "#is simply, well, reduced.\n",
    "learning_rate=.01\n",
    "n_estimators=1000\n",
    "\n",
    "title = \"Learning Curves (Gradient Boosted Regression Trees), 1000 Trees at learning rate .01\"\n",
    "estimator = GradientBoostingRegressor(n_estimators=n_estimators, max_depth=best_est.max_depth,\n",
    "                                      learning_rate=learning_rate, min_samples_leaf=best_est.min_samples_leaf,\n",
    "                                      max_features=best_est.max_features)\n",
    "plot_learning_curve(estimator, title, X_train, y_train, cv=cv, n_jobs=n_jobs)\n",
    "plt.show()\n",
    "\n",
    "#Perhaps that improved it a tiny little bit."
   ]
  },
  {
   "cell_type": "code",
   "execution_count": null,
   "metadata": {
    "collapsed": true
   },
   "outputs": [],
   "source": [
    "#Before we try anything else, I would like to explore one of the beautiful advantages of growing trees. And that is to\n",
    "#capture feature importances. Now that we have a publicly available loan application collection (though anonymous), it makes\n",
    "#me really curious to see what impacts the interest rate for a loan application the most.\n",
    "\n",
    "#Let's take a look\n",
    "\n",
    "#Calling fit on the estimator so we can look at feature_importances.\n",
    "estimator.fit(X_train, y_train)\n",
    "\n",
    "# Calculate the feature ranking - Top 10\n",
    "importances = estimator.feature_importances_\n",
    "indices = np.argsort(importances)[::-1]\n",
    "\n",
    "print \"Lending Club Loan Data - Top 10 Important Features\\n\"\n",
    "\n",
    "for f in range(10):\n",
    "    print(\"%d. %s   (%f)\" % (f + 1, loan.columns[indices[f]], importances[indices[f]]))\n",
    "    \n",
    "#Plot the feature importances of the forest\n",
    "indices=indices[:10]\n",
    "plt.figure()\n",
    "plt.title(\"Top 10 Feature importances\")\n",
    "plt.bar(range(10), importances[indices],\n",
    "       color=\"r\", align=\"center\")\n",
    "plt.xticks(range(10), loan.columns[indices], fontsize=14, rotation=45)\n",
    "plt.xlim([-1, 10])\n",
    "plt.show()\n",
    "\n",
    "#Mean Feature Importance\n",
    "print \"Mean Feature Importance %.6f\" %np.mean(importances)\n",
    "\n",
    "#Interesting, the total amount of interest received to date is the top most influencer for getting a better interest rate.\n",
    "#Good for the lenders eh? Pay more interest, we'll give you a cut on the interest rate. Of course!"
   ]
  },
  {
   "cell_type": "code",
   "execution_count": null,
   "metadata": {
    "collapsed": true
   },
   "outputs": [],
   "source": [
    "#Can we actually trim (like before) and get a better result? Perhaps not, but who's to stop us from trying.\n",
    "title = \"Learning Curves (Gradient Boosted Regression Trees) - Trimmed features to > 1% importance\" \n",
    "\n",
    "#Dropping all parameters except n_estimators and learning_rate since we're going to trim the features anyway.\n",
    "estimator = GradientBoostingRegressor(n_estimators=best_est.n_estimators, learning_rate=best_est.learning_rate)\n",
    "\n",
    "#Calling fit on the estimator so we can transform the X matrices.\n",
    "estimator.fit(X_train, y_train)\n",
    "\n",
    "#Trimming feature matrices to include only those features that are more important than the mean of all importances.\n",
    "X_train_trim=estimator.transform(X_train, threshold=.01)\n",
    "\n",
    "#Trimming test as well in case we end up going with this model as final.\n",
    "X_test_trim=estimator.transform(X_test, threshold=.01)\n",
    "\n",
    "#Re-plotting Learning cruves.\n",
    "plot_learning_curve(estimator, title, X_train, y_train, cv=cv, n_jobs=n_jobs)\n",
    "plt.show()\n",
    "\n",
    "#Nope, the curve looks like it overfits less, but look at the cv score, in all our fancy attempts it never really crossed\n",
    "#that ~0.8 R-squared barrier. That tells me, we actually have a decent model at hand and also that a 0.9+ R-squared value is\n",
    "#not always possible, atleast in real time. Let's wrap this up."
   ]
  },
  {
   "cell_type": "code",
   "execution_count": null,
   "metadata": {
    "collapsed": true
   },
   "outputs": [],
   "source": [
    "estimator = GradientBoostingRegressor(n_estimators=best_est.n_estimators, max_depth=best_est.max_depth,\n",
    "                                      learning_rate=best_est.learning_rate, min_samples_leaf=best_est.min_samples_leaf,\n",
    "                                      max_features=best_est.max_features)\n",
    "estimator.fit(X_train, y_train)\n",
    "\n",
    "print(\"Final Estimator Parameters\")\n",
    "print(\"---------------------------\")\n",
    "print(\"n_estimators:\", best_est.n_estimators)\n",
    "print(\"max_depth:\", best_est.max_depth)\n",
    "print(\"Learning Rate:\", best_est.learning_rate)\n",
    "print(\"min_samples_leaf:\", best_est.min_samples_leaf)\n",
    "print(\"max_features:\", best_est.max_features)\n",
    "print(\"Final Train R-squared:\", estimator.score(X_train, y_train))\n",
    "print(\"Final Test R-squared:\", estimator.score(X_test, y_test))"
   ]
  },
  {
   "cell_type": "code",
   "execution_count": null,
   "metadata": {
    "collapsed": true
   },
   "outputs": [],
   "source": []
  },
  {
   "cell_type": "code",
   "execution_count": null,
   "metadata": {
    "collapsed": true
   },
   "outputs": [],
   "source": []
  },
  {
   "cell_type": "code",
   "execution_count": null,
   "metadata": {
    "collapsed": true
   },
   "outputs": [],
   "source": []
  }
 ],
 "metadata": {
  "kernelspec": {
   "display_name": "Python 3",
   "language": "python",
   "name": "python3"
  },
  "language_info": {
   "codemirror_mode": {
    "name": "ipython",
    "version": 3
   },
   "file_extension": ".py",
   "mimetype": "text/x-python",
   "name": "python",
   "nbconvert_exporter": "python",
   "pygments_lexer": "ipython3",
   "version": "3.6.3"
  }
 },
 "nbformat": 4,
 "nbformat_minor": 2
}
