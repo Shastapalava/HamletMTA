{
 "cells": [
  {
   "cell_type": "code",
   "execution_count": 1,
   "metadata": {},
   "outputs": [],
   "source": [
    "import pandas as pd\n",
    "import matplotlib.pyplot as plt\n",
    "import numpy as np\n",
    "import datetime\n",
    "import numpy as np\n"
   ]
  },
  {
   "cell_type": "code",
   "execution_count": 2,
   "metadata": {},
   "outputs": [],
   "source": [
    "#reading the file\n",
    "weather = pd.read_csv(\"/Users/angelika/Desktop/cs59970/1401011.csv\", delimiter = ',', usecols = (5,24))\n"
   ]
  },
  {
   "cell_type": "code",
   "execution_count": 3,
   "metadata": {},
   "outputs": [
    {
     "data": {
      "text/html": [
       "<div>\n",
       "<style scoped>\n",
       "    .dataframe tbody tr th:only-of-type {\n",
       "        vertical-align: middle;\n",
       "    }\n",
       "\n",
       "    .dataframe tbody tr th {\n",
       "        vertical-align: top;\n",
       "    }\n",
       "\n",
       "    .dataframe thead th {\n",
       "        text-align: right;\n",
       "    }\n",
       "</style>\n",
       "<table border=\"1\" class=\"dataframe\">\n",
       "  <thead>\n",
       "    <tr style=\"text-align: right;\">\n",
       "      <th></th>\n",
       "      <th>DATE</th>\n",
       "      <th>HOURLYPrecip</th>\n",
       "    </tr>\n",
       "  </thead>\n",
       "  <tbody>\n",
       "    <tr>\n",
       "      <th>0</th>\n",
       "      <td>2008-01-01 00:51</td>\n",
       "      <td>0.00</td>\n",
       "    </tr>\n",
       "    <tr>\n",
       "      <th>1</th>\n",
       "      <td>2008-01-01 01:51</td>\n",
       "      <td>0.00</td>\n",
       "    </tr>\n",
       "    <tr>\n",
       "      <th>2</th>\n",
       "      <td>2008-01-01 02:51</td>\n",
       "      <td>0.00</td>\n",
       "    </tr>\n",
       "    <tr>\n",
       "      <th>3</th>\n",
       "      <td>2008-01-01 03:51</td>\n",
       "      <td>0.00</td>\n",
       "    </tr>\n",
       "    <tr>\n",
       "      <th>4</th>\n",
       "      <td>2008-01-01 04:51</td>\n",
       "      <td>0.00</td>\n",
       "    </tr>\n",
       "  </tbody>\n",
       "</table>\n",
       "</div>"
      ],
      "text/plain": [
       "               DATE HOURLYPrecip\n",
       "0  2008-01-01 00:51         0.00\n",
       "1  2008-01-01 01:51         0.00\n",
       "2  2008-01-01 02:51         0.00\n",
       "3  2008-01-01 03:51         0.00\n",
       "4  2008-01-01 04:51         0.00"
      ]
     },
     "execution_count": 3,
     "metadata": {},
     "output_type": "execute_result"
    }
   ],
   "source": [
    "weather.head()"
   ]
  },
  {
   "cell_type": "code",
   "execution_count": 4,
   "metadata": {},
   "outputs": [
    {
     "data": {
      "text/plain": [
       "DATE            object\n",
       "HOURLYPrecip    object\n",
       "dtype: object"
      ]
     },
     "execution_count": 4,
     "metadata": {},
     "output_type": "execute_result"
    }
   ],
   "source": [
    "weather.dtypes"
   ]
  },
  {
   "cell_type": "code",
   "execution_count": 5,
   "metadata": {},
   "outputs": [],
   "source": [
    "# selecting time period of aug 2017\n",
    "weather  = weather.loc[(weather.DATE >= '2017-08-01') & (weather.DATE < '2017-09-01') ]\n"
   ]
  },
  {
   "cell_type": "code",
   "execution_count": 6,
   "metadata": {},
   "outputs": [
    {
     "name": "stdout",
     "output_type": "stream",
     "text": [
      "<class 'pandas.core.frame.DataFrame'>\n",
      "Int64Index: 1006 entries, 114727 to 115732\n",
      "Data columns (total 2 columns):\n",
      "DATE            1006 non-null object\n",
      "HOURLYPrecip    823 non-null object\n",
      "dtypes: object(2)\n",
      "memory usage: 23.6+ KB\n"
     ]
    }
   ],
   "source": [
    "weather.info()"
   ]
  },
  {
   "cell_type": "code",
   "execution_count": 7,
   "metadata": {},
   "outputs": [],
   "source": [
    "# our data contains some na values. in addition some precip values contain \n",
    "# letter 'T' or 's'\n",
    "# substitite them with 0 \n",
    "weather['HOURLYPrecip'] = weather['HOURLYPrecip'].str.replace('T', '0')\n",
    "weather['HOURLYPrecip'] = weather['HOURLYPrecip'].str.replace('s', '0')\n",
    "weather.HOURLYPrecip = pd.to_numeric(weather.HOURLYPrecip)"
   ]
  },
  {
   "cell_type": "code",
   "execution_count": 8,
   "metadata": {},
   "outputs": [],
   "source": [
    "weather = weather.fillna(0)"
   ]
  },
  {
   "cell_type": "code",
   "execution_count": 9,
   "metadata": {},
   "outputs": [],
   "source": [
    "weather.DATE = pd.to_datetime(weather.DATE)"
   ]
  },
  {
   "cell_type": "code",
   "execution_count": 10,
   "metadata": {},
   "outputs": [
    {
     "name": "stdout",
     "output_type": "stream",
     "text": [
      "<class 'pandas.core.frame.DataFrame'>\n",
      "Int64Index: 1006 entries, 114727 to 115732\n",
      "Data columns (total 2 columns):\n",
      "DATE            1006 non-null datetime64[ns]\n",
      "HOURLYPrecip    1006 non-null float64\n",
      "dtypes: datetime64[ns](1), float64(1)\n",
      "memory usage: 23.6 KB\n"
     ]
    }
   ],
   "source": [
    "weather.info()"
   ]
  },
  {
   "cell_type": "code",
   "execution_count": 11,
   "metadata": {},
   "outputs": [
    {
     "data": {
      "text/html": [
       "<div>\n",
       "<style scoped>\n",
       "    .dataframe tbody tr th:only-of-type {\n",
       "        vertical-align: middle;\n",
       "    }\n",
       "\n",
       "    .dataframe tbody tr th {\n",
       "        vertical-align: top;\n",
       "    }\n",
       "\n",
       "    .dataframe thead th {\n",
       "        text-align: right;\n",
       "    }\n",
       "</style>\n",
       "<table border=\"1\" class=\"dataframe\">\n",
       "  <thead>\n",
       "    <tr style=\"text-align: right;\">\n",
       "      <th></th>\n",
       "      <th>DATE</th>\n",
       "      <th>HOURLYPrecip</th>\n",
       "    </tr>\n",
       "  </thead>\n",
       "  <tbody>\n",
       "    <tr>\n",
       "      <th>114727</th>\n",
       "      <td>2017-08-01 00:51:00</td>\n",
       "      <td>0.00</td>\n",
       "    </tr>\n",
       "    <tr>\n",
       "      <th>114728</th>\n",
       "      <td>2017-08-01 01:51:00</td>\n",
       "      <td>0.00</td>\n",
       "    </tr>\n",
       "    <tr>\n",
       "      <th>114729</th>\n",
       "      <td>2017-08-01 02:51:00</td>\n",
       "      <td>0.00</td>\n",
       "    </tr>\n",
       "    <tr>\n",
       "      <th>114730</th>\n",
       "      <td>2017-08-01 03:51:00</td>\n",
       "      <td>0.00</td>\n",
       "    </tr>\n",
       "    <tr>\n",
       "      <th>114731</th>\n",
       "      <td>2017-08-01 04:51:00</td>\n",
       "      <td>0.00</td>\n",
       "    </tr>\n",
       "    <tr>\n",
       "      <th>114732</th>\n",
       "      <td>2017-08-01 05:51:00</td>\n",
       "      <td>0.00</td>\n",
       "    </tr>\n",
       "    <tr>\n",
       "      <th>114733</th>\n",
       "      <td>2017-08-01 06:51:00</td>\n",
       "      <td>0.00</td>\n",
       "    </tr>\n",
       "    <tr>\n",
       "      <th>114734</th>\n",
       "      <td>2017-08-01 07:51:00</td>\n",
       "      <td>0.00</td>\n",
       "    </tr>\n",
       "    <tr>\n",
       "      <th>114735</th>\n",
       "      <td>2017-08-01 08:51:00</td>\n",
       "      <td>0.00</td>\n",
       "    </tr>\n",
       "    <tr>\n",
       "      <th>114736</th>\n",
       "      <td>2017-08-01 09:51:00</td>\n",
       "      <td>0.00</td>\n",
       "    </tr>\n",
       "    <tr>\n",
       "      <th>114737</th>\n",
       "      <td>2017-08-01 10:51:00</td>\n",
       "      <td>0.00</td>\n",
       "    </tr>\n",
       "    <tr>\n",
       "      <th>114738</th>\n",
       "      <td>2017-08-01 11:51:00</td>\n",
       "      <td>0.00</td>\n",
       "    </tr>\n",
       "    <tr>\n",
       "      <th>114739</th>\n",
       "      <td>2017-08-01 12:51:00</td>\n",
       "      <td>0.00</td>\n",
       "    </tr>\n",
       "    <tr>\n",
       "      <th>114740</th>\n",
       "      <td>2017-08-01 13:51:00</td>\n",
       "      <td>0.00</td>\n",
       "    </tr>\n",
       "    <tr>\n",
       "      <th>114741</th>\n",
       "      <td>2017-08-01 14:51:00</td>\n",
       "      <td>0.00</td>\n",
       "    </tr>\n",
       "    <tr>\n",
       "      <th>114742</th>\n",
       "      <td>2017-08-01 15:51:00</td>\n",
       "      <td>0.00</td>\n",
       "    </tr>\n",
       "    <tr>\n",
       "      <th>114743</th>\n",
       "      <td>2017-08-01 16:51:00</td>\n",
       "      <td>0.00</td>\n",
       "    </tr>\n",
       "    <tr>\n",
       "      <th>114744</th>\n",
       "      <td>2017-08-01 17:51:00</td>\n",
       "      <td>0.00</td>\n",
       "    </tr>\n",
       "    <tr>\n",
       "      <th>114745</th>\n",
       "      <td>2017-08-01 18:51:00</td>\n",
       "      <td>0.00</td>\n",
       "    </tr>\n",
       "    <tr>\n",
       "      <th>114746</th>\n",
       "      <td>2017-08-01 19:51:00</td>\n",
       "      <td>0.00</td>\n",
       "    </tr>\n",
       "    <tr>\n",
       "      <th>114747</th>\n",
       "      <td>2017-08-01 20:51:00</td>\n",
       "      <td>0.00</td>\n",
       "    </tr>\n",
       "    <tr>\n",
       "      <th>114748</th>\n",
       "      <td>2017-08-01 21:51:00</td>\n",
       "      <td>0.00</td>\n",
       "    </tr>\n",
       "    <tr>\n",
       "      <th>114749</th>\n",
       "      <td>2017-08-01 22:51:00</td>\n",
       "      <td>0.00</td>\n",
       "    </tr>\n",
       "    <tr>\n",
       "      <th>114750</th>\n",
       "      <td>2017-08-01 23:51:00</td>\n",
       "      <td>0.00</td>\n",
       "    </tr>\n",
       "    <tr>\n",
       "      <th>114751</th>\n",
       "      <td>2017-08-01 23:59:00</td>\n",
       "      <td>0.00</td>\n",
       "    </tr>\n",
       "    <tr>\n",
       "      <th>114752</th>\n",
       "      <td>2017-08-02 00:51:00</td>\n",
       "      <td>0.00</td>\n",
       "    </tr>\n",
       "    <tr>\n",
       "      <th>114753</th>\n",
       "      <td>2017-08-02 01:51:00</td>\n",
       "      <td>0.00</td>\n",
       "    </tr>\n",
       "    <tr>\n",
       "      <th>114754</th>\n",
       "      <td>2017-08-02 02:51:00</td>\n",
       "      <td>0.00</td>\n",
       "    </tr>\n",
       "    <tr>\n",
       "      <th>114755</th>\n",
       "      <td>2017-08-02 03:51:00</td>\n",
       "      <td>0.00</td>\n",
       "    </tr>\n",
       "    <tr>\n",
       "      <th>114756</th>\n",
       "      <td>2017-08-02 04:51:00</td>\n",
       "      <td>0.00</td>\n",
       "    </tr>\n",
       "    <tr>\n",
       "      <th>...</th>\n",
       "      <td>...</td>\n",
       "      <td>...</td>\n",
       "    </tr>\n",
       "    <tr>\n",
       "      <th>114797</th>\n",
       "      <td>2017-08-03 14:51:00</td>\n",
       "      <td>0.00</td>\n",
       "    </tr>\n",
       "    <tr>\n",
       "      <th>114798</th>\n",
       "      <td>2017-08-03 15:51:00</td>\n",
       "      <td>0.00</td>\n",
       "    </tr>\n",
       "    <tr>\n",
       "      <th>114799</th>\n",
       "      <td>2017-08-03 16:51:00</td>\n",
       "      <td>0.00</td>\n",
       "    </tr>\n",
       "    <tr>\n",
       "      <th>114800</th>\n",
       "      <td>2017-08-03 17:51:00</td>\n",
       "      <td>0.00</td>\n",
       "    </tr>\n",
       "    <tr>\n",
       "      <th>114801</th>\n",
       "      <td>2017-08-03 18:51:00</td>\n",
       "      <td>0.00</td>\n",
       "    </tr>\n",
       "    <tr>\n",
       "      <th>114802</th>\n",
       "      <td>2017-08-03 19:51:00</td>\n",
       "      <td>0.00</td>\n",
       "    </tr>\n",
       "    <tr>\n",
       "      <th>114803</th>\n",
       "      <td>2017-08-03 20:51:00</td>\n",
       "      <td>0.00</td>\n",
       "    </tr>\n",
       "    <tr>\n",
       "      <th>114804</th>\n",
       "      <td>2017-08-03 21:51:00</td>\n",
       "      <td>0.00</td>\n",
       "    </tr>\n",
       "    <tr>\n",
       "      <th>114805</th>\n",
       "      <td>2017-08-03 22:51:00</td>\n",
       "      <td>0.00</td>\n",
       "    </tr>\n",
       "    <tr>\n",
       "      <th>114806</th>\n",
       "      <td>2017-08-03 23:51:00</td>\n",
       "      <td>0.00</td>\n",
       "    </tr>\n",
       "    <tr>\n",
       "      <th>114807</th>\n",
       "      <td>2017-08-03 23:59:00</td>\n",
       "      <td>0.00</td>\n",
       "    </tr>\n",
       "    <tr>\n",
       "      <th>114808</th>\n",
       "      <td>2017-08-04 00:51:00</td>\n",
       "      <td>0.00</td>\n",
       "    </tr>\n",
       "    <tr>\n",
       "      <th>114809</th>\n",
       "      <td>2017-08-04 01:51:00</td>\n",
       "      <td>0.00</td>\n",
       "    </tr>\n",
       "    <tr>\n",
       "      <th>114810</th>\n",
       "      <td>2017-08-04 02:51:00</td>\n",
       "      <td>0.00</td>\n",
       "    </tr>\n",
       "    <tr>\n",
       "      <th>114811</th>\n",
       "      <td>2017-08-04 03:51:00</td>\n",
       "      <td>0.00</td>\n",
       "    </tr>\n",
       "    <tr>\n",
       "      <th>114812</th>\n",
       "      <td>2017-08-04 04:51:00</td>\n",
       "      <td>0.00</td>\n",
       "    </tr>\n",
       "    <tr>\n",
       "      <th>114813</th>\n",
       "      <td>2017-08-04 05:51:00</td>\n",
       "      <td>0.00</td>\n",
       "    </tr>\n",
       "    <tr>\n",
       "      <th>114814</th>\n",
       "      <td>2017-08-04 06:07:00</td>\n",
       "      <td>0.02</td>\n",
       "    </tr>\n",
       "    <tr>\n",
       "      <th>114815</th>\n",
       "      <td>2017-08-04 06:14:00</td>\n",
       "      <td>0.04</td>\n",
       "    </tr>\n",
       "    <tr>\n",
       "      <th>114816</th>\n",
       "      <td>2017-08-04 06:30:00</td>\n",
       "      <td>0.06</td>\n",
       "    </tr>\n",
       "    <tr>\n",
       "      <th>114817</th>\n",
       "      <td>2017-08-04 06:40:00</td>\n",
       "      <td>0.15</td>\n",
       "    </tr>\n",
       "    <tr>\n",
       "      <th>114818</th>\n",
       "      <td>2017-08-04 06:46:00</td>\n",
       "      <td>0.15</td>\n",
       "    </tr>\n",
       "    <tr>\n",
       "      <th>114819</th>\n",
       "      <td>2017-08-04 06:49:00</td>\n",
       "      <td>0.00</td>\n",
       "    </tr>\n",
       "    <tr>\n",
       "      <th>114820</th>\n",
       "      <td>2017-08-04 06:51:00</td>\n",
       "      <td>0.15</td>\n",
       "    </tr>\n",
       "    <tr>\n",
       "      <th>114821</th>\n",
       "      <td>2017-08-04 07:51:00</td>\n",
       "      <td>0.00</td>\n",
       "    </tr>\n",
       "    <tr>\n",
       "      <th>114822</th>\n",
       "      <td>2017-08-04 08:51:00</td>\n",
       "      <td>0.00</td>\n",
       "    </tr>\n",
       "    <tr>\n",
       "      <th>114823</th>\n",
       "      <td>2017-08-04 09:31:00</td>\n",
       "      <td>0.00</td>\n",
       "    </tr>\n",
       "    <tr>\n",
       "      <th>114824</th>\n",
       "      <td>2017-08-04 09:40:00</td>\n",
       "      <td>0.00</td>\n",
       "    </tr>\n",
       "    <tr>\n",
       "      <th>114825</th>\n",
       "      <td>2017-08-04 09:51:00</td>\n",
       "      <td>0.00</td>\n",
       "    </tr>\n",
       "    <tr>\n",
       "      <th>114826</th>\n",
       "      <td>2017-08-04 10:51:00</td>\n",
       "      <td>0.00</td>\n",
       "    </tr>\n",
       "  </tbody>\n",
       "</table>\n",
       "<p>100 rows × 2 columns</p>\n",
       "</div>"
      ],
      "text/plain": [
       "                      DATE  HOURLYPrecip\n",
       "114727 2017-08-01 00:51:00          0.00\n",
       "114728 2017-08-01 01:51:00          0.00\n",
       "114729 2017-08-01 02:51:00          0.00\n",
       "114730 2017-08-01 03:51:00          0.00\n",
       "114731 2017-08-01 04:51:00          0.00\n",
       "114732 2017-08-01 05:51:00          0.00\n",
       "114733 2017-08-01 06:51:00          0.00\n",
       "114734 2017-08-01 07:51:00          0.00\n",
       "114735 2017-08-01 08:51:00          0.00\n",
       "114736 2017-08-01 09:51:00          0.00\n",
       "114737 2017-08-01 10:51:00          0.00\n",
       "114738 2017-08-01 11:51:00          0.00\n",
       "114739 2017-08-01 12:51:00          0.00\n",
       "114740 2017-08-01 13:51:00          0.00\n",
       "114741 2017-08-01 14:51:00          0.00\n",
       "114742 2017-08-01 15:51:00          0.00\n",
       "114743 2017-08-01 16:51:00          0.00\n",
       "114744 2017-08-01 17:51:00          0.00\n",
       "114745 2017-08-01 18:51:00          0.00\n",
       "114746 2017-08-01 19:51:00          0.00\n",
       "114747 2017-08-01 20:51:00          0.00\n",
       "114748 2017-08-01 21:51:00          0.00\n",
       "114749 2017-08-01 22:51:00          0.00\n",
       "114750 2017-08-01 23:51:00          0.00\n",
       "114751 2017-08-01 23:59:00          0.00\n",
       "114752 2017-08-02 00:51:00          0.00\n",
       "114753 2017-08-02 01:51:00          0.00\n",
       "114754 2017-08-02 02:51:00          0.00\n",
       "114755 2017-08-02 03:51:00          0.00\n",
       "114756 2017-08-02 04:51:00          0.00\n",
       "...                    ...           ...\n",
       "114797 2017-08-03 14:51:00          0.00\n",
       "114798 2017-08-03 15:51:00          0.00\n",
       "114799 2017-08-03 16:51:00          0.00\n",
       "114800 2017-08-03 17:51:00          0.00\n",
       "114801 2017-08-03 18:51:00          0.00\n",
       "114802 2017-08-03 19:51:00          0.00\n",
       "114803 2017-08-03 20:51:00          0.00\n",
       "114804 2017-08-03 21:51:00          0.00\n",
       "114805 2017-08-03 22:51:00          0.00\n",
       "114806 2017-08-03 23:51:00          0.00\n",
       "114807 2017-08-03 23:59:00          0.00\n",
       "114808 2017-08-04 00:51:00          0.00\n",
       "114809 2017-08-04 01:51:00          0.00\n",
       "114810 2017-08-04 02:51:00          0.00\n",
       "114811 2017-08-04 03:51:00          0.00\n",
       "114812 2017-08-04 04:51:00          0.00\n",
       "114813 2017-08-04 05:51:00          0.00\n",
       "114814 2017-08-04 06:07:00          0.02\n",
       "114815 2017-08-04 06:14:00          0.04\n",
       "114816 2017-08-04 06:30:00          0.06\n",
       "114817 2017-08-04 06:40:00          0.15\n",
       "114818 2017-08-04 06:46:00          0.15\n",
       "114819 2017-08-04 06:49:00          0.00\n",
       "114820 2017-08-04 06:51:00          0.15\n",
       "114821 2017-08-04 07:51:00          0.00\n",
       "114822 2017-08-04 08:51:00          0.00\n",
       "114823 2017-08-04 09:31:00          0.00\n",
       "114824 2017-08-04 09:40:00          0.00\n",
       "114825 2017-08-04 09:51:00          0.00\n",
       "114826 2017-08-04 10:51:00          0.00\n",
       "\n",
       "[100 rows x 2 columns]"
      ]
     },
     "execution_count": 11,
     "metadata": {},
     "output_type": "execute_result"
    }
   ],
   "source": [
    "weather.head(100)"
   ]
  },
  {
   "cell_type": "code",
   "execution_count": 12,
   "metadata": {},
   "outputs": [
    {
     "name": "stdout",
     "output_type": "stream",
     "text": [
      "<class 'pandas.core.frame.DataFrame'>\n",
      "Int64Index: 1006 entries, 114727 to 115732\n",
      "Data columns (total 2 columns):\n",
      "DATE            1006 non-null datetime64[ns]\n",
      "HOURLYPrecip    1006 non-null float64\n",
      "dtypes: datetime64[ns](1), float64(1)\n",
      "memory usage: 23.6 KB\n"
     ]
    }
   ],
   "source": [
    "# all na and rendom strings filled with 0s\n",
    "weather.info()"
   ]
  },
  {
   "cell_type": "code",
   "execution_count": 13,
   "metadata": {},
   "outputs": [],
   "source": [
    "vis = pd.read_csv(\"/Users/angelika/Desktop/cs59970/1401011.csv\", delimiter = ',', usecols = (5,8))"
   ]
  },
  {
   "cell_type": "code",
   "execution_count": 14,
   "metadata": {},
   "outputs": [
    {
     "data": {
      "text/html": [
       "<div>\n",
       "<style scoped>\n",
       "    .dataframe tbody tr th:only-of-type {\n",
       "        vertical-align: middle;\n",
       "    }\n",
       "\n",
       "    .dataframe tbody tr th {\n",
       "        vertical-align: top;\n",
       "    }\n",
       "\n",
       "    .dataframe thead th {\n",
       "        text-align: right;\n",
       "    }\n",
       "</style>\n",
       "<table border=\"1\" class=\"dataframe\">\n",
       "  <thead>\n",
       "    <tr style=\"text-align: right;\">\n",
       "      <th></th>\n",
       "      <th>DATE</th>\n",
       "      <th>HOURLYVISIBILITY</th>\n",
       "    </tr>\n",
       "  </thead>\n",
       "  <tbody>\n",
       "    <tr>\n",
       "      <th>0</th>\n",
       "      <td>2008-01-01 00:51</td>\n",
       "      <td>10.00</td>\n",
       "    </tr>\n",
       "    <tr>\n",
       "      <th>1</th>\n",
       "      <td>2008-01-01 01:51</td>\n",
       "      <td>9.00</td>\n",
       "    </tr>\n",
       "    <tr>\n",
       "      <th>2</th>\n",
       "      <td>2008-01-01 02:51</td>\n",
       "      <td>10.00</td>\n",
       "    </tr>\n",
       "    <tr>\n",
       "      <th>3</th>\n",
       "      <td>2008-01-01 03:51</td>\n",
       "      <td>10.00</td>\n",
       "    </tr>\n",
       "    <tr>\n",
       "      <th>4</th>\n",
       "      <td>2008-01-01 04:51</td>\n",
       "      <td>9.00</td>\n",
       "    </tr>\n",
       "  </tbody>\n",
       "</table>\n",
       "</div>"
      ],
      "text/plain": [
       "               DATE HOURLYVISIBILITY\n",
       "0  2008-01-01 00:51            10.00\n",
       "1  2008-01-01 01:51             9.00\n",
       "2  2008-01-01 02:51            10.00\n",
       "3  2008-01-01 03:51            10.00\n",
       "4  2008-01-01 04:51             9.00"
      ]
     },
     "execution_count": 14,
     "metadata": {},
     "output_type": "execute_result"
    }
   ],
   "source": [
    "vis.head()"
   ]
  },
  {
   "cell_type": "code",
   "execution_count": 15,
   "metadata": {},
   "outputs": [],
   "source": [
    "vis  = vis.loc[(vis.DATE >= '2017-08-01') & (vis.DATE <= '2017-09-01') ]"
   ]
  },
  {
   "cell_type": "code",
   "execution_count": 16,
   "metadata": {},
   "outputs": [],
   "source": [
    "# we are going to fill na and string values with 15 so they will not\n",
    "# influence our future model but still keep time slots\n",
    "vis['HOURLYVISIBILITY'] = vis['HOURLYVISIBILITY'].str.replace('V', '15')\n",
    "vis.HOURLYVISIBILITY = pd.to_numeric(vis.HOURLYVISIBILITY)"
   ]
  },
  {
   "cell_type": "code",
   "execution_count": 17,
   "metadata": {},
   "outputs": [],
   "source": [
    "vis = vis.fillna(15)"
   ]
  },
  {
   "cell_type": "code",
   "execution_count": 18,
   "metadata": {},
   "outputs": [],
   "source": [
    "vis.DATE = pd.to_datetime(vis.DATE)"
   ]
  },
  {
   "cell_type": "code",
   "execution_count": 19,
   "metadata": {},
   "outputs": [
    {
     "name": "stdout",
     "output_type": "stream",
     "text": [
      "<class 'pandas.core.frame.DataFrame'>\n",
      "Int64Index: 1006 entries, 114727 to 115732\n",
      "Data columns (total 2 columns):\n",
      "DATE                1006 non-null datetime64[ns]\n",
      "HOURLYVISIBILITY    1006 non-null float64\n",
      "dtypes: datetime64[ns](1), float64(1)\n",
      "memory usage: 23.6 KB\n"
     ]
    }
   ],
   "source": [
    "vis.info()"
   ]
  },
  {
   "cell_type": "code",
   "execution_count": 20,
   "metadata": {},
   "outputs": [],
   "source": [
    "# all na and rendom strings filled with 15 "
   ]
  },
  {
   "cell_type": "code",
   "execution_count": 21,
   "metadata": {},
   "outputs": [],
   "source": [
    "wind = pd.read_csv(\"/Users/angelika/Desktop/cs59970/1401011.csv\", delimiter = ',', usecols = (5,17))"
   ]
  },
  {
   "cell_type": "code",
   "execution_count": 22,
   "metadata": {},
   "outputs": [
    {
     "data": {
      "text/html": [
       "<div>\n",
       "<style scoped>\n",
       "    .dataframe tbody tr th:only-of-type {\n",
       "        vertical-align: middle;\n",
       "    }\n",
       "\n",
       "    .dataframe tbody tr th {\n",
       "        vertical-align: top;\n",
       "    }\n",
       "\n",
       "    .dataframe thead th {\n",
       "        text-align: right;\n",
       "    }\n",
       "</style>\n",
       "<table border=\"1\" class=\"dataframe\">\n",
       "  <thead>\n",
       "    <tr style=\"text-align: right;\">\n",
       "      <th></th>\n",
       "      <th>DATE</th>\n",
       "      <th>HOURLYWindSpeed</th>\n",
       "    </tr>\n",
       "  </thead>\n",
       "  <tbody>\n",
       "    <tr>\n",
       "      <th>0</th>\n",
       "      <td>2008-01-01 00:51</td>\n",
       "      <td>0.0</td>\n",
       "    </tr>\n",
       "    <tr>\n",
       "      <th>1</th>\n",
       "      <td>2008-01-01 01:51</td>\n",
       "      <td>6.0</td>\n",
       "    </tr>\n",
       "    <tr>\n",
       "      <th>2</th>\n",
       "      <td>2008-01-01 02:51</td>\n",
       "      <td>6.0</td>\n",
       "    </tr>\n",
       "    <tr>\n",
       "      <th>3</th>\n",
       "      <td>2008-01-01 03:51</td>\n",
       "      <td>5.0</td>\n",
       "    </tr>\n",
       "    <tr>\n",
       "      <th>4</th>\n",
       "      <td>2008-01-01 04:51</td>\n",
       "      <td>5.0</td>\n",
       "    </tr>\n",
       "  </tbody>\n",
       "</table>\n",
       "</div>"
      ],
      "text/plain": [
       "               DATE  HOURLYWindSpeed\n",
       "0  2008-01-01 00:51              0.0\n",
       "1  2008-01-01 01:51              6.0\n",
       "2  2008-01-01 02:51              6.0\n",
       "3  2008-01-01 03:51              5.0\n",
       "4  2008-01-01 04:51              5.0"
      ]
     },
     "execution_count": 22,
     "metadata": {},
     "output_type": "execute_result"
    }
   ],
   "source": [
    "wind.head()"
   ]
  },
  {
   "cell_type": "code",
   "execution_count": 23,
   "metadata": {},
   "outputs": [],
   "source": [
    "wind  = wind.loc[(wind.DATE >= '2017-08-01') & (wind.DATE <= '2017-09-01') ]"
   ]
  },
  {
   "cell_type": "code",
   "execution_count": 24,
   "metadata": {},
   "outputs": [
    {
     "name": "stdout",
     "output_type": "stream",
     "text": [
      "<class 'pandas.core.frame.DataFrame'>\n",
      "Int64Index: 1006 entries, 114727 to 115732\n",
      "Data columns (total 2 columns):\n",
      "DATE               1006 non-null object\n",
      "HOURLYWindSpeed    926 non-null float64\n",
      "dtypes: float64(1), object(1)\n",
      "memory usage: 23.6+ KB\n"
     ]
    }
   ],
   "source": [
    "wind.info()"
   ]
  },
  {
   "cell_type": "code",
   "execution_count": 25,
   "metadata": {},
   "outputs": [],
   "source": [
    "wind = wind.fillna(0)\n"
   ]
  },
  {
   "cell_type": "code",
   "execution_count": 26,
   "metadata": {},
   "outputs": [],
   "source": [
    "wind.DATE = pd.to_datetime(wind.DATE)"
   ]
  },
  {
   "cell_type": "code",
   "execution_count": 27,
   "metadata": {},
   "outputs": [
    {
     "name": "stdout",
     "output_type": "stream",
     "text": [
      "<class 'pandas.core.frame.DataFrame'>\n",
      "Int64Index: 1006 entries, 114727 to 115732\n",
      "Data columns (total 2 columns):\n",
      "DATE               1006 non-null datetime64[ns]\n",
      "HOURLYWindSpeed    1006 non-null float64\n",
      "dtypes: datetime64[ns](1), float64(1)\n",
      "memory usage: 23.6 KB\n"
     ]
    }
   ],
   "source": [
    "wind.info()"
   ]
  },
  {
   "cell_type": "code",
   "execution_count": 28,
   "metadata": {},
   "outputs": [],
   "source": [
    "#all na values are filled with 0 "
   ]
  },
  {
   "cell_type": "code",
   "execution_count": null,
   "metadata": {},
   "outputs": [],
   "source": [
    "# data is ready to be used for creating a model\n",
    "# there are 981 entries, date is in format: datetime64[ns]\n",
    "# precip, visibility and windSpeed are in float64\n"
   ]
  },
  {
   "cell_type": "code",
   "execution_count": null,
   "metadata": {},
   "outputs": [],
   "source": []
  }
 ],
 "metadata": {
  "kernelspec": {
   "display_name": "Python 3",
   "language": "python",
   "name": "python3"
  },
  "language_info": {
   "codemirror_mode": {
    "name": "ipython",
    "version": 3
   },
   "file_extension": ".py",
   "mimetype": "text/x-python",
   "name": "python",
   "nbconvert_exporter": "python",
   "pygments_lexer": "ipython3",
   "version": "3.6.5"
  }
 },
 "nbformat": 4,
 "nbformat_minor": 2
}
