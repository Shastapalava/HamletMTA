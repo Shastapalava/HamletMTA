{
 "cells": [
  {
   "cell_type": "markdown",
   "metadata": {},
   "source": [
    "# Exploring the Datasets\n",
    "*Authors: Angelika Shastapalava, Excel Espina, David Hadaller, Sam Mundle*  \n",
    "\n",
    "### What are we using:  \n",
    "1) The \"Discovery\" API is MTA's official developer resource to get real-time data from their NYC Bus Time service. You can get more information <a href=\"http://bustime.mta.info/wiki/Developers/Index\">here</a>  \n",
    "2) Kaggle's NYC Bus Data <a href=\"https://www.kaggle.com/stoney71/new-york-city-transport-statistics\">here</a>\n",
    "\n",
    "### How are we using it:\n",
    "Using regression and classification techniques learned in class, we want to explore the following:  \n",
    "> 1. Based on a ~10 stops/lines how closely do the actual stop times reflect the posted bus\n",
    "schedules and what is the distribution around the scheduled time that busses actually\n",
    "arrive?\n",
    ">2. What environmental factors impact a buses schedule? What impact does time of day,\n",
    "temperature, and weather have?\n",
    ">3. What socioeconomic factors play into a buses schedule? Do we see better or worse\n",
    "availability in neighborhoods with different average incomes?\n",
    ">4. Predicting with a defined degree certainty if a bus is coming within a given time frame\n",
    "\n",
    "### Sections:\n",
    "1) [Loading the Datasets](#Loading-the-Datasets)  \n",
    "2) [Cleaning the Data](#Cleaning-the-Data)  \n",
    "3) [Visualizing the Data](#Visualizing-the-Data)"
   ]
  },
  {
   "cell_type": "code",
   "execution_count": 1,
   "metadata": {},
   "outputs": [],
   "source": [
    "import pandas as pd\n",
    "import matplotlib.pyplot as plt\n",
    "import numpy as np\n",
    "import datetime, math"
   ]
  },
  {
   "cell_type": "markdown",
   "metadata": {},
   "source": [
    "### Loading the Datasets \n",
    "We want to work with the Kaggle dataset so head over <a href=\"https://www.kaggle.com/stoney71/new-york-city-transport-statistics\">here</a> and download the zip file. (A word of caution: the dataset is approx **5GB** when extracted!)\n",
    "\n",
    "After you extract the data, we want to load a csv on our notebook.  \n",
    "\n",
    "The `error_bad_lines=False` parameter fixes some formatting issues when we load in our dataset."
   ]
  },
  {
   "cell_type": "code",
   "execution_count": 2,
   "metadata": {},
   "outputs": [],
   "source": [
    "%%capture\n",
    "mta = pd.read_csv('mta_1708.csv', error_bad_lines=False)\n",
    "# mta.set_index('PublishedLineName', inplace=True)"
   ]
  },
  {
   "cell_type": "code",
   "execution_count": 3,
   "metadata": {
    "scrolled": false
   },
   "outputs": [
    {
     "data": {
      "text/html": [
       "<div>\n",
       "<style scoped>\n",
       "    .dataframe tbody tr th:only-of-type {\n",
       "        vertical-align: middle;\n",
       "    }\n",
       "\n",
       "    .dataframe tbody tr th {\n",
       "        vertical-align: top;\n",
       "    }\n",
       "\n",
       "    .dataframe thead th {\n",
       "        text-align: right;\n",
       "    }\n",
       "</style>\n",
       "<table border=\"1\" class=\"dataframe\">\n",
       "  <thead>\n",
       "    <tr style=\"text-align: right;\">\n",
       "      <th></th>\n",
       "      <th>RecordedAtTime</th>\n",
       "      <th>DirectionRef</th>\n",
       "      <th>PublishedLineName</th>\n",
       "      <th>OriginName</th>\n",
       "      <th>OriginLat</th>\n",
       "      <th>OriginLong</th>\n",
       "      <th>DestinationName</th>\n",
       "      <th>DestinationLat</th>\n",
       "      <th>DestinationLong</th>\n",
       "      <th>VehicleRef</th>\n",
       "      <th>VehicleLocation.Latitude</th>\n",
       "      <th>VehicleLocation.Longitude</th>\n",
       "      <th>NextStopPointName</th>\n",
       "      <th>ArrivalProximityText</th>\n",
       "      <th>DistanceFromStop</th>\n",
       "      <th>ExpectedArrivalTime</th>\n",
       "      <th>ScheduledArrivalTime</th>\n",
       "    </tr>\n",
       "  </thead>\n",
       "  <tbody>\n",
       "    <tr>\n",
       "      <th>0</th>\n",
       "      <td>2017-08-01 00:01:03</td>\n",
       "      <td>0</td>\n",
       "      <td>Q32</td>\n",
       "      <td>W 32 ST/7 AV</td>\n",
       "      <td>40.749405</td>\n",
       "      <td>-73.991020</td>\n",
       "      <td>JACKSON HTS NORTHERN - 81 via ROOSVLT</td>\n",
       "      <td>40.755322</td>\n",
       "      <td>-73.886139</td>\n",
       "      <td>NYCT_7424</td>\n",
       "      <td>40.749403</td>\n",
       "      <td>-73.990841</td>\n",
       "      <td>W 32 ST/AV OF THE AMERICAS</td>\n",
       "      <td>&lt; 1 stop away</td>\n",
       "      <td>220.0</td>\n",
       "      <td>2017-08-01 00:01:37</td>\n",
       "      <td>24:01:11</td>\n",
       "    </tr>\n",
       "    <tr>\n",
       "      <th>1</th>\n",
       "      <td>2017-08-01 00:00:52</td>\n",
       "      <td>0</td>\n",
       "      <td>B35</td>\n",
       "      <td>39 ST/1 AV</td>\n",
       "      <td>40.656456</td>\n",
       "      <td>-74.012245</td>\n",
       "      <td>BROWNSVILLE M GASTON BL via CHURCH</td>\n",
       "      <td>40.656345</td>\n",
       "      <td>-73.907188</td>\n",
       "      <td>NYCT_406</td>\n",
       "      <td>40.651330</td>\n",
       "      <td>-73.938960</td>\n",
       "      <td>CHURCH AV/E 42 ST</td>\n",
       "      <td>approaching</td>\n",
       "      <td>107.0</td>\n",
       "      <td>2017-08-01 00:02:00</td>\n",
       "      <td>23:56:12</td>\n",
       "    </tr>\n",
       "    <tr>\n",
       "      <th>2</th>\n",
       "      <td>2017-08-01 00:01:18</td>\n",
       "      <td>1</td>\n",
       "      <td>Q83</td>\n",
       "      <td>227 ST/113 DR</td>\n",
       "      <td>40.702263</td>\n",
       "      <td>-73.730339</td>\n",
       "      <td>JAMAICA HILLSIDE - 153 via LIBERTY</td>\n",
       "      <td>40.706795</td>\n",
       "      <td>-73.804100</td>\n",
       "      <td>NYCT_6449</td>\n",
       "      <td>40.706532</td>\n",
       "      <td>-73.804177</td>\n",
       "      <td>153 ST/HILLSIDE AV</td>\n",
       "      <td>at stop</td>\n",
       "      <td>25.0</td>\n",
       "      <td>2017-08-01 00:01:27</td>\n",
       "      <td>24:00:00</td>\n",
       "    </tr>\n",
       "    <tr>\n",
       "      <th>3</th>\n",
       "      <td>2017-08-01 00:01:05</td>\n",
       "      <td>0</td>\n",
       "      <td>M60-SBS</td>\n",
       "      <td>BROADWAY/W 106 ST</td>\n",
       "      <td>40.801819</td>\n",
       "      <td>-73.967644</td>\n",
       "      <td>SELECT BUS SERVICE LA GUARDIA AIRPORT</td>\n",
       "      <td>40.768074</td>\n",
       "      <td>-73.862091</td>\n",
       "      <td>NYCT_5846</td>\n",
       "      <td>40.770403</td>\n",
       "      <td>-73.917687</td>\n",
       "      <td>HOYT AV/31 ST</td>\n",
       "      <td>4.1 miles away</td>\n",
       "      <td>6519.0</td>\n",
       "      <td>2017-08-01 00:06:47</td>\n",
       "      <td>23:39:14</td>\n",
       "    </tr>\n",
       "    <tr>\n",
       "      <th>4</th>\n",
       "      <td>2017-08-01 00:01:05</td>\n",
       "      <td>0</td>\n",
       "      <td>M60-SBS</td>\n",
       "      <td>BROADWAY/W 106 ST</td>\n",
       "      <td>40.801819</td>\n",
       "      <td>-73.967644</td>\n",
       "      <td>SELECT BUS SERVICE LA GUARDIA AIRPORT</td>\n",
       "      <td>40.768074</td>\n",
       "      <td>-73.862091</td>\n",
       "      <td>NYCT_5846</td>\n",
       "      <td>40.770403</td>\n",
       "      <td>-73.917687</td>\n",
       "      <td>HOYT AV/31 ST</td>\n",
       "      <td>4.1 miles away</td>\n",
       "      <td>6519.0</td>\n",
       "      <td>2017-08-01 00:06:47</td>\n",
       "      <td>23:44:32</td>\n",
       "    </tr>\n",
       "  </tbody>\n",
       "</table>\n",
       "</div>"
      ],
      "text/plain": [
       "        RecordedAtTime  DirectionRef PublishedLineName         OriginName  \\\n",
       "0  2017-08-01 00:01:03             0               Q32       W 32 ST/7 AV   \n",
       "1  2017-08-01 00:00:52             0               B35         39 ST/1 AV   \n",
       "2  2017-08-01 00:01:18             1               Q83      227 ST/113 DR   \n",
       "3  2017-08-01 00:01:05             0           M60-SBS  BROADWAY/W 106 ST   \n",
       "4  2017-08-01 00:01:05             0           M60-SBS  BROADWAY/W 106 ST   \n",
       "\n",
       "   OriginLat  OriginLong                        DestinationName  \\\n",
       "0  40.749405  -73.991020  JACKSON HTS NORTHERN - 81 via ROOSVLT   \n",
       "1  40.656456  -74.012245     BROWNSVILLE M GASTON BL via CHURCH   \n",
       "2  40.702263  -73.730339     JAMAICA HILLSIDE - 153 via LIBERTY   \n",
       "3  40.801819  -73.967644  SELECT BUS SERVICE LA GUARDIA AIRPORT   \n",
       "4  40.801819  -73.967644  SELECT BUS SERVICE LA GUARDIA AIRPORT   \n",
       "\n",
       "   DestinationLat  DestinationLong VehicleRef  VehicleLocation.Latitude  \\\n",
       "0       40.755322       -73.886139  NYCT_7424                 40.749403   \n",
       "1       40.656345       -73.907188   NYCT_406                 40.651330   \n",
       "2       40.706795       -73.804100  NYCT_6449                 40.706532   \n",
       "3       40.768074       -73.862091  NYCT_5846                 40.770403   \n",
       "4       40.768074       -73.862091  NYCT_5846                 40.770403   \n",
       "\n",
       "   VehicleLocation.Longitude           NextStopPointName ArrivalProximityText  \\\n",
       "0                 -73.990841  W 32 ST/AV OF THE AMERICAS        < 1 stop away   \n",
       "1                 -73.938960           CHURCH AV/E 42 ST          approaching   \n",
       "2                 -73.804177          153 ST/HILLSIDE AV              at stop   \n",
       "3                 -73.917687               HOYT AV/31 ST       4.1 miles away   \n",
       "4                 -73.917687               HOYT AV/31 ST       4.1 miles away   \n",
       "\n",
       "   DistanceFromStop  ExpectedArrivalTime ScheduledArrivalTime  \n",
       "0             220.0  2017-08-01 00:01:37             24:01:11  \n",
       "1             107.0  2017-08-01 00:02:00             23:56:12  \n",
       "2              25.0  2017-08-01 00:01:27             24:00:00  \n",
       "3            6519.0  2017-08-01 00:06:47             23:39:14  \n",
       "4            6519.0  2017-08-01 00:06:47             23:44:32  "
      ]
     },
     "execution_count": 3,
     "metadata": {},
     "output_type": "execute_result"
    }
   ],
   "source": [
    "mta.head()"
   ]
  },
  {
   "cell_type": "code",
   "execution_count": 4,
   "metadata": {},
   "outputs": [
    {
     "data": {
      "text/plain": [
       "RecordedAtTime                object\n",
       "DirectionRef                   int64\n",
       "PublishedLineName             object\n",
       "OriginName                    object\n",
       "OriginLat                    float64\n",
       "OriginLong                   float64\n",
       "DestinationName               object\n",
       "DestinationLat               float64\n",
       "DestinationLong              float64\n",
       "VehicleRef                    object\n",
       "VehicleLocation.Latitude     float64\n",
       "VehicleLocation.Longitude    float64\n",
       "NextStopPointName             object\n",
       "ArrivalProximityText          object\n",
       "DistanceFromStop             float64\n",
       "ExpectedArrivalTime           object\n",
       "ScheduledArrivalTime          object\n",
       "dtype: object"
      ]
     },
     "execution_count": 4,
     "metadata": {},
     "output_type": "execute_result"
    }
   ],
   "source": [
    "mta.dtypes"
   ]
  },
  {
   "cell_type": "markdown",
   "metadata": {},
   "source": [
    "## Cleaning the Data\n",
    "For this EDA, we're only going to be looking at the **M100** bus with the route going to **Inwood 220 St Via Amsterdam Via Bway**. We are interested in the stop data in **W 125 St/St Nicholas Av**"
   ]
  },
  {
   "cell_type": "code",
   "execution_count": 5,
   "metadata": {},
   "outputs": [],
   "source": [
    "m100 = mta.loc[(mta['PublishedLineName']== 'M100') & (mta['DestinationName'] == 'INWOOD 220 ST via AMSTERDAM via BWAY'),]"
   ]
  },
  {
   "cell_type": "markdown",
   "metadata": {},
   "source": [
    "We want to look at M100 buses that have reported ```at stop``` on ```ArrivalProximityText``` whose ```OriginName``` is the stop before **W 125 St/St Nicholas Av**, ```W 125 ST/FRED DOUGLASS BL```"
   ]
  },
  {
   "cell_type": "code",
   "execution_count": 6,
   "metadata": {},
   "outputs": [],
   "source": [
    "# M100_FD = m100.loc[(m100['ArrivalProximityText'] == 'at stop') & (m100['NextStopPointName'] == 'W 125 ST/FRED DOUGLASS BL'),]\n",
    "M100_NICK = m100.loc[(m100['ArrivalProximityText'] == 'at stop') & (m100['NextStopPointName'] == 'W 125 ST/ST NICHOLAS AV'),]\n"
   ]
  },
  {
   "cell_type": "code",
   "execution_count": 7,
   "metadata": {},
   "outputs": [],
   "source": [
    "# M100_CONCAT = pd.concat([M100_FD, M100_NICK])"
   ]
  },
  {
   "cell_type": "code",
   "execution_count": 8,
   "metadata": {},
   "outputs": [],
   "source": [
    "# M100_CONCAT.head()"
   ]
  },
  {
   "cell_type": "markdown",
   "metadata": {},
   "source": [
    "Now we have a dataframe of M100 buses that have stopped at Nicholas. \n",
    "\n",
    "Our next step would be to compare the expected arrival to scheduled.\n",
    "\n",
    "~~Also, how about we limit our the scope to 7 days from Aug 5 to Aug 11.~~"
   ]
  },
  {
   "cell_type": "code",
   "execution_count": 9,
   "metadata": {
    "scrolled": false
   },
   "outputs": [
    {
     "name": "stderr",
     "output_type": "stream",
     "text": [
      "C:\\Users\\win10\\Anaconda3\\lib\\site-packages\\ipykernel_launcher.py:2: SettingWithCopyWarning: \n",
      "A value is trying to be set on a copy of a slice from a DataFrame.\n",
      "Try using .loc[row_indexer,col_indexer] = value instead\n",
      "\n",
      "See the caveats in the documentation: http://pandas.pydata.org/pandas-docs/stable/indexing.html#indexing-view-versus-copy\n",
      "  \n"
     ]
    }
   ],
   "source": [
    "# Changing obj to datetime \n",
    "M100_NICK['RecordedAtTime'] = pd.to_datetime(M100_NICK['RecordedAtTime'])\n",
    "\n",
    "# \n",
    "# M100_FD[(M100_FD['RecordedAtTime'] > '2017-08-05 05:00:00') & \n",
    "#             (M100_FD['RecordedAtTime'] < '2017-08-11 21:00:00')]"
   ]
  },
  {
   "cell_type": "markdown",
   "metadata": {},
   "source": [
    "Converting timestamps to datetime.time objects so that we can manipulate them with ```ScheduledArrivalTime```"
   ]
  },
  {
   "cell_type": "code",
   "execution_count": 10,
   "metadata": {},
   "outputs": [
    {
     "name": "stderr",
     "output_type": "stream",
     "text": [
      "C:\\Users\\win10\\Anaconda3\\lib\\site-packages\\ipykernel_launcher.py:1: SettingWithCopyWarning: \n",
      "A value is trying to be set on a copy of a slice from a DataFrame.\n",
      "Try using .loc[row_indexer,col_indexer] = value instead\n",
      "\n",
      "See the caveats in the documentation: http://pandas.pydata.org/pandas-docs/stable/indexing.html#indexing-view-versus-copy\n",
      "  \"\"\"Entry point for launching an IPython kernel.\n",
      "C:\\Users\\win10\\Anaconda3\\lib\\site-packages\\ipykernel_launcher.py:2: SettingWithCopyWarning: \n",
      "A value is trying to be set on a copy of a slice from a DataFrame.\n",
      "Try using .loc[row_indexer,col_indexer] = value instead\n",
      "\n",
      "See the caveats in the documentation: http://pandas.pydata.org/pandas-docs/stable/indexing.html#indexing-view-versus-copy\n",
      "  \n"
     ]
    }
   ],
   "source": [
    "M100_NICK['scheduled_time'] = pd.to_datetime(M100_NICK['ScheduledArrivalTime'],format='%H:%M:%S', errors='coerce').dt.time\n",
    "M100_NICK['expected_time'] = pd.to_datetime(M100_NICK['ExpectedArrivalTime']).dt.time\n"
   ]
  },
  {
   "cell_type": "markdown",
   "metadata": {},
   "source": [
    "Dropping malformed values:"
   ]
  },
  {
   "cell_type": "code",
   "execution_count": 11,
   "metadata": {},
   "outputs": [],
   "source": [
    "M100_NICK = M100_NICK.loc[(M100_NICK['expected_time'].notnull()),]\n",
    "M100_NICK = M100_NICK.loc[(M100_NICK['scheduled_time'].notnull()),]"
   ]
  },
  {
   "cell_type": "code",
   "execution_count": 12,
   "metadata": {},
   "outputs": [
    {
     "data": {
      "text/plain": [
       "(86, 19)"
      ]
     },
     "execution_count": 12,
     "metadata": {},
     "output_type": "execute_result"
    }
   ],
   "source": [
    "M100_NICK.shape"
   ]
  },
  {
   "cell_type": "markdown",
   "metadata": {},
   "source": [
    "Now we calculate the actual time difference between the expected and scheduled."
   ]
  },
  {
   "cell_type": "code",
   "execution_count": 13,
   "metadata": {},
   "outputs": [],
   "source": [
    "M100_NICK['time_diff'] = (pd.to_timedelta(M100_NICK['expected_time'].astype(str)) - \n",
    "                   pd.to_timedelta(M100_NICK['scheduled_time'].astype(str)))"
   ]
  },
  {
   "cell_type": "code",
   "execution_count": 14,
   "metadata": {},
   "outputs": [],
   "source": [
    "M100_NICK['time_diff_mins'] = ((M100_NICK['time_diff'] / np.timedelta64(1, 'm'))).apply(math.ceil).astype(int)"
   ]
  },
  {
   "cell_type": "markdown",
   "metadata": {},
   "source": [
    "Now we save our progress to a CSV file."
   ]
  },
  {
   "cell_type": "code",
   "execution_count": 15,
   "metadata": {},
   "outputs": [],
   "source": [
    "M100_NICK.to_csv('M100_month_W125_st.csv', encoding='utf-8', index=False)"
   ]
  },
  {
   "cell_type": "code",
   "execution_count": null,
   "metadata": {},
   "outputs": [],
   "source": []
  }
 ],
 "metadata": {
  "kernelspec": {
   "display_name": "Python 3",
   "language": "python",
   "name": "python3"
  },
  "language_info": {
   "codemirror_mode": {
    "name": "ipython",
    "version": 3
   },
   "file_extension": ".py",
   "mimetype": "text/x-python",
   "name": "python",
   "nbconvert_exporter": "python",
   "pygments_lexer": "ipython3",
   "version": "3.6.7"
  }
 },
 "nbformat": 4,
 "nbformat_minor": 2
}
