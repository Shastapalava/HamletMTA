{
 "cells": [
  {
   "cell_type": "markdown",
   "metadata": {},
   "source": [
    "# Exploring the Datasets\n",
    "*Authors: Angelika Shastapalava, Excel Espina, David Hadaller, Sam Mundle*  \n",
    "\n",
    "### What data we are using:  \n",
    "1) The \"Discovery\" API is MTA's official developer resource to get real-time data from their NYC Bus Time service. You can get more information <a href=\"http://bustime.mta.info/wiki/Developers/Index\">here</a>  \n",
    "2) Kaggle's NYC Bus Data <a href=\"https://www.kaggle.com/stoney71/new-york-city-transport-statistics\">here</a>\n",
    "\n",
    "### Goals, or how are we using the data:\n",
    "Our plan is to explore the following:  \n",
    "> 1. Predicting the probaility, given that a passenger approaches a bus stop within at a particular time interval during the day, that a bus will be late.\n",
    ">2. What environmental factors impact a buses schedule? What impact does time of day,\n",
    "temperature, and weather have?\n",
    "> 3. Based on a ~10 stops/lines how closely do the actual stop times reflect the posted bus\n",
    "schedules and what is the distribution around the scheduled time that busses actually\n",
    "arrive?\n",
    "\n",
    "\n",
    "### Sections:\n",
    "1) [Background Information](#Background-Information) \n",
    "\n",
    "2) [Loading the Datasets](#Loading-the-Datasets) \n",
    "\n",
    "3) [Cleaning the Data](#Cleaning-the-Data)  \n",
    "\n",
    "4) [Visualizing the Data](#Visualizing-the-Data)"
   ]
  },
  {
   "cell_type": "markdown",
   "metadata": {},
   "source": [
    "### Background Reading for Goal 1\n",
    "Doing some background reading, we came across two articles, one [by Jake Vanderplas](http://jakevdp.github.io/blog/2018/09/13/waiting-time-paradox/), developer of data science tools and director open software at the University of Washington's eScience Institute, and another [by Allen Downey](http://allendowney.blogspot.com/2015/08/the-inspection-paradox-is-everywhere.html), a Professor of Computer Science at Olin College and author of many data science texts. Both of their articles coincide with our research goals, but since they're similar, we'll focus mainly Allen Downey's work.  \n",
    "\n",
    "In his article, Downey discusses the inspection paradox as applied to many different data sets, including train arrival times. What follows is a brief summary of the inspection paradox, which explains why most people can truthfully report that trains are overcrowded and late, despite the train operator's equally truthful observation that *most* trains aren't drastically late or crowded. Say that the mean wait time between busses is 10 minutes. Also assume that if train B is late, train A cannot step in to serve those waiting customers even if it's closer. \n",
    "\n",
    "Late trains, by definition, arrive after a long wait interval, so if we're choosing a random time to approach the patform, there's more of a chance that the train we board will be a late train. This is especially true if the time interval between trains features a high variance. Based on scenario described, the waiting time paradox also makes the claim, that when the average time between arrivals is $n$, customers experience an average wait interval experienced of $2n$.\n",
    "\n",
    "Allen Downey demonstrates this by plotting the actual distribution of time between trains on the Red Line in Boston, and the biased distribution that would be observed by passengers of that line. His observations and a plot of that data are as follows:\n",
    "\n",
    "> The average time between trains is 7.8 minutes, so we might expect the average wait time to be 3.8 minutes.  But the average of the biased distribution is 8.8 minutes, and the average wait time for passengers is 4.4 minutes, about 15% longer.\n",
    "> \n",
    "> In this case the difference between the two distributions is not very big because the variance of the actual distribution is moderate.  When the actual distribution is long-tailed, the effect of the inspection paradox can be much bigger.\n",
    "\n",
    "\n",
    "<img src=\"images/1-time-between-trains.png\" alt=\"drawing\" width=\"600\"/>\n",
    "\n",
    "Of course, as he explains in the above quote, Downey does not find the same trend as the idealized inspecition paradox--when the average time between arrivals is $n$, customers experience an average wait interval experienced of $2n$. This is likely because passengers do not appraoch the train platform at a *uniformly* random time. Mass transit usage likely features some other kind of distribution (perhaps a bimodal distibution, since people commute to work in the morning and then back home in the evening.) \n",
    "\n",
    "For our purposes, creating a biased distribution to test whether the MTA bus data can be described by the inspection paradox would require two things:\n",
    "1. Bus times deltas: that is, the intervals between different bus arrival times at a given stop. We need this to compute the actual ecdf (shown in dark blue.) \n",
    "2. Passenger Data: we need to know how many passengers boarded each bus that stopped at the particular stop in question. This data would be used to create the light blue, biased ecdf, which describes probability from the passenger's perspective.\n",
    "\n",
    "This biased distribution would help us guage probability from the customer standpoint. We're not pointing at busses as they leave the station, assessing the probability as to whether they'll be late. Instead, we're guaging the probability that a customer, who makes his/her way to a stop, will board a late bus.\n",
    "\n",
    "Once we have this biased distribution, we can find the impact of conditional probabilities due to various weather events (taken from external data) on average user wait time (the biased chart.) This leads us into goal 2.\n",
    "\n",
    "### Our Data Analysis\n",
    "The goal of our data analysis is to build on what Downey's work, only with the MTA bus times. We aim to find the distribution of time intervals between one bus leaving and the next bus coming (we call these \"time deltas\"). If these time intervals feature a great deal of variance, many passengers will experience the inspection paradox; i.e. if they approach a bus stop at a uniform, random time, even if the average (mean) bus arrives on time, most passengers will experience long wait times. \n",
    "\n",
    "After we've created an ecdf of the time deltas, we can later simulate the probability that a given passenger will experience a delay using montecarlo methods and/or add conditional probabilities to our analysis with weather data. We must simulate passenger behavior with montecarlo methods because, unlike the Red Line in Boston, the MTA only publishes ridership data, as a year-end sum, not for individual bus rides."
   ]
  },
  {
   "cell_type": "code",
   "execution_count": 2,
   "metadata": {},
   "outputs": [],
   "source": [
    "import pandas as pd\n",
    "import matplotlib.pyplot as plt\n",
    "import numpy as np\n",
    "import datetime, math"
   ]
  },
  {
   "cell_type": "markdown",
   "metadata": {},
   "source": [
    "### Loading the Datasets \n",
    "We want to work with the Kaggle dataset so head over <a href=\"https://www.kaggle.com/stoney71/new-york-city-transport-statistics\">here</a> and download the zip file. (A word of caution: the dataset is approx **5GB** when extracted!)\n",
    "\n",
    "After you extract the data, we want to load a csv on our notebook.  \n",
    "\n",
    "The `error_bad_lines=False` parameter fixes some formatting issues when we load in our dataset."
   ]
  },
  {
   "cell_type": "code",
   "execution_count": null,
   "metadata": {},
   "outputs": [],
   "source": [
    "%%capture\n",
    "mta = pd.read_csv('mta_1708.csv', error_bad_lines=False)\n",
    "# mta.set_index('PublishedLineName', inplace=True)"
   ]
  },
  {
   "cell_type": "code",
   "execution_count": null,
   "metadata": {
    "scrolled": false
   },
   "outputs": [],
   "source": [
    "mta.head()"
   ]
  },
  {
   "cell_type": "code",
   "execution_count": null,
   "metadata": {},
   "outputs": [],
   "source": [
    "mta.dtypes"
   ]
  },
  {
   "cell_type": "markdown",
   "metadata": {},
   "source": [
    "## Cleaning the Data\n",
    "For this EDA, we're only going to be looking at the **M100** bus with the route going to **Inwood 220 St Via Amsterdam Via Bway**. We are interested in the stop data in **W 125 St/St Nicholas Av**"
   ]
  },
  {
   "cell_type": "code",
   "execution_count": null,
   "metadata": {},
   "outputs": [],
   "source": [
    "m100 = mta.loc[(mta['PublishedLineName']== 'M100') & (mta['DestinationName'] == 'INWOOD 220 ST via AMSTERDAM via BWAY'),]"
   ]
  },
  {
   "cell_type": "markdown",
   "metadata": {},
   "source": [
    "We want to look at M100 buses that have reported ```at stop``` on ```ArrivalProximityText``` whose ```OriginName``` is the stop before **W 125 St/St Nicholas Av**, ```W 125 ST/FRED DOUGLASS BL```"
   ]
  },
  {
   "cell_type": "code",
   "execution_count": null,
   "metadata": {},
   "outputs": [],
   "source": [
    "# M100_FD = m100.loc[(m100['ArrivalProximityText'] == 'at stop') & (m100['NextStopPointName'] == 'W 125 ST/FRED DOUGLASS BL'),]\n",
    "M100_NICK = m100.loc[(m100['ArrivalProximityText'] == 'at stop') & (m100['NextStopPointName'] == 'W 125 ST/ST NICHOLAS AV'),]\n"
   ]
  },
  {
   "cell_type": "code",
   "execution_count": null,
   "metadata": {},
   "outputs": [],
   "source": [
    "# M100_CONCAT = pd.concat([M100_FD, M100_NICK])"
   ]
  },
  {
   "cell_type": "code",
   "execution_count": null,
   "metadata": {},
   "outputs": [],
   "source": [
    "# M100_CONCAT.head()"
   ]
  },
  {
   "cell_type": "markdown",
   "metadata": {},
   "source": [
    "Now we have a dataframe of M100 buses that have stopped at Nicholas. \n",
    "\n",
    "Our next step would be to compare the expected arrival to scheduled.\n",
    "\n",
    "~~Also, how about we limit our the scope to 7 days from Aug 5 to Aug 11.~~"
   ]
  },
  {
   "cell_type": "code",
   "execution_count": null,
   "metadata": {
    "scrolled": false
   },
   "outputs": [],
   "source": [
    "# Changing obj to datetime \n",
    "M100_NICK['RecordedAtTime'] = pd.to_datetime(M100_NICK['RecordedAtTime'])\n",
    "\n",
    "# \n",
    "# M100_FD[(M100_FD['RecordedAtTime'] > '2017-08-05 05:00:00') & \n",
    "#             (M100_FD['RecordedAtTime'] < '2017-08-11 21:00:00')]"
   ]
  },
  {
   "cell_type": "markdown",
   "metadata": {},
   "source": [
    "Converting timestamps to datetime.time objects so that we can manipulate them with ```ScheduledArrivalTime```"
   ]
  },
  {
   "cell_type": "code",
   "execution_count": null,
   "metadata": {},
   "outputs": [],
   "source": [
    "M100_NICK['scheduled_time'] = pd.to_datetime(M100_NICK['ScheduledArrivalTime'],format='%H:%M:%S', errors='coerce').dt.time\n",
    "M100_NICK['expected_time'] = pd.to_datetime(M100_NICK['ExpectedArrivalTime']).dt.time\n"
   ]
  },
  {
   "cell_type": "markdown",
   "metadata": {},
   "source": [
    "Dropping malformed values:"
   ]
  },
  {
   "cell_type": "code",
   "execution_count": null,
   "metadata": {},
   "outputs": [],
   "source": [
    "M100_NICK = M100_NICK.loc[(M100_NICK['expected_time'].notnull()),]\n",
    "M100_NICK = M100_NICK.loc[(M100_NICK['scheduled_time'].notnull()),]"
   ]
  },
  {
   "cell_type": "code",
   "execution_count": null,
   "metadata": {},
   "outputs": [],
   "source": [
    "M100_NICK.shape"
   ]
  },
  {
   "cell_type": "markdown",
   "metadata": {},
   "source": [
    "Now we calculate the actual time difference between the expected and scheduled."
   ]
  },
  {
   "cell_type": "code",
   "execution_count": null,
   "metadata": {},
   "outputs": [],
   "source": [
    "M100_NICK['time_diff'] = (pd.to_timedelta(M100_NICK['expected_time'].astype(str)) - \n",
    "                   pd.to_timedelta(M100_NICK['scheduled_time'].astype(str)))"
   ]
  },
  {
   "cell_type": "code",
   "execution_count": null,
   "metadata": {},
   "outputs": [],
   "source": [
    "M100_NICK['time_diff_mins'] = ((M100_NICK['time_diff'] / np.timedelta64(1, 'm'))).apply(math.ceil).astype(int)"
   ]
  },
  {
   "cell_type": "markdown",
   "metadata": {},
   "source": [
    "Now we save our progress to a CSV file."
   ]
  },
  {
   "cell_type": "code",
   "execution_count": null,
   "metadata": {},
   "outputs": [],
   "source": [
    "M100_NICK.to_csv('M100_month_W125_st.csv', encoding='utf-8', index=False)"
   ]
  },
  {
   "cell_type": "markdown",
   "metadata": {},
   "source": [
    "We then import the csv as a dataframe, because my (David Hadaller) laptop cannot handle importing 'mta_1708.csv', a 1.5 GB file, as Excel did in the cells above."
   ]
  },
  {
   "cell_type": "code",
   "execution_count": 8,
   "metadata": {},
   "outputs": [],
   "source": [
    "M100_NICK = pd.read_csv('M100_month_W125_st.csv')"
   ]
  },
  {
   "cell_type": "code",
   "execution_count": 29,
   "metadata": {},
   "outputs": [],
   "source": [
    "def ecdf(inputSeries):\n",
    "    x = np.sort(inputSeries)\n",
    "    y = np.arange(1, len(x)+1) / len(x)\n",
    "    _ = plt.plot(x, y, marker='.', linestyle='none')\n",
    "    _ = plt.xlabel('Time Delta (minutes)')\n",
    "    _ = plt.ylabel('ECDF')\n",
    "    plt.margins(0.02) # Keeps data off plot edges\n",
    "    plt.show()\n",
    "    \n",
    "def hist(inputSeries):\n",
    "    plt.hist(inputSeries, bins=25, density=True)\n",
    "    _ = plt.xlabel('Time Delta (minutes)')\n",
    "    _ = plt.ylabel('PDF')\n",
    "    plt.show()"
   ]
  },
  {
   "cell_type": "markdown",
   "metadata": {},
   "source": [
    "The charts below represent the ecdf and pdf of the bus \"time deltas\" or time intervals between the arrival of one bus and the next along with acompanying summary statistics. Notice that... (continue explanation after Excel's data fix) "
   ]
  },
  {
   "cell_type": "code",
   "execution_count": 34,
   "metadata": {},
   "outputs": [
    {
     "data": {
      "image/png": "[encoded data removed]",
      "text/plain": [
       "<Figure size 432x288 with 1 Axes>"
      ]
     },
     "metadata": {
      "needs_background": "light"
     },
     "output_type": "display_data"
    },
    {
     "data": {
      "image/png": "[encoded data removed]",
      "text/plain": [
       "<Figure size 432x288 with 1 Axes>"
      ]
     },
     "metadata": {
      "needs_background": "light"
     },
     "output_type": "display_data"
    },
    {
     "data": {
      "text/plain": [
       "count    86.000000\n",
       "mean      2.767442\n",
       "std       4.898198\n",
       "min      -4.000000\n",
       "25%       0.000000\n",
       "50%       2.000000\n",
       "75%       4.000000\n",
       "max      32.000000\n",
       "Name: time_diff_mins, dtype: float64"
      ]
     },
     "execution_count": 34,
     "metadata": {},
     "output_type": "execute_result"
    }
   ],
   "source": [
    "ecdf(M100_NICK['time_diff_mins'])\n",
    "hist(M100_NICK['time_diff_mins'])\n",
    "M100_NICK['time_diff_mins'].describe()"
   ]
  },
  {
   "cell_type": "code",
   "execution_count": null,
   "metadata": {},
   "outputs": [],
   "source": []
  }
 ],
 "metadata": {
  "kernelspec": {
   "display_name": "Python 3",
   "language": "python",
   "name": "python3"
  },
  "language_info": {
   "codemirror_mode": {
    "name": "ipython",
    "version": 3
   },
   "file_extension": ".py",
   "mimetype": "text/x-python",
   "name": "python",
   "nbconvert_exporter": "python",
   "pygments_lexer": "ipython3",
   "version": "3.7.0"
  }
 },
 "nbformat": 4,
 "nbformat_minor": 2
}
