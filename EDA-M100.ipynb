{
 "cells": [
  {
   "cell_type": "markdown",
   "metadata": {},
   "source": [
    "# Exploring the Datasets\n",
    "*Authors: Angelika Shastapalava, Excel Espina, David Hadaller, Sam Mundle*  \n",
    "\n",
    "### What are we using:  \n",
    "1) The \"Discovery\" API is MTA's official developer resource to get real-time data from their NYC Bus Time service. You can get more information <a href=\"http://bustime.mta.info/wiki/Developers/Index\">here</a>  \n",
    "2) Kaggle's NYC Bus Data <a href=\"https://www.kaggle.com/stoney71/new-york-city-transport-statistics\">here</a>\n",
    "\n",
    "### How are we using it:\n",
    "Using regression and classification techniques learned in class, we want to explore the following:  \n",
    "> 1. Based on a ~10 stops/lines how closely do the actual stop times reflect the posted bus\n",
    "schedules and what is the distribution around the scheduled time that busses actually\n",
    "arrive?\n",
    ">2. What environmental factors impact a buses schedule? What impact does time of day,\n",
    "temperature, and weather have?\n",
    ">3. What socioeconomic factors play into a buses schedule? Do we see better or worse\n",
    "availability in neighborhoods with different average incomes?\n",
    ">4. Predicting with a defined degree certainty if a bus is coming within a given time frame\n",
    "\n",
    "### Sections:\n",
    "1) [Loading the Datasets](#Loading-the-Datasets)  \n",
    "2) [Cleaning the Data](#Cleaning-the-Data)  \n",
    "3) [Visualizing the Data](#Visualizing-the-Data)"
   ]
  },
  {
   "cell_type": "code",
   "execution_count": null,
   "metadata": {},
   "outputs": [],
   "source": [
    "import pandas as pd\n",
    "import matplotlib.pyplot as plt\n",
    "import numpy as np\n",
    "import datetime, math"
   ]
  },
  {
   "cell_type": "markdown",
   "metadata": {},
   "source": [
    "### Loading the Datasets \n",
    "We want to work with the Kaggle dataset so head over <a href=\"https://www.kaggle.com/stoney71/new-york-city-transport-statistics\">here</a> and download the zip file. (A word of caution: the dataset is approx **5GB** when extracted!)\n",
    "\n",
    "After you extract the data, we want to load a csv on our notebook.  \n",
    "\n",
    "The `error_bad_lines=False` parameter fixes some formatting issues when we load in our dataset."
   ]
  },
  {
   "cell_type": "code",
   "execution_count": null,
   "metadata": {},
   "outputs": [],
   "source": [
    "%%capture\n",
    "mta = pd.read_csv('mta_1708.csv', error_bad_lines=False)\n",
    "# mta.set_index('PublishedLineName', inplace=True)"
   ]
  },
  {
   "cell_type": "code",
   "execution_count": null,
   "metadata": {
    "scrolled": false
   },
   "outputs": [],
   "source": [
    "mta.head()"
   ]
  },
  {
   "cell_type": "code",
   "execution_count": null,
   "metadata": {},
   "outputs": [],
   "source": [
    "mta.dtypes"
   ]
  },
  {
   "cell_type": "markdown",
   "metadata": {},
   "source": [
    "## Cleaning the Data\n",
    "For this EDA, we're only going to be looking at the **M100** bus with the route going to **Inwood 220 St Via Amsterdam Via Bway**. We are interested in the stop data in **W 125 St/St Nicholas Av**"
   ]
  },
  {
   "cell_type": "code",
   "execution_count": null,
   "metadata": {},
   "outputs": [],
   "source": [
    "m100 = mta.loc[(mta['PublishedLineName']== 'M100') & (mta['DestinationName'] == 'INWOOD 220 ST via AMSTERDAM via BWAY'),]"
   ]
  },
  {
   "cell_type": "markdown",
   "metadata": {},
   "source": [
    "We want to look at M100 buses that have reported ```at stop``` on ```ArrivalProximityText``` whose ```OriginName``` is the stop before **W 125 St/St Nicholas Av**, ```W 125 ST/FRED DOUGLASS BL```"
   ]
  },
  {
   "cell_type": "code",
   "execution_count": null,
   "metadata": {},
   "outputs": [],
   "source": [
    "M100_FD = m100.loc[(m100['ArrivalProximityText'] == 'at stop') & (m100['NextStopPointName'] == 'W 125 ST/FRED DOUGLASS BL'),]\n",
    "# M100_NICK = m100.loc[(m100['ArrivalProximityText'] == 'at stop') & (m100['NextStopPointName'] == 'W 125 ST/ST NICHOLAS AV'),]\n"
   ]
  },
  {
   "cell_type": "code",
   "execution_count": null,
   "metadata": {},
   "outputs": [],
   "source": [
    "M100_CONCAT = pd.concat([M100_FD, M100_NICK])"
   ]
  },
  {
   "cell_type": "code",
   "execution_count": null,
   "metadata": {},
   "outputs": [],
   "source": [
    "M100_CONCAT.head()"
   ]
  },
  {
   "cell_type": "markdown",
   "metadata": {},
   "source": [
    "Now we have a dataframe of M100 buses that have stopped at Nicholas. \n",
    "\n",
    "Our next step would be to compare the expected arrival to scheduled.\n",
    "\n",
    "Also, how about we limit our the scope to 7 days from Aug 5 to Aug 11."
   ]
  },
  {
   "cell_type": "code",
   "execution_count": null,
   "metadata": {
    "scrolled": false
   },
   "outputs": [],
   "source": [
    "# Changing obj to datetime \n",
    "M100_FD['RecordedAtTime'] = pd.to_datetime(M100_FD['RecordedAtTime'])\n",
    "\n",
    "# \n",
    "M100_FD[(M100_FD['RecordedAtTime'] > '2017-08-05 05:00:00') & \n",
    "            (M100_FD['RecordedAtTime'] < '2017-08-11 21:00:00')]"
   ]
  },
  {
   "cell_type": "markdown",
   "metadata": {},
   "source": [
    "Converting timestamps to datetime.time objects so that we can manipulate them with ```ScheduledArrivalTime```"
   ]
  },
  {
   "cell_type": "code",
   "execution_count": null,
   "metadata": {},
   "outputs": [],
   "source": [
    "M100_FD['scheduled_time'] = pd.to_datetime(M100_FD['ScheduledArrivalTime'],format='%H:%M:%S', errors='coerce').dt.time\n",
    "M100_FD['expected_time'] = pd.to_datetime(M100_FD['ExpectedArrivalTime']).dt.time\n"
   ]
  },
  {
   "cell_type": "markdown",
   "metadata": {},
   "source": [
    "Dropping malformed values:"
   ]
  },
  {
   "cell_type": "code",
   "execution_count": null,
   "metadata": {},
   "outputs": [],
   "source": [
    "M100_FD = M100_FD.loc[(M100_FD['expected_time'].notnull()),]\n",
    "M100_FD = M100_FD.loc[(M100_FD['scheduled_time'].notnull()),]"
   ]
  },
  {
   "cell_type": "code",
   "execution_count": null,
   "metadata": {},
   "outputs": [],
   "source": [
    "M100_FD.shape"
   ]
  },
  {
   "cell_type": "markdown",
   "metadata": {},
   "source": [
    "Now we calculate the actual time difference between the expected and scheduled."
   ]
  },
  {
   "cell_type": "code",
   "execution_count": null,
   "metadata": {},
   "outputs": [],
   "source": [
    "M100_FD['time_diff'] = (pd.to_timedelta(M100_FD['expected_time'].astype(str)) - \n",
    "                   pd.to_timedelta(M100_FD['scheduled_time'].astype(str)))"
   ]
  },
  {
   "cell_type": "code",
   "execution_count": null,
   "metadata": {},
   "outputs": [],
   "source": [
    "M100_FD['time_diff_mins'] = ((M100_FD['time_diff'] / np.timedelta64(1, 'm'))).apply(math.ceil).astype(int)"
   ]
  },
  {
   "cell_type": "markdown",
   "metadata": {},
   "source": [
    "Now we save our progress to a CSV file."
   ]
  },
  {
   "cell_type": "code",
   "execution_count": null,
   "metadata": {},
   "outputs": [],
   "source": [
    "M100_FD.to_csv('M100_7days_W125_st.csv', encoding='utf-8', index=False)"
   ]
  },
  {
   "cell_type": "code",
   "execution_count": null,
   "metadata": {},
   "outputs": [],
   "source": []
  }
 ],
 "metadata": {
  "kernelspec": {
   "display_name": "Python 3",
   "language": "python",
   "name": "python3"
  },
  "language_info": {
   "codemirror_mode": {
    "name": "ipython",
    "version": 3
   },
   "file_extension": ".py",
   "mimetype": "text/x-python",
   "name": "python",
   "nbconvert_exporter": "python",
   "pygments_lexer": "ipython3",
   "version": "3.6.7"
  }
 },
 "nbformat": 4,
 "nbformat_minor": 2
}
