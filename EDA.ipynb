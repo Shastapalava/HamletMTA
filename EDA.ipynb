{
 "cells": [
  {
   "cell_type": "markdown",
   "metadata": {},
   "source": [
    "# Exploring the Datasets\n",
    "*Authors: Angelika Shastapalava, Excel Espina, David Hadaller, Sam Mundle*  \n",
    "\n",
    "### What are we using:  \n",
    "1) The \"Discovery\" API is MTA's official developer resource to get real-time data from their NYC Bus Time service. You can get more information <a href=\"http://bustime.mta.info/wiki/Developers/Index\">here</a>  \n",
    "2) Kaggle's NYC Bus Data <a href=\"https://www.kaggle.com/stoney71/new-york-city-transport-statistics\">here</a>\n",
    "\n",
    "### How are we using it:\n",
    "Using regression and classification techniques learned in class, we want to explore the following:  \n",
    "> 1. Based on a ~10 stops/lines how closely do the actual stop times reflect the posted bus\n",
    "schedules and what is the distribution around the scheduled time that busses actually\n",
    "arrive?\n",
    ">2. What environmental factors impact a buses schedule? What impact does time of day,\n",
    "temperature, and weather have?\n",
    ">3. What socioeconomic factors play into a buses schedule? Do we see better or worse\n",
    "availability in neighborhoods with different average incomes?\n",
    ">4. Predicting with a defined degree certainty if a bus is coming within a given time frame\n",
    "\n",
    "### Sections:\n",
    "1) [Loading the Datasets](#Loading-the-Datasets)  \n",
    "2) [Cleaning the Data](#Cleaning-the-Data)  \n",
    "3) [Visualizing the Data](#Visualizing-the-Data)"
   ]
  },
  {
   "cell_type": "code",
   "execution_count": 1,
   "metadata": {},
   "outputs": [],
   "source": [
    "import pandas as pd\n",
    "import matplotlib.pyplot as plt\n",
    "import numpy as np\n",
    "import datetime"
   ]
  },
  {
   "cell_type": "markdown",
   "metadata": {},
   "source": [
    "### Loading the Datasets \n",
    "We want to work with the Kaggle dataset so head over <a href=\"https://www.kaggle.com/stoney71/new-york-city-transport-statistics\">here</a> and download the zip file. (A word of caution: the dataset is approx **5GB** when extracted!)\n",
    "\n",
    "After you extract the data, we want to load a csv on our notebook.  \n",
    "\n",
    "The `error_bad_lines=False` parameter fixes some formatting issues when we load in our dataset."
   ]
  },
  {
   "cell_type": "code",
   "execution_count": null,
   "metadata": {},
   "outputs": [],
   "source": [
    "%%capture\n",
    "mta = pd.read_csv('mta_1708.csv', error_bad_lines=False)\n",
    "mta.set_index('PublishedLineName', inplace=True)"
   ]
  },
  {
   "cell_type": "code",
   "execution_count": null,
   "metadata": {},
   "outputs": [],
   "source": [
    "mta.head()"
   ]
  },
  {
   "cell_type": "code",
   "execution_count": null,
   "metadata": {},
   "outputs": [],
   "source": [
    "mta.dtypes"
   ]
  },
  {
   "cell_type": "markdown",
   "metadata": {},
   "source": [
    "## Cleaning the Data\n",
    "Looking at the head samples, we see `ExpectedArrivalTime` and `ScheduledArrivalTime` are objects of differing formats. We should fix that.\n",
    "\n",
    "In this case, we want to compare the time difference between Expected and Schedule times when the distance from the stop is <= 30ft."
   ]
  },
  {
   "cell_type": "markdown",
   "metadata": {},
   "source": [
    "First things first: convert ```ExpectedArrivalTime```'s Timestamp format to just the time itself.\n",
    "\n",
    "Then we need to adjust the ```ScheduledArrivalTime``` to match python's time range of 0-23 hours. Here we pass ```errors='coerce'``` parameter to convert troublesome or out of range times to NaT (Not a Time)."
   ]
  },
  {
   "cell_type": "code",
   "execution_count": null,
   "metadata": {
    "scrolled": true
   },
   "outputs": [],
   "source": [
    "### Removing Date from the ExpectedArrivalTime\n",
    "\n",
    "# Convert object to datetime64 \n",
    "mta['expected_time'] = pd.to_datetime(mta['ExpectedArrivalTime']).dt.time\n",
    "mta['scheduled_time'] = pd.to_datetime(mta['ScheduledArrivalTime'],format='%H:%M:%S', errors='coerce').dt.time\n",
    "# mta['scheduled_time'] = pd.to_datetime(mta['scheduled_time'])\n",
    "# temp = pd.to_datetime(mta['scheduled_time']).dt.time\n",
    "# datetime.datetime.strptime().time()\n",
    "mta.infer_objects().dtypes"
   ]
  },
  {
   "cell_type": "code",
   "execution_count": null,
   "metadata": {},
   "outputs": [],
   "source": [
    "mta.head()"
   ]
  },
  {
   "cell_type": "markdown",
   "metadata": {},
   "source": [
    "Now let's drop observations whose ```DistanceFromStop``` is farther away than 30 ft."
   ]
  },
  {
   "cell_type": "code",
   "execution_count": null,
   "metadata": {},
   "outputs": [],
   "source": [
    "mta = mta.loc[(mta['DistanceFromStop']<=30),]\n",
    "print(mta.shape)"
   ]
  },
  {
   "cell_type": "markdown",
   "metadata": {},
   "source": [
    "Now let's drop missing ```ExpectedArrivalTime, expected_time & scheduled_time``` since we can't impute it at the moment."
   ]
  },
  {
   "cell_type": "code",
   "execution_count": null,
   "metadata": {},
   "outputs": [],
   "source": [
    "mta = mta.loc[(mta['ExpectedArrivalTime'].notnull()),]\n",
    "mta = mta.loc[(mta['expected_time'].notnull()),]\n",
    "mta = mta.loc[(mta['scheduled_time'].notnull()),]\n",
    "print(mta.shape)"
   ]
  },
  {
   "cell_type": "markdown",
   "metadata": {},
   "source": [
    "We'll create a new column that calculates the time difference between the expected and scheduled."
   ]
  },
  {
   "cell_type": "code",
   "execution_count": null,
   "metadata": {},
   "outputs": [],
   "source": [
    "mta['time_diff'] = (pd.to_timedelta(mta['expected_time'].astype(str)) - \n",
    "                   pd.to_timedelta(mta['scheduled_time'].astype(str)))"
   ]
  },
  {
   "cell_type": "code",
   "execution_count": null,
   "metadata": {},
   "outputs": [],
   "source": [
    "mta['time_diff_mins'] = ((mta['time_diff'] / np.timedelta64(1, 'm')) + 1440).astype(int)\n",
    "mta.dtypes"
   ]
  },
  {
   "cell_type": "code",
   "execution_count": null,
   "metadata": {},
   "outputs": [],
   "source": [
    "mta.head(40)"
   ]
  },
  {
   "cell_type": "markdown",
   "metadata": {},
   "source": [
    "## Visualizing the Data\n",
    "\n",
    "Now we can visualize the time difference between expected and scheduled arrival times."
   ]
  },
  {
   "cell_type": "code",
   "execution_count": null,
   "metadata": {},
   "outputs": [],
   "source": [
    "# TODO"
   ]
  },
  {
   "cell_type": "markdown",
   "metadata": {},
   "source": [
    "Looking at MTA API:"
   ]
  },
  {
   "cell_type": "code",
   "execution_count": null,
   "metadata": {},
   "outputs": [],
   "source": [
    "# Key for Excel\n",
    "mta_key = \"51b681ab-bb14-4f29-9104-db15a7a41d41\""
   ]
  },
  {
   "cell_type": "code",
   "execution_count": null,
   "metadata": {},
   "outputs": [],
   "source": []
  }
 ],
 "metadata": {
  "kernelspec": {
   "display_name": "Python 3",
   "language": "python",
   "name": "python3"
  },
  "language_info": {
   "codemirror_mode": {
    "name": "ipython",
    "version": 3
   },
   "file_extension": ".py",
   "mimetype": "text/x-python",
   "name": "python",
   "nbconvert_exporter": "python",
   "pygments_lexer": "ipython3",
   "version": "3.6.7"
  }
 },
 "nbformat": 4,
 "nbformat_minor": 2
}
