{
 "cells": [
  {
   "cell_type": "markdown",
   "metadata": {},
   "source": [
    "# Exploring the Datasets\n",
    "*Authors: Angelika Shastapalava, Excel Espina, David Hadaller, Sam Mundle*  \n",
    "\n",
    "### What are we using:  \n",
    "1) The \"Discovery\" API is MTA's official developer resource to get real-time data from their NYC Bus Time service. You can get more information <a href=\"http://bustime.mta.info/wiki/Developers/Index\">here</a>  \n",
    "2) Kaggle's NYC Bus Data <a href=\"https://www.kaggle.com/stoney71/new-york-city-transport-statistics\">here</a>\n",
    "\n",
    "### How are we using it:\n",
    "Using regression and classification techniques learned in class, we want to explore the following:  \n",
    "> 1. Based on a ~10 stops/lines how closely do the actual stop times reflect the posted bus\n",
    "schedules and what is the distribution around the scheduled time that busses actually\n",
    "arrive?\n",
    ">2. What environmental factors impact a buses schedule? What impact does time of day,\n",
    "temperature, and weather have?\n",
    ">3. What socioeconomic factors play into a buses schedule? Do we see better or worse\n",
    "availability in neighborhoods with different average incomes?\n",
    ">4. Predicting with a defined degree certainty if a bus is coming within a given time frame\n",
    "\n",
    "### Sections:\n",
    "1) [Loading the Datasets](#Loading-the-Datasets)  \n",
    "2) [Cleaning the Data](#Cleaning-the-Data)  \n",
    "3) [Visualizing the Data](#Visualizing-the-Data)"
   ]
  },
  {
   "cell_type": "code",
   "execution_count": 1,
   "metadata": {
    "collapsed": true
   },
   "outputs": [],
   "source": [
    "import pandas as pd\n",
    "import matplotlib.pyplot as plt\n",
    "import numpy as np\n",
    "import datetime"
   ]
  },
  {
   "cell_type": "markdown",
   "metadata": {},
   "source": [
    "### Loading the Datasets \n",
    "We want to work with the Kaggle dataset so head over <a href=\"https://www.kaggle.com/stoney71/new-york-city-transport-statistics\">here</a> and download the zip file. (A word of caution: the dataset is approx **5GB** when extracted!)\n",
    "\n",
    "After you extract the data, we want to load a csv on our notebook.  \n",
    "\n",
    "The `error_bad_lines=False` parameter fixes some formatting issues when we load in our dataset."
   ]
  },
  {
   "cell_type": "code",
   "execution_count": 2,
   "metadata": {
    "collapsed": true
   },
   "outputs": [],
   "source": [
    "%%capture\n",
    "mta = pd.read_csv('mta_1708.csv', error_bad_lines=False)\n",
    "mta.set_index('PublishedLineName', inplace=True)"
   ]
  },
  {
   "cell_type": "code",
   "execution_count": 3,
   "metadata": {},
   "outputs": [
    {
     "data": {
      "text/html": [
       "<div>\n",
       "<style scoped>\n",
       "    .dataframe tbody tr th:only-of-type {\n",
       "        vertical-align: middle;\n",
       "    }\n",
       "\n",
       "    .dataframe tbody tr th {\n",
       "        vertical-align: top;\n",
       "    }\n",
       "\n",
       "    .dataframe thead th {\n",
       "        text-align: right;\n",
       "    }\n",
       "</style>\n",
       "<table border=\"1\" class=\"dataframe\">\n",
       "  <thead>\n",
       "    <tr style=\"text-align: right;\">\n",
       "      <th></th>\n",
       "      <th>RecordedAtTime</th>\n",
       "      <th>DirectionRef</th>\n",
       "      <th>OriginName</th>\n",
       "      <th>OriginLat</th>\n",
       "      <th>OriginLong</th>\n",
       "      <th>DestinationName</th>\n",
       "      <th>DestinationLat</th>\n",
       "      <th>DestinationLong</th>\n",
       "      <th>VehicleRef</th>\n",
       "      <th>VehicleLocation.Latitude</th>\n",
       "      <th>VehicleLocation.Longitude</th>\n",
       "      <th>NextStopPointName</th>\n",
       "      <th>ArrivalProximityText</th>\n",
       "      <th>DistanceFromStop</th>\n",
       "      <th>ExpectedArrivalTime</th>\n",
       "      <th>ScheduledArrivalTime</th>\n",
       "    </tr>\n",
       "    <tr>\n",
       "      <th>PublishedLineName</th>\n",
       "      <th></th>\n",
       "      <th></th>\n",
       "      <th></th>\n",
       "      <th></th>\n",
       "      <th></th>\n",
       "      <th></th>\n",
       "      <th></th>\n",
       "      <th></th>\n",
       "      <th></th>\n",
       "      <th></th>\n",
       "      <th></th>\n",
       "      <th></th>\n",
       "      <th></th>\n",
       "      <th></th>\n",
       "      <th></th>\n",
       "      <th></th>\n",
       "    </tr>\n",
       "  </thead>\n",
       "  <tbody>\n",
       "    <tr>\n",
       "      <th>Q32</th>\n",
       "      <td>2017-08-01 00:01:03</td>\n",
       "      <td>0</td>\n",
       "      <td>W 32 ST/7 AV</td>\n",
       "      <td>40.749405</td>\n",
       "      <td>-73.991020</td>\n",
       "      <td>JACKSON HTS NORTHERN - 81 via ROOSVLT</td>\n",
       "      <td>40.755322</td>\n",
       "      <td>-73.886139</td>\n",
       "      <td>NYCT_7424</td>\n",
       "      <td>40.749403</td>\n",
       "      <td>-73.990841</td>\n",
       "      <td>W 32 ST/AV OF THE AMERICAS</td>\n",
       "      <td>&lt; 1 stop away</td>\n",
       "      <td>220.0</td>\n",
       "      <td>2017-08-01 00:01:37</td>\n",
       "      <td>24:01:11</td>\n",
       "    </tr>\n",
       "    <tr>\n",
       "      <th>B35</th>\n",
       "      <td>2017-08-01 00:00:52</td>\n",
       "      <td>0</td>\n",
       "      <td>39 ST/1 AV</td>\n",
       "      <td>40.656456</td>\n",
       "      <td>-74.012245</td>\n",
       "      <td>BROWNSVILLE M GASTON BL via CHURCH</td>\n",
       "      <td>40.656345</td>\n",
       "      <td>-73.907188</td>\n",
       "      <td>NYCT_406</td>\n",
       "      <td>40.651330</td>\n",
       "      <td>-73.938960</td>\n",
       "      <td>CHURCH AV/E 42 ST</td>\n",
       "      <td>approaching</td>\n",
       "      <td>107.0</td>\n",
       "      <td>2017-08-01 00:02:00</td>\n",
       "      <td>23:56:12</td>\n",
       "    </tr>\n",
       "    <tr>\n",
       "      <th>Q83</th>\n",
       "      <td>2017-08-01 00:01:18</td>\n",
       "      <td>1</td>\n",
       "      <td>227 ST/113 DR</td>\n",
       "      <td>40.702263</td>\n",
       "      <td>-73.730339</td>\n",
       "      <td>JAMAICA HILLSIDE - 153 via LIBERTY</td>\n",
       "      <td>40.706795</td>\n",
       "      <td>-73.804100</td>\n",
       "      <td>NYCT_6449</td>\n",
       "      <td>40.706532</td>\n",
       "      <td>-73.804177</td>\n",
       "      <td>153 ST/HILLSIDE AV</td>\n",
       "      <td>at stop</td>\n",
       "      <td>25.0</td>\n",
       "      <td>2017-08-01 00:01:27</td>\n",
       "      <td>24:00:00</td>\n",
       "    </tr>\n",
       "    <tr>\n",
       "      <th>M60-SBS</th>\n",
       "      <td>2017-08-01 00:01:05</td>\n",
       "      <td>0</td>\n",
       "      <td>BROADWAY/W 106 ST</td>\n",
       "      <td>40.801819</td>\n",
       "      <td>-73.967644</td>\n",
       "      <td>SELECT BUS SERVICE LA GUARDIA AIRPORT</td>\n",
       "      <td>40.768074</td>\n",
       "      <td>-73.862091</td>\n",
       "      <td>NYCT_5846</td>\n",
       "      <td>40.770403</td>\n",
       "      <td>-73.917687</td>\n",
       "      <td>HOYT AV/31 ST</td>\n",
       "      <td>4.1 miles away</td>\n",
       "      <td>6519.0</td>\n",
       "      <td>2017-08-01 00:06:47</td>\n",
       "      <td>23:39:14</td>\n",
       "    </tr>\n",
       "    <tr>\n",
       "      <th>M60-SBS</th>\n",
       "      <td>2017-08-01 00:01:05</td>\n",
       "      <td>0</td>\n",
       "      <td>BROADWAY/W 106 ST</td>\n",
       "      <td>40.801819</td>\n",
       "      <td>-73.967644</td>\n",
       "      <td>SELECT BUS SERVICE LA GUARDIA AIRPORT</td>\n",
       "      <td>40.768074</td>\n",
       "      <td>-73.862091</td>\n",
       "      <td>NYCT_5846</td>\n",
       "      <td>40.770403</td>\n",
       "      <td>-73.917687</td>\n",
       "      <td>HOYT AV/31 ST</td>\n",
       "      <td>4.1 miles away</td>\n",
       "      <td>6519.0</td>\n",
       "      <td>2017-08-01 00:06:47</td>\n",
       "      <td>23:44:32</td>\n",
       "    </tr>\n",
       "  </tbody>\n",
       "</table>\n",
       "</div>"
      ],
      "text/plain": [
       "                        RecordedAtTime  DirectionRef         OriginName  \\\n",
       "PublishedLineName                                                         \n",
       "Q32                2017-08-01 00:01:03             0       W 32 ST/7 AV   \n",
       "B35                2017-08-01 00:00:52             0         39 ST/1 AV   \n",
       "Q83                2017-08-01 00:01:18             1      227 ST/113 DR   \n",
       "M60-SBS            2017-08-01 00:01:05             0  BROADWAY/W 106 ST   \n",
       "M60-SBS            2017-08-01 00:01:05             0  BROADWAY/W 106 ST   \n",
       "\n",
       "                   OriginLat  OriginLong  \\\n",
       "PublishedLineName                          \n",
       "Q32                40.749405  -73.991020   \n",
       "B35                40.656456  -74.012245   \n",
       "Q83                40.702263  -73.730339   \n",
       "M60-SBS            40.801819  -73.967644   \n",
       "M60-SBS            40.801819  -73.967644   \n",
       "\n",
       "                                         DestinationName  DestinationLat  \\\n",
       "PublishedLineName                                                          \n",
       "Q32                JACKSON HTS NORTHERN - 81 via ROOSVLT       40.755322   \n",
       "B35                   BROWNSVILLE M GASTON BL via CHURCH       40.656345   \n",
       "Q83                   JAMAICA HILLSIDE - 153 via LIBERTY       40.706795   \n",
       "M60-SBS            SELECT BUS SERVICE LA GUARDIA AIRPORT       40.768074   \n",
       "M60-SBS            SELECT BUS SERVICE LA GUARDIA AIRPORT       40.768074   \n",
       "\n",
       "                   DestinationLong VehicleRef  VehicleLocation.Latitude  \\\n",
       "PublishedLineName                                                         \n",
       "Q32                     -73.886139  NYCT_7424                 40.749403   \n",
       "B35                     -73.907188   NYCT_406                 40.651330   \n",
       "Q83                     -73.804100  NYCT_6449                 40.706532   \n",
       "M60-SBS                 -73.862091  NYCT_5846                 40.770403   \n",
       "M60-SBS                 -73.862091  NYCT_5846                 40.770403   \n",
       "\n",
       "                   VehicleLocation.Longitude           NextStopPointName  \\\n",
       "PublishedLineName                                                          \n",
       "Q32                               -73.990841  W 32 ST/AV OF THE AMERICAS   \n",
       "B35                               -73.938960           CHURCH AV/E 42 ST   \n",
       "Q83                               -73.804177          153 ST/HILLSIDE AV   \n",
       "M60-SBS                           -73.917687               HOYT AV/31 ST   \n",
       "M60-SBS                           -73.917687               HOYT AV/31 ST   \n",
       "\n",
       "                  ArrivalProximityText  DistanceFromStop  ExpectedArrivalTime  \\\n",
       "PublishedLineName                                                               \n",
       "Q32                      < 1 stop away             220.0  2017-08-01 00:01:37   \n",
       "B35                        approaching             107.0  2017-08-01 00:02:00   \n",
       "Q83                            at stop              25.0  2017-08-01 00:01:27   \n",
       "M60-SBS                 4.1 miles away            6519.0  2017-08-01 00:06:47   \n",
       "M60-SBS                 4.1 miles away            6519.0  2017-08-01 00:06:47   \n",
       "\n",
       "                  ScheduledArrivalTime  \n",
       "PublishedLineName                       \n",
       "Q32                           24:01:11  \n",
       "B35                           23:56:12  \n",
       "Q83                           24:00:00  \n",
       "M60-SBS                       23:39:14  \n",
       "M60-SBS                       23:44:32  "
      ]
     },
     "execution_count": 3,
     "metadata": {},
     "output_type": "execute_result"
    }
   ],
   "source": [
    "mta.head()"
   ]
  },
  {
   "cell_type": "code",
   "execution_count": 4,
   "metadata": {},
   "outputs": [
    {
     "data": {
      "text/plain": [
       "RecordedAtTime                object\n",
       "DirectionRef                   int64\n",
       "OriginName                    object\n",
       "OriginLat                    float64\n",
       "OriginLong                   float64\n",
       "DestinationName               object\n",
       "DestinationLat               float64\n",
       "DestinationLong              float64\n",
       "VehicleRef                    object\n",
       "VehicleLocation.Latitude     float64\n",
       "VehicleLocation.Longitude    float64\n",
       "NextStopPointName             object\n",
       "ArrivalProximityText          object\n",
       "DistanceFromStop             float64\n",
       "ExpectedArrivalTime           object\n",
       "ScheduledArrivalTime          object\n",
       "dtype: object"
      ]
     },
     "execution_count": 4,
     "metadata": {},
     "output_type": "execute_result"
    }
   ],
   "source": [
    "mta.dtypes"
   ]
  },
  {
   "cell_type": "markdown",
   "metadata": {},
   "source": [
    "## Cleaning the Data\n",
    "Looking at the head samples, we see `ExpectedArrivalTime` and `ScheduledArrivalTime` are objects of differing formats. We should fix that.\n",
    "\n",
    "In this case, we want to compare the time difference between Expected and Schedule times when the distance from the stop is <= 30ft."
   ]
  },
  {
   "cell_type": "markdown",
   "metadata": {},
   "source": [
    "First things first: convert ```ExpectedArrivalTime```'s Timestamp format to just the time itself.\n",
    "\n",
    "Then we need to adjust the ```ScheduledArrivalTime``` to match python's time range of 0-23 hours. Here we pass ```errors='coerce'``` parameter to convert troublesome or out of range times to NaT (Not a Time)."
   ]
  },
  {
   "cell_type": "code",
   "execution_count": 5,
   "metadata": {
    "scrolled": true
   },
   "outputs": [
    {
     "data": {
      "text/plain": [
       "RecordedAtTime                object\n",
       "DirectionRef                   int64\n",
       "OriginName                    object\n",
       "OriginLat                    float64\n",
       "OriginLong                   float64\n",
       "DestinationName               object\n",
       "DestinationLat               float64\n",
       "DestinationLong              float64\n",
       "VehicleRef                    object\n",
       "VehicleLocation.Latitude     float64\n",
       "VehicleLocation.Longitude    float64\n",
       "NextStopPointName             object\n",
       "ArrivalProximityText          object\n",
       "DistanceFromStop             float64\n",
       "ExpectedArrivalTime           object\n",
       "ScheduledArrivalTime          object\n",
       "expected_time                 object\n",
       "scheduled_time                object\n",
       "dtype: object"
      ]
     },
     "execution_count": 5,
     "metadata": {},
     "output_type": "execute_result"
    }
   ],
   "source": [
    "### Removing Date from the ExpectedArrivalTime\n",
    "\n",
    "# Convert object to datetime64 \n",
    "mta['expected_time'] = pd.to_datetime(mta['ExpectedArrivalTime']).dt.time\n",
    "mta['scheduled_time'] = pd.to_datetime(mta['ScheduledArrivalTime'],format='%H:%M:%S', errors='coerce').dt.time\n",
    "# mta['scheduled_time'] = pd.to_datetime(mta['scheduled_time'])\n",
    "# temp = pd.to_datetime(mta['scheduled_time']).dt.time\n",
    "# datetime.datetime.strptime().time()\n",
    "mta.infer_objects().dtypes"
   ]
  },
  {
   "cell_type": "code",
   "execution_count": 6,
   "metadata": {},
   "outputs": [
    {
     "data": {
      "text/html": [
       "<div>\n",
       "<style scoped>\n",
       "    .dataframe tbody tr th:only-of-type {\n",
       "        vertical-align: middle;\n",
       "    }\n",
       "\n",
       "    .dataframe tbody tr th {\n",
       "        vertical-align: top;\n",
       "    }\n",
       "\n",
       "    .dataframe thead th {\n",
       "        text-align: right;\n",
       "    }\n",
       "</style>\n",
       "<table border=\"1\" class=\"dataframe\">\n",
       "  <thead>\n",
       "    <tr style=\"text-align: right;\">\n",
       "      <th></th>\n",
       "      <th>RecordedAtTime</th>\n",
       "      <th>DirectionRef</th>\n",
       "      <th>OriginName</th>\n",
       "      <th>OriginLat</th>\n",
       "      <th>OriginLong</th>\n",
       "      <th>DestinationName</th>\n",
       "      <th>DestinationLat</th>\n",
       "      <th>DestinationLong</th>\n",
       "      <th>VehicleRef</th>\n",
       "      <th>VehicleLocation.Latitude</th>\n",
       "      <th>VehicleLocation.Longitude</th>\n",
       "      <th>NextStopPointName</th>\n",
       "      <th>ArrivalProximityText</th>\n",
       "      <th>DistanceFromStop</th>\n",
       "      <th>ExpectedArrivalTime</th>\n",
       "      <th>ScheduledArrivalTime</th>\n",
       "      <th>expected_time</th>\n",
       "      <th>scheduled_time</th>\n",
       "    </tr>\n",
       "    <tr>\n",
       "      <th>PublishedLineName</th>\n",
       "      <th></th>\n",
       "      <th></th>\n",
       "      <th></th>\n",
       "      <th></th>\n",
       "      <th></th>\n",
       "      <th></th>\n",
       "      <th></th>\n",
       "      <th></th>\n",
       "      <th></th>\n",
       "      <th></th>\n",
       "      <th></th>\n",
       "      <th></th>\n",
       "      <th></th>\n",
       "      <th></th>\n",
       "      <th></th>\n",
       "      <th></th>\n",
       "      <th></th>\n",
       "      <th></th>\n",
       "    </tr>\n",
       "  </thead>\n",
       "  <tbody>\n",
       "    <tr>\n",
       "      <th>Q32</th>\n",
       "      <td>2017-08-01 00:01:03</td>\n",
       "      <td>0</td>\n",
       "      <td>W 32 ST/7 AV</td>\n",
       "      <td>40.749405</td>\n",
       "      <td>-73.991020</td>\n",
       "      <td>JACKSON HTS NORTHERN - 81 via ROOSVLT</td>\n",
       "      <td>40.755322</td>\n",
       "      <td>-73.886139</td>\n",
       "      <td>NYCT_7424</td>\n",
       "      <td>40.749403</td>\n",
       "      <td>-73.990841</td>\n",
       "      <td>W 32 ST/AV OF THE AMERICAS</td>\n",
       "      <td>&lt; 1 stop away</td>\n",
       "      <td>220.0</td>\n",
       "      <td>2017-08-01 00:01:37</td>\n",
       "      <td>24:01:11</td>\n",
       "      <td>00:01:37</td>\n",
       "      <td>NaT</td>\n",
       "    </tr>\n",
       "    <tr>\n",
       "      <th>B35</th>\n",
       "      <td>2017-08-01 00:00:52</td>\n",
       "      <td>0</td>\n",
       "      <td>39 ST/1 AV</td>\n",
       "      <td>40.656456</td>\n",
       "      <td>-74.012245</td>\n",
       "      <td>BROWNSVILLE M GASTON BL via CHURCH</td>\n",
       "      <td>40.656345</td>\n",
       "      <td>-73.907188</td>\n",
       "      <td>NYCT_406</td>\n",
       "      <td>40.651330</td>\n",
       "      <td>-73.938960</td>\n",
       "      <td>CHURCH AV/E 42 ST</td>\n",
       "      <td>approaching</td>\n",
       "      <td>107.0</td>\n",
       "      <td>2017-08-01 00:02:00</td>\n",
       "      <td>23:56:12</td>\n",
       "      <td>00:02:00</td>\n",
       "      <td>23:56:12</td>\n",
       "    </tr>\n",
       "    <tr>\n",
       "      <th>Q83</th>\n",
       "      <td>2017-08-01 00:01:18</td>\n",
       "      <td>1</td>\n",
       "      <td>227 ST/113 DR</td>\n",
       "      <td>40.702263</td>\n",
       "      <td>-73.730339</td>\n",
       "      <td>JAMAICA HILLSIDE - 153 via LIBERTY</td>\n",
       "      <td>40.706795</td>\n",
       "      <td>-73.804100</td>\n",
       "      <td>NYCT_6449</td>\n",
       "      <td>40.706532</td>\n",
       "      <td>-73.804177</td>\n",
       "      <td>153 ST/HILLSIDE AV</td>\n",
       "      <td>at stop</td>\n",
       "      <td>25.0</td>\n",
       "      <td>2017-08-01 00:01:27</td>\n",
       "      <td>24:00:00</td>\n",
       "      <td>00:01:27</td>\n",
       "      <td>NaT</td>\n",
       "    </tr>\n",
       "    <tr>\n",
       "      <th>M60-SBS</th>\n",
       "      <td>2017-08-01 00:01:05</td>\n",
       "      <td>0</td>\n",
       "      <td>BROADWAY/W 106 ST</td>\n",
       "      <td>40.801819</td>\n",
       "      <td>-73.967644</td>\n",
       "      <td>SELECT BUS SERVICE LA GUARDIA AIRPORT</td>\n",
       "      <td>40.768074</td>\n",
       "      <td>-73.862091</td>\n",
       "      <td>NYCT_5846</td>\n",
       "      <td>40.770403</td>\n",
       "      <td>-73.917687</td>\n",
       "      <td>HOYT AV/31 ST</td>\n",
       "      <td>4.1 miles away</td>\n",
       "      <td>6519.0</td>\n",
       "      <td>2017-08-01 00:06:47</td>\n",
       "      <td>23:39:14</td>\n",
       "      <td>00:06:47</td>\n",
       "      <td>23:39:14</td>\n",
       "    </tr>\n",
       "    <tr>\n",
       "      <th>M60-SBS</th>\n",
       "      <td>2017-08-01 00:01:05</td>\n",
       "      <td>0</td>\n",
       "      <td>BROADWAY/W 106 ST</td>\n",
       "      <td>40.801819</td>\n",
       "      <td>-73.967644</td>\n",
       "      <td>SELECT BUS SERVICE LA GUARDIA AIRPORT</td>\n",
       "      <td>40.768074</td>\n",
       "      <td>-73.862091</td>\n",
       "      <td>NYCT_5846</td>\n",
       "      <td>40.770403</td>\n",
       "      <td>-73.917687</td>\n",
       "      <td>HOYT AV/31 ST</td>\n",
       "      <td>4.1 miles away</td>\n",
       "      <td>6519.0</td>\n",
       "      <td>2017-08-01 00:06:47</td>\n",
       "      <td>23:44:32</td>\n",
       "      <td>00:06:47</td>\n",
       "      <td>23:44:32</td>\n",
       "    </tr>\n",
       "  </tbody>\n",
       "</table>\n",
       "</div>"
      ],
      "text/plain": [
       "                        RecordedAtTime  DirectionRef         OriginName  \\\n",
       "PublishedLineName                                                         \n",
       "Q32                2017-08-01 00:01:03             0       W 32 ST/7 AV   \n",
       "B35                2017-08-01 00:00:52             0         39 ST/1 AV   \n",
       "Q83                2017-08-01 00:01:18             1      227 ST/113 DR   \n",
       "M60-SBS            2017-08-01 00:01:05             0  BROADWAY/W 106 ST   \n",
       "M60-SBS            2017-08-01 00:01:05             0  BROADWAY/W 106 ST   \n",
       "\n",
       "                   OriginLat  OriginLong  \\\n",
       "PublishedLineName                          \n",
       "Q32                40.749405  -73.991020   \n",
       "B35                40.656456  -74.012245   \n",
       "Q83                40.702263  -73.730339   \n",
       "M60-SBS            40.801819  -73.967644   \n",
       "M60-SBS            40.801819  -73.967644   \n",
       "\n",
       "                                         DestinationName  DestinationLat  \\\n",
       "PublishedLineName                                                          \n",
       "Q32                JACKSON HTS NORTHERN - 81 via ROOSVLT       40.755322   \n",
       "B35                   BROWNSVILLE M GASTON BL via CHURCH       40.656345   \n",
       "Q83                   JAMAICA HILLSIDE - 153 via LIBERTY       40.706795   \n",
       "M60-SBS            SELECT BUS SERVICE LA GUARDIA AIRPORT       40.768074   \n",
       "M60-SBS            SELECT BUS SERVICE LA GUARDIA AIRPORT       40.768074   \n",
       "\n",
       "                   DestinationLong VehicleRef  VehicleLocation.Latitude  \\\n",
       "PublishedLineName                                                         \n",
       "Q32                     -73.886139  NYCT_7424                 40.749403   \n",
       "B35                     -73.907188   NYCT_406                 40.651330   \n",
       "Q83                     -73.804100  NYCT_6449                 40.706532   \n",
       "M60-SBS                 -73.862091  NYCT_5846                 40.770403   \n",
       "M60-SBS                 -73.862091  NYCT_5846                 40.770403   \n",
       "\n",
       "                   VehicleLocation.Longitude           NextStopPointName  \\\n",
       "PublishedLineName                                                          \n",
       "Q32                               -73.990841  W 32 ST/AV OF THE AMERICAS   \n",
       "B35                               -73.938960           CHURCH AV/E 42 ST   \n",
       "Q83                               -73.804177          153 ST/HILLSIDE AV   \n",
       "M60-SBS                           -73.917687               HOYT AV/31 ST   \n",
       "M60-SBS                           -73.917687               HOYT AV/31 ST   \n",
       "\n",
       "                  ArrivalProximityText  DistanceFromStop  ExpectedArrivalTime  \\\n",
       "PublishedLineName                                                               \n",
       "Q32                      < 1 stop away             220.0  2017-08-01 00:01:37   \n",
       "B35                        approaching             107.0  2017-08-01 00:02:00   \n",
       "Q83                            at stop              25.0  2017-08-01 00:01:27   \n",
       "M60-SBS                 4.1 miles away            6519.0  2017-08-01 00:06:47   \n",
       "M60-SBS                 4.1 miles away            6519.0  2017-08-01 00:06:47   \n",
       "\n",
       "                  ScheduledArrivalTime expected_time scheduled_time  \n",
       "PublishedLineName                                                    \n",
       "Q32                           24:01:11      00:01:37            NaT  \n",
       "B35                           23:56:12      00:02:00       23:56:12  \n",
       "Q83                           24:00:00      00:01:27            NaT  \n",
       "M60-SBS                       23:39:14      00:06:47       23:39:14  \n",
       "M60-SBS                       23:44:32      00:06:47       23:44:32  "
      ]
     },
     "execution_count": 6,
     "metadata": {},
     "output_type": "execute_result"
    }
   ],
   "source": [
    "mta.head()"
   ]
  },
  {
   "cell_type": "markdown",
   "metadata": {},
   "source": [
    "Now let's drop observations whose ```DistanceFromStop``` is farther away than 30 ft."
   ]
  },
  {
   "cell_type": "code",
   "execution_count": 7,
   "metadata": {},
   "outputs": [
    {
     "name": "stdout",
     "output_type": "stream",
     "text": [
      "(1856274, 18)\n"
     ]
    }
   ],
   "source": [
    "mta = mta.loc[(mta['DistanceFromStop']<=30),]\n",
    "print(mta.shape)"
   ]
  },
  {
   "cell_type": "markdown",
   "metadata": {},
   "source": [
    "Now let's drop missing ```ExpectedArrivalTime, expected_time & scheduled_time``` since we can't impute it at the moment."
   ]
  },
  {
   "cell_type": "code",
   "execution_count": 8,
   "metadata": {},
   "outputs": [
    {
     "name": "stdout",
     "output_type": "stream",
     "text": [
      "(1315851, 18)\n"
     ]
    }
   ],
   "source": [
    "mta = mta.loc[(mta['ExpectedArrivalTime'].notnull()),]\n",
    "mta = mta.loc[(mta['expected_time'].notnull()),]\n",
    "mta = mta.loc[(mta['scheduled_time'].notnull()),]\n",
    "print(mta.shape)"
   ]
  },
  {
   "cell_type": "markdown",
   "metadata": {},
   "source": [
    "We'll create a new column that calculates the time difference between the expected and scheduled."
   ]
  },
  {
   "cell_type": "code",
   "execution_count": 9,
   "metadata": {
    "collapsed": true
   },
   "outputs": [],
   "source": [
    "mta['time_diff'] = (pd.to_timedelta(mta['expected_time'].astype(str)) - \n",
    "                   pd.to_timedelta(mta['scheduled_time'].astype(str)))"
   ]
  },
  {
   "cell_type": "code",
   "execution_count": 10,
   "metadata": {},
   "outputs": [
    {
     "data": {
      "text/plain": [
       "RecordedAtTime                        object\n",
       "DirectionRef                           int64\n",
       "OriginName                            object\n",
       "OriginLat                            float64\n",
       "OriginLong                           float64\n",
       "DestinationName                       object\n",
       "DestinationLat                       float64\n",
       "DestinationLong                      float64\n",
       "VehicleRef                            object\n",
       "VehicleLocation.Latitude             float64\n",
       "VehicleLocation.Longitude            float64\n",
       "NextStopPointName                     object\n",
       "ArrivalProximityText                  object\n",
       "DistanceFromStop                     float64\n",
       "ExpectedArrivalTime                   object\n",
       "ScheduledArrivalTime                  object\n",
       "expected_time                         object\n",
       "scheduled_time                        object\n",
       "time_diff                    timedelta64[ns]\n",
       "time_diff_mins                         int32\n",
       "dtype: object"
      ]
     },
     "execution_count": 10,
     "metadata": {},
     "output_type": "execute_result"
    }
   ],
   "source": [
    "mta['time_diff_mins'] = ((mta['time_diff'] / np.timedelta64(1, 'm')) + 1440).astype(int)\n",
    "mta.dtypes"
   ]
  },
  {
   "cell_type": "code",
   "execution_count": null,
   "metadata": {
    "collapsed": true
   },
   "outputs": [],
   "source": []
  },
  {
   "cell_type": "markdown",
   "metadata": {},
   "source": [
    "## Visualizing the Data\n",
    "\n",
    "Now we can visualize the time difference between expected and scheduled arrival times."
   ]
  },
  {
   "cell_type": "code",
   "execution_count": null,
   "metadata": {
    "collapsed": true
   },
   "outputs": [],
   "source": [
    "# TODO"
   ]
  },
  {
   "cell_type": "markdown",
   "metadata": {},
   "source": [
    "Looking at MTA API:"
   ]
  },
  {
   "cell_type": "code",
   "execution_count": null,
   "metadata": {
    "collapsed": true
   },
   "outputs": [],
   "source": [
    "# Key for Excel\n",
    "mta_key = \"51b681ab-bb14-4f29-9104-db15a7a41d41\""
   ]
  },
  {
   "cell_type": "code",
   "execution_count": null,
   "metadata": {
    "collapsed": true
   },
   "outputs": [],
   "source": []
  }
 ],
 "metadata": {
  "kernelspec": {
   "display_name": "Python 3",
   "language": "python",
   "name": "python3"
  },
  "language_info": {
   "codemirror_mode": {
    "name": "ipython",
    "version": 3
   },
   "file_extension": ".py",
   "mimetype": "text/x-python",
   "name": "python",
   "nbconvert_exporter": "python",
   "pygments_lexer": "ipython3",
   "version": "3.6.7"
  }
 },
 "nbformat": 4,
 "nbformat_minor": 2
}
