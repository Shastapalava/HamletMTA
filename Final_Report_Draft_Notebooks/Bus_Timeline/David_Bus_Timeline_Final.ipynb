{
 "cells": [
  {
   "cell_type": "code",
   "execution_count": 1,
   "metadata": {},
   "outputs": [],
   "source": [
    "import pandas as pd\n",
    "from pandas import Timestamp\n",
    "import datetime as datetime\n",
    "\n",
    "# from IPython.core.interactiveshell import InteractiveShell\n",
    "# InteractiveShell.ast_node_interactivity = \"all\""
   ]
  },
  {
   "cell_type": "code",
   "execution_count": 2,
   "metadata": {},
   "outputs": [
    {
     "data": {
      "text/plain": [
       "(5398, 18)"
      ]
     },
     "execution_count": 2,
     "metadata": {},
     "output_type": "execute_result"
    }
   ],
   "source": [
    "#this is a dataset for the timestamps of busses at the Amsterdam & 125th st stop on M100 line going uptown \n",
    "busArrivals = pd.read_csv(\"../../data/Arrivals_M100.csv\")\n",
    "\n",
    "# loopTime is the minimum amount of time, in minutes, that it takes a bus to complete the bus route and \n",
    "    # arrive at this stop to complete the circuit once again\n",
    "loopTime = datetime.timedelta(minutes=105)\n",
    "\n",
    "# Ensure ordering by VehicleRef (a vehicle identifier for busses) and RecordedAtTime (timestamps)\n",
    "busArrivals = busArrivals.loc[:,['RecordedAtTime','VehicleRef']].sort_values(['VehicleRef','RecordedAtTime'])\n",
    "\n",
    "# Resetting Index and deleting resulting index column after ordering for shift later on.\n",
    "busArrivals = busArrivals.reset_index()\n",
    "busArrivals.drop(columns=['index',],inplace=True)\n",
    "\n",
    "# Ensure that RecordedAtTime is of correct data type to find timedelta\n",
    "busArrivals['RecordedAtTime'] = pd.to_datetime(busArrivals['RecordedAtTime'])\n",
    "\n",
    "# find difference between CURRENT timestamp and PREVIOUS for each gps-timestamp\n",
    "    #busArrivals['timeDelta'] = busArrivals_Grouped['RecordedAtTime'].diff()\n",
    "busArrivals['timeDelta'] = busArrivals['RecordedAtTime'].diff()\n",
    "\n",
    "# we want to find all the timestamps where busses pull away from this one stop. \n",
    "    # the departure time is when we consider that a passenger is no longer waiting for their journey to start. \n",
    "    # hence, we count bus idleing as part of the passengers experienced wait time\n",
    "\n",
    "# wherever the difference between two consecutive timestamps is greater than the loopTime, \n",
    "    # the bus has finished it's route and come back to the same stop it started at.\n",
    "    # The bus is not idleing.  \n",
    "busArrivals['hasLooped'] = busArrivals['timeDelta'] > loopTime\n",
    "\n",
    "#fixing some edge cases e.g. the first datapoint has no timedeta because no other time precedes it\n",
    "busArrivals.loc[0,'timeDelta'] = 0\n",
    "\n",
    "# # where the timedeta is NaT, set to haslooped=True. We do this so that the first Entry for a given Vehicleref won't \n",
    "#     # count as a departure time, but the last entry from the previous VehicleRef entry will.\n",
    "# busArrivals.loc[busArrivals['timeDelta'].isnull(),'hasLooped'] = True\n",
    "\n",
    "# wherever the next arrival is a Looparound, the current timestamp is considered a departure from the stop\n",
    "busArrivals['isDeparting'] = busArrivals['hasLooped'].shift(-1)\n",
    "\n",
    "#the last entry in the entire dataframe must be included as a departure\n",
    "busArrivals.loc[busArrivals.index[-1], 'isDeparting']= True\n",
    "\n",
    "# If the next bus is not the same as the current bus, then this entry must be considered a departure\n",
    "busArrivals['NextVehicleRef'] = busArrivals['VehicleRef'].shift(-1).fillna(\"\") #create next bus column by shifting current bus up by 1 relative to index\n",
    "mask = busArrivals['VehicleRef'] != busArrivals['NextVehicleRef']\n",
    "busArrivals.loc[mask, 'isDeparting'] = True\n",
    "\n",
    "# return all rows where the busses are departing\n",
    "busArrivals = busArrivals[busArrivals['isDeparting'] != False]"
   ]
  },
  {
   "cell_type": "code",
   "execution_count": 3,
   "metadata": {},
   "outputs": [
    {
     "data": {
      "text/plain": [
       "(2490, 6)"
      ]
     },
     "execution_count": 3,
     "metadata": {},
     "output_type": "execute_result"
    }
   ],
   "source": [
    "busArrivals.shape"
   ]
  }
 ],
 "metadata": {
  "kernelspec": {
   "display_name": "Python 3",
   "language": "python",
   "name": "python3"
  },
  "language_info": {
   "codemirror_mode": {
    "name": "ipython",
    "version": 3
   },
   "file_extension": ".py",
   "mimetype": "text/x-python",
   "name": "python",
   "nbconvert_exporter": "python",
   "pygments_lexer": "ipython3",
   "version": "3.7.1"
  }
 },
 "nbformat": 4,
 "nbformat_minor": 2
}
