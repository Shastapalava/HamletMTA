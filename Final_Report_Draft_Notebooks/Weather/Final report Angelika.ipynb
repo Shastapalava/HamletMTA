{
 "cells": [
  {
   "cell_type": "markdown",
   "metadata": {},
   "source": [
    "Why using weather data?\n",
    "\n",
    "The main goal of using weather data was to see whether there is any correlation between different weather conditions and bus data, and if yes, than what kind of. The source of the data was NOAA, in particular NOAA weather station in Central Park, New York. Our original hypnosis stated that bad weather condition would have a positive correlation with number of passengers on the bus. In other words, busses would not come on time and our calculated time delta would be bigger, what results in higher crowdedness of the bus."
   ]
  },
  {
   "cell_type": "markdown",
   "metadata": {},
   "source": [
    "Cleaning the data: The original data contained empty cells as well as string characters mixed with numbers. Since dropping all na values would result in inconsistent time value periods, it was decided to substitute those ‘bad’ rows with such values that would not influence further analysis (ex: 0 for precipitation or 15 for visibility)."
   ]
  },
  {
   "cell_type": "markdown",
   "metadata": {},
   "source": [
    "Merging weather and bus data resulted in combined data set that allowed us to create scatter plots that demonstrated correlation between our variables."
   ]
  },
  {
   "cell_type": "code",
   "execution_count": 1,
   "metadata": {},
   "outputs": [],
   "source": [
    "import pandas as pd\n",
    "import matplotlib.pyplot as plt\n",
    "import numpy as np\n",
    "import datetime, math\n",
    "import statsmodels.api as sm\n",
    "from scipy import stats"
   ]
  },
  {
   "cell_type": "code",
   "execution_count": 2,
   "metadata": {},
   "outputs": [],
   "source": [
    "df2 = pd.read_csv('/Users/angelika/Desktop/cs59970/Merged_Bus_Weather.csv')"
   ]
  },
  {
   "cell_type": "markdown",
   "metadata": {},
   "source": [
    "From our previous data analysis we know that there is no \n",
    "buses betwwen 12 and 5. Since passengers arrivals has a linear distributuin \n",
    "we will get unrelistically big crowd waiting for the bus till 5 am.\n",
    "In order to remove that data from our scatter plot let's use loc function"
   ]
  },
  {
   "cell_type": "code",
   "execution_count": 3,
   "metadata": {},
   "outputs": [],
   "source": [
    "df2 = df2.loc[df2.numPassengersPerBus < 70]"
   ]
  },
  {
   "cell_type": "code",
   "execution_count": 4,
   "metadata": {},
   "outputs": [
    {
     "data": {
      "text/plain": [
       "Text(0,0.5,'Number of Passengers per Bus')"
      ]
     },
     "execution_count": 4,
     "metadata": {},
     "output_type": "execute_result"
    },
    {
     "data": {
      "image/png": "[encoded data removed]",
      "text/plain": [
       "<Figure size 432x288 with 1 Axes>"
      ]
     },
     "metadata": {},
     "output_type": "display_data"
    }
   ],
   "source": [
    "xi = df2.HOURLYVISIBILITY    \n",
    "y=df2.numPassengersPerBus\n",
    "slope, intercept, r_value, p_value, std_err = stats.linregress(xi,y)\n",
    "line = slope*xi+intercept\n",
    "plt.plot(xi,y,'o')\n",
    "plt.xlabel(\"Visibilty\")\n",
    "plt.ylabel(\"Number of Passengers per Bus\")"
   ]
  },
  {
   "cell_type": "code",
   "execution_count": 5,
   "metadata": {},
   "outputs": [
    {
     "data": {
      "text/plain": [
       "Text(0,0.5,'Number of Passengers per Bus')"
      ]
     },
     "execution_count": 5,
     "metadata": {},
     "output_type": "execute_result"
    },
    {
     "data": {
      "image/png": "[encoded data removed]",
      "text/plain": [
       "<Figure size 432x288 with 1 Axes>"
      ]
     },
     "metadata": {},
     "output_type": "display_data"
    }
   ],
   "source": [
    "xi = df2.HOURLYWindSpeed \n",
    "y=df2.numPassengersPerBus\n",
    "slope, intercept, r_value, p_value, std_err = stats.linregress(xi,y)\n",
    "line = slope*xi+intercept\n",
    "plt.plot(xi,y,'o')\n",
    "#plt.scatter(df.HOURLYPrecip ,df.numPassengersPerBus)\n",
    "plt.xlabel(\"Wind Speed\")\n",
    "plt.ylabel(\"Number of Passengers per Bus\")"
   ]
  },
  {
   "cell_type": "code",
   "execution_count": 6,
   "metadata": {},
   "outputs": [
    {
     "data": {
      "text/plain": [
       "Text(0,0.5,'Number of Passengers per Bus')"
      ]
     },
     "execution_count": 6,
     "metadata": {},
     "output_type": "execute_result"
    },
    {
     "data": {
      "image/png": "[encoded data removed]",
      "text/plain": [
       "<Figure size 432x288 with 1 Axes>"
      ]
     },
     "metadata": {},
     "output_type": "display_data"
    }
   ],
   "source": [
    "xi = df2.HOURLYPrecip\n",
    "y=df2.numPassengersPerBus\n",
    "slope, intercept, r_value, p_value, std_err = stats.linregress(xi,y)\n",
    "line = slope*xi+intercept\n",
    "plt.plot(xi,y,'o')\n",
    "#plt.scatter(df.HOURLYPrecip ,df.numPassengersPerBus)\n",
    "plt.xlabel(\"Precipitation\")\n",
    "plt.ylabel(\"Number of Passengers per Bus\")"
   ]
  },
  {
   "cell_type": "markdown",
   "metadata": {},
   "source": [
    "Analysis of scatter plots: Our scatter plots roughly demonstrated that the days with the most crowding have 0 precipitation. In addition, lower wind speed tends to mean more passengers. Finally, higher visibility generally means a higher number of passengers on the bus."
   ]
  },
  {
   "cell_type": "markdown",
   "metadata": {},
   "source": [
    "How strong is the correlation between independent (precipitation, wind speed, and visibility) and dependent variables (crowdedness)?\n",
    "\n",
    "In order to answer this question, we performed OLS regression analysis."
   ]
  },
  {
   "cell_type": "code",
   "execution_count": 7,
   "metadata": {},
   "outputs": [
    {
     "name": "stdout",
     "output_type": "stream",
     "text": [
      "                             OLS Regression Results                            \n",
      "===============================================================================\n",
      "Dep. Variable:     numPassengersPerBus   R-squared:                       0.594\n",
      "Model:                             OLS   Adj. R-squared:                  0.594\n",
      "Method:                  Least Squares   F-statistic:                     8772.\n",
      "Date:                 Mon, 10 Dec 2018   Prob (F-statistic):               0.00\n",
      "Time:                         23:18:07   Log-Likelihood:                -42904.\n",
      "No. Observations:                11984   AIC:                         8.581e+04\n",
      "Df Residuals:                    11982   BIC:                         8.583e+04\n",
      "Df Model:                            2                                         \n",
      "Covariance Type:             nonrobust                                         \n",
      "====================================================================================\n",
      "                       coef    std err          t      P>|t|      [0.025      0.975]\n",
      "------------------------------------------------------------------------------------\n",
      "HOURLYWindSpeed      0.0281      0.026      1.097      0.272      -0.022       0.078\n",
      "HOURLYVISIBILITY     1.1620      0.013     87.756      0.000       1.136       1.188\n",
      "==============================================================================\n",
      "Omnibus:                     6892.581   Durbin-Watson:                   0.102\n",
      "Prob(Omnibus):                  0.000   Jarque-Bera (JB):            86947.042\n",
      "Skew:                           2.532   Prob(JB):                         0.00\n",
      "Kurtosis:                      15.186   Cond. No.                         3.37\n",
      "==============================================================================\n",
      "\n",
      "Warnings:\n",
      "[1] Standard Errors assume that the covariance matrix of the errors is correctly specified.\n"
     ]
    }
   ],
   "source": [
    "df2 = sm.add_constant(df2)\n",
    "\n",
    "est = sm.OLS(df2['numPassengersPerBus'], \n",
    "             df2[['HOURLYWindSpeed','HOURLYVISIBILITY']]\n",
    "            ).fit()\n",
    "print(est.summary())"
   ]
  },
  {
   "cell_type": "markdown",
   "metadata": {},
   "source": [
    "Explanation of OLS: R squared is the proportion of variance (%) in the dependent variable that can be explained by the independent variable. Our R-squared has a value of 0.594 what generally considered to have a moderate effect size. In addition, our p values indicate that there is 0% or 2% probability that that the result would have come up in a random distribution. Finally coefficient values demonstrate that when the independent variables increase by 1, dependent variable also increases. As a result, we can state that our correlation analysis is quite reliable."
   ]
  },
  {
   "cell_type": "markdown",
   "metadata": {},
   "source": [
    "Findings:\n",
    "\tWe found very interesting and unexpected results that contradict our original hypothesis of positive correlation between bad weather conditions and crowdedness of the bus. It seems like bus comes on time more often during bad weather conditions. The reason for that requires further research. Our assumption is that moderately bad weather stimulates regular drivers to stay at home what has a positive affect on bus arriving time.  \n"
   ]
  }
 ],
 "metadata": {
  "kernelspec": {
   "display_name": "Python 3",
   "language": "python",
   "name": "python3"
  },
  "language_info": {
   "codemirror_mode": {
    "name": "ipython",
    "version": 3
   },
   "file_extension": ".py",
   "mimetype": "text/x-python",
   "name": "python",
   "nbconvert_exporter": "python",
   "pygments_lexer": "ipython3",
   "version": "3.7.1"
  }
 },
 "nbformat": 4,
 "nbformat_minor": 2
}
