{
 "cells": [
  {
   "cell_type": "markdown",
   "metadata": {},
   "source": [
    "# HamletMTA Progress Report 2\n",
    "\n",
    "- [David Hadaller](#David-Hadaller)\n",
    "- [Angelika Shastapalava](#Angelika-Shastapalava)\n",
    "- [Sam Mundle](#Sam-Mundle)\n",
    "- [Excel Espina](#Excel-Espina)\n",
    "\n",
    "## Project Aims\n",
    "\n",
    "We will use MTA bus data, Monte Carlo passenger simulation and weather data to create a model that will determine how long a passenger should wait for the next bus, before giving up and chosing an alternative mode of transportation. Our focus thus far has been on one particular bus stop (the southbound M100 on 135th street) in August of 2017. However, this model could be iterated system-wide for every bus stop location. \n",
    "\n",
    "The diagram below serves as a reference for our analysis and is explained in more detail in the passages that follow.\n",
    "\n",
    "![diagram](analysis_diagram.png)\n",
    "\n",
    "### Monte Carlo Simulation\n",
    "\n",
    "In our Monte Carlo simulation, we will first assume that there is a uniform probability that a passenger will approach a stop at any given time of day. The reason for this choice is for it's realism (it is a common assumtion among staff analysts at the MTA's operations and planning department) and for it's ease of computation. Later on, we can experiment different ridership behaviors such as a bimodal probability distribution (peak in the early morning and evening for commuters). \n",
    "\n",
    "#### Passenger Wait Times ([Sam](#Sam-Mundle))\n",
    "\n",
    "We view each day's bus arrivals, at a given bus stop, as points on a timeline. Similarly, each  passenger arival at the bus stop falls also on the day's timeline. Calculating wait times then amounts to finding the difference between the passenger's arrival and the arrival of the very next bus along this timeline. Our goal here is to create a dataset with the time (as in time of day) of a passenger's approach to the bus station as the independent variable and the wait time as the dependent variable. This data will serve as the validation set for our model.\n",
    "\n",
    "#### Bus Time Deltas/headways ([David](#David-Hadaller))\n",
    "\n",
    "For the simulated passengers, each approaching the bus stop at some random time, we would like to find how crowded the bus they board will be. To find this, we will simulate many passengers \"boarding\" busses by assigning a population of $n$ daily passengers a uniform random timestamp between the last and first busses of the day. Buses which feature an abnormally long timedelta (long time interval between current and last bus arrival) will generally be more crowded, since more passengers accumulate at the bus stop as time goes on. Again, the time of day is our independent variable and the number of people on the bus (crowding) is the dependent variable.  This data will serve as the validation set for our model.\n",
    "\n",
    "### Weather Data ([Angelika](#Angelika-Shastapalava))\n",
    "\n",
    "Weather data will include columns for precipitation, wind speed, and visibility for the month of August 2017 in NYC. These will serve as our features for predicting crowding and wait time.\n",
    "\n",
    "\n",
    "### Machine Learning Model ([Excel](#Excel-Espina))\n",
    "\n",
    "The feature variables will be include weather data columns and time of day, while the target variables will be the crowding and wait times as experienced by the passengers (to predict what we simulated in the Monte Carlo method step.) Our goal is to produce a general weather-conscious model that predicts passenger experience (wait time and crowdedness)\n",
    "\n",
    "Considerations for this step include, but are not limited to:\n",
    "\n",
    "- model evaluation (accuracrecall,prediction, lift and all that)\n",
    "- model type (linear, non linear/ regression/decision tree)\n",
    "\n",
    "\n",
    "## Data Sources\n",
    "\n",
    "[MTA Schedules](http://web.mta.info/nyct/service/bus/bklnsch.htm#top) (need to figure out best way to scrape or source better structured data)\n",
    "\n",
    "[MTA Bus Statistics](https://www.kaggle.com/stoney71/new-york-city-transport-statistics)\n",
    "\n",
    "[Weather.Gov](https://www.weather.gov/okx/CentralParkHistorical) Data from a weather monitor in central park; Each day, a 1:30 am report holds 24 hours of weather data starting at 12:00 am EST the previous day and the reports look like [this](https://forecast.weather.gov/product.php?site=NWS&issuedby=NYC&product=CLI&format=CI&version=1&glossary=1&highlight=off)."
   ]
  },
  {
   "cell_type": "markdown",
   "metadata": {},
   "source": [
    "# David Hadaller"
   ]
  },
  {
   "cell_type": "code",
   "execution_count": 1,
   "metadata": {},
   "outputs": [],
   "source": [
    "import pandas as pd\n",
    "import matplotlib.dates\n",
    "import matplotlib.pyplot as plt\n",
    "import numpy as np\n",
    "import datetime, math\n",
    "\n",
    "# from IPython.core.interactiveshell import InteractiveShell\n",
    "# InteractiveShell.ast_node_interactivity = \"all\""
   ]
  },
  {
   "cell_type": "code",
   "execution_count": 2,
   "metadata": {
    "scrolled": true
   },
   "outputs": [
    {
     "data": {
      "text/plain": [
       "Index(['RecordedAtTime', 'DirectionRef', 'PublishedLineName', 'OriginName',\n",
       "       'OriginLat', 'OriginLong', 'DestinationName', 'DestinationLat',\n",
       "       'DestinationLong', 'VehicleRef', 'VehicleLocation.Latitude',\n",
       "       'VehicleLocation.Longitude', 'NextStopPointName',\n",
       "       'ArrivalProximityText', 'DistanceFromStop', 'ExpectedArrivalTime',\n",
       "       'ScheduledArrivalTime', 'time_delta', 'time_delta_mins', 'time_diff',\n",
       "       'time_diff_mins'],\n",
       "      dtype='object')"
      ]
     },
     "execution_count": 2,
     "metadata": {},
     "output_type": "execute_result"
    }
   ],
   "source": [
    "M100_NICK = pd.read_csv('M100_month_W125_st.csv')\n",
    "M100_NICK.columns"
   ]
  },
  {
   "cell_type": "markdown",
   "metadata": {},
   "source": [
    "Before we begin the simulation, we need to establish what will become the arguments to `numpy.random.uniform(low=0.0, high=1.0, size=None)`. Below, we find the `low` and `high` parameters. That is, we find the first and last bus arrival times for each day."
   ]
  },
  {
   "cell_type": "code",
   "execution_count": 3,
   "metadata": {},
   "outputs": [
    {
     "data": {
      "text/html": [
       "<div>\n",
       "<style scoped>\n",
       "    .dataframe tbody tr th:only-of-type {\n",
       "        vertical-align: middle;\n",
       "    }\n",
       "\n",
       "    .dataframe tbody tr th {\n",
       "        vertical-align: top;\n",
       "    }\n",
       "\n",
       "    .dataframe thead th {\n",
       "        text-align: right;\n",
       "    }\n",
       "</style>\n",
       "<table border=\"1\" class=\"dataframe\">\n",
       "  <thead>\n",
       "    <tr style=\"text-align: right;\">\n",
       "      <th></th>\n",
       "      <th>Date</th>\n",
       "      <th>EarliestBusArrival</th>\n",
       "      <th>LatestBusArrival</th>\n",
       "    </tr>\n",
       "  </thead>\n",
       "  <tbody>\n",
       "    <tr>\n",
       "      <th>0</th>\n",
       "      <td>2017-08-01</td>\n",
       "      <td>2017-08-01 07:51:49</td>\n",
       "      <td>2017-08-01 18:42:04</td>\n",
       "    </tr>\n",
       "    <tr>\n",
       "      <th>1</th>\n",
       "      <td>2017-08-02</td>\n",
       "      <td>2017-08-02 15:54:31</td>\n",
       "      <td>2017-08-02 19:14:42</td>\n",
       "    </tr>\n",
       "    <tr>\n",
       "      <th>2</th>\n",
       "      <td>2017-08-03</td>\n",
       "      <td>2017-08-03 13:06:46</td>\n",
       "      <td>2017-08-03 18:17:14</td>\n",
       "    </tr>\n",
       "    <tr>\n",
       "      <th>3</th>\n",
       "      <td>2017-08-04</td>\n",
       "      <td>2017-08-04 11:28:26</td>\n",
       "      <td>2017-08-04 21:48:55</td>\n",
       "    </tr>\n",
       "    <tr>\n",
       "      <th>4</th>\n",
       "      <td>2017-08-05</td>\n",
       "      <td>2017-08-05 15:10:31</td>\n",
       "      <td>2017-08-05 21:40:50</td>\n",
       "    </tr>\n",
       "  </tbody>\n",
       "</table>\n",
       "</div>"
      ],
      "text/plain": [
       "        Date  EarliestBusArrival    LatestBusArrival\n",
       "0 2017-08-01 2017-08-01 07:51:49 2017-08-01 18:42:04\n",
       "1 2017-08-02 2017-08-02 15:54:31 2017-08-02 19:14:42\n",
       "2 2017-08-03 2017-08-03 13:06:46 2017-08-03 18:17:14\n",
       "3 2017-08-04 2017-08-04 11:28:26 2017-08-04 21:48:55\n",
       "4 2017-08-05 2017-08-05 15:10:31 2017-08-05 21:40:50"
      ]
     },
     "execution_count": 3,
     "metadata": {},
     "output_type": "execute_result"
    }
   ],
   "source": [
    "DailyBusMinMax= M100_NICK.loc[:,['RecordedAtTime']]\n",
    "splitCol = DailyBusMinMax['RecordedAtTime'].str.split(' ', 1, expand=True).rename(columns={0:'Date', 1:'Time'}) \n",
    "DailyBusMinMax['Date']= splitCol['Date'] \n",
    "\n",
    "DailyBusMinMax = DailyBusMinMax.drop_duplicates()\n",
    "\n",
    "DailyBusMax = DailyBusMinMax.groupby('Date').max()\n",
    "DailyBusMin = DailyBusMinMax.groupby('Date').min()\n",
    "\n",
    "DailyBusMinMax = pd.merge(left=DailyBusMin, right=DailyBusMax, how='inner',on='Date', suffixes=('Min', 'Max'))\n",
    "DailyBusMinMax = DailyBusMinMax.rename(columns={'RecordedAtTimeMin':'EarliestBusArrival', 'RecordedAtTimeMax':'LatestBusArrival'})\n",
    "\n",
    "DailyBusMinMax.reset_index(level=0, inplace=True)\n",
    "DailyBusMinMax['Date'] = pd.to_datetime(DailyBusMinMax['Date'],format='%Y-%m-%d')\n",
    "DailyBusMinMax['EarliestBusArrival'] = pd.to_datetime(DailyBusMinMax['EarliestBusArrival'], format='%Y-%m-%d %H:%M:%S')\n",
    "DailyBusMinMax['LatestBusArrival'] = pd.to_datetime(DailyBusMinMax['LatestBusArrival'], format='%Y-%m-%d %H:%M:%S')\n",
    "\n",
    "DailyBusMinMax.head()"
   ]
  },
  {
   "cell_type": "markdown",
   "metadata": {},
   "source": [
    "In the cell below, we take the bus arrival times (when the bus pulls into the stop), the dates associated with each bus arrival time (to help with subsequent merges) and the timedeltas (which we may plot later on) from the original `M100_NICK` data"
   ]
  },
  {
   "cell_type": "code",
   "execution_count": 4,
   "metadata": {},
   "outputs": [
    {
     "data": {
      "text/html": [
       "<div>\n",
       "<style scoped>\n",
       "    .dataframe tbody tr th:only-of-type {\n",
       "        vertical-align: middle;\n",
       "    }\n",
       "\n",
       "    .dataframe tbody tr th {\n",
       "        vertical-align: top;\n",
       "    }\n",
       "\n",
       "    .dataframe thead th {\n",
       "        text-align: right;\n",
       "    }\n",
       "</style>\n",
       "<table border=\"1\" class=\"dataframe\">\n",
       "  <thead>\n",
       "    <tr style=\"text-align: right;\">\n",
       "      <th></th>\n",
       "      <th>Date</th>\n",
       "      <th>BusArrivalTime</th>\n",
       "      <th>time_delta_mins</th>\n",
       "    </tr>\n",
       "  </thead>\n",
       "  <tbody>\n",
       "    <tr>\n",
       "      <th>0</th>\n",
       "      <td>2017-08-01</td>\n",
       "      <td>2017-08-01 07:51:49</td>\n",
       "      <td>0</td>\n",
       "    </tr>\n",
       "    <tr>\n",
       "      <th>3</th>\n",
       "      <td>2017-08-01</td>\n",
       "      <td>2017-08-01 11:02:25</td>\n",
       "      <td>191</td>\n",
       "    </tr>\n",
       "    <tr>\n",
       "      <th>4</th>\n",
       "      <td>2017-08-01</td>\n",
       "      <td>2017-08-01 13:42:23</td>\n",
       "      <td>161</td>\n",
       "    </tr>\n",
       "    <tr>\n",
       "      <th>5</th>\n",
       "      <td>2017-08-01</td>\n",
       "      <td>2017-08-01 13:52:39</td>\n",
       "      <td>10</td>\n",
       "    </tr>\n",
       "    <tr>\n",
       "      <th>6</th>\n",
       "      <td>2017-08-01</td>\n",
       "      <td>2017-08-01 15:53:02</td>\n",
       "      <td>121</td>\n",
       "    </tr>\n",
       "  </tbody>\n",
       "</table>\n",
       "</div>"
      ],
      "text/plain": [
       "        Date      BusArrivalTime  time_delta_mins\n",
       "0 2017-08-01 2017-08-01 07:51:49                0\n",
       "3 2017-08-01 2017-08-01 11:02:25              191\n",
       "4 2017-08-01 2017-08-01 13:42:23              161\n",
       "5 2017-08-01 2017-08-01 13:52:39               10\n",
       "6 2017-08-01 2017-08-01 15:53:02              121"
      ]
     },
     "execution_count": 4,
     "metadata": {},
     "output_type": "execute_result"
    }
   ],
   "source": [
    "BusArrivals = M100_NICK.loc[:,['RecordedAtTime','time_delta_mins']]\n",
    "dates = M100_NICK['RecordedAtTime'].str.split(' ', 1, expand=True).rename(columns={0:'Date'})\n",
    "BusArrivals.insert(loc=0, column='Date', value=dates['Date'])\n",
    "\n",
    "BusArrivals = BusArrivals.rename(columns={'RecordedAtTime':'BusArrivalTime'})\n",
    "\n",
    "# Change Column DataTypes from String (object) to DateTime\n",
    "BusArrivals['BusArrivalTime'] = pd.to_datetime(BusArrivals['BusArrivalTime'], format='%Y-%m-%d %H:%M:%S')\n",
    "BusArrivals['Date'] = pd.to_datetime(BusArrivals['Date'], format='%Y-%m-%d %H:%M:%S')\n",
    "BusArrivals = BusArrivals.drop_duplicates()\n",
    "\n",
    "BusArrivals.head()"
   ]
  },
  {
   "cell_type": "markdown",
   "metadata": {},
   "source": [
    "Next, we define a simulation function which gets the `low` and `high` bounds of the uniform distribution from the DailyBusMinMax dataframe and then takes `NumPassengers` for population size of passengers to simulate. \n",
    "\n",
    "This simulation function creates a \"pivot table\" with the Date as pseudo-index and an artificial passengerId for column headers. For each date, the table contains each passenger in NumPassengers simulated bus arrival time (the time at which each passenger approaches the bus stop with the hopes of boarding a bus.)\n",
    "\n",
    "Of course, the table that results isn't a true pivot table, because the Date column is just another column, rather than a pandas index. Keeping the Date as a column allows us to reference it as a column later on, which will come in handy when we need to return a series of dates."
   ]
  },
  {
   "cell_type": "code",
   "execution_count": 5,
   "metadata": {},
   "outputs": [],
   "source": [
    "def passengerSim(DailyBusMinMax, NumPassengers):\n",
    "    \n",
    "    #time between the first and last bus arrivals\n",
    "    dailyDelta = DailyBusMinMax['LatestBusArrival'] - DailyBusMinMax['EarliestBusArrival']\n",
    "    \n",
    "    # the first bus arrival\n",
    "    dailyMin = DailyBusMinMax['EarliestBusArrival']\n",
    "    \n",
    "    #number of dates to simulate for\n",
    "    NumDates = len(DailyBusMinMax.Date)\n",
    "    \n",
    "    #this vectorized calculation follows the formula dailyDelta * randomVar + firstBusArrival to choose a random time\n",
    "        # between the EarliestBusArrival and the LatestBusArrival.\n",
    "        # this is done for every date and for each passenger in NumPassengers\n",
    "    pSim = pd.DataFrame(np.random.uniform(0,1,(NumDates,NumPassengers)))\n",
    "    pSim = pSim.mul(dailyDelta,axis=0)\n",
    "    pSim = pSim.add(dailyMin,axis=0)\n",
    "    \n",
    "    # add a dates column to front of dataframe  \n",
    "    pSim.insert(loc=0, column='Date', value=DailyBusMinMax['Date'])\n",
    "    \n",
    "    return pSim"
   ]
  },
  {
   "cell_type": "code",
   "execution_count": 6,
   "metadata": {},
   "outputs": [
    {
     "data": {
      "text/html": [
       "<div>\n",
       "<style scoped>\n",
       "    .dataframe tbody tr th:only-of-type {\n",
       "        vertical-align: middle;\n",
       "    }\n",
       "\n",
       "    .dataframe tbody tr th {\n",
       "        vertical-align: top;\n",
       "    }\n",
       "\n",
       "    .dataframe thead th {\n",
       "        text-align: right;\n",
       "    }\n",
       "</style>\n",
       "<table border=\"1\" class=\"dataframe\">\n",
       "  <thead>\n",
       "    <tr style=\"text-align: right;\">\n",
       "      <th></th>\n",
       "      <th>Date</th>\n",
       "      <th>0</th>\n",
       "      <th>1</th>\n",
       "      <th>2</th>\n",
       "      <th>3</th>\n",
       "      <th>4</th>\n",
       "      <th>5</th>\n",
       "      <th>6</th>\n",
       "      <th>7</th>\n",
       "      <th>8</th>\n",
       "      <th>...</th>\n",
       "      <th>490</th>\n",
       "      <th>491</th>\n",
       "      <th>492</th>\n",
       "      <th>493</th>\n",
       "      <th>494</th>\n",
       "      <th>495</th>\n",
       "      <th>496</th>\n",
       "      <th>497</th>\n",
       "      <th>498</th>\n",
       "      <th>499</th>\n",
       "    </tr>\n",
       "  </thead>\n",
       "  <tbody>\n",
       "    <tr>\n",
       "      <th>0</th>\n",
       "      <td>2017-08-01</td>\n",
       "      <td>2017-08-01 13:45:12.269147378</td>\n",
       "      <td>2017-08-01 11:45:31.893612739</td>\n",
       "      <td>2017-08-01 08:21:34.411089854</td>\n",
       "      <td>2017-08-01 14:19:24.043797514</td>\n",
       "      <td>2017-08-01 16:06:09.413214793</td>\n",
       "      <td>2017-08-01 08:30:15.495755921</td>\n",
       "      <td>2017-08-01 14:26:47.239664946</td>\n",
       "      <td>2017-08-01 09:58:41.433239831</td>\n",
       "      <td>2017-08-01 14:49:22.894365230</td>\n",
       "      <td>...</td>\n",
       "      <td>2017-08-01 15:34:13.575746396</td>\n",
       "      <td>2017-08-01 10:37:26.798065088</td>\n",
       "      <td>2017-08-01 15:20:34.922167679</td>\n",
       "      <td>2017-08-01 08:55:13.952167801</td>\n",
       "      <td>2017-08-01 17:32:18.779927537</td>\n",
       "      <td>2017-08-01 09:55:23.174272681</td>\n",
       "      <td>2017-08-01 09:47:31.461002255</td>\n",
       "      <td>2017-08-01 12:05:45.005324368</td>\n",
       "      <td>2017-08-01 10:27:19.576252309</td>\n",
       "      <td>2017-08-01 11:04:36.509814573</td>\n",
       "    </tr>\n",
       "    <tr>\n",
       "      <th>1</th>\n",
       "      <td>2017-08-02</td>\n",
       "      <td>2017-08-02 16:42:23.852259675</td>\n",
       "      <td>2017-08-02 16:40:56.387861565</td>\n",
       "      <td>2017-08-02 17:23:24.072515200</td>\n",
       "      <td>2017-08-02 19:11:00.226819523</td>\n",
       "      <td>2017-08-02 15:56:17.974613714</td>\n",
       "      <td>2017-08-02 18:29:25.847315710</td>\n",
       "      <td>2017-08-02 18:00:16.432930346</td>\n",
       "      <td>2017-08-02 17:13:14.152546895</td>\n",
       "      <td>2017-08-02 16:17:53.103887602</td>\n",
       "      <td>...</td>\n",
       "      <td>2017-08-02 16:57:15.700395617</td>\n",
       "      <td>2017-08-02 16:53:32.896603478</td>\n",
       "      <td>2017-08-02 16:42:20.481865858</td>\n",
       "      <td>2017-08-02 17:03:58.846346133</td>\n",
       "      <td>2017-08-02 16:06:53.918871476</td>\n",
       "      <td>2017-08-02 18:19:37.164779423</td>\n",
       "      <td>2017-08-02 17:04:37.164196740</td>\n",
       "      <td>2017-08-02 17:33:45.350972773</td>\n",
       "      <td>2017-08-02 15:58:18.648603854</td>\n",
       "      <td>2017-08-02 16:42:46.838675293</td>\n",
       "    </tr>\n",
       "    <tr>\n",
       "      <th>2</th>\n",
       "      <td>2017-08-03</td>\n",
       "      <td>2017-08-03 15:59:12.836314833</td>\n",
       "      <td>2017-08-03 15:31:49.622680345</td>\n",
       "      <td>2017-08-03 13:59:30.322672014</td>\n",
       "      <td>2017-08-03 14:05:05.665025816</td>\n",
       "      <td>2017-08-03 14:45:49.560153948</td>\n",
       "      <td>2017-08-03 17:13:31.967004427</td>\n",
       "      <td>2017-08-03 14:11:34.099797041</td>\n",
       "      <td>2017-08-03 16:16:45.265377921</td>\n",
       "      <td>2017-08-03 18:03:32.776740776</td>\n",
       "      <td>...</td>\n",
       "      <td>2017-08-03 17:11:15.393304026</td>\n",
       "      <td>2017-08-03 18:00:51.096829243</td>\n",
       "      <td>2017-08-03 13:23:31.665785252</td>\n",
       "      <td>2017-08-03 17:05:17.422774375</td>\n",
       "      <td>2017-08-03 16:01:20.910654805</td>\n",
       "      <td>2017-08-03 16:26:04.127618270</td>\n",
       "      <td>2017-08-03 15:12:10.515363654</td>\n",
       "      <td>2017-08-03 17:27:35.011899698</td>\n",
       "      <td>2017-08-03 17:13:49.198627559</td>\n",
       "      <td>2017-08-03 14:35:24.629232537</td>\n",
       "    </tr>\n",
       "    <tr>\n",
       "      <th>3</th>\n",
       "      <td>2017-08-04</td>\n",
       "      <td>2017-08-04 13:40:43.638779401</td>\n",
       "      <td>2017-08-04 14:40:08.348130975</td>\n",
       "      <td>2017-08-04 21:11:34.115687474</td>\n",
       "      <td>2017-08-04 18:04:07.796635932</td>\n",
       "      <td>2017-08-04 19:43:14.793372878</td>\n",
       "      <td>2017-08-04 13:21:20.702448540</td>\n",
       "      <td>2017-08-04 21:10:31.966920445</td>\n",
       "      <td>2017-08-04 19:19:58.006629146</td>\n",
       "      <td>2017-08-04 15:04:06.950751800</td>\n",
       "      <td>...</td>\n",
       "      <td>2017-08-04 16:11:22.759461262</td>\n",
       "      <td>2017-08-04 21:34:11.308534038</td>\n",
       "      <td>2017-08-04 18:02:46.388227967</td>\n",
       "      <td>2017-08-04 20:26:51.404124037</td>\n",
       "      <td>2017-08-04 13:09:33.949341499</td>\n",
       "      <td>2017-08-04 17:19:25.112770660</td>\n",
       "      <td>2017-08-04 12:14:46.464385900</td>\n",
       "      <td>2017-08-04 17:50:07.068274564</td>\n",
       "      <td>2017-08-04 12:39:22.151995440</td>\n",
       "      <td>2017-08-04 15:24:11.613654398</td>\n",
       "    </tr>\n",
       "    <tr>\n",
       "      <th>4</th>\n",
       "      <td>2017-08-05</td>\n",
       "      <td>2017-08-05 18:15:02.624841740</td>\n",
       "      <td>2017-08-05 18:22:24.656395192</td>\n",
       "      <td>2017-08-05 21:21:38.366058076</td>\n",
       "      <td>2017-08-05 18:12:30.072616295</td>\n",
       "      <td>2017-08-05 15:31:21.087866266</td>\n",
       "      <td>2017-08-05 21:23:02.734027948</td>\n",
       "      <td>2017-08-05 20:41:08.942913345</td>\n",
       "      <td>2017-08-05 19:34:10.087901291</td>\n",
       "      <td>2017-08-05 21:36:55.919771266</td>\n",
       "      <td>...</td>\n",
       "      <td>2017-08-05 17:11:06.896626328</td>\n",
       "      <td>2017-08-05 17:12:30.679786864</td>\n",
       "      <td>2017-08-05 15:15:08.640431424</td>\n",
       "      <td>2017-08-05 16:33:29.396665513</td>\n",
       "      <td>2017-08-05 16:10:15.980302212</td>\n",
       "      <td>2017-08-05 15:27:31.650071358</td>\n",
       "      <td>2017-08-05 15:28:21.364562527</td>\n",
       "      <td>2017-08-05 15:24:46.995302720</td>\n",
       "      <td>2017-08-05 20:24:13.030096515</td>\n",
       "      <td>2017-08-05 15:24:32.819685090</td>\n",
       "    </tr>\n",
       "  </tbody>\n",
       "</table>\n",
       "<p>5 rows × 501 columns</p>\n",
       "</div>"
      ],
      "text/plain": [
       "        Date                             0                             1  \\\n",
       "0 2017-08-01 2017-08-01 13:45:12.269147378 2017-08-01 11:45:31.893612739   \n",
       "1 2017-08-02 2017-08-02 16:42:23.852259675 2017-08-02 16:40:56.387861565   \n",
       "2 2017-08-03 2017-08-03 15:59:12.836314833 2017-08-03 15:31:49.622680345   \n",
       "3 2017-08-04 2017-08-04 13:40:43.638779401 2017-08-04 14:40:08.348130975   \n",
       "4 2017-08-05 2017-08-05 18:15:02.624841740 2017-08-05 18:22:24.656395192   \n",
       "\n",
       "                              2                             3  \\\n",
       "0 2017-08-01 08:21:34.411089854 2017-08-01 14:19:24.043797514   \n",
       "1 2017-08-02 17:23:24.072515200 2017-08-02 19:11:00.226819523   \n",
       "2 2017-08-03 13:59:30.322672014 2017-08-03 14:05:05.665025816   \n",
       "3 2017-08-04 21:11:34.115687474 2017-08-04 18:04:07.796635932   \n",
       "4 2017-08-05 21:21:38.366058076 2017-08-05 18:12:30.072616295   \n",
       "\n",
       "                              4                             5  \\\n",
       "0 2017-08-01 16:06:09.413214793 2017-08-01 08:30:15.495755921   \n",
       "1 2017-08-02 15:56:17.974613714 2017-08-02 18:29:25.847315710   \n",
       "2 2017-08-03 14:45:49.560153948 2017-08-03 17:13:31.967004427   \n",
       "3 2017-08-04 19:43:14.793372878 2017-08-04 13:21:20.702448540   \n",
       "4 2017-08-05 15:31:21.087866266 2017-08-05 21:23:02.734027948   \n",
       "\n",
       "                              6                             7  \\\n",
       "0 2017-08-01 14:26:47.239664946 2017-08-01 09:58:41.433239831   \n",
       "1 2017-08-02 18:00:16.432930346 2017-08-02 17:13:14.152546895   \n",
       "2 2017-08-03 14:11:34.099797041 2017-08-03 16:16:45.265377921   \n",
       "3 2017-08-04 21:10:31.966920445 2017-08-04 19:19:58.006629146   \n",
       "4 2017-08-05 20:41:08.942913345 2017-08-05 19:34:10.087901291   \n",
       "\n",
       "                              8              ...               \\\n",
       "0 2017-08-01 14:49:22.894365230              ...                \n",
       "1 2017-08-02 16:17:53.103887602              ...                \n",
       "2 2017-08-03 18:03:32.776740776              ...                \n",
       "3 2017-08-04 15:04:06.950751800              ...                \n",
       "4 2017-08-05 21:36:55.919771266              ...                \n",
       "\n",
       "                            490                           491  \\\n",
       "0 2017-08-01 15:34:13.575746396 2017-08-01 10:37:26.798065088   \n",
       "1 2017-08-02 16:57:15.700395617 2017-08-02 16:53:32.896603478   \n",
       "2 2017-08-03 17:11:15.393304026 2017-08-03 18:00:51.096829243   \n",
       "3 2017-08-04 16:11:22.759461262 2017-08-04 21:34:11.308534038   \n",
       "4 2017-08-05 17:11:06.896626328 2017-08-05 17:12:30.679786864   \n",
       "\n",
       "                            492                           493  \\\n",
       "0 2017-08-01 15:20:34.922167679 2017-08-01 08:55:13.952167801   \n",
       "1 2017-08-02 16:42:20.481865858 2017-08-02 17:03:58.846346133   \n",
       "2 2017-08-03 13:23:31.665785252 2017-08-03 17:05:17.422774375   \n",
       "3 2017-08-04 18:02:46.388227967 2017-08-04 20:26:51.404124037   \n",
       "4 2017-08-05 15:15:08.640431424 2017-08-05 16:33:29.396665513   \n",
       "\n",
       "                            494                           495  \\\n",
       "0 2017-08-01 17:32:18.779927537 2017-08-01 09:55:23.174272681   \n",
       "1 2017-08-02 16:06:53.918871476 2017-08-02 18:19:37.164779423   \n",
       "2 2017-08-03 16:01:20.910654805 2017-08-03 16:26:04.127618270   \n",
       "3 2017-08-04 13:09:33.949341499 2017-08-04 17:19:25.112770660   \n",
       "4 2017-08-05 16:10:15.980302212 2017-08-05 15:27:31.650071358   \n",
       "\n",
       "                            496                           497  \\\n",
       "0 2017-08-01 09:47:31.461002255 2017-08-01 12:05:45.005324368   \n",
       "1 2017-08-02 17:04:37.164196740 2017-08-02 17:33:45.350972773   \n",
       "2 2017-08-03 15:12:10.515363654 2017-08-03 17:27:35.011899698   \n",
       "3 2017-08-04 12:14:46.464385900 2017-08-04 17:50:07.068274564   \n",
       "4 2017-08-05 15:28:21.364562527 2017-08-05 15:24:46.995302720   \n",
       "\n",
       "                            498                           499  \n",
       "0 2017-08-01 10:27:19.576252309 2017-08-01 11:04:36.509814573  \n",
       "1 2017-08-02 15:58:18.648603854 2017-08-02 16:42:46.838675293  \n",
       "2 2017-08-03 17:13:49.198627559 2017-08-03 14:35:24.629232537  \n",
       "3 2017-08-04 12:39:22.151995440 2017-08-04 15:24:11.613654398  \n",
       "4 2017-08-05 20:24:13.030096515 2017-08-05 15:24:32.819685090  \n",
       "\n",
       "[5 rows x 501 columns]"
      ]
     },
     "execution_count": 6,
     "metadata": {},
     "output_type": "execute_result"
    }
   ],
   "source": [
    "sim = passengerSim(DailyBusMinMax,500)\n",
    "sim.head()"
   ]
  },
  {
   "cell_type": "markdown",
   "metadata": {},
   "source": [
    "Here, we reorganize the results of the passenger simulation to get a table that has one single `passengerId` column, instead of one column for each passenger. This is will allow us to perform a merge in the following step."
   ]
  },
  {
   "cell_type": "code",
   "execution_count": 7,
   "metadata": {},
   "outputs": [
    {
     "data": {
      "text/html": [
       "<div>\n",
       "<style scoped>\n",
       "    .dataframe tbody tr th:only-of-type {\n",
       "        vertical-align: middle;\n",
       "    }\n",
       "\n",
       "    .dataframe tbody tr th {\n",
       "        vertical-align: top;\n",
       "    }\n",
       "\n",
       "    .dataframe thead th {\n",
       "        text-align: right;\n",
       "    }\n",
       "</style>\n",
       "<table border=\"1\" class=\"dataframe\">\n",
       "  <thead>\n",
       "    <tr style=\"text-align: right;\">\n",
       "      <th></th>\n",
       "      <th>Date</th>\n",
       "      <th>passengerId</th>\n",
       "      <th>passengerArrivalTime</th>\n",
       "    </tr>\n",
       "  </thead>\n",
       "  <tbody>\n",
       "    <tr>\n",
       "      <th>0</th>\n",
       "      <td>2017-08-01</td>\n",
       "      <td>0</td>\n",
       "      <td>2017-08-01 13:45:12.269147378</td>\n",
       "    </tr>\n",
       "    <tr>\n",
       "      <th>1</th>\n",
       "      <td>2017-08-02</td>\n",
       "      <td>0</td>\n",
       "      <td>2017-08-02 16:42:23.852259675</td>\n",
       "    </tr>\n",
       "    <tr>\n",
       "      <th>2</th>\n",
       "      <td>2017-08-03</td>\n",
       "      <td>0</td>\n",
       "      <td>2017-08-03 15:59:12.836314833</td>\n",
       "    </tr>\n",
       "    <tr>\n",
       "      <th>3</th>\n",
       "      <td>2017-08-04</td>\n",
       "      <td>0</td>\n",
       "      <td>2017-08-04 13:40:43.638779401</td>\n",
       "    </tr>\n",
       "    <tr>\n",
       "      <th>4</th>\n",
       "      <td>2017-08-05</td>\n",
       "      <td>0</td>\n",
       "      <td>2017-08-05 18:15:02.624841740</td>\n",
       "    </tr>\n",
       "  </tbody>\n",
       "</table>\n",
       "</div>"
      ],
      "text/plain": [
       "        Date passengerId          passengerArrivalTime\n",
       "0 2017-08-01           0 2017-08-01 13:45:12.269147378\n",
       "1 2017-08-02           0 2017-08-02 16:42:23.852259675\n",
       "2 2017-08-03           0 2017-08-03 15:59:12.836314833\n",
       "3 2017-08-04           0 2017-08-04 13:40:43.638779401\n",
       "4 2017-08-05           0 2017-08-05 18:15:02.624841740"
      ]
     },
     "execution_count": 7,
     "metadata": {},
     "output_type": "execute_result"
    }
   ],
   "source": [
    "sim = sim.melt(id_vars='Date')\n",
    "sim = sim.rename(columns={'variable':'passengerId','value':'passengerArrivalTime'})\n",
    "sim.head()"
   ]
  },
  {
   "cell_type": "markdown",
   "metadata": {},
   "source": [
    "As promised, we now merge the passenger simulation,`sim` with the bus arrival times, `BusArrivals`. The result of the code below is a lookup table where each passenger arrival time is associated with one bus arrival time; that is to say, the passengers are associated with the bus they board (which will always be the next bus that approaches the stop after they arrive.)"
   ]
  },
  {
   "cell_type": "code",
   "execution_count": 8,
   "metadata": {},
   "outputs": [
    {
     "data": {
      "text/html": [
       "<div>\n",
       "<style scoped>\n",
       "    .dataframe tbody tr th:only-of-type {\n",
       "        vertical-align: middle;\n",
       "    }\n",
       "\n",
       "    .dataframe tbody tr th {\n",
       "        vertical-align: top;\n",
       "    }\n",
       "\n",
       "    .dataframe thead th {\n",
       "        text-align: right;\n",
       "    }\n",
       "</style>\n",
       "<table border=\"1\" class=\"dataframe\">\n",
       "  <thead>\n",
       "    <tr style=\"text-align: right;\">\n",
       "      <th></th>\n",
       "      <th>Date</th>\n",
       "      <th>passengerId</th>\n",
       "      <th>passengerArrivalTime</th>\n",
       "      <th>BusArrivalTime</th>\n",
       "      <th>time_delta_mins</th>\n",
       "    </tr>\n",
       "  </thead>\n",
       "  <tbody>\n",
       "    <tr>\n",
       "      <th>2</th>\n",
       "      <td>2017-08-01</td>\n",
       "      <td>2</td>\n",
       "      <td>2017-08-01 08:21:34.411089854</td>\n",
       "      <td>2017-08-01 11:02:25</td>\n",
       "      <td>191</td>\n",
       "    </tr>\n",
       "    <tr>\n",
       "      <th>5</th>\n",
       "      <td>2017-08-01</td>\n",
       "      <td>5</td>\n",
       "      <td>2017-08-01 08:30:15.495755921</td>\n",
       "      <td>2017-08-01 11:02:25</td>\n",
       "      <td>191</td>\n",
       "    </tr>\n",
       "    <tr>\n",
       "      <th>7</th>\n",
       "      <td>2017-08-01</td>\n",
       "      <td>7</td>\n",
       "      <td>2017-08-01 09:58:41.433239831</td>\n",
       "      <td>2017-08-01 11:02:25</td>\n",
       "      <td>191</td>\n",
       "    </tr>\n",
       "    <tr>\n",
       "      <th>9</th>\n",
       "      <td>2017-08-01</td>\n",
       "      <td>9</td>\n",
       "      <td>2017-08-01 09:44:50.120861893</td>\n",
       "      <td>2017-08-01 11:02:25</td>\n",
       "      <td>191</td>\n",
       "    </tr>\n",
       "    <tr>\n",
       "      <th>10</th>\n",
       "      <td>2017-08-01</td>\n",
       "      <td>10</td>\n",
       "      <td>2017-08-01 10:07:38.099348065</td>\n",
       "      <td>2017-08-01 11:02:25</td>\n",
       "      <td>191</td>\n",
       "    </tr>\n",
       "  </tbody>\n",
       "</table>\n",
       "</div>"
      ],
      "text/plain": [
       "         Date  passengerId          passengerArrivalTime      BusArrivalTime  \\\n",
       "2  2017-08-01            2 2017-08-01 08:21:34.411089854 2017-08-01 11:02:25   \n",
       "5  2017-08-01            5 2017-08-01 08:30:15.495755921 2017-08-01 11:02:25   \n",
       "7  2017-08-01            7 2017-08-01 09:58:41.433239831 2017-08-01 11:02:25   \n",
       "9  2017-08-01            9 2017-08-01 09:44:50.120861893 2017-08-01 11:02:25   \n",
       "10 2017-08-01           10 2017-08-01 10:07:38.099348065 2017-08-01 11:02:25   \n",
       "\n",
       "    time_delta_mins  \n",
       "2               191  \n",
       "5               191  \n",
       "7               191  \n",
       "9               191  \n",
       "10              191  "
      ]
     },
     "execution_count": 8,
     "metadata": {},
     "output_type": "execute_result"
    }
   ],
   "source": [
    "# The powerset of all passenger-bus combinations\n",
    "busBoarding = pd.merge(right=sim, left=BusArrivals, on='Date', how='inner')\n",
    "\n",
    "# whittle down previous dataframe to those where passengers board busses that arrive at stop after they do\n",
    "    # (no going back in time)\n",
    "busBoarding = busBoarding.loc[busBoarding['BusArrivalTime']>=busBoarding['passengerArrivalTime']]\n",
    "\n",
    "# the passenger is reasonable and will board the first bus that approaches the stop\n",
    "busBoarding = busBoarding.groupby(['Date','passengerId','passengerArrivalTime']).first()\n",
    "\n",
    "# we reset the index to group by a different column in the next step\n",
    "busBoarding = busBoarding.reset_index().sort_values(['Date','BusArrivalTime','passengerId'])\n",
    "busBoarding.head()"
   ]
  },
  {
   "cell_type": "markdown",
   "metadata": {},
   "source": [
    "Now, we calcuate the number of people per bus by grouping by `BusArrivalTime` and then counting the number of entries in each group. We then merge this `busCrowding` DataFrame back into our `busBoarding` DataFrame from the previous step to give us a `numPassengersPerBus` column, which tells us exactly how many of our simulated passengers boarded each bus."
   ]
  },
  {
   "cell_type": "code",
   "execution_count": 16,
   "metadata": {},
   "outputs": [
    {
     "data": {
      "text/plain": [
       "(14000, 7)"
      ]
     },
     "execution_count": 16,
     "metadata": {},
     "output_type": "execute_result"
    }
   ],
   "source": [
    "busCrowding = busBoarding.groupby(['BusArrivalTime']).count()\n",
    "busCrowding = pd.DataFrame(busCrowding['passengerId']).rename(columns={'passengerId':'numPassengersPerBus'})\n",
    "busCrowding.reset_index()\n",
    "\n",
    "busBoarding = pd.merge(left=busBoarding, right=busCrowding, on='BusArrivalTime', how='inner')\n",
    "busBoarding.head()\n",
    "busBoarding.shape"
   ]
  },
  {
   "cell_type": "markdown",
   "metadata": {},
   "source": [
    "We now take a few columns of the `busBoarding`data that to plot the relationship between `passengerArrivalTime` and `numPassengersPerBus`."
   ]
  },
  {
   "cell_type": "code",
   "execution_count": 15,
   "metadata": {},
   "outputs": [
    {
     "data": {
      "text/plain": [
       "(14000, 2)"
      ]
     },
     "execution_count": 15,
     "metadata": {},
     "output_type": "execute_result"
    }
   ],
   "source": [
    "plotData = busBoarding.loc[:,['passengerArrivalTime','numPassengersPerBus']]\n",
    "plotData['passengerArrivalTime'] = plotData.passengerArrivalTime.dt.time\n",
    "plotData.head()\n",
    "plotData.shape"
   ]
  },
  {
   "cell_type": "markdown",
   "metadata": {},
   "source": [
    "Finally, we have our plot."
   ]
  },
  {
   "cell_type": "code",
   "execution_count": 11,
   "metadata": {},
   "outputs": [
    {
     "data": {
      "text/plain": [
       "(array([-10000.,      0.,  10000.,  20000.,  30000.,  40000.,  50000.,\n",
       "         60000.,  70000.,  80000.,  90000.]),\n",
       " <a list of 11 Text xticklabel objects>)"
      ]
     },
     "execution_count": 11,
     "metadata": {},
     "output_type": "execute_result"
    },
    {
     "data": {
      "image/png": "[encoded data removed]",
      "text/plain": [
       "<Figure size 432x288 with 1 Axes>"
      ]
     },
     "metadata": {
      "needs_background": "light"
     },
     "output_type": "display_data"
    }
   ],
   "source": [
    "plotData = plotData.sort_values('passengerArrivalTime', ascending=True)\n",
    "_= plt.plot(plotData['passengerArrivalTime'], plotData['numPassengersPerBus'],'.',linestyle='none')\n",
    "_ = plt.xlabel('Passenger Arrival Time')\n",
    "_ = plt.ylabel('Number of Passengers on Bus')\n",
    "_ = plt.margins(0.02) # Keeps data off plot edges\n",
    "plt.xticks(rotation='vertical')"
   ]
  },
  {
   "cell_type": "markdown",
   "metadata": {},
   "source": [
    "Notice that the above plot features a series of points a the 1000 people mark. This signifies that there are busses so crowded that they fit 1000 passengers inside. Clearly there is an innacuracy in the data. The source of the problem is that there is only one bus per day on some days, but the daily population of passengers remains 1000 every day. So far as we can see, there can be two causes for this error: \n",
    "\n",
    "1. Some of the bus arrival data has been unnecessarily deleted or is missing; there are no \"one-bus-only\" days at this stop.\n",
    "2. The number of passengers should be adapted to the number of busses for each transit day. This would mean the error was setting the daily ridership at a constant of `numPassengers=1000`.\n",
    "\n",
    "However, once find the source of this error, we will have our \"base truth\" to help train our models on in the next phase of our project. "
   ]
  },
  {
   "cell_type": "markdown",
   "metadata": {},
   "source": [
    "# Sam Mundle"
   ]
  },
  {
   "cell_type": "code",
   "execution_count": 12,
   "metadata": {},
   "outputs": [
    {
     "data": {
      "text/plain": [
       "(14000, 6)"
      ]
     },
     "execution_count": 12,
     "metadata": {},
     "output_type": "execute_result"
    }
   ],
   "source": [
    "# Find the elapsed time between passenger arrival and bus arrival (Wait time)\n",
    "busBoarding['WaitTime'] = busBoarding['BusArrivalTime'] - busBoarding['passengerArrivalTime']\n",
    "busBoarding.shape"
   ]
  },
  {
   "cell_type": "code",
   "execution_count": 26,
   "metadata": {},
   "outputs": [
    {
     "data": {
      "text/plain": [
       "passengerArrivalTime             object\n",
       "WaitTime                timedelta64[ns]\n",
       "dtype: object"
      ]
     },
     "execution_count": 26,
     "metadata": {},
     "output_type": "execute_result"
    }
   ],
   "source": [
    "waitPlotData = busBoarding[['passengerArrivalTime', 'WaitTime']].copy()\n",
    "waitPlotData['passengerArrivalTime'] = waitPlotData.passengerArrivalTime.dt.time\n",
    "waitPlotData.dtypes"
   ]
  },
  {
   "cell_type": "code",
   "execution_count": 29,
   "metadata": {
    "scrolled": true
   },
   "outputs": [
    {
     "data": {
      "text/plain": [
       "(array([    0.,  5000., 10000., 15000., 20000., 25000.]),\n",
       " <a list of 6 Text xticklabel objects>)"
      ]
     },
     "execution_count": 29,
     "metadata": {},
     "output_type": "execute_result"
    },
    {
     "data": {
      "image/png": "[encoded data removed]",
      "text/plain": [
       "<Figure size 432x288 with 1 Axes>"
      ]
     },
     "metadata": {
      "needs_background": "light"
     },
     "output_type": "display_data"
    }
   ],
   "source": [
    "waitPlotData = waitPlotData.sort_values('passengerArrivalTime', ascending=True)[0:500]\n",
    "_= plt.plot(waitPlotData['passengerArrivalTime'], waitPlotData['WaitTime'],'.',linestyle='none')\n",
    "_ = plt.xlabel('Passenger Arrival Time')\n",
    "_ = plt.ylabel('Wait Time For Bus')\n",
    "_ = plt.margins(0.02) # Keeps data off plot edges\n",
    "plt.xticks(rotation='vertical')\n",
    "\n"
   ]
  },
  {
   "cell_type": "markdown",
   "metadata": {},
   "source": [
    "First we import relevant libraries and generate a dataframe representing all of the arrivals at a single stop in a single month traveling in one of two directions on the M100 bus route. \n",
    "\n",
    "It should be noted that there are relatively few entries for the month (107) due to data loss earlier in the cleaning process. Further work on cleaning is necessary"
   ]
  },
  {
   "cell_type": "code",
   "execution_count": 2,
   "metadata": {},
   "outputs": [
    {
     "data": {
      "text/plain": [
       "(107, 21)"
      ]
     },
     "execution_count": 2,
     "metadata": {},
     "output_type": "execute_result"
    }
   ],
   "source": [
    "import pandas as pd\n",
    "import numpy as np\n",
    "from matplotlib import pyplot as plt\n",
    "\n",
    "mta_df = pd.read_csv('M100_month_W125_st.csv', error_bad_lines=False)\n",
    "mta_df.shape"
   ]
  },
  {
   "cell_type": "markdown",
   "metadata": {},
   "source": [
    "Then the dataframe is sorted based on 'RecordedAtTime' which, since all entries are while the bus has reached the stop, represent the actual arrival times. "
   ]
  },
  {
   "cell_type": "code",
   "execution_count": 3,
   "metadata": {},
   "outputs": [
    {
     "data": {
      "text/html": [
       "<div>\n",
       "<style scoped>\n",
       "    .dataframe tbody tr th:only-of-type {\n",
       "        vertical-align: middle;\n",
       "    }\n",
       "\n",
       "    .dataframe tbody tr th {\n",
       "        vertical-align: top;\n",
       "    }\n",
       "\n",
       "    .dataframe thead th {\n",
       "        text-align: right;\n",
       "    }\n",
       "</style>\n",
       "<table border=\"1\" class=\"dataframe\">\n",
       "  <thead>\n",
       "    <tr style=\"text-align: right;\">\n",
       "      <th></th>\n",
       "      <th>RecordedAtTime</th>\n",
       "      <th>DirectionRef</th>\n",
       "      <th>PublishedLineName</th>\n",
       "      <th>OriginName</th>\n",
       "      <th>OriginLat</th>\n",
       "      <th>OriginLong</th>\n",
       "      <th>DestinationName</th>\n",
       "      <th>DestinationLat</th>\n",
       "      <th>DestinationLong</th>\n",
       "      <th>VehicleRef</th>\n",
       "      <th>...</th>\n",
       "      <th>VehicleLocation.Longitude</th>\n",
       "      <th>NextStopPointName</th>\n",
       "      <th>ArrivalProximityText</th>\n",
       "      <th>DistanceFromStop</th>\n",
       "      <th>ExpectedArrivalTime</th>\n",
       "      <th>ScheduledArrivalTime</th>\n",
       "      <th>time_delta</th>\n",
       "      <th>time_delta_mins</th>\n",
       "      <th>time_diff</th>\n",
       "      <th>time_diff_mins</th>\n",
       "    </tr>\n",
       "  </thead>\n",
       "  <tbody>\n",
       "    <tr>\n",
       "      <th>0</th>\n",
       "      <td>2017-08-01 07:51:49</td>\n",
       "      <td>0</td>\n",
       "      <td>M100</td>\n",
       "      <td>1 AV/125 ST</td>\n",
       "      <td>40.801968</td>\n",
       "      <td>-73.931358</td>\n",
       "      <td>INWOOD 220 ST via AMSTERDAM via BWAY</td>\n",
       "      <td>40.871902</td>\n",
       "      <td>-73.913101</td>\n",
       "      <td>NYCT_8368</td>\n",
       "      <td>...</td>\n",
       "      <td>-73.952819</td>\n",
       "      <td>W 125 ST/ST NICHOLAS AV</td>\n",
       "      <td>at stop</td>\n",
       "      <td>21.0</td>\n",
       "      <td>2017-08-01 07:52:03</td>\n",
       "      <td>07:49:06</td>\n",
       "      <td>NaN</td>\n",
       "      <td>0</td>\n",
       "      <td>NaN</td>\n",
       "      <td>0</td>\n",
       "    </tr>\n",
       "    <tr>\n",
       "      <th>1</th>\n",
       "      <td>2017-08-01 07:51:49</td>\n",
       "      <td>0</td>\n",
       "      <td>M100</td>\n",
       "      <td>1 AV/125 ST</td>\n",
       "      <td>40.801968</td>\n",
       "      <td>-73.931358</td>\n",
       "      <td>INWOOD 220 ST via AMSTERDAM via BWAY</td>\n",
       "      <td>40.871902</td>\n",
       "      <td>-73.913101</td>\n",
       "      <td>NYCT_8368</td>\n",
       "      <td>...</td>\n",
       "      <td>-73.952819</td>\n",
       "      <td>W 125 ST/ST NICHOLAS AV</td>\n",
       "      <td>at stop</td>\n",
       "      <td>21.0</td>\n",
       "      <td>2017-08-01 07:52:03</td>\n",
       "      <td>07:50:48</td>\n",
       "      <td>0 days 00:00:00.000000000</td>\n",
       "      <td>0</td>\n",
       "      <td>0 days 00:00:00.000000000</td>\n",
       "      <td>0</td>\n",
       "    </tr>\n",
       "    <tr>\n",
       "      <th>2</th>\n",
       "      <td>2017-08-01 07:51:49</td>\n",
       "      <td>0</td>\n",
       "      <td>M100</td>\n",
       "      <td>1 AV/125 ST</td>\n",
       "      <td>40.801968</td>\n",
       "      <td>-73.931358</td>\n",
       "      <td>INWOOD 220 ST via AMSTERDAM via BWAY</td>\n",
       "      <td>40.871902</td>\n",
       "      <td>-73.913101</td>\n",
       "      <td>NYCT_8368</td>\n",
       "      <td>...</td>\n",
       "      <td>-73.952819</td>\n",
       "      <td>W 125 ST/ST NICHOLAS AV</td>\n",
       "      <td>at stop</td>\n",
       "      <td>21.0</td>\n",
       "      <td>2017-08-01 07:52:03</td>\n",
       "      <td>07:51:39</td>\n",
       "      <td>0 days 00:00:00.000000000</td>\n",
       "      <td>0</td>\n",
       "      <td>0 days 00:00:00.000000000</td>\n",
       "      <td>0</td>\n",
       "    </tr>\n",
       "    <tr>\n",
       "      <th>3</th>\n",
       "      <td>2017-08-01 11:02:25</td>\n",
       "      <td>0</td>\n",
       "      <td>M100</td>\n",
       "      <td>1 AV/125 ST</td>\n",
       "      <td>40.801968</td>\n",
       "      <td>-73.931358</td>\n",
       "      <td>INWOOD 220 ST via AMSTERDAM via BWAY</td>\n",
       "      <td>40.871902</td>\n",
       "      <td>-73.913101</td>\n",
       "      <td>NYCT_8384</td>\n",
       "      <td>...</td>\n",
       "      <td>-73.952928</td>\n",
       "      <td>W 125 ST/ST NICHOLAS AV</td>\n",
       "      <td>at stop</td>\n",
       "      <td>11.0</td>\n",
       "      <td>2017-08-01 11:02:42</td>\n",
       "      <td>11:04:39</td>\n",
       "      <td>0 days 03:10:39.000000000</td>\n",
       "      <td>191</td>\n",
       "      <td>0 days 03:10:39.000000000</td>\n",
       "      <td>191</td>\n",
       "    </tr>\n",
       "    <tr>\n",
       "      <th>4</th>\n",
       "      <td>2017-08-01 13:42:23</td>\n",
       "      <td>0</td>\n",
       "      <td>M100</td>\n",
       "      <td>1 AV/125 ST</td>\n",
       "      <td>40.801968</td>\n",
       "      <td>-73.931358</td>\n",
       "      <td>INWOOD 220 ST via AMSTERDAM via BWAY</td>\n",
       "      <td>40.871902</td>\n",
       "      <td>-73.913101</td>\n",
       "      <td>NYCT_8391</td>\n",
       "      <td>...</td>\n",
       "      <td>-73.952865</td>\n",
       "      <td>W 125 ST/ST NICHOLAS AV</td>\n",
       "      <td>at stop</td>\n",
       "      <td>17.0</td>\n",
       "      <td>2017-08-01 13:43:07</td>\n",
       "      <td>13:35:20</td>\n",
       "      <td>0 days 02:40:25.000000000</td>\n",
       "      <td>161</td>\n",
       "      <td>0 days 02:40:25.000000000</td>\n",
       "      <td>161</td>\n",
       "    </tr>\n",
       "  </tbody>\n",
       "</table>\n",
       "<p>5 rows × 21 columns</p>\n",
       "</div>"
      ],
      "text/plain": [
       "       RecordedAtTime  DirectionRef PublishedLineName   OriginName  OriginLat  \\\n",
       "0 2017-08-01 07:51:49             0              M100  1 AV/125 ST  40.801968   \n",
       "1 2017-08-01 07:51:49             0              M100  1 AV/125 ST  40.801968   \n",
       "2 2017-08-01 07:51:49             0              M100  1 AV/125 ST  40.801968   \n",
       "3 2017-08-01 11:02:25             0              M100  1 AV/125 ST  40.801968   \n",
       "4 2017-08-01 13:42:23             0              M100  1 AV/125 ST  40.801968   \n",
       "\n",
       "   OriginLong                       DestinationName  DestinationLat  \\\n",
       "0  -73.931358  INWOOD 220 ST via AMSTERDAM via BWAY       40.871902   \n",
       "1  -73.931358  INWOOD 220 ST via AMSTERDAM via BWAY       40.871902   \n",
       "2  -73.931358  INWOOD 220 ST via AMSTERDAM via BWAY       40.871902   \n",
       "3  -73.931358  INWOOD 220 ST via AMSTERDAM via BWAY       40.871902   \n",
       "4  -73.931358  INWOOD 220 ST via AMSTERDAM via BWAY       40.871902   \n",
       "\n",
       "   DestinationLong VehicleRef      ...        VehicleLocation.Longitude  \\\n",
       "0       -73.913101  NYCT_8368      ...                       -73.952819   \n",
       "1       -73.913101  NYCT_8368      ...                       -73.952819   \n",
       "2       -73.913101  NYCT_8368      ...                       -73.952819   \n",
       "3       -73.913101  NYCT_8384      ...                       -73.952928   \n",
       "4       -73.913101  NYCT_8391      ...                       -73.952865   \n",
       "\n",
       "         NextStopPointName ArrivalProximityText DistanceFromStop  \\\n",
       "0  W 125 ST/ST NICHOLAS AV              at stop             21.0   \n",
       "1  W 125 ST/ST NICHOLAS AV              at stop             21.0   \n",
       "2  W 125 ST/ST NICHOLAS AV              at stop             21.0   \n",
       "3  W 125 ST/ST NICHOLAS AV              at stop             11.0   \n",
       "4  W 125 ST/ST NICHOLAS AV              at stop             17.0   \n",
       "\n",
       "   ExpectedArrivalTime ScheduledArrivalTime                 time_delta  \\\n",
       "0  2017-08-01 07:52:03             07:49:06                        NaN   \n",
       "1  2017-08-01 07:52:03             07:50:48  0 days 00:00:00.000000000   \n",
       "2  2017-08-01 07:52:03             07:51:39  0 days 00:00:00.000000000   \n",
       "3  2017-08-01 11:02:42             11:04:39  0 days 03:10:39.000000000   \n",
       "4  2017-08-01 13:43:07             13:35:20  0 days 02:40:25.000000000   \n",
       "\n",
       "  time_delta_mins                  time_diff time_diff_mins  \n",
       "0               0                        NaN              0  \n",
       "1               0  0 days 00:00:00.000000000              0  \n",
       "2               0  0 days 00:00:00.000000000              0  \n",
       "3             191  0 days 03:10:39.000000000            191  \n",
       "4             161  0 days 02:40:25.000000000            161  \n",
       "\n",
       "[5 rows x 21 columns]"
      ]
     },
     "execution_count": 3,
     "metadata": {},
     "output_type": "execute_result"
    }
   ],
   "source": [
    "mta_df['RecordedAtTime'] = pd.to_datetime(mta_df['RecordedAtTime'])\n",
    "mta_df.sort_values(\"RecordedAtTime\", inplace=True)\n",
    "mta_df.head()"
   ]
  },
  {
   "cell_type": "markdown",
   "metadata": {},
   "source": [
    "The arrivals dataframe is initialized with a controlled number of passenger arrival time entries and can have the frequency of random times changed in its definition statement"
   ]
  },
  {
   "cell_type": "code",
   "execution_count": 5,
   "metadata": {},
   "outputs": [
    {
     "data": {
      "text/html": [
       "<div>\n",
       "<style scoped>\n",
       "    .dataframe tbody tr th:only-of-type {\n",
       "        vertical-align: middle;\n",
       "    }\n",
       "\n",
       "    .dataframe tbody tr th {\n",
       "        vertical-align: top;\n",
       "    }\n",
       "\n",
       "    .dataframe thead th {\n",
       "        text-align: right;\n",
       "    }\n",
       "</style>\n",
       "<table border=\"1\" class=\"dataframe\">\n",
       "  <thead>\n",
       "    <tr style=\"text-align: right;\">\n",
       "      <th></th>\n",
       "      <th>PassengerTime</th>\n",
       "    </tr>\n",
       "  </thead>\n",
       "  <tbody>\n",
       "    <tr>\n",
       "      <th>590</th>\n",
       "      <td>2017-08-06 22:58:00</td>\n",
       "    </tr>\n",
       "    <tr>\n",
       "      <th>591</th>\n",
       "      <td>2017-08-04 09:46:00</td>\n",
       "    </tr>\n",
       "    <tr>\n",
       "      <th>592</th>\n",
       "      <td>2017-08-15 08:14:00</td>\n",
       "    </tr>\n",
       "    <tr>\n",
       "      <th>593</th>\n",
       "      <td>2017-08-06 04:08:00</td>\n",
       "    </tr>\n",
       "    <tr>\n",
       "      <th>594</th>\n",
       "      <td>2017-08-19 14:26:00</td>\n",
       "    </tr>\n",
       "    <tr>\n",
       "      <th>595</th>\n",
       "      <td>2017-08-02 01:34:00</td>\n",
       "    </tr>\n",
       "    <tr>\n",
       "      <th>596</th>\n",
       "      <td>2017-08-28 13:16:00</td>\n",
       "    </tr>\n",
       "    <tr>\n",
       "      <th>597</th>\n",
       "      <td>2017-08-24 06:35:00</td>\n",
       "    </tr>\n",
       "    <tr>\n",
       "      <th>598</th>\n",
       "      <td>2017-08-28 09:44:00</td>\n",
       "    </tr>\n",
       "    <tr>\n",
       "      <th>599</th>\n",
       "      <td>2017-08-15 04:29:00</td>\n",
       "    </tr>\n",
       "  </tbody>\n",
       "</table>\n",
       "</div>"
      ],
      "text/plain": [
       "          PassengerTime\n",
       "590 2017-08-06 22:58:00\n",
       "591 2017-08-04 09:46:00\n",
       "592 2017-08-15 08:14:00\n",
       "593 2017-08-06 04:08:00\n",
       "594 2017-08-19 14:26:00\n",
       "595 2017-08-02 01:34:00\n",
       "596 2017-08-28 13:16:00\n",
       "597 2017-08-24 06:35:00\n",
       "598 2017-08-28 09:44:00\n",
       "599 2017-08-15 04:29:00"
      ]
     },
     "execution_count": 5,
     "metadata": {},
     "output_type": "execute_result"
    }
   ],
   "source": [
    "def select_random_dates(frequency, NumDataPoints):\n",
    "    date_range = pd.date_range(start='2017-08-01', end='2017-08-30', freq=frequency)\n",
    "    random_dates = pd.to_datetime(\n",
    "        np.concatenate([\n",
    "                np.random.choice(date_range[1:-1], size=NumDataPoints, replace=False)\n",
    "            ])\n",
    "        )\n",
    "    return random_dates\n",
    "\n",
    "arrivals_df = pd.DataFrame()\n",
    "arrivals_df['PassengerTime'] = select_random_dates('1min', 600)\n",
    "arrivals_df.head(10)"
   ]
  },
  {
   "cell_type": "markdown",
   "metadata": {},
   "source": [
    "The next arriving bus is found for each of the random passenger arrival times defined above as well as the time delta between the two, representing wait time."
   ]
  },
  {
   "cell_type": "code",
   "execution_count": 6,
   "metadata": {},
   "outputs": [
    {
     "data": {
      "text/html": [
       "<div>\n",
       "<style scoped>\n",
       "    .dataframe tbody tr th:only-of-type {\n",
       "        vertical-align: middle;\n",
       "    }\n",
       "\n",
       "    .dataframe tbody tr th {\n",
       "        vertical-align: top;\n",
       "    }\n",
       "\n",
       "    .dataframe thead th {\n",
       "        text-align: right;\n",
       "    }\n",
       "</style>\n",
       "<table border=\"1\" class=\"dataframe\">\n",
       "  <thead>\n",
       "    <tr style=\"text-align: right;\">\n",
       "      <th></th>\n",
       "      <th>PassengerTime</th>\n",
       "      <th>NextBus</th>\n",
       "      <th>WaitTime</th>\n",
       "    </tr>\n",
       "  </thead>\n",
       "  <tbody>\n",
       "    <tr>\n",
       "      <th>0</th>\n",
       "      <td>2017-08-08 03:18:00</td>\n",
       "      <td>2017-08-08 09:45:00</td>\n",
       "      <td>06:27:00</td>\n",
       "    </tr>\n",
       "    <tr>\n",
       "      <th>1</th>\n",
       "      <td>2017-08-11 15:10:00</td>\n",
       "      <td>2017-08-11 15:30:37</td>\n",
       "      <td>00:20:37</td>\n",
       "    </tr>\n",
       "    <tr>\n",
       "      <th>2</th>\n",
       "      <td>2017-08-06 12:57:00</td>\n",
       "      <td>2017-08-06 13:42:10</td>\n",
       "      <td>00:45:10</td>\n",
       "    </tr>\n",
       "    <tr>\n",
       "      <th>3</th>\n",
       "      <td>2017-08-01 13:28:00</td>\n",
       "      <td>2017-08-01 13:42:23</td>\n",
       "      <td>00:14:23</td>\n",
       "    </tr>\n",
       "    <tr>\n",
       "      <th>4</th>\n",
       "      <td>2017-08-28 22:31:00</td>\n",
       "      <td>2017-08-29 09:32:09</td>\n",
       "      <td>11:01:09</td>\n",
       "    </tr>\n",
       "    <tr>\n",
       "      <th>5</th>\n",
       "      <td>2017-08-05 22:48:00</td>\n",
       "      <td>2017-08-06 00:10:28</td>\n",
       "      <td>01:22:28</td>\n",
       "    </tr>\n",
       "    <tr>\n",
       "      <th>6</th>\n",
       "      <td>2017-08-20 05:26:00</td>\n",
       "      <td>2017-08-20 06:35:28</td>\n",
       "      <td>01:09:28</td>\n",
       "    </tr>\n",
       "    <tr>\n",
       "      <th>7</th>\n",
       "      <td>2017-08-10 13:36:00</td>\n",
       "      <td>2017-08-10 18:19:26</td>\n",
       "      <td>04:43:26</td>\n",
       "    </tr>\n",
       "    <tr>\n",
       "      <th>8</th>\n",
       "      <td>2017-08-18 07:01:00</td>\n",
       "      <td>2017-08-18 08:32:51</td>\n",
       "      <td>01:31:51</td>\n",
       "    </tr>\n",
       "    <tr>\n",
       "      <th>9</th>\n",
       "      <td>2017-08-03 09:26:00</td>\n",
       "      <td>2017-08-03 13:06:46</td>\n",
       "      <td>03:40:46</td>\n",
       "    </tr>\n",
       "  </tbody>\n",
       "</table>\n",
       "</div>"
      ],
      "text/plain": [
       "        PassengerTime             NextBus WaitTime\n",
       "0 2017-08-08 03:18:00 2017-08-08 09:45:00 06:27:00\n",
       "1 2017-08-11 15:10:00 2017-08-11 15:30:37 00:20:37\n",
       "2 2017-08-06 12:57:00 2017-08-06 13:42:10 00:45:10\n",
       "3 2017-08-01 13:28:00 2017-08-01 13:42:23 00:14:23\n",
       "4 2017-08-28 22:31:00 2017-08-29 09:32:09 11:01:09\n",
       "5 2017-08-05 22:48:00 2017-08-06 00:10:28 01:22:28\n",
       "6 2017-08-20 05:26:00 2017-08-20 06:35:28 01:09:28\n",
       "7 2017-08-10 13:36:00 2017-08-10 18:19:26 04:43:26\n",
       "8 2017-08-18 07:01:00 2017-08-18 08:32:51 01:31:51\n",
       "9 2017-08-03 09:26:00 2017-08-03 13:06:46 03:40:46"
      ]
     },
     "execution_count": 6,
     "metadata": {},
     "output_type": "execute_result"
    }
   ],
   "source": [
    "def findNextBus(arrivals_df, mta_df):\n",
    "    for arrivalIndex, arrivalRow in arrivals_df.iterrows():\n",
    "        for mtaIndex, mtaRow in mta_df.iterrows():\n",
    "            if (mtaRow['RecordedAtTime'] > arrivalRow[0]):\n",
    "                arrivals_df.loc[arrivalIndex,'NextBus'] = mtaRow['RecordedAtTime']\n",
    "                break\n",
    "\n",
    "findNextBus(arrivals_df, mta_df)\n",
    "arrivals_df['WaitTime'] = arrivals_df['NextBus'] - arrivals_df['PassengerTime']\n",
    "arrivals_df.head(10)"
   ]
  },
  {
   "cell_type": "code",
   "execution_count": null,
   "metadata": {},
   "outputs": [],
   "source": []
  },
  {
   "cell_type": "markdown",
   "metadata": {},
   "source": [
    "# Angelika Shastapalava"
   ]
  },
  {
   "cell_type": "code",
   "execution_count": 1,
   "metadata": {},
   "outputs": [],
   "source": [
    "import pandas as pd\n",
    "import matplotlib.pyplot as plt\n",
    "import numpy as np\n",
    "import datetime\n",
    "import numpy as np\n"
   ]
  },
  {
   "cell_type": "markdown",
   "metadata": {},
   "source": [
    "reading the file"
   ]
  },
  {
   "cell_type": "code",
   "execution_count": 2,
   "metadata": {},
   "outputs": [],
   "source": [
    "df = pd.read_csv(\"/Users/angelika/Desktop/cs59970/1401011.csv\", delimiter = ',', usecols = (5,24), index_col='DATE')"
   ]
  },
  {
   "cell_type": "code",
   "execution_count": 3,
   "metadata": {},
   "outputs": [
    {
     "data": {
      "text/html": [
       "<div>\n",
       "<style scoped>\n",
       "    .dataframe tbody tr th:only-of-type {\n",
       "        vertical-align: middle;\n",
       "    }\n",
       "\n",
       "    .dataframe tbody tr th {\n",
       "        vertical-align: top;\n",
       "    }\n",
       "\n",
       "    .dataframe thead th {\n",
       "        text-align: right;\n",
       "    }\n",
       "</style>\n",
       "<table border=\"1\" class=\"dataframe\">\n",
       "  <thead>\n",
       "    <tr style=\"text-align: right;\">\n",
       "      <th></th>\n",
       "      <th>HOURLYPrecip</th>\n",
       "    </tr>\n",
       "    <tr>\n",
       "      <th>DATE</th>\n",
       "      <th></th>\n",
       "    </tr>\n",
       "  </thead>\n",
       "  <tbody>\n",
       "    <tr>\n",
       "      <th>2008-01-01 00:51</th>\n",
       "      <td>0.00</td>\n",
       "    </tr>\n",
       "    <tr>\n",
       "      <th>2008-01-01 01:51</th>\n",
       "      <td>0.00</td>\n",
       "    </tr>\n",
       "    <tr>\n",
       "      <th>2008-01-01 02:51</th>\n",
       "      <td>0.00</td>\n",
       "    </tr>\n",
       "    <tr>\n",
       "      <th>2008-01-01 03:51</th>\n",
       "      <td>0.00</td>\n",
       "    </tr>\n",
       "    <tr>\n",
       "      <th>2008-01-01 04:51</th>\n",
       "      <td>0.00</td>\n",
       "    </tr>\n",
       "  </tbody>\n",
       "</table>\n",
       "</div>"
      ],
      "text/plain": [
       "                 HOURLYPrecip\n",
       "DATE                         \n",
       "2008-01-01 00:51         0.00\n",
       "2008-01-01 01:51         0.00\n",
       "2008-01-01 02:51         0.00\n",
       "2008-01-01 03:51         0.00\n",
       "2008-01-01 04:51         0.00"
      ]
     },
     "execution_count": 3,
     "metadata": {},
     "output_type": "execute_result"
    }
   ],
   "source": [
    "df.head()"
   ]
  },
  {
   "cell_type": "code",
   "execution_count": 4,
   "metadata": {},
   "outputs": [
    {
     "data": {
      "text/plain": [
       "HOURLYPrecip    object\n",
       "dtype: object"
      ]
     },
     "execution_count": 4,
     "metadata": {},
     "output_type": "execute_result"
    }
   ],
   "source": [
    "df.dtypes\n"
   ]
  },
  {
   "cell_type": "markdown",
   "metadata": {},
   "source": [
    "selecting time period of aug 2017"
   ]
  },
  {
   "cell_type": "code",
   "execution_count": 5,
   "metadata": {},
   "outputs": [],
   "source": [
    "weather = df.loc['2017-08-01' : '2017-09-01']"
   ]
  },
  {
   "cell_type": "code",
   "execution_count": 6,
   "metadata": {},
   "outputs": [
    {
     "name": "stdout",
     "output_type": "stream",
     "text": [
      "<class 'pandas.core.frame.DataFrame'>\n",
      "Index: 1006 entries, 2017-08-01 00:51 to 2017-08-31 23:59\n",
      "Data columns (total 1 columns):\n",
      "HOURLYPrecip    823 non-null object\n",
      "dtypes: object(1)\n",
      "memory usage: 15.7+ KB\n"
     ]
    }
   ],
   "source": [
    "weather.info()"
   ]
  },
  {
   "cell_type": "markdown",
   "metadata": {},
   "source": [
    "our data contains some na values. in addition some precip values contain \n",
    "letter 'T' or 's'.\n",
    "droping na and precip values that contain T or s letter in them"
   ]
  },
  {
   "cell_type": "code",
   "execution_count": 7,
   "metadata": {},
   "outputs": [],
   "source": [
    "weather = weather.dropna()\n",
    "weather = weather[~weather.HOURLYPrecip.str.contains(\"T\")]\n",
    "weather = weather[~weather.HOURLYPrecip.str.contains(\"s\")]"
   ]
  },
  {
   "cell_type": "code",
   "execution_count": 8,
   "metadata": {},
   "outputs": [
    {
     "name": "stdout",
     "output_type": "stream",
     "text": [
      "<class 'pandas.core.frame.DataFrame'>\n",
      "Index: 798 entries, 2017-08-01 00:51 to 2017-08-31 23:51\n",
      "Data columns (total 1 columns):\n",
      "HOURLYPrecip    798 non-null object\n",
      "dtypes: object(1)\n",
      "memory usage: 12.5+ KB\n"
     ]
    }
   ],
   "source": [
    "weather.info()"
   ]
  },
  {
   "cell_type": "code",
   "execution_count": 9,
   "metadata": {},
   "outputs": [
    {
     "data": {
      "text/html": [
       "<div>\n",
       "<style scoped>\n",
       "    .dataframe tbody tr th:only-of-type {\n",
       "        vertical-align: middle;\n",
       "    }\n",
       "\n",
       "    .dataframe tbody tr th {\n",
       "        vertical-align: top;\n",
       "    }\n",
       "\n",
       "    .dataframe thead th {\n",
       "        text-align: right;\n",
       "    }\n",
       "</style>\n",
       "<table border=\"1\" class=\"dataframe\">\n",
       "  <thead>\n",
       "    <tr style=\"text-align: right;\">\n",
       "      <th></th>\n",
       "      <th>DATE</th>\n",
       "      <th>HOURLYPrecip</th>\n",
       "    </tr>\n",
       "  </thead>\n",
       "  <tbody>\n",
       "    <tr>\n",
       "      <th>0</th>\n",
       "      <td>2017-08-01 00:51</td>\n",
       "      <td>0.0</td>\n",
       "    </tr>\n",
       "    <tr>\n",
       "      <th>1</th>\n",
       "      <td>2017-08-01 01:51</td>\n",
       "      <td>0.0</td>\n",
       "    </tr>\n",
       "    <tr>\n",
       "      <th>2</th>\n",
       "      <td>2017-08-01 02:51</td>\n",
       "      <td>0.0</td>\n",
       "    </tr>\n",
       "    <tr>\n",
       "      <th>3</th>\n",
       "      <td>2017-08-01 03:51</td>\n",
       "      <td>0.0</td>\n",
       "    </tr>\n",
       "    <tr>\n",
       "      <th>4</th>\n",
       "      <td>2017-08-01 04:51</td>\n",
       "      <td>0.0</td>\n",
       "    </tr>\n",
       "    <tr>\n",
       "      <th>5</th>\n",
       "      <td>2017-08-01 05:51</td>\n",
       "      <td>0.0</td>\n",
       "    </tr>\n",
       "    <tr>\n",
       "      <th>6</th>\n",
       "      <td>2017-08-01 06:51</td>\n",
       "      <td>0.0</td>\n",
       "    </tr>\n",
       "    <tr>\n",
       "      <th>7</th>\n",
       "      <td>2017-08-01 07:51</td>\n",
       "      <td>0.0</td>\n",
       "    </tr>\n",
       "    <tr>\n",
       "      <th>8</th>\n",
       "      <td>2017-08-01 08:51</td>\n",
       "      <td>0.0</td>\n",
       "    </tr>\n",
       "    <tr>\n",
       "      <th>9</th>\n",
       "      <td>2017-08-01 09:51</td>\n",
       "      <td>0.0</td>\n",
       "    </tr>\n",
       "    <tr>\n",
       "      <th>10</th>\n",
       "      <td>2017-08-01 10:51</td>\n",
       "      <td>0.0</td>\n",
       "    </tr>\n",
       "    <tr>\n",
       "      <th>11</th>\n",
       "      <td>2017-08-01 11:51</td>\n",
       "      <td>0.0</td>\n",
       "    </tr>\n",
       "    <tr>\n",
       "      <th>12</th>\n",
       "      <td>2017-08-01 12:51</td>\n",
       "      <td>0.0</td>\n",
       "    </tr>\n",
       "    <tr>\n",
       "      <th>13</th>\n",
       "      <td>2017-08-01 13:51</td>\n",
       "      <td>0.0</td>\n",
       "    </tr>\n",
       "    <tr>\n",
       "      <th>14</th>\n",
       "      <td>2017-08-01 14:51</td>\n",
       "      <td>0.0</td>\n",
       "    </tr>\n",
       "    <tr>\n",
       "      <th>15</th>\n",
       "      <td>2017-08-01 15:51</td>\n",
       "      <td>0.0</td>\n",
       "    </tr>\n",
       "    <tr>\n",
       "      <th>16</th>\n",
       "      <td>2017-08-01 16:51</td>\n",
       "      <td>0.0</td>\n",
       "    </tr>\n",
       "    <tr>\n",
       "      <th>17</th>\n",
       "      <td>2017-08-01 17:51</td>\n",
       "      <td>0.0</td>\n",
       "    </tr>\n",
       "    <tr>\n",
       "      <th>18</th>\n",
       "      <td>2017-08-01 18:51</td>\n",
       "      <td>0.0</td>\n",
       "    </tr>\n",
       "    <tr>\n",
       "      <th>19</th>\n",
       "      <td>2017-08-01 19:51</td>\n",
       "      <td>0.0</td>\n",
       "    </tr>\n",
       "    <tr>\n",
       "      <th>20</th>\n",
       "      <td>2017-08-01 20:51</td>\n",
       "      <td>0.0</td>\n",
       "    </tr>\n",
       "    <tr>\n",
       "      <th>21</th>\n",
       "      <td>2017-08-01 21:51</td>\n",
       "      <td>0.0</td>\n",
       "    </tr>\n",
       "    <tr>\n",
       "      <th>22</th>\n",
       "      <td>2017-08-01 22:51</td>\n",
       "      <td>0.0</td>\n",
       "    </tr>\n",
       "    <tr>\n",
       "      <th>23</th>\n",
       "      <td>2017-08-01 23:51</td>\n",
       "      <td>0.0</td>\n",
       "    </tr>\n",
       "    <tr>\n",
       "      <th>24</th>\n",
       "      <td>2017-08-02 00:51</td>\n",
       "      <td>0.0</td>\n",
       "    </tr>\n",
       "    <tr>\n",
       "      <th>25</th>\n",
       "      <td>2017-08-02 01:51</td>\n",
       "      <td>0.0</td>\n",
       "    </tr>\n",
       "    <tr>\n",
       "      <th>26</th>\n",
       "      <td>2017-08-02 02:51</td>\n",
       "      <td>0.0</td>\n",
       "    </tr>\n",
       "    <tr>\n",
       "      <th>27</th>\n",
       "      <td>2017-08-02 03:51</td>\n",
       "      <td>0.0</td>\n",
       "    </tr>\n",
       "    <tr>\n",
       "      <th>28</th>\n",
       "      <td>2017-08-02 04:51</td>\n",
       "      <td>0.0</td>\n",
       "    </tr>\n",
       "    <tr>\n",
       "      <th>29</th>\n",
       "      <td>2017-08-02 05:51</td>\n",
       "      <td>0.0</td>\n",
       "    </tr>\n",
       "    <tr>\n",
       "      <th>...</th>\n",
       "      <td>...</td>\n",
       "      <td>...</td>\n",
       "    </tr>\n",
       "    <tr>\n",
       "      <th>768</th>\n",
       "      <td>2017-08-30 18:51</td>\n",
       "      <td>0.0</td>\n",
       "    </tr>\n",
       "    <tr>\n",
       "      <th>769</th>\n",
       "      <td>2017-08-30 19:51</td>\n",
       "      <td>0.0</td>\n",
       "    </tr>\n",
       "    <tr>\n",
       "      <th>770</th>\n",
       "      <td>2017-08-30 20:51</td>\n",
       "      <td>0.0</td>\n",
       "    </tr>\n",
       "    <tr>\n",
       "      <th>771</th>\n",
       "      <td>2017-08-30 21:51</td>\n",
       "      <td>0.0</td>\n",
       "    </tr>\n",
       "    <tr>\n",
       "      <th>772</th>\n",
       "      <td>2017-08-30 22:51</td>\n",
       "      <td>0.0</td>\n",
       "    </tr>\n",
       "    <tr>\n",
       "      <th>773</th>\n",
       "      <td>2017-08-30 23:51</td>\n",
       "      <td>0.0</td>\n",
       "    </tr>\n",
       "    <tr>\n",
       "      <th>774</th>\n",
       "      <td>2017-08-31 00:51</td>\n",
       "      <td>0.0</td>\n",
       "    </tr>\n",
       "    <tr>\n",
       "      <th>775</th>\n",
       "      <td>2017-08-31 01:51</td>\n",
       "      <td>0.0</td>\n",
       "    </tr>\n",
       "    <tr>\n",
       "      <th>776</th>\n",
       "      <td>2017-08-31 02:51</td>\n",
       "      <td>0.0</td>\n",
       "    </tr>\n",
       "    <tr>\n",
       "      <th>777</th>\n",
       "      <td>2017-08-31 03:51</td>\n",
       "      <td>0.0</td>\n",
       "    </tr>\n",
       "    <tr>\n",
       "      <th>778</th>\n",
       "      <td>2017-08-31 04:51</td>\n",
       "      <td>0.0</td>\n",
       "    </tr>\n",
       "    <tr>\n",
       "      <th>779</th>\n",
       "      <td>2017-08-31 05:51</td>\n",
       "      <td>0.0</td>\n",
       "    </tr>\n",
       "    <tr>\n",
       "      <th>780</th>\n",
       "      <td>2017-08-31 06:51</td>\n",
       "      <td>0.0</td>\n",
       "    </tr>\n",
       "    <tr>\n",
       "      <th>781</th>\n",
       "      <td>2017-08-31 07:51</td>\n",
       "      <td>0.0</td>\n",
       "    </tr>\n",
       "    <tr>\n",
       "      <th>782</th>\n",
       "      <td>2017-08-31 08:51</td>\n",
       "      <td>0.0</td>\n",
       "    </tr>\n",
       "    <tr>\n",
       "      <th>783</th>\n",
       "      <td>2017-08-31 09:51</td>\n",
       "      <td>0.0</td>\n",
       "    </tr>\n",
       "    <tr>\n",
       "      <th>784</th>\n",
       "      <td>2017-08-31 10:51</td>\n",
       "      <td>0.0</td>\n",
       "    </tr>\n",
       "    <tr>\n",
       "      <th>785</th>\n",
       "      <td>2017-08-31 11:51</td>\n",
       "      <td>0.0</td>\n",
       "    </tr>\n",
       "    <tr>\n",
       "      <th>786</th>\n",
       "      <td>2017-08-31 12:51</td>\n",
       "      <td>0.0</td>\n",
       "    </tr>\n",
       "    <tr>\n",
       "      <th>787</th>\n",
       "      <td>2017-08-31 13:51</td>\n",
       "      <td>0.0</td>\n",
       "    </tr>\n",
       "    <tr>\n",
       "      <th>788</th>\n",
       "      <td>2017-08-31 14:51</td>\n",
       "      <td>0.0</td>\n",
       "    </tr>\n",
       "    <tr>\n",
       "      <th>789</th>\n",
       "      <td>2017-08-31 15:51</td>\n",
       "      <td>0.0</td>\n",
       "    </tr>\n",
       "    <tr>\n",
       "      <th>790</th>\n",
       "      <td>2017-08-31 16:51</td>\n",
       "      <td>0.0</td>\n",
       "    </tr>\n",
       "    <tr>\n",
       "      <th>791</th>\n",
       "      <td>2017-08-31 17:51</td>\n",
       "      <td>0.0</td>\n",
       "    </tr>\n",
       "    <tr>\n",
       "      <th>792</th>\n",
       "      <td>2017-08-31 18:51</td>\n",
       "      <td>0.0</td>\n",
       "    </tr>\n",
       "    <tr>\n",
       "      <th>793</th>\n",
       "      <td>2017-08-31 19:51</td>\n",
       "      <td>0.0</td>\n",
       "    </tr>\n",
       "    <tr>\n",
       "      <th>794</th>\n",
       "      <td>2017-08-31 20:51</td>\n",
       "      <td>0.0</td>\n",
       "    </tr>\n",
       "    <tr>\n",
       "      <th>795</th>\n",
       "      <td>2017-08-31 21:51</td>\n",
       "      <td>0.0</td>\n",
       "    </tr>\n",
       "    <tr>\n",
       "      <th>796</th>\n",
       "      <td>2017-08-31 22:51</td>\n",
       "      <td>0.0</td>\n",
       "    </tr>\n",
       "    <tr>\n",
       "      <th>797</th>\n",
       "      <td>2017-08-31 23:51</td>\n",
       "      <td>0.0</td>\n",
       "    </tr>\n",
       "  </tbody>\n",
       "</table>\n",
       "<p>798 rows × 2 columns</p>\n",
       "</div>"
      ],
      "text/plain": [
       "                 DATE  HOURLYPrecip\n",
       "0    2017-08-01 00:51           0.0\n",
       "1    2017-08-01 01:51           0.0\n",
       "2    2017-08-01 02:51           0.0\n",
       "3    2017-08-01 03:51           0.0\n",
       "4    2017-08-01 04:51           0.0\n",
       "5    2017-08-01 05:51           0.0\n",
       "6    2017-08-01 06:51           0.0\n",
       "7    2017-08-01 07:51           0.0\n",
       "8    2017-08-01 08:51           0.0\n",
       "9    2017-08-01 09:51           0.0\n",
       "10   2017-08-01 10:51           0.0\n",
       "11   2017-08-01 11:51           0.0\n",
       "12   2017-08-01 12:51           0.0\n",
       "13   2017-08-01 13:51           0.0\n",
       "14   2017-08-01 14:51           0.0\n",
       "15   2017-08-01 15:51           0.0\n",
       "16   2017-08-01 16:51           0.0\n",
       "17   2017-08-01 17:51           0.0\n",
       "18   2017-08-01 18:51           0.0\n",
       "19   2017-08-01 19:51           0.0\n",
       "20   2017-08-01 20:51           0.0\n",
       "21   2017-08-01 21:51           0.0\n",
       "22   2017-08-01 22:51           0.0\n",
       "23   2017-08-01 23:51           0.0\n",
       "24   2017-08-02 00:51           0.0\n",
       "25   2017-08-02 01:51           0.0\n",
       "26   2017-08-02 02:51           0.0\n",
       "27   2017-08-02 03:51           0.0\n",
       "28   2017-08-02 04:51           0.0\n",
       "29   2017-08-02 05:51           0.0\n",
       "..                ...           ...\n",
       "768  2017-08-30 18:51           0.0\n",
       "769  2017-08-30 19:51           0.0\n",
       "770  2017-08-30 20:51           0.0\n",
       "771  2017-08-30 21:51           0.0\n",
       "772  2017-08-30 22:51           0.0\n",
       "773  2017-08-30 23:51           0.0\n",
       "774  2017-08-31 00:51           0.0\n",
       "775  2017-08-31 01:51           0.0\n",
       "776  2017-08-31 02:51           0.0\n",
       "777  2017-08-31 03:51           0.0\n",
       "778  2017-08-31 04:51           0.0\n",
       "779  2017-08-31 05:51           0.0\n",
       "780  2017-08-31 06:51           0.0\n",
       "781  2017-08-31 07:51           0.0\n",
       "782  2017-08-31 08:51           0.0\n",
       "783  2017-08-31 09:51           0.0\n",
       "784  2017-08-31 10:51           0.0\n",
       "785  2017-08-31 11:51           0.0\n",
       "786  2017-08-31 12:51           0.0\n",
       "787  2017-08-31 13:51           0.0\n",
       "788  2017-08-31 14:51           0.0\n",
       "789  2017-08-31 15:51           0.0\n",
       "790  2017-08-31 16:51           0.0\n",
       "791  2017-08-31 17:51           0.0\n",
       "792  2017-08-31 18:51           0.0\n",
       "793  2017-08-31 19:51           0.0\n",
       "794  2017-08-31 20:51           0.0\n",
       "795  2017-08-31 21:51           0.0\n",
       "796  2017-08-31 22:51           0.0\n",
       "797  2017-08-31 23:51           0.0\n",
       "\n",
       "[798 rows x 2 columns]"
      ]
     },
     "execution_count": 9,
     "metadata": {},
     "output_type": "execute_result"
    }
   ],
   "source": [
    "weather.HOURLYPrecip=pd.to_numeric(weather.HOURLYPrecip)\n",
    "weather.reset_index()"
   ]
  },
  {
   "cell_type": "code",
   "execution_count": 10,
   "metadata": {},
   "outputs": [
    {
     "data": {
      "text/plain": [
       "Text(0,0.5,'Hourly Precipitation in Inches')"
      ]
     },
     "execution_count": 10,
     "metadata": {},
     "output_type": "execute_result"
    },
    {
     "data": {
      "image/png": "[encoded data removed]",
      "text/plain": [
       "<Figure size 432x288 with 1 Axes>"
      ]
     },
     "metadata": {},
     "output_type": "display_data"
    }
   ],
   "source": [
    "%matplotlib inline\n",
    "import seaborn; seaborn.set()\n",
    "weather.plot(y='HOURLYPrecip', use_index=True)\n",
    "plt.xlabel('August 2017')\n",
    "plt.ylabel('Hourly Precipitation in Inches')"
   ]
  },
  {
   "cell_type": "markdown",
   "metadata": {},
   "source": [
    "creating another df for visibility"
   ]
  },
  {
   "cell_type": "code",
   "execution_count": 11,
   "metadata": {},
   "outputs": [],
   "source": [
    "vis = pd.read_csv(\"/Users/angelika/Desktop/cs59970/1401011.csv\", delimiter = ',', usecols = (5,8),index_col='DATE')"
   ]
  },
  {
   "cell_type": "code",
   "execution_count": 12,
   "metadata": {},
   "outputs": [
    {
     "data": {
      "text/html": [
       "<div>\n",
       "<style scoped>\n",
       "    .dataframe tbody tr th:only-of-type {\n",
       "        vertical-align: middle;\n",
       "    }\n",
       "\n",
       "    .dataframe tbody tr th {\n",
       "        vertical-align: top;\n",
       "    }\n",
       "\n",
       "    .dataframe thead th {\n",
       "        text-align: right;\n",
       "    }\n",
       "</style>\n",
       "<table border=\"1\" class=\"dataframe\">\n",
       "  <thead>\n",
       "    <tr style=\"text-align: right;\">\n",
       "      <th></th>\n",
       "      <th>HOURLYVISIBILITY</th>\n",
       "    </tr>\n",
       "    <tr>\n",
       "      <th>DATE</th>\n",
       "      <th></th>\n",
       "    </tr>\n",
       "  </thead>\n",
       "  <tbody>\n",
       "    <tr>\n",
       "      <th>2008-01-01 00:51</th>\n",
       "      <td>10.00</td>\n",
       "    </tr>\n",
       "    <tr>\n",
       "      <th>2008-01-01 01:51</th>\n",
       "      <td>9.00</td>\n",
       "    </tr>\n",
       "    <tr>\n",
       "      <th>2008-01-01 02:51</th>\n",
       "      <td>10.00</td>\n",
       "    </tr>\n",
       "    <tr>\n",
       "      <th>2008-01-01 03:51</th>\n",
       "      <td>10.00</td>\n",
       "    </tr>\n",
       "    <tr>\n",
       "      <th>2008-01-01 04:51</th>\n",
       "      <td>9.00</td>\n",
       "    </tr>\n",
       "  </tbody>\n",
       "</table>\n",
       "</div>"
      ],
      "text/plain": [
       "                 HOURLYVISIBILITY\n",
       "DATE                             \n",
       "2008-01-01 00:51            10.00\n",
       "2008-01-01 01:51             9.00\n",
       "2008-01-01 02:51            10.00\n",
       "2008-01-01 03:51            10.00\n",
       "2008-01-01 04:51             9.00"
      ]
     },
     "execution_count": 12,
     "metadata": {},
     "output_type": "execute_result"
    }
   ],
   "source": [
    "vis.head()"
   ]
  },
  {
   "cell_type": "code",
   "execution_count": 13,
   "metadata": {},
   "outputs": [
    {
     "data": {
      "text/plain": [
       "HOURLYVISIBILITY    object\n",
       "dtype: object"
      ]
     },
     "execution_count": 13,
     "metadata": {},
     "output_type": "execute_result"
    }
   ],
   "source": [
    "vis.dtypes"
   ]
  },
  {
   "cell_type": "markdown",
   "metadata": {},
   "source": [
    "selecting time period of aug 2017"
   ]
  },
  {
   "cell_type": "code",
   "execution_count": 14,
   "metadata": {},
   "outputs": [],
   "source": [
    "visib = vis.loc['2017-08-01' : '2017-09-01']"
   ]
  },
  {
   "cell_type": "code",
   "execution_count": 15,
   "metadata": {},
   "outputs": [
    {
     "name": "stdout",
     "output_type": "stream",
     "text": [
      "<class 'pandas.core.frame.DataFrame'>\n",
      "Index: 1006 entries, 2017-08-01 00:51 to 2017-08-31 23:59\n",
      "Data columns (total 1 columns):\n",
      "HOURLYVISIBILITY    975 non-null object\n",
      "dtypes: object(1)\n",
      "memory usage: 15.7+ KB\n"
     ]
    }
   ],
   "source": [
    "visib.info()"
   ]
  },
  {
   "cell_type": "markdown",
   "metadata": {},
   "source": [
    "droping na values and data that contain string 'V' in it"
   ]
  },
  {
   "cell_type": "code",
   "execution_count": 16,
   "metadata": {},
   "outputs": [],
   "source": [
    "visib = visib.dropna()\n",
    "visib = visib[~visib.HOURLYVISIBILITY.str.contains(\"V\")]"
   ]
  },
  {
   "cell_type": "code",
   "execution_count": 17,
   "metadata": {},
   "outputs": [
    {
     "name": "stdout",
     "output_type": "stream",
     "text": [
      "<class 'pandas.core.frame.DataFrame'>\n",
      "Index: 967 entries, 2017-08-01 00:51 to 2017-08-31 23:51\n",
      "Data columns (total 1 columns):\n",
      "HOURLYVISIBILITY    967 non-null object\n",
      "dtypes: object(1)\n",
      "memory usage: 15.1+ KB\n"
     ]
    }
   ],
   "source": [
    "visib.info()"
   ]
  },
  {
   "cell_type": "markdown",
   "metadata": {},
   "source": [
    "converting visibility column to numeric in order to create a plot"
   ]
  },
  {
   "cell_type": "code",
   "execution_count": 18,
   "metadata": {},
   "outputs": [],
   "source": [
    "visib.HOURLYVISIBILITY=pd.to_numeric(visib.HOURLYVISIBILITY)"
   ]
  },
  {
   "cell_type": "code",
   "execution_count": 19,
   "metadata": {},
   "outputs": [
    {
     "data": {
      "text/plain": [
       "Text(0,0.5,'Hourly Visibility in miles')"
      ]
     },
     "execution_count": 19,
     "metadata": {},
     "output_type": "execute_result"
    },
    {
     "data": {
      "image/png": "[encoded data removed]",
      "text/plain": [
       "<Figure size 432x288 with 1 Axes>"
      ]
     },
     "metadata": {},
     "output_type": "display_data"
    }
   ],
   "source": [
    "visib.plot(y='HOURLYVISIBILITY', use_index=True)\n",
    "plt.xlabel('August 2017')\n",
    "plt.ylabel('Hourly Visibility in miles')"
   ]
  },
  {
   "cell_type": "markdown",
   "metadata": {},
   "source": [
    "Let's see what dates hourly visibility was below 1 mile"
   ]
  },
  {
   "cell_type": "code",
   "execution_count": 20,
   "metadata": {},
   "outputs": [
    {
     "data": {
      "text/html": [
       "<div>\n",
       "<style scoped>\n",
       "    .dataframe tbody tr th:only-of-type {\n",
       "        vertical-align: middle;\n",
       "    }\n",
       "\n",
       "    .dataframe tbody tr th {\n",
       "        vertical-align: top;\n",
       "    }\n",
       "\n",
       "    .dataframe thead th {\n",
       "        text-align: right;\n",
       "    }\n",
       "</style>\n",
       "<table border=\"1\" class=\"dataframe\">\n",
       "  <thead>\n",
       "    <tr style=\"text-align: right;\">\n",
       "      <th></th>\n",
       "      <th>HOURLYVISIBILITY</th>\n",
       "    </tr>\n",
       "    <tr>\n",
       "      <th>DATE</th>\n",
       "      <th></th>\n",
       "    </tr>\n",
       "  </thead>\n",
       "  <tbody>\n",
       "    <tr>\n",
       "      <th>2017-08-04 06:40</th>\n",
       "      <td>0.75</td>\n",
       "    </tr>\n",
       "    <tr>\n",
       "      <th>2017-08-07 08:11</th>\n",
       "      <td>0.75</td>\n",
       "    </tr>\n",
       "    <tr>\n",
       "      <th>2017-08-07 13:47</th>\n",
       "      <td>0.75</td>\n",
       "    </tr>\n",
       "    <tr>\n",
       "      <th>2017-08-07 13:51</th>\n",
       "      <td>0.75</td>\n",
       "    </tr>\n",
       "    <tr>\n",
       "      <th>2017-08-18 07:40</th>\n",
       "      <td>0.25</td>\n",
       "    </tr>\n",
       "    <tr>\n",
       "      <th>2017-08-18 07:49</th>\n",
       "      <td>0.25</td>\n",
       "    </tr>\n",
       "    <tr>\n",
       "      <th>2017-08-18 07:51</th>\n",
       "      <td>0.25</td>\n",
       "    </tr>\n",
       "  </tbody>\n",
       "</table>\n",
       "</div>"
      ],
      "text/plain": [
       "                  HOURLYVISIBILITY\n",
       "DATE                              \n",
       "2017-08-04 06:40              0.75\n",
       "2017-08-07 08:11              0.75\n",
       "2017-08-07 13:47              0.75\n",
       "2017-08-07 13:51              0.75\n",
       "2017-08-18 07:40              0.25\n",
       "2017-08-18 07:49              0.25\n",
       "2017-08-18 07:51              0.25"
      ]
     },
     "execution_count": 20,
     "metadata": {},
     "output_type": "execute_result"
    }
   ],
   "source": [
    "visib.loc[visib.HOURLYVISIBILITY < 1]"
   ]
  },
  {
   "cell_type": "markdown",
   "metadata": {},
   "source": [
    "Let's see what dates horly precipitation was above 0.5 inches"
   ]
  },
  {
   "cell_type": "code",
   "execution_count": 21,
   "metadata": {},
   "outputs": [
    {
     "data": {
      "text/html": [
       "<div>\n",
       "<style scoped>\n",
       "    .dataframe tbody tr th:only-of-type {\n",
       "        vertical-align: middle;\n",
       "    }\n",
       "\n",
       "    .dataframe tbody tr th {\n",
       "        vertical-align: top;\n",
       "    }\n",
       "\n",
       "    .dataframe thead th {\n",
       "        text-align: right;\n",
       "    }\n",
       "</style>\n",
       "<table border=\"1\" class=\"dataframe\">\n",
       "  <thead>\n",
       "    <tr style=\"text-align: right;\">\n",
       "      <th></th>\n",
       "      <th>HOURLYPrecip</th>\n",
       "    </tr>\n",
       "    <tr>\n",
       "      <th>DATE</th>\n",
       "      <th></th>\n",
       "    </tr>\n",
       "  </thead>\n",
       "  <tbody>\n",
       "    <tr>\n",
       "      <th>2017-08-18 07:51</th>\n",
       "      <td>0.69</td>\n",
       "    </tr>\n",
       "  </tbody>\n",
       "</table>\n",
       "</div>"
      ],
      "text/plain": [
       "                  HOURLYPrecip\n",
       "DATE                          \n",
       "2017-08-18 07:51          0.69"
      ]
     },
     "execution_count": 21,
     "metadata": {},
     "output_type": "execute_result"
    }
   ],
   "source": [
    "weather.loc[weather.HOURLYPrecip >= 0.5]"
   ]
  },
  {
   "cell_type": "markdown",
   "metadata": {},
   "source": [
    "It seems like on august 18th precipitation was relatively high and visibility was low\n",
    "This is important because it can influence waiting time and crowdiness in busses.\n",
    "For better understanding lets visualize it with seaborn plots"
   ]
  },
  {
   "cell_type": "code",
   "execution_count": 22,
   "metadata": {},
   "outputs": [
    {
     "data": {
      "text/plain": [
       "Text(0,0.5,'Hourly Visibility in miles')"
      ]
     },
     "execution_count": 22,
     "metadata": {},
     "output_type": "execute_result"
    },
    {
     "data": {
      "image/png": "[encoded data removed]",
      "text/plain": [
       "<Figure size 432x288 with 1 Axes>"
      ]
     },
     "metadata": {},
     "output_type": "display_data"
    },
    {
     "data": {
      "image/png": "[encoded data removed]",
      "text/plain": [
       "<Figure size 432x288 with 1 Axes>"
      ]
     },
     "metadata": {},
     "output_type": "display_data"
    }
   ],
   "source": [
    "weather.plot(y='HOURLYPrecip', use_index=True)\n",
    "plt.xlabel('August 2017')\n",
    "plt.ylabel('Hourly Precipitation in Inches')\n",
    "\n",
    "visib.plot(y='HOURLYVISIBILITY', use_index=True)\n",
    "plt.xlabel('August 2017')\n",
    "plt.ylabel('Hourly Visibility in miles')"
   ]
  },
  {
   "cell_type": "markdown",
   "metadata": {},
   "source": [
    "Indeed, we have low hourly visibility and high precipitation \n",
    "around the same time (aug 18th).\n",
    "We can expect this date to have longer waiting time and \n",
    "higher crowdiness in busses in our future model"
   ]
  },
  {
   "cell_type": "markdown",
   "metadata": {},
   "source": [
    "Let's see if there any other dates that can influence our \n",
    "dependable variables"
   ]
  },
  {
   "cell_type": "code",
   "execution_count": 23,
   "metadata": {},
   "outputs": [
    {
     "name": "stdout",
     "output_type": "stream",
     "text": [
      "                  HOURLYVISIBILITY\n",
      "DATE                              \n",
      "2017-08-02 16:46              1.00\n",
      "2017-08-04 06:07              1.75\n",
      "2017-08-04 06:30              1.75\n",
      "2017-08-04 06:40              0.75\n",
      "2017-08-07 08:11              0.75\n",
      "2017-08-07 08:26              1.25\n",
      "2017-08-07 09:59              1.75\n",
      "2017-08-07 10:51              1.75\n",
      "2017-08-07 12:53              1.75\n",
      "2017-08-07 13:38              1.75\n",
      "2017-08-07 13:47              0.75\n",
      "2017-08-07 13:51              0.75\n",
      "2017-08-07 14:14              1.50\n",
      "2017-08-07 14:19              1.50\n",
      "2017-08-15 02:08              1.50\n",
      "2017-08-15 13:00              1.75\n",
      "2017-08-15 13:21              1.00\n",
      "2017-08-15 13:51              1.50\n",
      "2017-08-15 14:15              1.50\n",
      "2017-08-15 15:10              1.75\n",
      "2017-08-16 02:18              1.75\n",
      "2017-08-18 07:23              1.75\n",
      "2017-08-18 07:40              0.25\n",
      "2017-08-18 07:49              0.25\n",
      "2017-08-18 07:51              0.25\n",
      "2017-08-18 08:05              1.00\n",
      "2017-08-18 09:19              1.75\n",
      "2017-08-18 10:21              1.50\n",
      "2017-08-22 23:28              1.75\n",
      "                  HOURLYPrecip\n",
      "DATE                          \n",
      "2017-08-15 02:30          0.20\n",
      "2017-08-15 02:37          0.21\n",
      "2017-08-18 07:51          0.69\n",
      "2017-08-18 08:05          0.35\n",
      "2017-08-18 08:17          0.35\n",
      "2017-08-18 08:34          0.35\n",
      "2017-08-18 08:38          0.35\n",
      "2017-08-22 23:51          0.20\n"
     ]
    }
   ],
   "source": [
    "print(visib.loc[visib.HOURLYVISIBILITY < 2])\n",
    "print(weather.loc[weather.HOURLYPrecip >= 0.2])"
   ]
  },
  {
   "cell_type": "markdown",
   "metadata": {},
   "source": [
    "It seems like on aug 15th and 22nd there is \n",
    "a hight chance of finding disruption of bus services as well"
   ]
  },
  {
   "cell_type": "markdown",
   "metadata": {},
   "source": [
    "Now, let's find out if there were any dates with hight wind speed"
   ]
  },
  {
   "cell_type": "code",
   "execution_count": 24,
   "metadata": {},
   "outputs": [],
   "source": [
    "w = pd.read_csv(\"/Users/angelika/Desktop/cs59970/1401011.csv\", delimiter = ',', usecols = (5,17), index_col='DATE')"
   ]
  },
  {
   "cell_type": "code",
   "execution_count": 25,
   "metadata": {},
   "outputs": [
    {
     "data": {
      "text/html": [
       "<div>\n",
       "<style scoped>\n",
       "    .dataframe tbody tr th:only-of-type {\n",
       "        vertical-align: middle;\n",
       "    }\n",
       "\n",
       "    .dataframe tbody tr th {\n",
       "        vertical-align: top;\n",
       "    }\n",
       "\n",
       "    .dataframe thead th {\n",
       "        text-align: right;\n",
       "    }\n",
       "</style>\n",
       "<table border=\"1\" class=\"dataframe\">\n",
       "  <thead>\n",
       "    <tr style=\"text-align: right;\">\n",
       "      <th></th>\n",
       "      <th>HOURLYWindSpeed</th>\n",
       "    </tr>\n",
       "    <tr>\n",
       "      <th>DATE</th>\n",
       "      <th></th>\n",
       "    </tr>\n",
       "  </thead>\n",
       "  <tbody>\n",
       "    <tr>\n",
       "      <th>2008-01-01 00:51</th>\n",
       "      <td>0.0</td>\n",
       "    </tr>\n",
       "    <tr>\n",
       "      <th>2008-01-01 01:51</th>\n",
       "      <td>6.0</td>\n",
       "    </tr>\n",
       "    <tr>\n",
       "      <th>2008-01-01 02:51</th>\n",
       "      <td>6.0</td>\n",
       "    </tr>\n",
       "    <tr>\n",
       "      <th>2008-01-01 03:51</th>\n",
       "      <td>5.0</td>\n",
       "    </tr>\n",
       "    <tr>\n",
       "      <th>2008-01-01 04:51</th>\n",
       "      <td>5.0</td>\n",
       "    </tr>\n",
       "  </tbody>\n",
       "</table>\n",
       "</div>"
      ],
      "text/plain": [
       "                  HOURLYWindSpeed\n",
       "DATE                             \n",
       "2008-01-01 00:51              0.0\n",
       "2008-01-01 01:51              6.0\n",
       "2008-01-01 02:51              6.0\n",
       "2008-01-01 03:51              5.0\n",
       "2008-01-01 04:51              5.0"
      ]
     },
     "execution_count": 25,
     "metadata": {},
     "output_type": "execute_result"
    }
   ],
   "source": [
    "w.head()"
   ]
  },
  {
   "cell_type": "code",
   "execution_count": 26,
   "metadata": {},
   "outputs": [
    {
     "data": {
      "text/plain": [
       "HOURLYWindSpeed    float64\n",
       "dtype: object"
      ]
     },
     "execution_count": 26,
     "metadata": {},
     "output_type": "execute_result"
    }
   ],
   "source": [
    "w.dtypes"
   ]
  },
  {
   "cell_type": "code",
   "execution_count": 27,
   "metadata": {},
   "outputs": [
    {
     "name": "stdout",
     "output_type": "stream",
     "text": [
      "(119500, 1)\n",
      "119500\n"
     ]
    }
   ],
   "source": [
    "print(w.shape)\n",
    "print(len(w))"
   ]
  },
  {
   "cell_type": "markdown",
   "metadata": {},
   "source": [
    "Selecting time period of aug 2017"
   ]
  },
  {
   "cell_type": "code",
   "execution_count": 28,
   "metadata": {},
   "outputs": [],
   "source": [
    "wind = w.loc['2017-08-01' : '2017-09-01']"
   ]
  },
  {
   "cell_type": "code",
   "execution_count": 29,
   "metadata": {},
   "outputs": [
    {
     "name": "stdout",
     "output_type": "stream",
     "text": [
      "<class 'pandas.core.frame.DataFrame'>\n",
      "Index: 1006 entries, 2017-08-01 00:51 to 2017-08-31 23:59\n",
      "Data columns (total 1 columns):\n",
      "HOURLYWindSpeed    926 non-null float64\n",
      "dtypes: float64(1)\n",
      "memory usage: 15.7+ KB\n"
     ]
    }
   ],
   "source": [
    "wind.info()"
   ]
  },
  {
   "cell_type": "code",
   "execution_count": 30,
   "metadata": {},
   "outputs": [],
   "source": [
    "wind = wind.dropna()"
   ]
  },
  {
   "cell_type": "code",
   "execution_count": 31,
   "metadata": {},
   "outputs": [
    {
     "name": "stdout",
     "output_type": "stream",
     "text": [
      "<class 'pandas.core.frame.DataFrame'>\n",
      "Index: 926 entries, 2017-08-01 00:51 to 2017-08-31 23:51\n",
      "Data columns (total 1 columns):\n",
      "HOURLYWindSpeed    926 non-null float64\n",
      "dtypes: float64(1)\n",
      "memory usage: 14.5+ KB\n"
     ]
    }
   ],
   "source": [
    "wind.info()"
   ]
  },
  {
   "cell_type": "code",
   "execution_count": 32,
   "metadata": {},
   "outputs": [
    {
     "data": {
      "text/plain": [
       "count    926\n",
       "mean       3\n",
       "std        2\n",
       "min        0\n",
       "25%        0\n",
       "50%        3\n",
       "75%        6\n",
       "max       15\n",
       "Name: HOURLYWindSpeed, dtype: int64"
      ]
     },
     "execution_count": 32,
     "metadata": {},
     "output_type": "execute_result"
    }
   ],
   "source": [
    "wind.HOURLYWindSpeed.describe().astype(int)"
   ]
  },
  {
   "cell_type": "code",
   "execution_count": 33,
   "metadata": {},
   "outputs": [
    {
     "data": {
      "text/plain": [
       "Text(0,0.5,'Hourly wind speed in miles')"
      ]
     },
     "execution_count": 33,
     "metadata": {},
     "output_type": "execute_result"
    },
    {
     "data": {
      "image/png": "[encoded data removed]",
      "text/plain": [
       "<Figure size 432x288 with 1 Axes>"
      ]
     },
     "metadata": {},
     "output_type": "display_data"
    }
   ],
   "source": [
    "wind.plot(y='HOURLYWindSpeed', use_index=True)\n",
    "plt.xlabel('August 2017')\n",
    "plt.ylabel('Hourly wind speed in miles')"
   ]
  },
  {
   "cell_type": "markdown",
   "metadata": {},
   "source": [
    "From the plot it looks like highest wind speed occured\n",
    "towards the end of the month"
   ]
  },
  {
   "cell_type": "code",
   "execution_count": 34,
   "metadata": {},
   "outputs": [
    {
     "data": {
      "text/html": [
       "<div>\n",
       "<style scoped>\n",
       "    .dataframe tbody tr th:only-of-type {\n",
       "        vertical-align: middle;\n",
       "    }\n",
       "\n",
       "    .dataframe tbody tr th {\n",
       "        vertical-align: top;\n",
       "    }\n",
       "\n",
       "    .dataframe thead th {\n",
       "        text-align: right;\n",
       "    }\n",
       "</style>\n",
       "<table border=\"1\" class=\"dataframe\">\n",
       "  <thead>\n",
       "    <tr style=\"text-align: right;\">\n",
       "      <th></th>\n",
       "      <th>HOURLYWindSpeed</th>\n",
       "    </tr>\n",
       "    <tr>\n",
       "      <th>DATE</th>\n",
       "      <th></th>\n",
       "    </tr>\n",
       "  </thead>\n",
       "  <tbody>\n",
       "    <tr>\n",
       "      <th>2017-08-02 15:51</th>\n",
       "      <td>9.0</td>\n",
       "    </tr>\n",
       "    <tr>\n",
       "      <th>2017-08-04 13:51</th>\n",
       "      <td>9.0</td>\n",
       "    </tr>\n",
       "    <tr>\n",
       "      <th>2017-08-04 14:51</th>\n",
       "      <td>10.0</td>\n",
       "    </tr>\n",
       "    <tr>\n",
       "      <th>2017-08-05 15:51</th>\n",
       "      <td>9.0</td>\n",
       "    </tr>\n",
       "    <tr>\n",
       "      <th>2017-08-08 08:51</th>\n",
       "      <td>9.0</td>\n",
       "    </tr>\n",
       "    <tr>\n",
       "      <th>2017-08-08 09:51</th>\n",
       "      <td>9.0</td>\n",
       "    </tr>\n",
       "    <tr>\n",
       "      <th>2017-08-11 16:51</th>\n",
       "      <td>9.0</td>\n",
       "    </tr>\n",
       "    <tr>\n",
       "      <th>2017-08-17 02:51</th>\n",
       "      <td>9.0</td>\n",
       "    </tr>\n",
       "    <tr>\n",
       "      <th>2017-08-22 16:51</th>\n",
       "      <td>11.0</td>\n",
       "    </tr>\n",
       "    <tr>\n",
       "      <th>2017-08-22 23:00</th>\n",
       "      <td>11.0</td>\n",
       "    </tr>\n",
       "    <tr>\n",
       "      <th>2017-08-23 01:40</th>\n",
       "      <td>9.0</td>\n",
       "    </tr>\n",
       "    <tr>\n",
       "      <th>2017-08-23 14:51</th>\n",
       "      <td>9.0</td>\n",
       "    </tr>\n",
       "    <tr>\n",
       "      <th>2017-08-23 15:51</th>\n",
       "      <td>9.0</td>\n",
       "    </tr>\n",
       "    <tr>\n",
       "      <th>2017-08-27 11:51</th>\n",
       "      <td>9.0</td>\n",
       "    </tr>\n",
       "    <tr>\n",
       "      <th>2017-08-27 12:51</th>\n",
       "      <td>9.0</td>\n",
       "    </tr>\n",
       "    <tr>\n",
       "      <th>2017-08-28 08:51</th>\n",
       "      <td>10.0</td>\n",
       "    </tr>\n",
       "    <tr>\n",
       "      <th>2017-08-28 09:51</th>\n",
       "      <td>9.0</td>\n",
       "    </tr>\n",
       "    <tr>\n",
       "      <th>2017-08-28 11:51</th>\n",
       "      <td>9.0</td>\n",
       "    </tr>\n",
       "    <tr>\n",
       "      <th>2017-08-28 14:51</th>\n",
       "      <td>11.0</td>\n",
       "    </tr>\n",
       "    <tr>\n",
       "      <th>2017-08-28 15:51</th>\n",
       "      <td>9.0</td>\n",
       "    </tr>\n",
       "    <tr>\n",
       "      <th>2017-08-28 20:51</th>\n",
       "      <td>10.0</td>\n",
       "    </tr>\n",
       "    <tr>\n",
       "      <th>2017-08-29 05:51</th>\n",
       "      <td>10.0</td>\n",
       "    </tr>\n",
       "    <tr>\n",
       "      <th>2017-08-29 06:51</th>\n",
       "      <td>13.0</td>\n",
       "    </tr>\n",
       "    <tr>\n",
       "      <th>2017-08-29 07:16</th>\n",
       "      <td>10.0</td>\n",
       "    </tr>\n",
       "    <tr>\n",
       "      <th>2017-08-29 07:51</th>\n",
       "      <td>9.0</td>\n",
       "    </tr>\n",
       "    <tr>\n",
       "      <th>2017-08-29 08:51</th>\n",
       "      <td>9.0</td>\n",
       "    </tr>\n",
       "    <tr>\n",
       "      <th>2017-08-29 09:35</th>\n",
       "      <td>11.0</td>\n",
       "    </tr>\n",
       "    <tr>\n",
       "      <th>2017-08-29 10:51</th>\n",
       "      <td>9.0</td>\n",
       "    </tr>\n",
       "    <tr>\n",
       "      <th>2017-08-29 11:51</th>\n",
       "      <td>10.0</td>\n",
       "    </tr>\n",
       "    <tr>\n",
       "      <th>2017-08-29 12:51</th>\n",
       "      <td>10.0</td>\n",
       "    </tr>\n",
       "    <tr>\n",
       "      <th>2017-08-29 13:51</th>\n",
       "      <td>9.0</td>\n",
       "    </tr>\n",
       "    <tr>\n",
       "      <th>2017-08-29 14:51</th>\n",
       "      <td>10.0</td>\n",
       "    </tr>\n",
       "    <tr>\n",
       "      <th>2017-08-29 16:05</th>\n",
       "      <td>9.0</td>\n",
       "    </tr>\n",
       "    <tr>\n",
       "      <th>2017-08-29 16:51</th>\n",
       "      <td>10.0</td>\n",
       "    </tr>\n",
       "    <tr>\n",
       "      <th>2017-08-29 17:09</th>\n",
       "      <td>9.0</td>\n",
       "    </tr>\n",
       "    <tr>\n",
       "      <th>2017-08-29 17:51</th>\n",
       "      <td>13.0</td>\n",
       "    </tr>\n",
       "    <tr>\n",
       "      <th>2017-08-29 18:05</th>\n",
       "      <td>15.0</td>\n",
       "    </tr>\n",
       "    <tr>\n",
       "      <th>2017-08-29 18:51</th>\n",
       "      <td>9.0</td>\n",
       "    </tr>\n",
       "    <tr>\n",
       "      <th>2017-08-29 20:51</th>\n",
       "      <td>11.0</td>\n",
       "    </tr>\n",
       "  </tbody>\n",
       "</table>\n",
       "</div>"
      ],
      "text/plain": [
       "                  HOURLYWindSpeed\n",
       "DATE                             \n",
       "2017-08-02 15:51              9.0\n",
       "2017-08-04 13:51              9.0\n",
       "2017-08-04 14:51             10.0\n",
       "2017-08-05 15:51              9.0\n",
       "2017-08-08 08:51              9.0\n",
       "2017-08-08 09:51              9.0\n",
       "2017-08-11 16:51              9.0\n",
       "2017-08-17 02:51              9.0\n",
       "2017-08-22 16:51             11.0\n",
       "2017-08-22 23:00             11.0\n",
       "2017-08-23 01:40              9.0\n",
       "2017-08-23 14:51              9.0\n",
       "2017-08-23 15:51              9.0\n",
       "2017-08-27 11:51              9.0\n",
       "2017-08-27 12:51              9.0\n",
       "2017-08-28 08:51             10.0\n",
       "2017-08-28 09:51              9.0\n",
       "2017-08-28 11:51              9.0\n",
       "2017-08-28 14:51             11.0\n",
       "2017-08-28 15:51              9.0\n",
       "2017-08-28 20:51             10.0\n",
       "2017-08-29 05:51             10.0\n",
       "2017-08-29 06:51             13.0\n",
       "2017-08-29 07:16             10.0\n",
       "2017-08-29 07:51              9.0\n",
       "2017-08-29 08:51              9.0\n",
       "2017-08-29 09:35             11.0\n",
       "2017-08-29 10:51              9.0\n",
       "2017-08-29 11:51             10.0\n",
       "2017-08-29 12:51             10.0\n",
       "2017-08-29 13:51              9.0\n",
       "2017-08-29 14:51             10.0\n",
       "2017-08-29 16:05              9.0\n",
       "2017-08-29 16:51             10.0\n",
       "2017-08-29 17:09              9.0\n",
       "2017-08-29 17:51             13.0\n",
       "2017-08-29 18:05             15.0\n",
       "2017-08-29 18:51              9.0\n",
       "2017-08-29 20:51             11.0"
      ]
     },
     "execution_count": 34,
     "metadata": {},
     "output_type": "execute_result"
    }
   ],
   "source": [
    "wind.loc[wind.HOURLYWindSpeed > 8]"
   ]
  },
  {
   "cell_type": "markdown",
   "metadata": {},
   "source": [
    "Indeed our observation was correct.\n",
    "However, we know that on aug 15th, 18th and 22nd \n",
    "our other 2 independant variables were relatively high/low.\n",
    "Higher than usual wind speed during those days would \n",
    "probably influence our dependent varibles even more.\n",
    "Let's see what wind speed we had on aug 15th, 18th and 22nd \n",
    "but before that let's convert index to datetime so we can use it later for \n",
    "creating our model"
   ]
  },
  {
   "cell_type": "code",
   "execution_count": 35,
   "metadata": {},
   "outputs": [],
   "source": [
    "wind = wind.reset_index()"
   ]
  },
  {
   "cell_type": "code",
   "execution_count": 36,
   "metadata": {},
   "outputs": [
    {
     "data": {
      "text/html": [
       "<div>\n",
       "<style scoped>\n",
       "    .dataframe tbody tr th:only-of-type {\n",
       "        vertical-align: middle;\n",
       "    }\n",
       "\n",
       "    .dataframe tbody tr th {\n",
       "        vertical-align: top;\n",
       "    }\n",
       "\n",
       "    .dataframe thead th {\n",
       "        text-align: right;\n",
       "    }\n",
       "</style>\n",
       "<table border=\"1\" class=\"dataframe\">\n",
       "  <thead>\n",
       "    <tr style=\"text-align: right;\">\n",
       "      <th></th>\n",
       "      <th>DATE</th>\n",
       "      <th>HOURLYWindSpeed</th>\n",
       "    </tr>\n",
       "  </thead>\n",
       "  <tbody>\n",
       "    <tr>\n",
       "      <th>0</th>\n",
       "      <td>2017-08-01 00:51</td>\n",
       "      <td>3.0</td>\n",
       "    </tr>\n",
       "    <tr>\n",
       "      <th>1</th>\n",
       "      <td>2017-08-01 01:51</td>\n",
       "      <td>0.0</td>\n",
       "    </tr>\n",
       "    <tr>\n",
       "      <th>2</th>\n",
       "      <td>2017-08-01 02:51</td>\n",
       "      <td>0.0</td>\n",
       "    </tr>\n",
       "    <tr>\n",
       "      <th>3</th>\n",
       "      <td>2017-08-01 03:51</td>\n",
       "      <td>3.0</td>\n",
       "    </tr>\n",
       "    <tr>\n",
       "      <th>4</th>\n",
       "      <td>2017-08-01 04:51</td>\n",
       "      <td>0.0</td>\n",
       "    </tr>\n",
       "  </tbody>\n",
       "</table>\n",
       "</div>"
      ],
      "text/plain": [
       "               DATE  HOURLYWindSpeed\n",
       "0  2017-08-01 00:51              3.0\n",
       "1  2017-08-01 01:51              0.0\n",
       "2  2017-08-01 02:51              0.0\n",
       "3  2017-08-01 03:51              3.0\n",
       "4  2017-08-01 04:51              0.0"
      ]
     },
     "execution_count": 36,
     "metadata": {},
     "output_type": "execute_result"
    }
   ],
   "source": [
    "wind.head()"
   ]
  },
  {
   "cell_type": "code",
   "execution_count": 37,
   "metadata": {},
   "outputs": [
    {
     "name": "stdout",
     "output_type": "stream",
     "text": [
      "<class 'pandas.core.frame.DataFrame'>\n",
      "RangeIndex: 926 entries, 0 to 925\n",
      "Data columns (total 2 columns):\n",
      "DATE               926 non-null object\n",
      "HOURLYWindSpeed    926 non-null float64\n",
      "dtypes: float64(1), object(1)\n",
      "memory usage: 14.5+ KB\n"
     ]
    }
   ],
   "source": [
    "wind.info()"
   ]
  },
  {
   "cell_type": "code",
   "execution_count": 38,
   "metadata": {},
   "outputs": [],
   "source": [
    "wind.DATE = pd.to_datetime(wind.DATE)"
   ]
  },
  {
   "cell_type": "code",
   "execution_count": 39,
   "metadata": {},
   "outputs": [
    {
     "name": "stdout",
     "output_type": "stream",
     "text": [
      "<class 'pandas.core.frame.DataFrame'>\n",
      "RangeIndex: 926 entries, 0 to 925\n",
      "Data columns (total 2 columns):\n",
      "DATE               926 non-null datetime64[ns]\n",
      "HOURLYWindSpeed    926 non-null float64\n",
      "dtypes: datetime64[ns](1), float64(1)\n",
      "memory usage: 14.5 KB\n"
     ]
    }
   ],
   "source": [
    "wind.info()"
   ]
  },
  {
   "cell_type": "code",
   "execution_count": 40,
   "metadata": {},
   "outputs": [
    {
     "name": "stdout",
     "output_type": "stream",
     "text": [
      "DATE               2017-08-15 23:51:00\n",
      "HOURLYWindSpeed                      6\n",
      "dtype: object\n",
      "DATE               2017-08-18 23:51:00\n",
      "HOURLYWindSpeed                      8\n",
      "dtype: object\n",
      "DATE               2017-08-22 23:51:00\n",
      "HOURLYWindSpeed                     11\n",
      "dtype: object\n"
     ]
    }
   ],
   "source": [
    "print(wind.loc[(wind.DATE >= '2017-08-15') & (wind.DATE <= '2017-08-16') ].max())\n",
    "print(wind.loc[(wind.DATE >= '2017-08-18') & (wind.DATE <= '2017-08-19') ].max())\n",
    "print(wind.loc[(wind.DATE >= '2017-08-22') & (wind.DATE <= '2017-08-23') ].max())"
   ]
  },
  {
   "cell_type": "markdown",
   "metadata": {},
   "source": [
    "As we can see max wind speed on aug 18th and 22ns was \n",
    "8 and 11 mph respectively\n",
    "this also can influence out predictors.\n",
    "We need to convert DATE to datetime for precipitation and visibility as well"
   ]
  },
  {
   "cell_type": "code",
   "execution_count": 41,
   "metadata": {},
   "outputs": [],
   "source": [
    "weather = weather.reset_index()"
   ]
  },
  {
   "cell_type": "code",
   "execution_count": 42,
   "metadata": {},
   "outputs": [],
   "source": [
    "weather.DATE = pd.to_datetime(weather.DATE)"
   ]
  },
  {
   "cell_type": "code",
   "execution_count": 43,
   "metadata": {},
   "outputs": [],
   "source": [
    "visib = visib.reset_index()\n",
    "visib.DATE = pd.to_datetime(visib.DATE)"
   ]
  },
  {
   "cell_type": "code",
   "execution_count": 44,
   "metadata": {},
   "outputs": [
    {
     "name": "stdout",
     "output_type": "stream",
     "text": [
      "<class 'pandas.core.frame.DataFrame'>\n",
      "RangeIndex: 798 entries, 0 to 797\n",
      "Data columns (total 2 columns):\n",
      "DATE            798 non-null datetime64[ns]\n",
      "HOURLYPrecip    798 non-null float64\n",
      "dtypes: datetime64[ns](1), float64(1)\n",
      "memory usage: 12.5 KB\n"
     ]
    }
   ],
   "source": [
    "weather.info()"
   ]
  },
  {
   "cell_type": "code",
   "execution_count": 45,
   "metadata": {
    "scrolled": true
   },
   "outputs": [
    {
     "name": "stdout",
     "output_type": "stream",
     "text": [
      "<class 'pandas.core.frame.DataFrame'>\n",
      "RangeIndex: 967 entries, 0 to 966\n",
      "Data columns (total 2 columns):\n",
      "DATE                967 non-null datetime64[ns]\n",
      "HOURLYVISIBILITY    967 non-null float64\n",
      "dtypes: datetime64[ns](1), float64(1)\n",
      "memory usage: 15.2 KB\n"
     ]
    }
   ],
   "source": [
    "visib.info()"
   ]
  },
  {
   "cell_type": "markdown",
   "metadata": {},
   "source": [
    "We are finished with cleaning and analyzing weather data.\n",
    "Our observations show that there are certain days when we can expect higher crowdiness \n",
    "and longer wait time for the busses. "
   ]
  },
  {
   "cell_type": "markdown",
   "metadata": {},
   "source": [
    "Now we ready to integrate the data to our model as independant variables and see\n",
    "if our predictions were correct. "
   ]
  },
  {
   "cell_type": "markdown",
   "metadata": {},
   "source": [
    "# Excel Espina"
   ]
  },
  {
   "cell_type": "code",
   "execution_count": 1,
   "metadata": {
    "collapsed": true
   },
   "outputs": [],
   "source": [
    "%matplotlib inline\n",
    "\n",
    "import pandas as pd\n",
    "import numpy as np\n",
    "import warnings\n",
    "import matplotlib.pyplot as plt\n",
    "from sklearn.linear_model import LogisticRegression\n",
    "from sklearn.tree import DecisionTreeClassifier\n",
    "from sklearn.ensemble import RandomForestClassifier, GradientBoostingClassifier\n",
    "from sklearn.metrics import accuracy_score, recall_score, precision_score, confusion_matrix\n",
    "from sklearn.metrics import roc_curve, roc_auc_score\n",
    "from sklearn.model_selection import KFold, train_test_split\n",
    "\n",
    "warnings.filterwarnings(\"ignore\")\n",
    "random_state = 20181112\n",
    "import datetime, math, glob"
   ]
  },
  {
   "cell_type": "markdown",
   "metadata": {},
   "source": [
    "Adding data from the M100 csv file."
   ]
  },
  {
   "cell_type": "code",
   "execution_count": 2,
   "metadata": {
    "collapsed": true
   },
   "outputs": [],
   "source": [
    "%%capture\n",
    "df = pd.read_csv('M100_Aug_W125_st.csv', error_bad_lines=False)"
   ]
  },
  {
   "cell_type": "markdown",
   "metadata": {},
   "source": [
    "# Choosing the Best Classifier\n",
    "\n",
    "We want (a) regressor(s) that can predict the **wait time** and **crowding** of a bus at a specific stop with the inputs **hourly weather** and **time of day**. We would most likely have two models that predict each **wait time** and **crowding**.\n",
    "\n",
    "Here are our top picks for regressors:\n",
    "\n",
    "1. Gradient Boosting Machines ***(top pick)***:\n",
    "    - Why: GBMs are typically a composite model that combines the efforts of multiple weak models to create a strong model, and each additional weak model reduces the mean squared error (MSE) of the overall model. Our goal would be to minimize MSE to increase the accuracy of our predictions.\n",
    "\n",
    "1. Random Forest:\n",
    "    - Why: does not suffer from the overfitting like with Decision Trees. Instead of randomly choosing to split from just **hourly weather** and **time of day**, we can have two trees that randomly split from each and find the best model. \n",
    "\n",
    "1. Decision Trees:  \n",
    "    - Reduction in Standard Deviation (metric): This is a regression metric that measures how much we’ve reduced our uncertainty by picking a split point. By picking the best split each time the greedy decision tree training algorithm tries to form decisions with as few splits as possible.  \n",
    "    - Hyperparameters:   \n",
    "        * Max depth: Limit our tree to a `n` depth to prevent overfitting.\n",
    "        \n",
    "\n",
    "Evaluating our model:\n",
    "\n",
    "Since we're creating regression models, we are interested in the ***mean squared error*** and ***R Squared***. The lower our ***R Squared*** the more accurate our model. We intend to use **K-fold cross validation** as well as a **holdout set** as we improve our model through hyperparameter tuning. \n",
    "\n",
    "    * Preventing "
   ]
  },
  {
   "cell_type": "markdown",
   "metadata": {},
   "source": [
    "# Data Cleaning\n",
    "\n",
    "What we need to do:  \n",
    "\n",
    "1. Clean and break up the time components (Hour, Mins, Secs) of the following:\n",
    "    * `RecordedAtTime`\n",
    "    * `ExpectedArrivalTime`\n",
    "    * `ScheduledArrivalTime`\n",
    "    \n",
    "2. Store features of interest:\n",
    "    * `RecordedAtTime`\n",
    "    * `VehicleLocation.Longitude`\n",
    "    * `VehicleLocation.Latitude`\n",
    "    * `DistanceFromStop`\n",
    "    * `ExpectedArrivalTime`\n",
    "   "
   ]
  },
  {
   "cell_type": "code",
   "execution_count": 3,
   "metadata": {
    "collapsed": true
   },
   "outputs": [],
   "source": [
    "df['ScheduledArrivalTime'] = pd.to_datetime(df.ScheduledArrivalTime, errors='coerce')\n",
    "df.dropna()\n",
    "df['Scheduled_Hour'] = df['ScheduledArrivalTime'].dt.hour\n",
    "df['Scheduled_Minute'] = df['ScheduledArrivalTime'].dt.minute\n",
    "df['Scheduled_Seconds'] = df['ScheduledArrivalTime'].dt.second\n",
    "\n",
    "df['RecordedAtTime'] = pd.to_datetime(df.RecordedAtTime)\n",
    "df['Recorded_Hour'] = pd.to_datetime(df.RecordedAtTime).dt.hour\n",
    "df['Recorded_Minute'] = pd.to_datetime(df.RecordedAtTime).dt.minute\n",
    "df['Recorded_Seconds'] = pd.to_datetime(df.RecordedAtTime).dt.second\n",
    "\n",
    "df['ExpectedArrivalTime'] = pd.to_datetime(df.ExpectedArrivalTime)\n",
    "df['Expected_Hour'] = pd.to_datetime(df.ExpectedArrivalTime).dt.hour\n",
    "df['Expected_Minute'] = pd.to_datetime(df.ExpectedArrivalTime).dt.minute\n",
    "df['Expected_Seconds'] = pd.to_datetime(df.ExpectedArrivalTime).dt.second"
   ]
  },
  {
   "cell_type": "code",
   "execution_count": 4,
   "metadata": {},
   "outputs": [
    {
     "data": {
      "text/plain": [
       "RecordedAtTime               datetime64[ns]\n",
       "DirectionRef                          int64\n",
       "PublishedLineName                    object\n",
       "OriginName                           object\n",
       "OriginLat                           float64\n",
       "OriginLong                          float64\n",
       "DestinationName                      object\n",
       "DestinationLat                      float64\n",
       "DestinationLong                     float64\n",
       "VehicleRef                           object\n",
       "VehicleLocation.Latitude            float64\n",
       "VehicleLocation.Longitude           float64\n",
       "NextStopPointName                    object\n",
       "ArrivalProximityText                 object\n",
       "DistanceFromStop                    float64\n",
       "ExpectedArrivalTime          datetime64[ns]\n",
       "ScheduledArrivalTime         datetime64[ns]\n",
       "time_diff_bus                        object\n",
       "time_diff_bus_mins                    int64\n",
       "Scheduled_Hour                      float64\n",
       "Scheduled_Minute                    float64\n",
       "Scheduled_Seconds                   float64\n",
       "Recorded_Hour                         int64\n",
       "Recorded_Minute                       int64\n",
       "Recorded_Seconds                      int64\n",
       "Expected_Hour                         int64\n",
       "Expected_Minute                       int64\n",
       "Expected_Seconds                      int64\n",
       "dtype: object"
      ]
     },
     "execution_count": 4,
     "metadata": {},
     "output_type": "execute_result"
    }
   ],
   "source": [
    "df.dtypes"
   ]
  },
  {
   "cell_type": "code",
   "execution_count": null,
   "metadata": {
    "collapsed": true
   },
   "outputs": [],
   "source": []
  },
  {
   "cell_type": "code",
   "execution_count": 5,
   "metadata": {},
   "outputs": [
    {
     "data": {
      "text/plain": [
       "RecordedAtTime               89\n",
       "DirectionRef                 89\n",
       "PublishedLineName            89\n",
       "OriginName                   89\n",
       "OriginLat                    89\n",
       "OriginLong                   89\n",
       "DestinationName              89\n",
       "DestinationLat               89\n",
       "DestinationLong              89\n",
       "VehicleRef                   89\n",
       "VehicleLocation.Latitude     89\n",
       "VehicleLocation.Longitude    89\n",
       "NextStopPointName            89\n",
       "ArrivalProximityText         89\n",
       "DistanceFromStop             89\n",
       "ExpectedArrivalTime          89\n",
       "ScheduledArrivalTime         86\n",
       "time_diff_bus                88\n",
       "time_diff_bus_mins           89\n",
       "Scheduled_Hour               86\n",
       "Scheduled_Minute             86\n",
       "Scheduled_Seconds            86\n",
       "Recorded_Hour                89\n",
       "Recorded_Minute              89\n",
       "Recorded_Seconds             89\n",
       "Expected_Hour                89\n",
       "Expected_Minute              89\n",
       "Expected_Seconds             89\n",
       "dtype: int64"
      ]
     },
     "execution_count": 5,
     "metadata": {},
     "output_type": "execute_result"
    }
   ],
   "source": [
    "df.count()"
   ]
  },
  {
   "cell_type": "code",
   "execution_count": 20,
   "metadata": {
    "scrolled": true
   },
   "outputs": [
    {
     "data": {
      "text/plain": [
       "index                        86\n",
       "VehicleLocation.Longitude    86\n",
       "VehicleLocation.Latitude     86\n",
       "OriginLong                   86\n",
       "OriginLat                    86\n",
       "DistanceFromStop             86\n",
       "Recorded_Hour                86\n",
       "Scheduled_Hour               86\n",
       "Scheduled_Minute             86\n",
       "Scheduled_Seconds            86\n",
       "Recorded_Minute              86\n",
       "Recorded_Seconds             86\n",
       "time_diff_bus_mins           86\n",
       "dtype: int64"
      ]
     },
     "execution_count": 20,
     "metadata": {},
     "output_type": "execute_result"
    }
   ],
   "source": [
    "features = (['VehicleLocation.Longitude', \n",
    "             'VehicleLocation.Latitude', \n",
    "             'OriginLong',\n",
    "             'OriginLat',\n",
    "             'DistanceFromStop',\n",
    "             'Recorded_Hour',\n",
    "             'Scheduled_Hour',\n",
    "             'Scheduled_Minute',\n",
    "             'Scheduled_Seconds',\n",
    "             'Recorded_Minute',\n",
    "             'Recorded_Seconds',\n",
    "             'time_diff_bus_mins'\n",
    "            ])\n",
    "\n",
    "model_df = df[(features)].dropna().reset_index()\n",
    "\n",
    "model_df.count()"
   ]
  },
  {
   "cell_type": "markdown",
   "metadata": {},
   "source": [
    "# Plotting a Chart for Sanity\n",
    "\n",
    "We want to have a frequency/histogram for each hour of the day and for each minute of the hour.\n",
    "\n",
    "Credit: David"
   ]
  },
  {
   "cell_type": "code",
   "execution_count": 7,
   "metadata": {
    "collapsed": true
   },
   "outputs": [],
   "source": [
    "def ecdf(inputSeries, label):\n",
    "    try:\n",
    "        x = np.sort(inputSeries)\n",
    "    except:\n",
    "        print(\"Warning: Series Unsorted\")\n",
    "        x = inputSeries\n",
    "    y = np.arange(1, len(x)+1) / len(x)\n",
    "    _ = plt.plot(x, y, marker='.', linestyle='none')\n",
    "    _ = plt.xlabel('Time Delta ({})'.format(label))\n",
    "    _ = plt.ylabel('ECDF')\n",
    "    plt.margins(0.02) # Keeps data off plot edges\n",
    "    plt.show()\n",
    "    \n",
    "def hist(inputSeries, label):\n",
    "    plt.hist(inputSeries, bins=25, density=True)\n",
    "    _ = plt.xlabel('Time Delta ({})'.format(label))\n",
    "    _ = plt.ylabel('PDF')\n",
    "    plt.show()"
   ]
  },
  {
   "cell_type": "code",
   "execution_count": 8,
   "metadata": {},
   "outputs": [
    {
     "data": {
      "text/html": [
       "<div>\n",
       "<style>\n",
       "    .dataframe thead tr:only-child th {\n",
       "        text-align: right;\n",
       "    }\n",
       "\n",
       "    .dataframe thead th {\n",
       "        text-align: left;\n",
       "    }\n",
       "\n",
       "    .dataframe tbody tr th {\n",
       "        vertical-align: top;\n",
       "    }\n",
       "</style>\n",
       "<table border=\"1\" class=\"dataframe\">\n",
       "  <thead>\n",
       "    <tr style=\"text-align: right;\">\n",
       "      <th></th>\n",
       "      <th>Recorded_Hour</th>\n",
       "      <th>time_diff_bus_mins</th>\n",
       "      <th>Recorded_Minute</th>\n",
       "    </tr>\n",
       "  </thead>\n",
       "  <tbody>\n",
       "    <tr>\n",
       "      <th>0</th>\n",
       "      <td>7</td>\n",
       "      <td>0</td>\n",
       "      <td>51</td>\n",
       "    </tr>\n",
       "    <tr>\n",
       "      <th>1</th>\n",
       "      <td>7</td>\n",
       "      <td>0</td>\n",
       "      <td>51</td>\n",
       "    </tr>\n",
       "    <tr>\n",
       "      <th>2</th>\n",
       "      <td>7</td>\n",
       "      <td>0</td>\n",
       "      <td>51</td>\n",
       "    </tr>\n",
       "    <tr>\n",
       "      <th>3</th>\n",
       "      <td>11</td>\n",
       "      <td>191</td>\n",
       "      <td>2</td>\n",
       "    </tr>\n",
       "    <tr>\n",
       "      <th>4</th>\n",
       "      <td>13</td>\n",
       "      <td>161</td>\n",
       "      <td>42</td>\n",
       "    </tr>\n",
       "  </tbody>\n",
       "</table>\n",
       "</div>"
      ],
      "text/plain": [
       "   Recorded_Hour  time_diff_bus_mins  Recorded_Minute\n",
       "0              7                   0               51\n",
       "1              7                   0               51\n",
       "2              7                   0               51\n",
       "3             11                 191                2\n",
       "4             13                 161               42"
      ]
     },
     "execution_count": 8,
     "metadata": {},
     "output_type": "execute_result"
    }
   ],
   "source": [
    "M100_NICK_Avg = df[['Recorded_Hour','time_diff_bus_mins', 'Recorded_Minute']]\n",
    "M100_Hour = M100_NICK_Avg.groupby('Recorded_Hour').mean().dropna()\n",
    "M100_Min = M100_NICK_Avg.groupby('Recorded_Minute').mean().dropna()\n",
    "M100_NICK_Avg.head()"
   ]
  },
  {
   "cell_type": "code",
   "execution_count": 9,
   "metadata": {
    "scrolled": true
   },
   "outputs": [
    {
     "data": {
      "image/png": "[encoded data removed]",
      "text/plain": [
       "<matplotlib.figure.Figure at 0x1aa9e04dd30>"
      ]
     },
     "metadata": {},
     "output_type": "display_data"
    },
    {
     "data": {
      "image/png": "[encoded data removed]",
      "text/plain": [
       "<matplotlib.figure.Figure at 0x1aa9e04dd68>"
      ]
     },
     "metadata": {},
     "output_type": "display_data"
    },
    {
     "data": {
      "image/png": "[encoded data removed]",
      "text/plain": [
       "<matplotlib.figure.Figure at 0x1aa9e76e0f0>"
      ]
     },
     "metadata": {},
     "output_type": "display_data"
    },
    {
     "data": {
      "image/png": "[encoded data removed]",
      "text/plain": [
       "<matplotlib.figure.Figure at 0x1aa9e790780>"
      ]
     },
     "metadata": {},
     "output_type": "display_data"
    }
   ],
   "source": [
    "ecdf(M100_Hour['time_diff_bus_mins'], \"per Hour\")\n",
    "hist(M100_Hour['time_diff_bus_mins'], \"per Hour\")\n",
    "\n",
    "ecdf(M100_Min['time_diff_bus_mins'], \"per Minute\")\n",
    "hist(M100_Min['time_diff_bus_mins'], \"per Minute\")"
   ]
  },
  {
   "cell_type": "code",
   "execution_count": null,
   "metadata": {
    "collapsed": true
   },
   "outputs": [],
   "source": []
  },
  {
   "cell_type": "markdown",
   "metadata": {},
   "source": [
    "# Saving our Progress"
   ]
  },
  {
   "cell_type": "code",
   "execution_count": 10,
   "metadata": {
    "collapsed": true
   },
   "outputs": [],
   "source": [
    "model_df.to_csv('M100_4_month_W125_st_timesplit.csv', encoding='utf-8', index=False)"
   ]
  },
  {
   "cell_type": "markdown",
   "metadata": {},
   "source": [
    "Splitting training and testing datasets"
   ]
  },
  {
   "cell_type": "code",
   "execution_count": 23,
   "metadata": {},
   "outputs": [
    {
     "name": "stdout",
     "output_type": "stream",
     "text": [
      "60 399.6666666666667\n",
      "26 586.4615384615385\n"
     ]
    }
   ],
   "source": [
    "train_df, holdout_df, y_train, y_holdout = train_test_split(model_df[features],\n",
    "                                                    model_df['time_diff_bus_mins'],\n",
    "                                                    test_size=0.3,\n",
    "                                                    random_state=42)\n",
    "\n",
    "train_df['time_diff_bus_mins'] = y_train\n",
    "holdout_df['time_diff_bus_mins'] = y_holdout\n",
    "\n",
    "train_df.reset_index(inplace=True)\n",
    "holdout_df.reset_index(inplace=True)\n",
    "\n",
    "print(train_df.shape[0], train_df.time_diff_bus_mins.mean())\n",
    "print(holdout_df.shape[0], holdout_df.time_diff_bus_mins.mean())"
   ]
  },
  {
   "cell_type": "markdown",
   "metadata": {},
   "source": [
    "# Model Training\n",
    "\n",
    "Let's take a quick look at all of our classification model options using cross validation. For the tree based models, we'll use the hyperparameter `max_depth=6` as a naive attempt at voiding overfitting before we dig deeper."
   ]
  },
  {
   "cell_type": "markdown",
   "metadata": {},
   "source": [
    "Let's fit and score the model, this time using cross validation:"
   ]
  },
  {
   "cell_type": "code",
   "execution_count": 12,
   "metadata": {
    "collapsed": true
   },
   "outputs": [],
   "source": [
    "k_fold = KFold(n_splits=5, random_state=random_state)"
   ]
  },
  {
   "cell_type": "code",
   "execution_count": 13,
   "metadata": {
    "collapsed": true
   },
   "outputs": [],
   "source": [
    "def get_cv_results(classifier):\n",
    "    \n",
    "    results = []\n",
    "    for train, test in k_fold.split(train_df):\n",
    "        classifier.fit(train_df.loc[train, features], train_df.loc[train, 'time_diff_bus_mins'])\n",
    "        y_predicted = classifier.predict(train_df.loc[test, features])\n",
    "        accuracy = accuracy_score(train_df.loc[test, 'time_diff_bus_mins'], y_predicted)\n",
    "        results.append(accuracy)\n",
    "    \n",
    "    return np.mean(results), np.std(results)\n"
   ]
  },
  {
   "cell_type": "markdown",
   "metadata": {},
   "source": [
    "Logistic Regression"
   ]
  },
  {
   "cell_type": "code",
   "execution_count": 14,
   "metadata": {},
   "outputs": [
    {
     "data": {
      "text/plain": [
       "(0.048717948717948711, 0.039846846840820647)"
      ]
     },
     "execution_count": 14,
     "metadata": {},
     "output_type": "execute_result"
    }
   ],
   "source": [
    "logreg = LogisticRegression(\n",
    "    random_state=random_state, \n",
    "    solver='lbfgs'\n",
    ")\n",
    "\n",
    "get_cv_results(logreg)"
   ]
  },
  {
   "cell_type": "markdown",
   "metadata": {},
   "source": [
    "Decision Tree"
   ]
  },
  {
   "cell_type": "code",
   "execution_count": 15,
   "metadata": {},
   "outputs": [
    {
     "data": {
      "text/plain": [
       "(0.17948717948717946, 0.099058686010676203)"
      ]
     },
     "execution_count": 15,
     "metadata": {},
     "output_type": "execute_result"
    }
   ],
   "source": [
    "dtree = DecisionTreeClassifier(\n",
    "    random_state=random_state, \n",
    "    max_depth=6\n",
    ")\n",
    "\n",
    "get_cv_results(dtree)"
   ]
  },
  {
   "cell_type": "markdown",
   "metadata": {},
   "source": [
    "Random Forest"
   ]
  },
  {
   "cell_type": "code",
   "execution_count": 16,
   "metadata": {},
   "outputs": [
    {
     "data": {
      "text/plain": [
       "(0.066666666666666666, 0.081649658092772595)"
      ]
     },
     "execution_count": 16,
     "metadata": {},
     "output_type": "execute_result"
    }
   ],
   "source": [
    "rforest = RandomForestClassifier(\n",
    "    random_state=random_state, \n",
    "    max_depth=6,\n",
    "    n_estimators=100\n",
    ")\n",
    "\n",
    "get_cv_results(rforest)"
   ]
  },
  {
   "cell_type": "markdown",
   "metadata": {},
   "source": [
    "Gradient Boosting Machines"
   ]
  },
  {
   "cell_type": "code",
   "execution_count": 17,
   "metadata": {},
   "outputs": [
    {
     "data": {
      "text/plain": [
       "(0.13205128205128203, 0.11363343490338634)"
      ]
     },
     "execution_count": 17,
     "metadata": {},
     "output_type": "execute_result"
    }
   ],
   "source": [
    "gbm = GradientBoostingClassifier(\n",
    "    random_state=random_state, \n",
    "    max_depth=6,\n",
    "    n_estimators=100\n",
    ")\n",
    "\n",
    "get_cv_results(gbm)"
   ]
  },
  {
   "cell_type": "markdown",
   "metadata": {},
   "source": [
    "# Evaluating Model Performance\n",
    "\n",
    "We're using ROC curves to visually see which model performs the best."
   ]
  },
  {
   "cell_type": "code",
   "execution_count": 21,
   "metadata": {
    "collapsed": true
   },
   "outputs": [],
   "source": [
    "def plot_roc(classifier, label, color):\n",
    "\n",
    "    classifier.fit(train_df[features], train_df['time_diff_bus_mins'])\n",
    "    y_prob = classifier.predict_proba(holdout_df[features])\n",
    "    \n",
    "    fpr, tpr, thresh = roc_curve(holdout_df['time_diff_bus_mins'], y_prob[:,1])\n",
    "    plt.plot(fpr, tpr,\n",
    "             label=label,\n",
    "             color=color, linewidth=3)\n",
    "\n",
    "    auc = roc_auc_score(holdout_df['time_diff_bus_mins'], y_prob[:,1])\n",
    "    \n",
    "    print('AUC: %0.3f (%s)' % (auc, label))"
   ]
  },
  {
   "cell_type": "code",
   "execution_count": 24,
   "metadata": {},
   "outputs": [
    {
     "ename": "ValueError",
     "evalue": "multiclass format is not supported",
     "output_type": "error",
     "traceback": [
      "\u001b[1;31m---------------------------------------------------------------------------\u001b[0m",
      "\u001b[1;31mValueError\u001b[0m                                Traceback (most recent call last)",
      "\u001b[1;32m<ipython-input-24-f455b4ae7b85>\u001b[0m in \u001b[0;36m<module>\u001b[1;34m()\u001b[0m\n\u001b[0;32m      5\u001b[0m     \u001b[0msolver\u001b[0m\u001b[1;33m=\u001b[0m\u001b[1;34m'lbfgs'\u001b[0m\u001b[1;33m\u001b[0m\u001b[0m\n\u001b[0;32m      6\u001b[0m )\n\u001b[1;32m----> 7\u001b[1;33m \u001b[0mplot_roc\u001b[0m\u001b[1;33m(\u001b[0m\u001b[0mlogreg\u001b[0m\u001b[1;33m,\u001b[0m \u001b[1;34m'Logistic Regression'\u001b[0m\u001b[1;33m,\u001b[0m \u001b[1;34m'green'\u001b[0m\u001b[1;33m)\u001b[0m\u001b[1;33m\u001b[0m\u001b[0m\n\u001b[0m\u001b[0;32m      8\u001b[0m \u001b[1;33m\u001b[0m\u001b[0m\n\u001b[0;32m      9\u001b[0m dtree = DecisionTreeClassifier(\n",
      "\u001b[1;32m<ipython-input-21-3caaa4b564d1>\u001b[0m in \u001b[0;36mplot_roc\u001b[1;34m(classifier, label, color)\u001b[0m\n\u001b[0;32m      4\u001b[0m     \u001b[0my_prob\u001b[0m \u001b[1;33m=\u001b[0m \u001b[0mclassifier\u001b[0m\u001b[1;33m.\u001b[0m\u001b[0mpredict_proba\u001b[0m\u001b[1;33m(\u001b[0m\u001b[0mholdout_df\u001b[0m\u001b[1;33m[\u001b[0m\u001b[0mfeatures\u001b[0m\u001b[1;33m]\u001b[0m\u001b[1;33m)\u001b[0m\u001b[1;33m\u001b[0m\u001b[0m\n\u001b[0;32m      5\u001b[0m \u001b[1;33m\u001b[0m\u001b[0m\n\u001b[1;32m----> 6\u001b[1;33m     \u001b[0mfpr\u001b[0m\u001b[1;33m,\u001b[0m \u001b[0mtpr\u001b[0m\u001b[1;33m,\u001b[0m \u001b[0mthresh\u001b[0m \u001b[1;33m=\u001b[0m \u001b[0mroc_curve\u001b[0m\u001b[1;33m(\u001b[0m\u001b[0mholdout_df\u001b[0m\u001b[1;33m[\u001b[0m\u001b[1;34m'time_diff_bus_mins'\u001b[0m\u001b[1;33m]\u001b[0m\u001b[1;33m,\u001b[0m \u001b[0my_prob\u001b[0m\u001b[1;33m[\u001b[0m\u001b[1;33m:\u001b[0m\u001b[1;33m,\u001b[0m\u001b[1;36m1\u001b[0m\u001b[1;33m]\u001b[0m\u001b[1;33m)\u001b[0m\u001b[1;33m\u001b[0m\u001b[0m\n\u001b[0m\u001b[0;32m      7\u001b[0m     plt.plot(fpr, tpr,\n\u001b[0;32m      8\u001b[0m              \u001b[0mlabel\u001b[0m\u001b[1;33m=\u001b[0m\u001b[0mlabel\u001b[0m\u001b[1;33m,\u001b[0m\u001b[1;33m\u001b[0m\u001b[0m\n",
      "\u001b[1;32mC:\\ProgramData\\Anaconda3\\lib\\site-packages\\sklearn\\metrics\\ranking.py\u001b[0m in \u001b[0;36mroc_curve\u001b[1;34m(y_true, y_score, pos_label, sample_weight, drop_intermediate)\u001b[0m\n\u001b[0;32m    532\u001b[0m     \"\"\"\n\u001b[0;32m    533\u001b[0m     fps, tps, thresholds = _binary_clf_curve(\n\u001b[1;32m--> 534\u001b[1;33m         y_true, y_score, pos_label=pos_label, sample_weight=sample_weight)\n\u001b[0m\u001b[0;32m    535\u001b[0m \u001b[1;33m\u001b[0m\u001b[0m\n\u001b[0;32m    536\u001b[0m     \u001b[1;31m# Attempt to drop thresholds corresponding to points in between and\u001b[0m\u001b[1;33m\u001b[0m\u001b[1;33m\u001b[0m\u001b[0m\n",
      "\u001b[1;32mC:\\ProgramData\\Anaconda3\\lib\\site-packages\\sklearn\\metrics\\ranking.py\u001b[0m in \u001b[0;36m_binary_clf_curve\u001b[1;34m(y_true, y_score, pos_label, sample_weight)\u001b[0m\n\u001b[0;32m    316\u001b[0m     if not (y_type == \"binary\" or\n\u001b[0;32m    317\u001b[0m             (y_type == \"multiclass\" and pos_label is not None)):\n\u001b[1;32m--> 318\u001b[1;33m         \u001b[1;32mraise\u001b[0m \u001b[0mValueError\u001b[0m\u001b[1;33m(\u001b[0m\u001b[1;34m\"{0} format is not supported\"\u001b[0m\u001b[1;33m.\u001b[0m\u001b[0mformat\u001b[0m\u001b[1;33m(\u001b[0m\u001b[0my_type\u001b[0m\u001b[1;33m)\u001b[0m\u001b[1;33m)\u001b[0m\u001b[1;33m\u001b[0m\u001b[0m\n\u001b[0m\u001b[0;32m    319\u001b[0m \u001b[1;33m\u001b[0m\u001b[0m\n\u001b[0;32m    320\u001b[0m     \u001b[0mcheck_consistent_length\u001b[0m\u001b[1;33m(\u001b[0m\u001b[0my_true\u001b[0m\u001b[1;33m,\u001b[0m \u001b[0my_score\u001b[0m\u001b[1;33m,\u001b[0m \u001b[0msample_weight\u001b[0m\u001b[1;33m)\u001b[0m\u001b[1;33m\u001b[0m\u001b[0m\n",
      "\u001b[1;31mValueError\u001b[0m: multiclass format is not supported"
     ]
    },
    {
     "data": {
      "text/plain": [
       "<matplotlib.figure.Figure at 0x1aa9e0ebe10>"
      ]
     },
     "metadata": {},
     "output_type": "display_data"
    }
   ],
   "source": [
    "f1 = plt.figure(figsize=(14,6))\n",
    "\n",
    "logreg = LogisticRegression(\n",
    "    random_state=random_state, \n",
    "    solver='lbfgs'\n",
    ")\n",
    "plot_roc(logreg, 'Logistic Regression', 'green')\n",
    "\n",
    "dtree = DecisionTreeClassifier(\n",
    "    random_state=random_state, \n",
    "    max_depth=3\n",
    ")\n",
    "plot_roc(dtree, 'Decision Tree', 'red')\n",
    "\n",
    "rforest = RandomForestClassifier(\n",
    "    random_state=random_state, \n",
    "    max_depth=6,\n",
    "    n_estimators=100\n",
    ")\n",
    "plot_roc(rforest, 'Random Forest', 'blue')\n",
    "\n",
    "gbm = GradientBoostingClassifier(\n",
    "    random_state=random_state, \n",
    "    max_depth=6,\n",
    "    n_estimators=100\n",
    ")\n",
    "plot_roc(gbm, 'GBM', 'lightblue')\n",
    "\n",
    "plt.legend(loc='lower right')"
   ]
  },
  {
   "cell_type": "code",
   "execution_count": null,
   "metadata": {},
   "outputs": [],
   "source": []
  }
 ],
 "metadata": {
  "kernelspec": {
   "display_name": "Python 3",
   "language": "python",
   "name": "python3"
  },
  "language_info": {
   "codemirror_mode": {
    "name": "ipython",
    "version": 3
   },
   "file_extension": ".py",
   "mimetype": "text/x-python",
   "name": "python",
   "nbconvert_exporter": "python",
   "pygments_lexer": "ipython3",
   "version": "3.7.0"
  }
 },
 "nbformat": 4,
 "nbformat_minor": 2
}
